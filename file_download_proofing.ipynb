{
 "cells": [
  {
   "cell_type": "code",
   "execution_count": 60,
   "metadata": {
    "collapsed": false
   },
   "outputs": [],
   "source": [
    "import requests\n",
    "\n",
    "# url = 'http://www1.nyc.gov/assets/planning/download/pdf/data-maps/open-data/pluto_datadictionary.pdf' # WORKS!\n",
    "url = 'http://a810-bisweb.nyc.gov/bisweb/CofoDocumentContentServlet?passjobnumber=null&cofomatadata1=cofo&cofomatadata2=M&cofomatadata3=000&cofomatadata4=092000&cofomatadata5=M000092531.PDF&requestid=5'\n",
    "r = requests.get(url, stream=True)\n",
    "\n",
    "with open('temp.pdf', 'wb') as fd:\n",
    "    for chunk in r.iter_content(2000):\n",
    "        fd.write(chunk)"
   ]
  },
  {
   "cell_type": "code",
   "execution_count": 1,
   "metadata": {
    "collapsed": true
   },
   "outputs": [],
   "source": [
    "import pdfrw"
   ]
  },
  {
   "cell_type": "code",
   "execution_count": 2,
   "metadata": {
    "collapsed": false
   },
   "outputs": [
    {
     "name": "stdout",
     "output_type": "stream",
     "text": [
      " Volume in drive C is SSD_80GB\n",
      " Volume Serial Number is 9279-00B2\n",
      "\n",
      " Directory of C:\\Users\\Alex\\Desktop\\nyc-construction-timelines\n",
      "\n",
      "06/20/2016  09:39 PM    <DIR>          .\n",
      "06/20/2016  09:39 PM    <DIR>          ..\n",
      "06/20/2016  07:53 PM                54 .gitignore\n",
      "06/20/2016  09:39 PM    <DIR>          .idea\n",
      "06/20/2016  08:46 PM    <DIR>          .ipynb_checkpoints\n",
      "06/20/2016  08:51 PM    <DIR>          __pycache__\n",
      "06/20/2016  09:28 PM             1,697 Analysis.ipynb\n",
      "06/20/2016  09:39 PM             7,584 co_reader.py\n",
      "06/20/2016  09:19 PM                 0 ghostdriver.log\n",
      "06/20/2016  07:53 PM           123,466 temp.pdf\n",
      "06/20/2016  07:53 PM           123,466 temp2.pdf\n",
      "06/20/2016  07:53 PM            10,843 test.html\n",
      "06/20/2016  09:20 PM            13,361 Untitled.ipynb\n",
      "               8 File(s)        280,471 bytes\n",
      "               5 Dir(s)  10,349,477,888 bytes free\n"
     ]
    }
   ],
   "source": [
    "%ls"
   ]
  },
  {
   "cell_type": "code",
   "execution_count": 18,
   "metadata": {
    "collapsed": false
   },
   "outputs": [
    {
     "data": {
      "text/plain": [
       "['M000092531.PDF']"
      ]
     },
     "execution_count": 18,
     "metadata": {},
     "output_type": "execute_result"
    }
   ],
   "source": [
    "import co_reader\n",
    "reload(co_reader)\n",
    "co_reader._get_co_pdf_links(1006360)"
   ]
  },
  {
   "cell_type": "code",
   "execution_count": 28,
   "metadata": {
    "collapsed": false
   },
   "outputs": [
    {
     "data": {
      "text/plain": [
       "'Buildings\\n\\nCertificate of Occupancy\\nCerti\\xe2\\x96\\xa0cate of Occupancy\\nCO Number:\\nCO Number:\\nto the approved\\n\\nherein conforms\\n\\nthe premises described\\n\\n320328613T002\\n320328613T002\\nThis  certifies  that  the  premises  described  herein  conforms  substantially  to  the  approved  plans and specifications and to the\\nThis certifies that\\nplans and specifications and to the\\nrequirements of all applicable laws, rules and regulations for the uses and occupancies specified.  No change of use or occupancy \\nrequirements of all applicable laws, rules and regulations for the uses and occupancies specified. No change of use or occupancy\\nshall be made unless a new Certificate of Occupancy is issued.\\nThis document  or a copy shall be available for inspection at  the\\nshall be made unless a new Certificate of Occupancy is issued.\\nThis document\\nthe\\nbuilding at all reasonable times.\\nbuilding at all reasonable times.\\nA.\\nA.\\n\\nor a copy shall be available for inspection at\\n\\nsubstantially\\n\\nPage 1 of 2\\nPage 1 of2\\n\\nBorough: Brooklyn\\nBrooklyn\\nBorough:\\n1623 AVENUE Y\\n1623 AVENUE Y\\nAddress:\\nAddress:\\nBuilding Identification Number (BIN): 3332524\\n3332524\\nBuilding\\n\\nIdentification\\n\\nNumber\\n\\n(BIN):\\n\\nBlock Number:\\nBlock Number:\\nLot Number(s):\\nLot Number(s):\\n\\n07418\\n07418\\n36  \\n36\\n\\nBuilding Type:\\nBuilding\\nType:\\n\\nNew\\nNew\\n\\nCertificate Type: Temporary\\nTemporary\\nCertificate\\nType:\\nEffective Date:\\n10/25/2012\\nEffective Date:\\n10/25/2012\\nExpiration Date:\\n12/24/2012\\n12/24/2012\\nExpiration Date:\\n\\nB. Construction classification:\\n\\nis subject\\n\\nclassification:\\n\\nto this Building Code:\\n\\nThis building is subject to this Building Code:  2008 Code\\nThis building\\n2008 Code\\nFor zoning lot metes & bounds, please see BISWeb.\\nFor zoning lot metes & bounds, please see BISWeb.\\nConstruction\\nBuilding Occupancy Group classification:\\nBuilding Occupancy Group classification:\\nMultiple Dwelling Law Classification:\\nMultiple Dwelling\\nNo. of stories:\\nNo.ofstories:\\nFire Protection Equipment:\\nFire Protection\\nFire alarm system, Sprinkler system\\nFire alarm system, Sprinkler system\\n\\n1-B\\n1-B\\nM\\nM\\nNone\\nNone\\nHeight in feet:\\nHeight in feet:\\n\\nLaw Classification:\\n2\\n2\\nEquipment:\\n\\n(2008Code)\\n(2008 Code)\\n(2008Code)\\n(2008 Code)\\n\\n27\\n27\\n\\nNo. of dwelling units:\\nNo. of dwelling\\nunits:\\n\\n0\\n0\\n\\nC.\\n\\nD.\\n\\nE.\\n\\nType and number of open spaces:\\nType and number of open spaces:\\nParking (848 square feet), Loading berths (2 square feet)\\nParking (848 square feet), Loading berths (2 square feet)\\n\\nThis Certificate is issued with the following legal limitations:\\nThis Certificate\\nNone\\nNone\\n\\nis issued with the following\\n\\nlimitations:\\n\\nlegal\\n\\nrequirements\\n\\nOutstanding requirements for obtaining Final Certificate of Occupancy:\\nOutstanding\\nThere are 15 outstanding requirements. Please refer to BISWeb for further detail.\\nThere are 15 outstanding requirements. Please referto BISWeb forfurther\\ndetail.\\nBorough Comments: None\\nNone\\nBorough Comments:\\n\\nFinal Certificate\\n\\nof Occupancy:\\n\\nfor obtaining\\n\\nW\\xe2\\x80\\x9c\\n\\nBorough Commissioner\\nBorough Commissioner\\n\\nMeat;\\n\\nCommissioner\\nCommissioner\\n\\nDOCUMENT CONTINUES ON NEXT PAGE\\nDOCUMENT CONTINUES ON NEXT PAGE\\n\\n\\x0cw\\n\\nm\\nBuildings\\n\\nCertificate of Occupancy\\nCerti\\xe2\\x96\\xa0cate of Occupancy\\nCO Number:\\nCO Number:\\n\\nPage 2 of 2\\nPage 2 of 2\\n\\n320328613T002\\n320328613T002\\n\\nPermissible Use and Occupancy\\nPermissible Use and Occupancy\\n\\nAll Building Code occupancy group designations below are 2008 designations.\\nAll Building Code occupancy\\n\\n              \\n       \\nFloor \\nFloor\\nFrom To\\nFrom To\\nBAS\\nBAS\\n\\n \\nBuilding \\nBuilding\\nCode \\nMaximum\\nMaximum Live load Code\\noccupancy \\npersons \\npersons\\noccupancy\\npermitted\\ngroup\\npermitted\\ngroup\\nM\\n740\\nM\\n740\\n\\n          \\nLive load \\nlbs per \\nlbs per\\nsq. ft.\\nft.\\nsq.\\n\\n          \\nDwelling or \\nDwelling\\nor\\nRooming \\nRooming\\nUnits\\nUnits\\n\\ngroup designations\\n                  \\n        \\nZoning \\nZoning\\nuse group\\nuse group\\n10A\\n10A\\n\\nbelow are 2008 designations.\\n                                                                 \\n                                                                 \\n                                                            \\nDescription of use\\nDescription\\nof use\\nRETAIL\\nRETAIL\\n\\nBAS\\nBAS\\n\\n9\\n9\\n\\nRO\\nR0\\nF\\n\\n157\\n157\\n\\nS-2\\n8-2\\n\\nM\\nM\\n\\n10A\\n10A\\n\\n10A\\n10A\\n\\nSTORAGE/ STOCK ROOM\\nSTORAGE/ STOCK ROOM\\n\\nPARKING LEVEL/LOBBY (89 CARS)\\nPARKING LEVEL/LOBBY (89 CARS)\\n\\nNOTE: NEW BUILDING EXHIBIT I & II CRFN# 2011000237348, 2011000237349\\nNOTE: NEW BUILDING EXHIBIT | & || CRFN# 2011000237348, 2011000237349\\n\\nEND OF SECTION\\nEND OF SECTION\\n\\nW\\xe2\\x80\\x9c\\n\\nBorough Commissioner\\nBorough Commissioner\\n\\n\\xe2\\x96\\xa0ail/L;\\n\\nCommissioner\\nCommissioner\\n\\nEND OF DOCUMENT\\nEND OF DOCUMENT\\n\\n320328613/00210/25/201211:09:32AM\\n320328613/002  10/25/2012 11:09:32 AM\\n\\n\\x0c'"
      ]
     },
     "execution_count": 28,
     "metadata": {},
     "output_type": "execute_result"
    }
   ],
   "source": [
    "reload(co_reader)\n",
    "co_reader._harvest_co_from_co_pdf(\"marshalls_2012_record_ocr.pdf\")"
   ]
  },
  {
   "cell_type": "code",
   "execution_count": 32,
   "metadata": {
    "collapsed": false,
    "scrolled": true
   },
   "outputs": [
    {
     "data": {
      "text/plain": [
       "'marshalls_2012_record_ocr.pdf'"
      ]
     },
     "execution_count": 32,
     "metadata": {},
     "output_type": "execute_result"
    }
   ],
   "source": [
    "reload(co_reader)\n",
    "co_reader._convert_pdf_using_ocr(\"marshalls_2012_record.pdf\")"
   ]
  },
  {
   "cell_type": "code",
   "execution_count": 33,
   "metadata": {
    "collapsed": false
   },
   "outputs": [
    {
     "data": {
      "text/plain": [
       "datetime.datetime(2012, 10, 25, 0, 0, tzinfo=tzutc())"
      ]
     },
     "execution_count": 33,
     "metadata": {},
     "output_type": "execute_result"
    }
   ],
   "source": [
    "reload(co_reader)\n",
    "co_reader._harvest_co_from_co_pdf(\"marshalls_2012_record_ocr.pdf\")"
   ]
  },
  {
   "cell_type": "code",
   "execution_count": 37,
   "metadata": {
    "collapsed": false
   },
   "outputs": [
    {
     "name": "stdout",
     "output_type": "stream",
     "text": [
      "['B000046826.PDF', 'B000116026.PDF', 'B300645327.PDF', '320328613.PDF', '320328613-02.PDF']\n"
     ]
    }
   ],
   "source": [
    "reload(co_reader)\n",
    "co_reader.get_co_date(3332524)"
   ]
  },
  {
   "cell_type": "code",
   "execution_count": 39,
   "metadata": {
    "collapsed": false,
    "scrolled": true
   },
   "outputs": [
    {
     "data": {
      "text/plain": [
       "['B000046826.PDF',\n",
       " 'B000116026.PDF',\n",
       " 'B300645327.PDF',\n",
       " '320328613.PDF',\n",
       " '320328613-02.PDF']"
      ]
     },
     "execution_count": 39,
     "metadata": {},
     "output_type": "execute_result"
    }
   ],
   "source": [
    "co_reader._get_co_pdf_links(3332524)"
   ]
  },
  {
   "cell_type": "code",
   "execution_count": 47,
   "metadata": {
    "collapsed": false
   },
   "outputs": [],
   "source": [
    "reload(co_reader)\n",
    "co_reader._fetch_co_from_co_link('B000046826.PDF')"
   ]
  },
  {
   "cell_type": "code",
   "execution_count": null,
   "metadata": {
    "collapsed": true
   },
   "outputs": [],
   "source": []
  }
 ],
 "metadata": {
  "kernelspec": {
   "display_name": "Python 2",
   "language": "python",
   "name": "python2"
  },
  "language_info": {
   "codemirror_mode": {
    "name": "ipython",
    "version": 2
   },
   "file_extension": ".py",
   "mimetype": "text/x-python",
   "name": "python",
   "nbconvert_exporter": "python",
   "pygments_lexer": "ipython2",
   "version": "2.7.11"
  }
 },
 "nbformat": 4,
 "nbformat_minor": 0
}
