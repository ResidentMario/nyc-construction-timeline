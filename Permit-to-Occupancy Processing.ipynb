{
 "cells": [
  {
   "cell_type": "markdown",
   "metadata": {},
   "source": [
    "# Permit-to-Occupancy in New York City\n",
    "\n",
    "This notebook (along with files associated with it) examines the timeline of building construction to occupation in New York City.\n",
    "\n",
    "## Introduction\n",
    "\n",
    "### Construction Permit Process\n",
    "\n",
    "Before a new building can begin construction it has to go through a long professional vetting process. The Department of Buildings (DOB) is the principal governmental organization responsible for overseeing the inspections and paperwork required for breaking ground. Once the construction permit has been issued and posted, work can begin.\n",
    "\n",
    "### Certificate of Occupancy Process\n",
    "\n",
    "The last step of new building construction is obtaining a certificate of occupancy (\"C of O\" for short). This document affirms that the building in question has been deemed to conform to the building code and is safe to occupy. \n",
    "\n",
    "A C of O is required for a building to be legally occupiable. DOB verifies with other coordinating agencies that all other outstanding requirements for the building have been satisfied before issuing the permit. Thus obtaining a C of O is the last step of the process in opening and occupying a building.\n",
    "\n",
    "Most C of Os are permanent documents, however it is also possible to obtain an (expediated?) temporary document. Temporary C of Os have an expiration date, by which time a permanent document ought to have been granted. For our purposes we will treat them as equivalent documents.\n",
    "\n",
    "### Retrieving Certificates of Occupancy\n",
    "\n",
    "Certificates of Occupancy are publically available via the DOB [BIS interface](http://a810-bisweb.nyc.gov/bisweb/bsqpm01.jsp). This is an old interface and technically challenging to hook up to progammatically. Furthermore C of Os are stored as PDF documents, so access requires a pipeline for retrieving, loading, scanning, and parsing PDF text.\n",
    "\n",
    "The `co_reader.py` module in this repository implements this capacity. For more technical notes on how that's done refer to that module's documentation.\n",
    "\n",
    "### Retrieving Construction Permits\n",
    "\n",
    "DOB releases a rolling list of all DOB construction permits filed as a publically accessible [dataset](https://data.cityofnewyork.us/Housing-Development/DOB-Permit-Issuance/ipu4-2q9a) on the New York City Open Data portal. Retrieving these permits is merely a matter of accessing, extracting, and filtering this dataset.\n",
    "\n",
    "### Joining Permits to Certs\n",
    "\n",
    "As expected, both the permits database and the certification pages are keyed by building `BIN`. However since the cert data requires a massive and long-running web scraping operation, the permit data is used as a base and the cert data is joined against it."
   ]
  },
  {
   "cell_type": "markdown",
   "metadata": {},
   "source": [
    "## Reading Construction Permit Data\n",
    "\n",
    "The code below sets up our construction permit data."
   ]
  },
  {
   "cell_type": "code",
   "execution_count": 1,
   "metadata": {
    "collapsed": false
   },
   "outputs": [],
   "source": [
    "import pandas as pd\n",
    "import numpy as np\n",
    "from __future__ import print_function"
   ]
  },
  {
   "cell_type": "code",
   "execution_count": 2,
   "metadata": {
    "collapsed": true
   },
   "outputs": [],
   "source": [
    "pd.set_option(\"max_columns\", 500)"
   ]
  },
  {
   "cell_type": "code",
   "execution_count": 3,
   "metadata": {
    "collapsed": false
   },
   "outputs": [
    {
     "name": "stderr",
     "output_type": "stream",
     "text": [
      "/Users/Honors/anaconda/envs/nyc-construction-timelines/lib/python2.7/site-packages/IPython/core/interactiveshell.py:2723: DtypeWarning: Columns (1,8,9,11,12,31,51) have mixed types. Specify dtype option on import or set low_memory=False.\n",
      "  interactivity=interactivity, compiler=compiler, result=result)\n"
     ]
    }
   ],
   "source": [
    "permits = pd.read_csv(\"DOB_Permit_Issuance.csv\")"
   ]
  },
  {
   "cell_type": "code",
   "execution_count": 4,
   "metadata": {
    "collapsed": false
   },
   "outputs": [
    {
     "data": {
      "text/html": [
       "<div>\n",
       "<table border=\"1\" class=\"dataframe\">\n",
       "  <thead>\n",
       "    <tr style=\"text-align: right;\">\n",
       "      <th></th>\n",
       "      <th>BOROUGH</th>\n",
       "      <th>Bin #</th>\n",
       "      <th>House #</th>\n",
       "      <th>Street Name</th>\n",
       "      <th>Job #</th>\n",
       "      <th>Job doc. #</th>\n",
       "      <th>Job Type</th>\n",
       "      <th>Self_Cert</th>\n",
       "      <th>Block</th>\n",
       "      <th>Lot</th>\n",
       "      <th>Community Board</th>\n",
       "      <th>Zip Code</th>\n",
       "      <th>Bldg Type</th>\n",
       "      <th>Residential</th>\n",
       "      <th>Special District 1</th>\n",
       "      <th>Special District 2</th>\n",
       "      <th>Work Type</th>\n",
       "      <th>Permit Status</th>\n",
       "      <th>Filing Status</th>\n",
       "      <th>Permit Type</th>\n",
       "      <th>Permit Sequence #</th>\n",
       "      <th>Permit Subtype</th>\n",
       "      <th>Oil Gas</th>\n",
       "      <th>Site Fill</th>\n",
       "      <th>Filing Date</th>\n",
       "      <th>Issuance Date</th>\n",
       "      <th>Expiration Date</th>\n",
       "      <th>Job Start Date</th>\n",
       "      <th>Permittee's First Name</th>\n",
       "      <th>Permittee's Last Name</th>\n",
       "      <th>Permittee's Business Name</th>\n",
       "      <th>Permittee's Phone #</th>\n",
       "      <th>Permittee's License Type</th>\n",
       "      <th>Permittee's License #</th>\n",
       "      <th>Act as Superintendent</th>\n",
       "      <th>Permittee's Other Title</th>\n",
       "      <th>HIC License</th>\n",
       "      <th>Site Safety Mgr's First Name</th>\n",
       "      <th>Site Safety Mgr's Last Name</th>\n",
       "      <th>Site Safety Mgr Business Name</th>\n",
       "      <th>Superintendent First &amp; Last Name</th>\n",
       "      <th>Superintendent Business Name</th>\n",
       "      <th>Owner's Business Type</th>\n",
       "      <th>Non-Profit</th>\n",
       "      <th>Owner's Business Name</th>\n",
       "      <th>Owner's First Name</th>\n",
       "      <th>Owner's Last Name</th>\n",
       "      <th>Owner's House #</th>\n",
       "      <th>Owner's House Street Name</th>\n",
       "      <th>Owner’s House City</th>\n",
       "      <th>Owner’s House State</th>\n",
       "      <th>Owner’s House Zip Code</th>\n",
       "      <th>Owner's Phone #</th>\n",
       "      <th>DOBRunDate</th>\n",
       "    </tr>\n",
       "  </thead>\n",
       "  <tbody>\n",
       "    <tr>\n",
       "      <th>178502</th>\n",
       "      <td>BROOKLYN</td>\n",
       "      <td>3324728</td>\n",
       "      <td>868</td>\n",
       "      <td>PARK AVENUE</td>\n",
       "      <td>320989784.0</td>\n",
       "      <td>1.0</td>\n",
       "      <td>A3</td>\n",
       "      <td>Y</td>\n",
       "      <td>1580</td>\n",
       "      <td>1</td>\n",
       "      <td>303</td>\n",
       "      <td>11206</td>\n",
       "      <td>2</td>\n",
       "      <td>YES</td>\n",
       "      <td>NaN</td>\n",
       "      <td>NaN</td>\n",
       "      <td>EQ</td>\n",
       "      <td>ISSUED</td>\n",
       "      <td>RENEWAL</td>\n",
       "      <td>EQ</td>\n",
       "      <td>2.0</td>\n",
       "      <td>SH</td>\n",
       "      <td></td>\n",
       "      <td>NaN</td>\n",
       "      <td>05/22/2014</td>\n",
       "      <td>05/22/2014 12:00:00 AM</td>\n",
       "      <td>05/22/2015</td>\n",
       "      <td>03/28/2014</td>\n",
       "      <td>JASWANT</td>\n",
       "      <td>SINGH</td>\n",
       "      <td>VIKRANT CONTRACTING &amp; BUI</td>\n",
       "      <td>7182060125</td>\n",
       "      <td>GENERAL CONTRACTOR</td>\n",
       "      <td>0034878</td>\n",
       "      <td></td>\n",
       "      <td></td>\n",
       "      <td></td>\n",
       "      <td></td>\n",
       "      <td></td>\n",
       "      <td></td>\n",
       "      <td></td>\n",
       "      <td></td>\n",
       "      <td>NYCHA</td>\n",
       "      <td>NaN</td>\n",
       "      <td>NYCHA</td>\n",
       "      <td>MARTHA</td>\n",
       "      <td>BRAZOBAN</td>\n",
       "      <td>90</td>\n",
       "      <td>CHURCH STREET</td>\n",
       "      <td>NEW YORK</td>\n",
       "      <td>NY</td>\n",
       "      <td>10007</td>\n",
       "      <td>2123062810</td>\n",
       "      <td>05/23/2014 12:00:00 AM</td>\n",
       "    </tr>\n",
       "    <tr>\n",
       "      <th>409864</th>\n",
       "      <td>MANHATTAN</td>\n",
       "      <td>1.07719e+06</td>\n",
       "      <td>160REAR</td>\n",
       "      <td>ORCHARD ST.</td>\n",
       "      <td>140398601.0</td>\n",
       "      <td>1.0</td>\n",
       "      <td>A2</td>\n",
       "      <td>Y</td>\n",
       "      <td>411</td>\n",
       "      <td>8</td>\n",
       "      <td>103</td>\n",
       "      <td>10002</td>\n",
       "      <td>2</td>\n",
       "      <td>YES</td>\n",
       "      <td>NaN</td>\n",
       "      <td>NaN</td>\n",
       "      <td>OT</td>\n",
       "      <td>ISSUED</td>\n",
       "      <td>INITIAL</td>\n",
       "      <td>EW</td>\n",
       "      <td>1.0</td>\n",
       "      <td>OT</td>\n",
       "      <td></td>\n",
       "      <td>NOT APPLICABLE</td>\n",
       "      <td>09/03/2015</td>\n",
       "      <td>09/03/2015 12:00:00 AM</td>\n",
       "      <td>02/23/2016</td>\n",
       "      <td>09/03/2015</td>\n",
       "      <td>HAKMAN</td>\n",
       "      <td>IEONG</td>\n",
       "      <td>KINSUN CONSTRUCTION CONSU</td>\n",
       "      <td>7.18267e+09</td>\n",
       "      <td>GENERAL CONTRACTOR</td>\n",
       "      <td>0606549</td>\n",
       "      <td></td>\n",
       "      <td></td>\n",
       "      <td></td>\n",
       "      <td></td>\n",
       "      <td></td>\n",
       "      <td></td>\n",
       "      <td></td>\n",
       "      <td></td>\n",
       "      <td>INDIVIDUAL</td>\n",
       "      <td>NaN</td>\n",
       "      <td>BROWNSTONE MANAGEMENT</td>\n",
       "      <td>ROHIT</td>\n",
       "      <td>SAMAI</td>\n",
       "      <td>88</td>\n",
       "      <td>RIVINGTON ST.</td>\n",
       "      <td>NEW YORK</td>\n",
       "      <td>NY</td>\n",
       "      <td>10022</td>\n",
       "      <td>2124756660</td>\n",
       "      <td>09/04/2015 12:00:00 AM</td>\n",
       "    </tr>\n",
       "    <tr>\n",
       "      <th>470189</th>\n",
       "      <td>STATEN ISLAND</td>\n",
       "      <td>5022314</td>\n",
       "      <td>130</td>\n",
       "      <td>VISTA AVE</td>\n",
       "      <td>520260609.0</td>\n",
       "      <td>1.0</td>\n",
       "      <td>A2</td>\n",
       "      <td>Y</td>\n",
       "      <td>859</td>\n",
       "      <td>25</td>\n",
       "      <td>502</td>\n",
       "      <td>10304</td>\n",
       "      <td>2</td>\n",
       "      <td>YES</td>\n",
       "      <td>NaN</td>\n",
       "      <td>NaN</td>\n",
       "      <td>OT</td>\n",
       "      <td>ISSUED</td>\n",
       "      <td>INITIAL</td>\n",
       "      <td>EW</td>\n",
       "      <td>1.0</td>\n",
       "      <td>OT</td>\n",
       "      <td></td>\n",
       "      <td>NOT APPLICABLE</td>\n",
       "      <td>12/18/2015</td>\n",
       "      <td>12/18/2015 12:00:00 AM</td>\n",
       "      <td>08/27/2016</td>\n",
       "      <td>12/18/2015</td>\n",
       "      <td>LABIB</td>\n",
       "      <td>KRUNFOL</td>\n",
       "      <td>KRUNFOL &amp; KRUNFOL CONS CO</td>\n",
       "      <td>9178254223</td>\n",
       "      <td>GENERAL CONTRACTOR</td>\n",
       "      <td>0614793</td>\n",
       "      <td></td>\n",
       "      <td></td>\n",
       "      <td></td>\n",
       "      <td></td>\n",
       "      <td></td>\n",
       "      <td></td>\n",
       "      <td></td>\n",
       "      <td></td>\n",
       "      <td>INDIVIDUAL</td>\n",
       "      <td>NaN</td>\n",
       "      <td>N/A</td>\n",
       "      <td>SALAH</td>\n",
       "      <td>ALRWHANI</td>\n",
       "      <td>130</td>\n",
       "      <td>VISTA AVE</td>\n",
       "      <td>STATEN ISLAND</td>\n",
       "      <td>NY</td>\n",
       "      <td>10304</td>\n",
       "      <td>9174995965</td>\n",
       "      <td>12/28/2015 12:00:00 AM</td>\n",
       "    </tr>\n",
       "  </tbody>\n",
       "</table>\n",
       "</div>"
      ],
      "text/plain": [
       "              BOROUGH        Bin #       House #  \\\n",
       "178502       BROOKLYN      3324728  868            \n",
       "409864      MANHATTAN  1.07719e+06  160REAR        \n",
       "470189  STATEN ISLAND      5022314  130            \n",
       "\n",
       "                             Street Name        Job #  Job doc. # Job Type  \\\n",
       "178502  PARK AVENUE                       320989784.0         1.0       A3   \n",
       "409864  ORCHARD ST.                       140398601.0         1.0       A2   \n",
       "470189  VISTA AVE                         520260609.0         1.0       A2   \n",
       "\n",
       "       Self_Cert Block Lot Community Board Zip Code Bldg Type Residential  \\\n",
       "178502         Y  1580   1             303    11206         2         YES   \n",
       "409864         Y   411   8             103    10002         2         YES   \n",
       "470189         Y   859  25             502    10304         2         YES   \n",
       "\n",
       "       Special District 1 Special District 2 Work Type Permit Status  \\\n",
       "178502                NaN                NaN        EQ        ISSUED   \n",
       "409864                NaN                NaN        OT        ISSUED   \n",
       "470189                NaN                NaN        OT        ISSUED   \n",
       "\n",
       "       Filing Status Permit Type  Permit Sequence # Permit Subtype Oil Gas  \\\n",
       "178502       RENEWAL          EQ                2.0             SH           \n",
       "409864       INITIAL          EW                1.0             OT           \n",
       "470189       INITIAL          EW                1.0             OT           \n",
       "\n",
       "                                       Site Fill Filing Date  \\\n",
       "178502                                       NaN  05/22/2014   \n",
       "409864  NOT APPLICABLE                            09/03/2015   \n",
       "470189  NOT APPLICABLE                            12/18/2015   \n",
       "\n",
       "                 Issuance Date Expiration Date Job Start Date  \\\n",
       "178502  05/22/2014 12:00:00 AM      05/22/2015     03/28/2014   \n",
       "409864  09/03/2015 12:00:00 AM      02/23/2016     09/03/2015   \n",
       "470189  12/18/2015 12:00:00 AM      08/27/2016     12/18/2015   \n",
       "\n",
       "       Permittee's First Name Permittee's Last Name  \\\n",
       "178502        JASWANT          SINGH                  \n",
       "409864        HAKMAN           IEONG                  \n",
       "470189        LABIB            KRUNFOL                \n",
       "\n",
       "               Permittee's Business Name Permittee's Phone #  \\\n",
       "178502  VIKRANT CONTRACTING & BUI                 7182060125   \n",
       "409864  KINSUN CONSTRUCTION CONSU                7.18267e+09   \n",
       "470189  KRUNFOL & KRUNFOL CONS CO                 9178254223   \n",
       "\n",
       "                        Permittee's License Type Permittee's License #  \\\n",
       "178502  GENERAL CONTRACTOR                                     0034878   \n",
       "409864  GENERAL CONTRACTOR                                     0606549   \n",
       "470189  GENERAL CONTRACTOR                                     0614793   \n",
       "\n",
       "       Act as Superintendent Permittee's Other Title HIC License  \\\n",
       "178502                                                             \n",
       "409864                                                             \n",
       "470189                                                             \n",
       "\n",
       "       Site Safety Mgr's First Name Site Safety Mgr's Last Name  \\\n",
       "178502                                                            \n",
       "409864                                                            \n",
       "470189                                                            \n",
       "\n",
       "           Site Safety Mgr Business Name  Superintendent First & Last Name  \\\n",
       "178502                                                                       \n",
       "409864                                                                       \n",
       "470189                                                                       \n",
       "\n",
       "            Superintendent Business Name  \\\n",
       "178502                                     \n",
       "409864                                     \n",
       "470189                                     \n",
       "\n",
       "                           Owner's Business Type Non-Profit  \\\n",
       "178502  NYCHA                                           NaN   \n",
       "409864  INDIVIDUAL                                      NaN   \n",
       "470189  INDIVIDUAL                                      NaN   \n",
       "\n",
       "                   Owner's Business Name Owner's First Name  \\\n",
       "178502  NYCHA                               MARTHA            \n",
       "409864  BROWNSTONE MANAGEMENT               ROHIT             \n",
       "470189  N/A                                 SALAH             \n",
       "\n",
       "                     Owner's Last Name Owner's House #  \\\n",
       "178502  BRAZOBAN                          90             \n",
       "409864  SAMAI                             88             \n",
       "470189  ALRWHANI                          130            \n",
       "\n",
       "               Owner's House Street Name Owner’s House City  \\\n",
       "178502  CHURCH STREET                       NEW YORK          \n",
       "409864  RIVINGTON ST.                       NEW YORK          \n",
       "470189  VISTA AVE                           STATEN ISLAND     \n",
       "\n",
       "       Owner’s House State Owner’s House Zip Code Owner's Phone #  \\\n",
       "178502                  NY                  10007      2123062810   \n",
       "409864                  NY              10022          2124756660   \n",
       "470189                  NY                  10304      9174995965   \n",
       "\n",
       "                    DOBRunDate  \n",
       "178502  05/23/2014 12:00:00 AM  \n",
       "409864  09/04/2015 12:00:00 AM  \n",
       "470189  12/28/2015 12:00:00 AM  "
      ]
     },
     "execution_count": 4,
     "metadata": {},
     "output_type": "execute_result"
    }
   ],
   "source": [
    "permits.sample(3)"
   ]
  },
  {
   "cell_type": "markdown",
   "metadata": {},
   "source": [
    "Non-obvious column keys:\n",
    "\n",
    "* Bin # &mdash; Building Identification Number\n",
    "* Job # &mdash; The number assigned to the job in the DOB system.\n",
    "* Job doc # &mdash; A single job, if the job is of a sufficient level of complexity, can have multiple permits associated with it (when this occurs is unclear to me, however).\n",
    "\n",
    "  These documents are all (almost?) always approved at the same time, so for our purposes we may safely take only Job doc # == 1.\n",
    "* Job Type &mdash; We want specifically records with `Job Type=NB` as these are new building construction jobs.\n",
    "* Permit Type &mdash; We want specifically records with `NB`, again.\n",
    "* Self_Cert &mdash; Whether or not the job was professionally certified (at the cost of the owner; expedites the approval process).\n",
    "* Bldg Type &mdash; Unsure what this is, but it seems to be unimportant. Only options are 1, 2, and (occassionally) an empty string.\n",
    "* Permit Status &mdash; Whether the permit has been issued (usually), re-issued (occassionally), or is in process of being issued (rare, temporal).\n",
    "\n",
    "  This appears to mean specifically the physical documents.\n",
    "\n",
    "  For our purposes we only want original issuances.\n",
    "* Filing Status &mdash; Whether the permit filed is a renewal or an initial filing.\n",
    "\n",
    "  This appears to mean the actual permit document.\n",
    "  \n",
    "  Obviously we only want initial filings.\n",
    "* Permit Sequence # &mdash; the number of the permit, in terms of how many times it has been renewed or perhaps re-requested. As expected, 'Filing Status'=='INITAL' implies that 'Permit Sequent #' == 1.0.\n",
    "* Permit Subtype &mdash; Unknown, may be [building type](http://www.parkeronline.org/DocumentCenter/View/16233). Mostly left empty regardless.\n",
    "* Oil Gas &mdash; Always empty.\n",
    "* Site Fill &mdash; Apparent dirt movage. Very important to our audience! Will investigate further along.\n",
    "* Filing Date &mdash; Date that the permit was approved.\n",
    "* Expiration Date &mdash; Exactly one year less a day from the filing date."
   ]
  },
  {
   "cell_type": "code",
   "execution_count": 5,
   "metadata": {
    "collapsed": false
   },
   "outputs": [
    {
     "data": {
      "text/plain": [
       "ISSUED        553319\n",
       "RE-ISSUED       3245\n",
       "IN PROCESS        53\n",
       "Name: Permit Status, dtype: int64"
      ]
     },
     "execution_count": 5,
     "metadata": {},
     "output_type": "execute_result"
    }
   ],
   "source": [
    "permits['Permit Status'].value_counts()"
   ]
  },
  {
   "cell_type": "code",
   "execution_count": 6,
   "metadata": {
    "collapsed": false
   },
   "outputs": [
    {
     "data": {
      "text/plain": [
       "INITIAL    380733\n",
       "RENEWAL    175884\n",
       "Name: Filing Status, dtype: int64"
      ]
     },
     "execution_count": 6,
     "metadata": {},
     "output_type": "execute_result"
    }
   ],
   "source": [
    "permits['Filing Status'].value_counts()"
   ]
  },
  {
   "cell_type": "code",
   "execution_count": 7,
   "metadata": {
    "collapsed": false
   },
   "outputs": [
    {
     "data": {
      "text/plain": [
       "1.0     499793\n",
       "2.0      44227\n",
       "3.0      10095\n",
       "4.0       1653\n",
       "5.0        608\n",
       "6.0        140\n",
       "7.0         62\n",
       "8.0         27\n",
       "9.0         10\n",
       "10.0         2\n",
       "Name: Job doc. #, dtype: int64"
      ]
     },
     "execution_count": 7,
     "metadata": {},
     "output_type": "execute_result"
    }
   ],
   "source": [
    "permits['Job doc. #'].value_counts()"
   ]
  },
  {
   "cell_type": "markdown",
   "metadata": {},
   "source": [
    "Applying the restrictions noted in our exploration of the dataset nets us our new building permits."
   ]
  },
  {
   "cell_type": "code",
   "execution_count": 8,
   "metadata": {
    "collapsed": false
   },
   "outputs": [],
   "source": [
    "new_building_permits = permits[(permits['Job Type'] == 'NB') &\n",
    "                               (permits['Permit Type'] == 'NB') &\n",
    "                               (permits['Permit Status'] == 'ISSUED') & \n",
    "                               (permits['Filing Status'] == 'INITIAL') &\n",
    "                               (permits['Job doc. #'] == 1.0)]"
   ]
  },
  {
   "cell_type": "code",
   "execution_count": 9,
   "metadata": {
    "collapsed": false,
    "scrolled": true
   },
   "outputs": [
    {
     "data": {
      "text/plain": [
       "556644"
      ]
     },
     "execution_count": 9,
     "metadata": {},
     "output_type": "execute_result"
    }
   ],
   "source": [
    "len(permits)"
   ]
  },
  {
   "cell_type": "code",
   "execution_count": 10,
   "metadata": {
    "collapsed": false
   },
   "outputs": [
    {
     "data": {
      "text/plain": [
       "6819"
      ]
     },
     "execution_count": 10,
     "metadata": {},
     "output_type": "execute_result"
    }
   ],
   "source": [
    "len(new_building_permits)"
   ]
  },
  {
   "cell_type": "markdown",
   "metadata": {},
   "source": [
    "The trouble is that this set is still not fully de-duped."
   ]
  },
  {
   "cell_type": "markdown",
   "metadata": {},
   "source": [
    "These entries appear to be seperate filing, each of which resulted in a construction permit being granted!"
   ]
  },
  {
   "cell_type": "code",
   "execution_count": 11,
   "metadata": {
    "collapsed": true
   },
   "outputs": [],
   "source": [
    "from collections import Counter\n",
    "from tqdm import tqdm"
   ]
  },
  {
   "cell_type": "code",
   "execution_count": 12,
   "metadata": {
    "collapsed": false
   },
   "outputs": [
    {
     "name": "stderr",
     "output_type": "stream",
     "text": [
      "100%|██████████| 6136/6136 [00:17<00:00, 348.15it/s]"
     ]
    },
    {
     "name": "stdout",
     "output_type": "stream",
     "text": [
      "567\n"
     ]
    },
    {
     "name": "stderr",
     "output_type": "stream",
     "text": [
      "\n"
     ]
    }
   ],
   "source": [
    "cnt = 0\n",
    "for _bin in tqdm(set(new_building_permits['Bin #'])):\n",
    "    if len(new_building_permits[new_building_permits['Bin #'] == _bin]) > 1:\n",
    "        cnt += 1\n",
    "print(cnt)"
   ]
  },
  {
   "cell_type": "markdown",
   "metadata": {},
   "source": [
    "Our timeline will need to accomodate the possibility of multiple permits. Up to how many?"
   ]
  },
  {
   "cell_type": "code",
   "execution_count": 13,
   "metadata": {
    "collapsed": false
   },
   "outputs": [
    {
     "name": "stderr",
     "output_type": "stream",
     "text": [
      "100%|██████████| 6136/6136 [00:12<00:00, 508.82it/s]\n"
     ]
    },
    {
     "data": {
      "text/plain": [
       "Counter({2: 521, 3: 21, 4: 18, 5: 1, 6: 2, 8: 1, 13: 1, 17: 1, 18: 1})"
      ]
     },
     "execution_count": 13,
     "metadata": {},
     "output_type": "execute_result"
    }
   ],
   "source": [
    "counter = Counter()\n",
    "for _bin in tqdm(set(new_building_permits['Bin #'])):\n",
    "    nbp_l = len(new_building_permits[new_building_permits['Bin #'] == _bin])\n",
    "    if nbp_l > 1:\n",
    "        counter[nbp_l] += 1\n",
    "counter"
   ]
  },
  {
   "cell_type": "markdown",
   "metadata": {},
   "source": [
    "Let's simply take the date of the earliest one."
   ]
  },
  {
   "cell_type": "code",
   "execution_count": 8,
   "metadata": {
    "collapsed": true
   },
   "outputs": [],
   "source": [
    "import arrow"
   ]
  },
  {
   "cell_type": "code",
   "execution_count": 9,
   "metadata": {
    "collapsed": true
   },
   "outputs": [],
   "source": [
    "import time"
   ]
  },
  {
   "cell_type": "code",
   "execution_count": 16,
   "metadata": {
    "collapsed": true
   },
   "outputs": [],
   "source": [
    "def select_earliest_permit(df):\n",
    "    return df.iloc[np.argmin(df['Filing Date'].apply(lambda x: arrow.get(x,\"MM/DD/YYYY\")).values)]"
   ]
  },
  {
   "cell_type": "code",
   "execution_count": 17,
   "metadata": {
    "collapsed": false
   },
   "outputs": [
    {
     "name": "stderr",
     "output_type": "stream",
     "text": [
      "100%|██████████| 6136/6136 [00:15<00:00, 400.80it/s]\n"
     ]
    }
   ],
   "source": [
    "list_by_bin = []\n",
    "for _bin in tqdm(set(new_building_permits['Bin #'])):\n",
    "    df = new_building_permits[new_building_permits['Bin #'] == _bin]\n",
    "    if len(df) > 1:\n",
    "        # print(select_earliest_permit(df))\n",
    "        list_by_bin.append(select_earliest_permit(df))\n",
    "        # time.sleep(1)\n",
    "    else:\n",
    "        list_by_bin.append(df.iloc[0])"
   ]
  },
  {
   "cell_type": "markdown",
   "metadata": {},
   "source": [
    "This step took a long time to figure out. By default it concats Series into one super-Series, but axis=1 puts things in the wrong place index-wise, so I have to swap the indexes with `T` (transpose)."
   ]
  },
  {
   "cell_type": "code",
   "execution_count": 18,
   "metadata": {
    "collapsed": false
   },
   "outputs": [],
   "source": [
    "deduped_new_building_permits = pd.concat(list_by_bin, axis=1).T"
   ]
  },
  {
   "cell_type": "code",
   "execution_count": 20,
   "metadata": {
    "collapsed": false
   },
   "outputs": [
    {
     "data": {
      "text/plain": [
       "QUEENS           1898\n",
       "BROOKLYN         1890\n",
       "STATEN ISLAND    1566\n",
       "BRONX             486\n",
       "MANHATTAN         296\n",
       "Name: BOROUGH, dtype: int64"
      ]
     },
     "execution_count": 20,
     "metadata": {},
     "output_type": "execute_result"
    }
   ],
   "source": [
    "deduped_new_building_permits['BOROUGH'].value_counts()"
   ]
  },
  {
   "cell_type": "code",
   "execution_count": 21,
   "metadata": {
    "collapsed": true
   },
   "outputs": [],
   "source": [
    "borough_map = {\n",
    "    'BROOKLYN': 'B',\n",
    "    'QUEENS': 'Q',\n",
    "    'STATEN ISLAND': 'R',\n",
    "    'BRONX': 'X',\n",
    "    'MANHATTAN': 'M'\n",
    "}"
   ]
  },
  {
   "cell_type": "code",
   "execution_count": 22,
   "metadata": {
    "collapsed": false
   },
   "outputs": [
    {
     "data": {
      "text/plain": [
       "26416         2818049\n",
       "168380        4292627\n",
       "131159        3833881\n",
       "535342    2.09719e+06\n",
       "544547        5144619\n",
       "Name: Bin #, dtype: object"
      ]
     },
     "execution_count": 22,
     "metadata": {},
     "output_type": "execute_result"
    }
   ],
   "source": [
    "deduped_new_building_permits.head(5)['Bin #']"
   ]
  },
  {
   "cell_type": "code",
   "execution_count": 23,
   "metadata": {
    "collapsed": false
   },
   "outputs": [
    {
     "data": {
      "text/html": [
       "<div>\n",
       "<table border=\"1\" class=\"dataframe\">\n",
       "  <thead>\n",
       "    <tr style=\"text-align: right;\">\n",
       "      <th></th>\n",
       "      <th>BOROUGH</th>\n",
       "      <th>Bin #</th>\n",
       "      <th>House #</th>\n",
       "      <th>Street Name</th>\n",
       "      <th>Job #</th>\n",
       "      <th>Job doc. #</th>\n",
       "      <th>Job Type</th>\n",
       "      <th>Self_Cert</th>\n",
       "      <th>Block</th>\n",
       "      <th>Lot</th>\n",
       "      <th>Community Board</th>\n",
       "      <th>Zip Code</th>\n",
       "      <th>Bldg Type</th>\n",
       "      <th>Residential</th>\n",
       "      <th>Special District 1</th>\n",
       "      <th>Special District 2</th>\n",
       "      <th>Work Type</th>\n",
       "      <th>Permit Status</th>\n",
       "      <th>Filing Status</th>\n",
       "      <th>Permit Type</th>\n",
       "      <th>Permit Sequence #</th>\n",
       "      <th>Permit Subtype</th>\n",
       "      <th>Oil Gas</th>\n",
       "      <th>Site Fill</th>\n",
       "      <th>Filing Date</th>\n",
       "      <th>Issuance Date</th>\n",
       "      <th>Expiration Date</th>\n",
       "      <th>Job Start Date</th>\n",
       "      <th>Permittee's First Name</th>\n",
       "      <th>Permittee's Last Name</th>\n",
       "      <th>Permittee's Business Name</th>\n",
       "      <th>Permittee's Phone #</th>\n",
       "      <th>Permittee's License Type</th>\n",
       "      <th>Permittee's License #</th>\n",
       "      <th>Act as Superintendent</th>\n",
       "      <th>Permittee's Other Title</th>\n",
       "      <th>HIC License</th>\n",
       "      <th>Site Safety Mgr's First Name</th>\n",
       "      <th>Site Safety Mgr's Last Name</th>\n",
       "      <th>Site Safety Mgr Business Name</th>\n",
       "      <th>Superintendent First &amp; Last Name</th>\n",
       "      <th>Superintendent Business Name</th>\n",
       "      <th>Owner's Business Type</th>\n",
       "      <th>Non-Profit</th>\n",
       "      <th>Owner's Business Name</th>\n",
       "      <th>Owner's First Name</th>\n",
       "      <th>Owner's Last Name</th>\n",
       "      <th>Owner's House #</th>\n",
       "      <th>Owner's House Street Name</th>\n",
       "      <th>Owner’s House City</th>\n",
       "      <th>Owner’s House State</th>\n",
       "      <th>Owner’s House Zip Code</th>\n",
       "      <th>Owner's Phone #</th>\n",
       "      <th>DOBRunDate</th>\n",
       "    </tr>\n",
       "  </thead>\n",
       "  <tbody>\n",
       "    <tr>\n",
       "      <th>26416</th>\n",
       "      <td>BRONX</td>\n",
       "      <td>2818049</td>\n",
       "      <td>92</td>\n",
       "      <td>WEST TREMONT AVE</td>\n",
       "      <td>2.20177e+08</td>\n",
       "      <td>1</td>\n",
       "      <td>NB</td>\n",
       "      <td>NaN</td>\n",
       "      <td>2867</td>\n",
       "      <td>125</td>\n",
       "      <td>205</td>\n",
       "      <td>10453</td>\n",
       "      <td>2</td>\n",
       "      <td>YES</td>\n",
       "      <td>NaN</td>\n",
       "      <td>NaN</td>\n",
       "      <td></td>\n",
       "      <td>ISSUED</td>\n",
       "      <td>INITIAL</td>\n",
       "      <td>NB</td>\n",
       "      <td>1</td>\n",
       "      <td></td>\n",
       "      <td></td>\n",
       "      <td>ON-SITE</td>\n",
       "      <td>06/21/2013</td>\n",
       "      <td>06/21/2013 12:00:00 AM</td>\n",
       "      <td>03/20/2014</td>\n",
       "      <td>06/21/2013</td>\n",
       "      <td>JIMMY</td>\n",
       "      <td>ZERVOUDIS</td>\n",
       "      <td>GALAXY G.C.GROUP LLC</td>\n",
       "      <td>7186017000</td>\n",
       "      <td>GENERAL CONTRACTOR</td>\n",
       "      <td>0610672</td>\n",
       "      <td></td>\n",
       "      <td></td>\n",
       "      <td></td>\n",
       "      <td></td>\n",
       "      <td></td>\n",
       "      <td></td>\n",
       "      <td>PHILIP            ANTONAKOS</td>\n",
       "      <td>GALAXY GENERAL CONTRACTIO</td>\n",
       "      <td>HPD</td>\n",
       "      <td>Y</td>\n",
       "      <td>HOUSING PRESERVATION AND DEVELOP</td>\n",
       "      <td>TIMOTHY</td>\n",
       "      <td>JOSEPH</td>\n",
       "      <td>100</td>\n",
       "      <td>GOLD STREET</td>\n",
       "      <td>NEW YORK</td>\n",
       "      <td>NY</td>\n",
       "      <td>10038</td>\n",
       "      <td>2128637490</td>\n",
       "      <td>06/22/2013 12:00:00 AM</td>\n",
       "    </tr>\n",
       "  </tbody>\n",
       "</table>\n",
       "</div>"
      ],
      "text/plain": [
       "      BOROUGH    Bin #       House #                       Street Name  \\\n",
       "26416   BRONX  2818049  92            WEST TREMONT AVE                   \n",
       "\n",
       "             Job # Job doc. # Job Type Self_Cert Block  Lot Community Board  \\\n",
       "26416  2.20177e+08          1       NB       NaN  2867  125             205   \n",
       "\n",
       "      Zip Code Bldg Type Residential Special District 1 Special District 2  \\\n",
       "26416    10453         2         YES                NaN                NaN   \n",
       "\n",
       "      Work Type Permit Status Filing Status Permit Type Permit Sequence #  \\\n",
       "26416                  ISSUED       INITIAL          NB                 1   \n",
       "\n",
       "      Permit Subtype Oil Gas                                 Site Fill  \\\n",
       "26416                         ON-SITE                                    \n",
       "\n",
       "      Filing Date           Issuance Date Expiration Date Job Start Date  \\\n",
       "26416  06/21/2013  06/21/2013 12:00:00 AM      03/20/2014     06/21/2013   \n",
       "\n",
       "      Permittee's First Name Permittee's Last Name  \\\n",
       "26416        JIMMY            ZERVOUDIS              \n",
       "\n",
       "              Permittee's Business Name Permittee's Phone #  \\\n",
       "26416  GALAXY G.C.GROUP LLC                      7186017000   \n",
       "\n",
       "                       Permittee's License Type Permittee's License #  \\\n",
       "26416  GENERAL CONTRACTOR                                     0610672   \n",
       "\n",
       "      Act as Superintendent Permittee's Other Title HIC License  \\\n",
       "26416                                                             \n",
       "\n",
       "      Site Safety Mgr's First Name Site Safety Mgr's Last Name  \\\n",
       "26416                                                            \n",
       "\n",
       "          Site Safety Mgr Business Name  \\\n",
       "26416                                     \n",
       "\n",
       "             Superintendent First & Last Name  \\\n",
       "26416  PHILIP            ANTONAKOS              \n",
       "\n",
       "           Superintendent Business Name  \\\n",
       "26416  GALAXY GENERAL CONTRACTIO          \n",
       "\n",
       "                          Owner's Business Type Non-Profit  \\\n",
       "26416  HPD                                               Y   \n",
       "\n",
       "                  Owner's Business Name Owner's First Name  \\\n",
       "26416  HOUSING PRESERVATION AND DEVELOP    TIMOTHY           \n",
       "\n",
       "                    Owner's Last Name Owner's House #  \\\n",
       "26416  JOSEPH                            100            \n",
       "\n",
       "              Owner's House Street Name Owner’s House City  \\\n",
       "26416  GOLD STREET                         NEW YORK          \n",
       "\n",
       "      Owner’s House State Owner’s House Zip Code Owner's Phone #  \\\n",
       "26416                  NY              10038          2128637490   \n",
       "\n",
       "                   DOBRunDate  \n",
       "26416  06/22/2013 12:00:00 AM  "
      ]
     },
     "execution_count": 23,
     "metadata": {},
     "output_type": "execute_result"
    }
   ],
   "source": [
    "deduped_new_building_permits.head(1)"
   ]
  },
  {
   "cell_type": "markdown",
   "metadata": {},
   "source": [
    "## Reading Certificate of Occupation Data&mdash;August 2013 Test Run\n",
    "\n",
    "In order to validate assumptions about the data pipeline I used (arbitrarily selected) August 2013 permits as a month of interest."
   ]
  },
  {
   "cell_type": "code",
   "execution_count": 7,
   "metadata": {
    "collapsed": true
   },
   "outputs": [],
   "source": [
    "import co_reader"
   ]
  },
  {
   "cell_type": "code",
   "execution_count": 24,
   "metadata": {
    "collapsed": false
   },
   "outputs": [],
   "source": [
    "august_2013_permits = deduped_new_building_permits[deduped_new_building_permits['Filing Date'].map(lambda x: arrow.get(x,\"MM/DD/YYYY\").month == 9 and arrow.get(x,\"MM/DD/YYYY\").year == 2013)]"
   ]
  },
  {
   "cell_type": "code",
   "execution_count": 25,
   "metadata": {
    "collapsed": false
   },
   "outputs": [
    {
     "data": {
      "text/plain": [
       "186"
      ]
     },
     "execution_count": 25,
     "metadata": {},
     "output_type": "execute_result"
    }
   ],
   "source": [
    "len(august_2013_permits)"
   ]
  },
  {
   "cell_type": "code",
   "execution_count": 26,
   "metadata": {
    "collapsed": false,
    "scrolled": true
   },
   "outputs": [
    {
     "name": "stderr",
     "output_type": "stream",
     "text": [
      "\r",
      "0it [00:00, ?it/s]"
     ]
    },
    {
     "name": "stdout",
     "output_type": "stream",
     "text": [
      "On loop 1...\n",
      "Requested BIN 4162303 data from BIS, awaiting response...\n",
      "Got a response.\n",
      "Discovered 4 Certificates of Occupancy.\n",
      "Scanning Q000214797.PDF...\n",
      "PDF Certificate of Occupancy 'Q000214797.PDF' retrieved.\n",
      "Copying text using optical character recognition...\n",
      "Harvesting dates...\n",
      "['01/14/2014', '01/14/2014', '01/14/2014']\n",
      "Date(s) found!\n",
      "Scanning Q000085427.PDF...\n",
      "PDF Certificate of Occupancy 'Q000085427.PDF' retrieved.\n",
      "Copying text using optical character recognition...\n",
      "Harvesting dates...\n",
      "['01/14/2014', '01/14/2014', '01/14/2014']\n",
      "Date(s) found!\n",
      "Scanning 420825673.PDF...\n",
      "PDF Certificate of Occupancy '420825673.PDF' retrieved.\n",
      "Copying text using optical character recognition...\n",
      "Harvesting dates...\n",
      "['01/14/2014', '01/14/2014', '01/14/2014']\n",
      "Date(s) found!\n",
      "Scanning 420825263.PDF...\n",
      "Got the wait page. Trying to retrieve the PDF Certificate of Occupancy '420825263.PDF' again in five seconds...\n",
      "After some delay, PDF Certificate of Occupancy '420825263.PDF' retrieved.\n",
      "Copying text using optical character recognition...\n",
      "Harvesting dates...\n"
     ]
    },
    {
     "name": "stderr",
     "output_type": "stream",
     "text": [
      "\r",
      "1it [00:27, 27.85s/it]"
     ]
    },
    {
     "name": "stdout",
     "output_type": "stream",
     "text": [
      "['01/14/2014', '01/14/2014', '01/14/2014']\n",
      "Date(s) found!\n",
      "On loop 2...\n",
      "Requested BIN 1082214 data from BIS, awaiting response...\n"
     ]
    },
    {
     "name": "stderr",
     "output_type": "stream",
     "text": [
      "\r",
      "2it [00:38, 22.66s/it]"
     ]
    },
    {
     "name": "stdout",
     "output_type": "stream",
     "text": [
      "Got a response.\n",
      "Discovered 0 Certificates of Occupancy.\n",
      "On loop 3...\n",
      "Requested BIN 5047261 data from BIS, awaiting response...\n",
      "Got a response.\n",
      "Discovered 1 Certificates of Occupancy.\n",
      "Scanning 520147984F.PDF...\n",
      "PDF Certificate of Occupancy '520147984F.PDF' retrieved.\n",
      "Copying text using optical character recognition...\n",
      "Harvesting dates...\n"
     ]
    },
    {
     "name": "stderr",
     "output_type": "stream",
     "text": [
      "\r",
      "3it [00:51, 19.87s/it]"
     ]
    },
    {
     "name": "stdout",
     "output_type": "stream",
     "text": [
      "['11/25/2014', '01/29/2015', '11/25/2014', '01/29/2015']\n",
      "Date(s) found!\n",
      "On loop 4...\n",
      "Requested BIN 2000570 data from BIS, awaiting response...\n",
      "Got a response.\n",
      "Discovered 5 Certificates of Occupancy.\n",
      "Scanning 220192887F.PDF...\n",
      "PDF Certificate of Occupancy '220192887F.PDF' retrieved.\n",
      "Copying text using optical character recognition...\n",
      "Harvesting dates...\n",
      "['11/25/2014', '01/29/2015', '11/25/2014', '01/29/2015']\n",
      "Date(s) found!\n",
      "Scanning 220192887T002.PDF...\n",
      "PDF Certificate of Occupancy '220192887T002.PDF' retrieved.\n",
      "Copying text using optical character recognition...\n",
      "Harvesting dates...\n",
      "['11/25/2014', '01/29/2015', '11/25/2014', '01/29/2015']\n",
      "Date(s) found!\n",
      "Scanning 220192887.PDF...\n",
      "PDF Certificate of Occupancy '220192887.PDF' retrieved.\n",
      "Copying text using optical character recognition...\n",
      "Harvesting dates...\n",
      "['11/25/2014', '01/29/2015', '11/25/2014', '01/29/2015']\n",
      "Date(s) found!\n",
      "Scanning 220192887T001.PDF...\n",
      "PDF Certificate of Occupancy '220192887T001.PDF' retrieved.\n",
      "Copying text using optical character recognition...\n",
      "Harvesting dates...\n",
      "['11/25/2014', '01/29/2015', '11/25/2014', '01/29/2015']\n",
      "Date(s) found!\n",
      "Scanning 220192887T003.PDF...\n",
      "PDF Certificate of Occupancy '220192887T003.PDF' retrieved.\n",
      "Copying text using optical character recognition...\n",
      "Harvesting dates...\n"
     ]
    },
    {
     "name": "stderr",
     "output_type": "stream",
     "text": [
      "\r",
      "4it [01:14, 20.84s/it]"
     ]
    },
    {
     "name": "stdout",
     "output_type": "stream",
     "text": [
      "['11/25/2014', '01/29/2015', '11/25/2014', '01/29/2015']\n",
      "Date(s) found!\n",
      "On loop 5...\n",
      "Requested BIN 4163416 data from BIS, awaiting response...\n",
      "Got a response.\n",
      "Discovered 3 Certificates of Occupancy.\n",
      "Scanning Q000115527.PDF...\n",
      "Got the wait page. Trying to retrieve the PDF Certificate of Occupancy 'Q000115527.PDF' again in five seconds...\n",
      "After some delay, PDF Certificate of Occupancy 'Q000115527.PDF' retrieved.\n",
      "Copying text using optical character recognition...\n",
      "Harvesting dates...\n",
      "['03/09/2015', '03/09/2015', '06/07/2015', '06/07/2015']\n",
      "Date(s) found!\n",
      "Scanning 420849336T1.PDF...\n",
      "Got the wait page. Trying to retrieve the PDF Certificate of Occupancy '420849336T1.PDF' again in five seconds...\n",
      "After some delay, PDF Certificate of Occupancy '420849336T1.PDF' retrieved.\n",
      "Copying text using optical character recognition...\n",
      "Harvesting dates...\n",
      "['03/09/2015', '03/09/2015', '06/07/2015', '06/07/2015']\n",
      "Date(s) found!\n",
      "Scanning 420849345F.PDF...\n",
      "PDF Certificate of Occupancy '420849345F.PDF' retrieved.\n",
      "Copying text using optical character recognition...\n",
      "Harvesting dates...\n"
     ]
    },
    {
     "name": "stderr",
     "output_type": "stream",
     "text": [
      "\r",
      "5it [01:58, 27.76s/it]"
     ]
    },
    {
     "name": "stdout",
     "output_type": "stream",
     "text": [
      "['03/09/2015', '03/09/2015', '06/07/2015', '06/07/2015']\n",
      "Date(s) found!\n",
      "On loop 6...\n",
      "Requested BIN 2829340 data from BIS, awaiting response...\n"
     ]
    },
    {
     "name": "stderr",
     "output_type": "stream",
     "text": [
      "\r",
      "6it [02:09, 22.59s/it]"
     ]
    },
    {
     "name": "stdout",
     "output_type": "stream",
     "text": [
      "Got a response.\n",
      "Discovered 0 Certificates of Occupancy.\n",
      "On loop 7...\n",
      "Requested BIN 4163841 data from BIS, awaiting response...\n",
      "Got a response.\n",
      "Discovered 2 Certificates of Occupancy.\n",
      "Scanning 420861482F.PDF...\n",
      "PDF Certificate of Occupancy '420861482F.PDF' retrieved.\n",
      "Copying text using optical character recognition...\n",
      "Harvesting dates...\n",
      "['07/14/2015', '07/14/2015', '07/14/2015']\n",
      "Date(s) found!\n",
      "Scanning 420861491.PDF...\n",
      "PDF Certificate of Occupancy '420861491.PDF' retrieved.\n",
      "Copying text using optical character recognition...\n",
      "Harvesting dates...\n"
     ]
    },
    {
     "name": "stderr",
     "output_type": "stream",
     "text": [
      "\r",
      "7it [02:25, 20.62s/it]"
     ]
    },
    {
     "name": "stdout",
     "output_type": "stream",
     "text": [
      "['07/14/2015', '07/14/2015', '07/14/2015']\n",
      "Date(s) found!\n",
      "On loop 8...\n",
      "Requested BIN 3410228 data from BIS, awaiting response...\n",
      "Got a response.\n",
      "Discovered 1 Certificates of Occupancy.\n",
      "Scanning 320719585.PDF...\n",
      "PDF Certificate of Occupancy '320719585.PDF' retrieved.\n",
      "Copying text using optical character recognition...\n",
      "Harvesting dates...\n"
     ]
    },
    {
     "name": "stderr",
     "output_type": "stream",
     "text": [
      "\r",
      "8it [02:39, 18.61s/it]"
     ]
    },
    {
     "name": "stdout",
     "output_type": "stream",
     "text": [
      "['07/14/2015', '07/14/2015', '07/14/2015']\n",
      "Date(s) found!\n",
      "On loop 9...\n",
      "Requested BIN 4000093 data from BIS, awaiting response...\n"
     ]
    },
    {
     "name": "stderr",
     "output_type": "stream",
     "text": [
      "\r",
      "9it [02:49, 16.15s/it]"
     ]
    },
    {
     "name": "stdout",
     "output_type": "stream",
     "text": [
      "Got a response.\n",
      "Discovered 0 Certificates of Occupancy.\n",
      "On loop 10...\n",
      "Requested BIN 2829381 data from BIS, awaiting response...\n"
     ]
    },
    {
     "name": "stderr",
     "output_type": "stream",
     "text": [
      "\r",
      "10it [03:00, 14.42s/it]"
     ]
    },
    {
     "name": "stdout",
     "output_type": "stream",
     "text": [
      "Got a response.\n",
      "Discovered 0 Certificates of Occupancy.\n",
      "On loop 11...\n",
      "Requested BIN 1085940 data from BIS, awaiting response...\n"
     ]
    },
    {
     "name": "stderr",
     "output_type": "stream",
     "text": [
      "\r",
      "11it [03:10, 13.23s/it]"
     ]
    },
    {
     "name": "stdout",
     "output_type": "stream",
     "text": [
      "Got a response.\n",
      "Discovered 0 Certificates of Occupancy.\n",
      "On loop 12...\n",
      "Requested BIN 3807374 data from BIS, awaiting response...\n",
      "Got a response.\n",
      "Discovered 2 Certificates of Occupancy.\n",
      "Scanning B000000790.PDF...\n",
      "PDF Certificate of Occupancy 'B000000790.PDF' retrieved.\n",
      "Copying text using optical character recognition...\n",
      "Harvesting dates...\n",
      "['04/15/2015', '09/09/2015']\n",
      "Date(s) found!\n",
      "Scanning 320491115.PDF...\n",
      "PDF Certificate of Occupancy '320491115.PDF' retrieved.\n",
      "Copying text using optical character recognition...\n",
      "Harvesting dates...\n"
     ]
    },
    {
     "name": "stderr",
     "output_type": "stream",
     "text": [
      "\r",
      "12it [03:26, 13.94s/it]"
     ]
    },
    {
     "name": "stdout",
     "output_type": "stream",
     "text": [
      "['04/15/2015', '09/09/2015']\n",
      "Date(s) found!\n",
      "On loop 13...\n",
      "Requested BIN 4101093 data from BIS, awaiting response...\n",
      "Got a response.\n",
      "Discovered 2 Certificates of Occupancy.\n",
      "Scanning Q000152898.PDF...\n",
      "Got the wait page. Trying to retrieve the PDF Certificate of Occupancy 'Q000152898.PDF' again in five seconds...\n",
      "After some delay, PDF Certificate of Occupancy 'Q000152898.PDF' retrieved.\n",
      "Copying text using optical character recognition...\n",
      "Harvesting dates...\n",
      "['05/20/2016', '05/20/2016']\n",
      "Date(s) found!\n",
      "Scanning 420856229.PDF...\n",
      "PDF Certificate of Occupancy '420856229.PDF' retrieved.\n",
      "Copying text using optical character recognition...\n",
      "Harvesting dates...\n"
     ]
    },
    {
     "name": "stderr",
     "output_type": "stream",
     "text": [
      "\r",
      "13it [04:41, 32.49s/it]"
     ]
    },
    {
     "name": "stdout",
     "output_type": "stream",
     "text": [
      "['05/20/2016', '05/20/2016']\n",
      "Date(s) found!\n",
      "On loop 14...\n",
      "Requested BIN 4134801 data from BIS, awaiting response...\n",
      "Got a response.\n",
      "Discovered 2 Certificates of Occupancy.\n",
      "Scanning 420629270F.PDF...\n",
      "PDF Certificate of Occupancy '420629270F.PDF' retrieved.\n",
      "Copying text using optical character recognition...\n",
      "Harvesting dates...\n",
      "['09/26/2014']\n",
      "Date(s) found!\n",
      "Scanning 420814596F.PDF...\n",
      "PDF Certificate of Occupancy '420814596F.PDF' retrieved.\n",
      "Copying text using optical character recognition...\n",
      "Harvesting dates...\n"
     ]
    },
    {
     "name": "stderr",
     "output_type": "stream",
     "text": [
      "\r",
      "14it [04:55, 26.97s/it]"
     ]
    },
    {
     "name": "stdout",
     "output_type": "stream",
     "text": [
      "['09/26/2014']\n",
      "Date(s) found!\n",
      "On loop 15...\n",
      "Requested BIN 5861035 data from BIS, awaiting response...\n"
     ]
    },
    {
     "name": "stderr",
     "output_type": "stream",
     "text": [
      "\r",
      "15it [05:06, 22.04s/it]"
     ]
    },
    {
     "name": "stdout",
     "output_type": "stream",
     "text": [
      "Got a response.\n",
      "Discovered 0 Certificates of Occupancy.\n",
      "On loop 16...\n",
      "Requested BIN 4593965 data from BIS, awaiting response...\n",
      "Got a response.\n",
      "Discovered 1 Certificates of Occupancy.\n",
      "Scanning 420821025F.PDF...\n",
      "PDF Certificate of Occupancy '420821025F.PDF' retrieved.\n",
      "Copying text using optical character recognition...\n",
      "Harvesting dates...\n"
     ]
    },
    {
     "name": "stderr",
     "output_type": "stream",
     "text": [
      "\r",
      "16it [05:20, 19.65s/it]"
     ]
    },
    {
     "name": "stdout",
     "output_type": "stream",
     "text": [
      "['11/06/2015', '11/06/2015']\n",
      "Date(s) found!\n",
      "On loop 17...\n",
      "Requested BIN 4004803 data from BIS, awaiting response...\n"
     ]
    },
    {
     "name": "stderr",
     "output_type": "stream",
     "text": [
      "\r",
      "17it [05:31, 16.94s/it]"
     ]
    },
    {
     "name": "stdout",
     "output_type": "stream",
     "text": [
      "Got a response.\n",
      "Discovered 0 Certificates of Occupancy.\n",
      "On loop 18...\n",
      "Requested BIN 4004953 data from BIS, awaiting response...\n",
      "Got a response.\n",
      "Discovered 2 Certificates of Occupancy.\n",
      "Scanning Q000029501.PDF...\n",
      "PDF Certificate of Occupancy 'Q000029501.PDF' retrieved.\n",
      "Copying text using optical character recognition...\n",
      "Harvesting dates...\n",
      "['04/25/2014', '04/25/2014', '04/25/2014']\n",
      "Date(s) found!\n",
      "Scanning Q000168574.PDF...\n",
      "Got the wait page. Trying to retrieve the PDF Certificate of Occupancy 'Q000168574.PDF' again in five seconds...\n",
      "Got the wait page. Trying to retrieve the PDF Certificate of Occupancy 'Q000168574.PDF' again in five seconds...\n",
      "After some delay, PDF Certificate of Occupancy 'Q000168574.PDF' retrieved.\n",
      "Copying text using optical character recognition...\n",
      "Harvesting dates...\n"
     ]
    },
    {
     "name": "stderr",
     "output_type": "stream",
     "text": [
      "\r",
      "18it [06:07, 22.68s/it]"
     ]
    },
    {
     "name": "stdout",
     "output_type": "stream",
     "text": [
      "[]\n",
      "No date found. Continuing...\n",
      "On loop 19...\n",
      "Requested BIN 1088829 data from BIS, awaiting response...\n"
     ]
    },
    {
     "name": "stderr",
     "output_type": "stream",
     "text": [
      "\r",
      "19it [06:17, 19.06s/it]"
     ]
    },
    {
     "name": "stdout",
     "output_type": "stream",
     "text": [
      "Got a response.\n",
      "Discovered 0 Certificates of Occupancy.\n",
      "On loop 20...\n",
      "Requested BIN 4529910 data from BIS, awaiting response...\n"
     ]
    },
    {
     "name": "stderr",
     "output_type": "stream",
     "text": [
      "\r",
      "20it [06:28, 16.44s/it]"
     ]
    },
    {
     "name": "stdout",
     "output_type": "stream",
     "text": [
      "Got a response.\n",
      "Discovered 0 Certificates of Occupancy.\n",
      "On loop 21...\n",
      "Requested BIN 1089321 data from BIS, awaiting response...\n"
     ]
    },
    {
     "name": "stderr",
     "output_type": "stream",
     "text": [
      "\r",
      "21it [06:38, 14.63s/it]"
     ]
    },
    {
     "name": "stdout",
     "output_type": "stream",
     "text": [
      "Got a response.\n",
      "Discovered 0 Certificates of Occupancy.\n",
      "On loop 22...\n",
      "Requested BIN 4464467 data from BIS, awaiting response...\n",
      "Got a response.\n",
      "Discovered 1 Certificates of Occupancy.\n",
      "Scanning 420887927.PDF...\n",
      "Got the wait page. Trying to retrieve the PDF Certificate of Occupancy '420887927.PDF' again in five seconds...\n",
      "Got the wait page. Trying to retrieve the PDF Certificate of Occupancy '420887927.PDF' again in five seconds...\n",
      "After some delay, PDF Certificate of Occupancy '420887927.PDF' retrieved.\n",
      "Copying text using optical character recognition...\n",
      "Harvesting dates...\n"
     ]
    },
    {
     "name": "stderr",
     "output_type": "stream",
     "text": [
      "\r",
      "22it [07:03, 17.78s/it]"
     ]
    },
    {
     "name": "stdout",
     "output_type": "stream",
     "text": [
      "[]\n",
      "No date found. Continuing...\n",
      "On loop 23...\n",
      "Requested BIN 3088244 data from BIS, awaiting response...\n",
      "Got a response.\n",
      "Discovered 11 Certificates of Occupancy.\n",
      "Scanning B000218282.PDF...\n",
      "PDF Certificate of Occupancy 'B000218282.PDF' retrieved.\n",
      "Copying text using optical character recognition...\n",
      "Harvesting dates...\n",
      "[]\n",
      "No date found. Continuing...\n",
      "Scanning B000121583.PDF...\n",
      "Got the wait page. Trying to retrieve the PDF Certificate of Occupancy 'B000121583.PDF' again in five seconds...\n",
      "After some delay, PDF Certificate of Occupancy 'B000121583.PDF' retrieved.\n",
      "Copying text using optical character recognition...\n",
      "Harvesting dates...\n",
      "['08/21/2014']\n",
      "Date(s) found!\n",
      "Scanning B000204812.PDF...\n",
      "PDF Certificate of Occupancy 'B000204812.PDF' retrieved.\n",
      "Copying text using optical character recognition...\n",
      "Harvesting dates...\n",
      "['08/21/2014']\n",
      "Date(s) found!\n",
      "Scanning B000225341.PDF...\n",
      "Got the wait page. Trying to retrieve the PDF Certificate of Occupancy 'B000225341.PDF' again in five seconds...\n",
      "After some delay, PDF Certificate of Occupancy 'B000225341.PDF' retrieved.\n",
      "Copying text using optical character recognition...\n",
      "Harvesting dates...\n",
      "[]\n",
      "No date found. Continuing...\n",
      "Scanning 300768916F.PDF...\n",
      "PDF Certificate of Occupancy '300768916F.PDF' retrieved.\n",
      "Copying text using optical character recognition...\n",
      "Harvesting dates...\n",
      "[]\n",
      "No date found. Continuing...\n",
      "Scanning 320375287.PDF...\n",
      "PDF Certificate of Occupancy '320375287.PDF' retrieved.\n",
      "Copying text using optical character recognition...\n",
      "Harvesting dates...\n",
      "[]\n",
      "No date found. Continuing...\n",
      "Scanning 320375287-05.PDF...\n",
      "Got the wait page. Trying to retrieve the PDF Certificate of Occupancy '320375287-05.PDF' again in five seconds...\n",
      "Got the wait page. Trying to retrieve the PDF Certificate of Occupancy '320375287-05.PDF' again in five seconds...\n",
      "After some delay, PDF Certificate of Occupancy '320375287-05.PDF' retrieved.\n",
      "Copying text using optical character recognition...\n",
      "Harvesting dates...\n",
      "[]\n",
      "No date found. Continuing...\n",
      "Scanning 320375287-01.PDF...\n",
      "PDF Certificate of Occupancy '320375287-01.PDF' retrieved.\n",
      "Copying text using optical character recognition...\n",
      "Harvesting dates...\n",
      "[]\n",
      "No date found. Continuing...\n",
      "Scanning 320375287-03.PDF...\n",
      "Got the wait page. Trying to retrieve the PDF Certificate of Occupancy '320375287-03.PDF' again in five seconds...\n",
      "After some delay, PDF Certificate of Occupancy '320375287-03.PDF' retrieved.\n",
      "Copying text using optical character recognition...\n",
      "Harvesting dates...\n",
      "[]\n",
      "No date found. Continuing...\n",
      "Scanning 320375287-04.PDF...\n",
      "PDF Certificate of Occupancy '320375287-04.PDF' retrieved.\n",
      "Copying text using optical character recognition...\n",
      "Harvesting dates...\n",
      "[]\n",
      "No date found. Continuing...\n",
      "Scanning 320375287-06.PDF...\n",
      "PDF Certificate of Occupancy '320375287-06.PDF' retrieved.\n",
      "Copying text using optical character recognition...\n",
      "Harvesting dates...\n"
     ]
    },
    {
     "name": "stderr",
     "output_type": "stream",
     "text": [
      "\r",
      "23it [08:29, 38.08s/it]"
     ]
    },
    {
     "name": "stdout",
     "output_type": "stream",
     "text": [
      "[]\n",
      "No date found. Continuing...\n",
      "On loop 24...\n",
      "Requested BIN 3851635 data from BIS, awaiting response...\n"
     ]
    },
    {
     "name": "stderr",
     "output_type": "stream",
     "text": [
      "\r",
      "24it [08:40, 30.00s/it]"
     ]
    },
    {
     "name": "stdout",
     "output_type": "stream",
     "text": [
      "Got a response.\n",
      "Discovered 0 Certificates of Occupancy.\n",
      "On loop 25...\n",
      "Requested BIN 2072797 data from BIS, awaiting response...\n"
     ]
    },
    {
     "name": "stderr",
     "output_type": "stream",
     "text": [
      "\r",
      "25it [08:50, 24.12s/it]"
     ]
    },
    {
     "name": "stdout",
     "output_type": "stream",
     "text": [
      "Got a response.\n",
      "Discovered 0 Certificates of Occupancy.\n",
      "On loop 26...\n",
      "Requested BIN 3398417 data from BIS, awaiting response...\n",
      "Got a response.\n",
      "Discovered 1 Certificates of Occupancy.\n",
      "Scanning 320514234.PDF...\n",
      "PDF Certificate of Occupancy '320514234.PDF' retrieved.\n",
      "Copying text using optical character recognition...\n",
      "Harvesting dates...\n"
     ]
    },
    {
     "name": "stderr",
     "output_type": "stream",
     "text": [
      "\r",
      "26it [09:01, 20.26s/it]"
     ]
    },
    {
     "name": "stdout",
     "output_type": "stream",
     "text": [
      "[]\n",
      "No date found. Continuing...\n",
      "On loop 27...\n",
      "Requested BIN 4465392 data from BIS, awaiting response...\n"
     ]
    },
    {
     "name": "stderr",
     "output_type": "stream",
     "text": [
      "\r",
      "27it [09:12, 17.31s/it]"
     ]
    },
    {
     "name": "stdout",
     "output_type": "stream",
     "text": [
      "Got a response.\n",
      "Discovered 0 Certificates of Occupancy.\n",
      "On loop 28...\n",
      "Requested BIN 4465824 data from BIS, awaiting response...\n",
      "Got a response.\n",
      "Discovered 1 Certificates of Occupancy.\n",
      "Scanning 420884760F.PDF...\n",
      "PDF Certificate of Occupancy '420884760F.PDF' retrieved.\n",
      "Copying text using optical character recognition...\n",
      "Harvesting dates...\n"
     ]
    },
    {
     "name": "stderr",
     "output_type": "stream",
     "text": [
      "\r",
      "28it [09:25, 16.10s/it]"
     ]
    },
    {
     "name": "stdout",
     "output_type": "stream",
     "text": [
      "['04/06/2016', '04/06/2016']\n",
      "Date(s) found!\n",
      "On loop 29...\n",
      "Requested BIN 4465850 data from BIS, awaiting response...\n",
      "Got a response.\n",
      "Discovered 1 Certificates of Occupancy.\n",
      "Scanning 420870454.PDF...\n",
      "PDF Certificate of Occupancy '420870454.PDF' retrieved.\n",
      "Copying text using optical character recognition...\n",
      "Harvesting dates...\n"
     ]
    },
    {
     "name": "stderr",
     "output_type": "stream",
     "text": [
      "\r",
      "29it [09:38, 15.23s/it]"
     ]
    },
    {
     "name": "stdout",
     "output_type": "stream",
     "text": [
      "['04/06/2016', '04/06/2016']\n",
      "Date(s) found!\n",
      "On loop 30...\n",
      "Requested BIN 4466104 data from BIS, awaiting response...\n",
      "Got a response.\n",
      "Discovered 2 Certificates of Occupancy.\n",
      "Scanning 401446440.PDF...\n",
      "Got the wait page. Trying to retrieve the PDF Certificate of Occupancy '401446440.PDF' again in five seconds...\n",
      "After some delay, PDF Certificate of Occupancy '401446440.PDF' retrieved.\n",
      "Copying text using optical character recognition...\n",
      "Harvesting dates...\n",
      "[]\n",
      "No date found. Continuing...\n",
      "Scanning 420877858F.PDF...\n"
     ]
    },
    {
     "name": "stderr",
     "output_type": "stream",
     "text": [
      "\r",
      "30it [10:01, 17.46s/it]"
     ]
    },
    {
     "name": "stdout",
     "output_type": "stream",
     "text": [
      "PDF Certificate of Occupancy '420877858F.PDF' retrieved.\n",
      "Copying text using optical character recognition...\n",
      "Harvesting dates...\n",
      "[]\n",
      "No date found. Continuing...\n",
      "On loop 31...\n",
      "Requested BIN 4466176 data from BIS, awaiting response...\n",
      "Got a response.\n",
      "Discovered 1 Certificates of Occupancy.\n",
      "Scanning 420885714F.PDF...\n",
      "PDF Certificate of Occupancy '420885714F.PDF' retrieved.\n",
      "Copying text using optical character recognition...\n",
      "Harvesting dates...\n"
     ]
    },
    {
     "name": "stderr",
     "output_type": "stream",
     "text": [
      "\r",
      "31it [10:12, 15.55s/it]"
     ]
    },
    {
     "name": "stdout",
     "output_type": "stream",
     "text": [
      "[]\n",
      "No date found. Continuing...\n",
      "On loop 32...\n",
      "Requested BIN 4466513 data from BIS, awaiting response...\n",
      "Got a response.\n",
      "Discovered 1 Certificates of Occupancy.\n",
      "Scanning Q000170483.PDF...\n",
      "PDF Certificate of Occupancy 'Q000170483.PDF' retrieved.\n",
      "Copying text using optical character recognition...\n",
      "Harvesting dates...\n"
     ]
    },
    {
     "name": "stderr",
     "output_type": "stream",
     "text": [
      "\r",
      "32it [10:25, 14.87s/it]"
     ]
    },
    {
     "name": "stdout",
     "output_type": "stream",
     "text": [
      "['05/22/2014', '04/14/2015']\n",
      "Date(s) found!\n",
      "On loop 33...\n",
      "Requested BIN 4466643 data from BIS, awaiting response...\n",
      "Got a response.\n",
      "Discovered 1 Certificates of Occupancy.\n",
      "Scanning 420858423F.PDF...\n",
      "PDF Certificate of Occupancy '420858423F.PDF' retrieved.\n",
      "Copying text using optical character recognition...\n",
      "Harvesting dates...\n"
     ]
    },
    {
     "name": "stderr",
     "output_type": "stream",
     "text": [
      "\r",
      "33it [10:37, 13.76s/it]"
     ]
    },
    {
     "name": "stdout",
     "output_type": "stream",
     "text": [
      "[]\n",
      "No date found. Continuing...\n",
      "On loop 34...\n",
      "Requested BIN 4466659 data from BIS, awaiting response...\n",
      "Got a response.\n",
      "Discovered 1 Certificates of Occupancy.\n",
      "Scanning 420887909.PDF...\n",
      "PDF Certificate of Occupancy '420887909.PDF' retrieved.\n",
      "Copying text using optical character recognition...\n",
      "Harvesting dates...\n"
     ]
    },
    {
     "name": "stderr",
     "output_type": "stream",
     "text": [
      "\r",
      "34it [10:47, 12.89s/it]"
     ]
    },
    {
     "name": "stdout",
     "output_type": "stream",
     "text": [
      "[]\n",
      "No date found. Continuing...\n",
      "On loop 35...\n",
      "Requested BIN 4008028 data from BIS, awaiting response...\n",
      "Got a response.\n",
      "Discovered 3 Certificates of Occupancy.\n",
      "Scanning 420795820T002.PDF...\n",
      "Got the wait page. Trying to retrieve the PDF Certificate of Occupancy '420795820T002.PDF' again in five seconds...\n",
      "Got the wait page. Trying to retrieve the PDF Certificate of Occupancy '420795820T002.PDF' again in five seconds...\n",
      "After some delay, PDF Certificate of Occupancy '420795820T002.PDF' retrieved.\n",
      "Copying text using optical character recognition...\n",
      "Harvesting dates...\n",
      "[]\n",
      "No date found. Continuing...\n",
      "Scanning 420795820.PDF...\n",
      "PDF Certificate of Occupancy '420795820.PDF' retrieved.\n",
      "Copying text using optical character recognition...\n",
      "Harvesting dates...\n",
      "[]\n",
      "No date found. Continuing...\n",
      "Scanning 420795820T1.PDF...\n"
     ]
    },
    {
     "name": "stderr",
     "output_type": "stream",
     "text": [
      "\r",
      "35it [11:12, 16.45s/it]"
     ]
    },
    {
     "name": "stdout",
     "output_type": "stream",
     "text": [
      "PDF Certificate of Occupancy '420795820T1.PDF' retrieved.\n",
      "Copying text using optical character recognition...\n",
      "Harvesting dates...\n",
      "[]\n",
      "No date found. Continuing...\n",
      "On loop 36...\n",
      "Requested BIN 4565110 data from BIS, awaiting response...\n",
      "Got a response.\n",
      "Discovered 2 Certificates of Occupancy.\n",
      "Scanning 420838972F.PDF...\n",
      "PDF Certificate of Occupancy '420838972F.PDF' retrieved.\n",
      "Copying text using optical character recognition...\n",
      "Harvesting dates...\n",
      "[]\n",
      "No date found. Continuing...\n",
      "Scanning 420838838F.PDF...\n",
      "PDF Certificate of Occupancy '420838838F.PDF' retrieved.\n",
      "Copying text using optical character recognition...\n",
      "Harvesting dates...\n"
     ]
    },
    {
     "name": "stderr",
     "output_type": "stream",
     "text": [
      "\r",
      "36it [11:25, 15.24s/it]"
     ]
    },
    {
     "name": "stdout",
     "output_type": "stream",
     "text": [
      "[]\n",
      "No date found. Continuing...\n",
      "On loop 37...\n",
      "Requested BIN 4565111 data from BIS, awaiting response...\n",
      "Got a response.\n",
      "Discovered 2 Certificates of Occupancy.\n",
      "Scanning 420838963F.PDF...\n",
      "PDF Certificate of Occupancy '420838963F.PDF' retrieved.\n",
      "Copying text using optical character recognition...\n",
      "Harvesting dates...\n",
      "[]\n",
      "No date found. Continuing...\n",
      "Scanning 420838829F.PDF...\n",
      "PDF Certificate of Occupancy '420838829F.PDF' retrieved.\n",
      "Copying text using optical character recognition...\n",
      "Harvesting dates...\n"
     ]
    },
    {
     "name": "stderr",
     "output_type": "stream",
     "text": [
      "\r",
      "37it [11:36, 14.07s/it]"
     ]
    },
    {
     "name": "stdout",
     "output_type": "stream",
     "text": [
      "[]\n",
      "No date found. Continuing...\n",
      "On loop 38...\n",
      "Requested BIN 4565115 data from BIS, awaiting response...\n",
      "Got a response.\n",
      "Discovered 2 Certificates of Occupancy.\n",
      "Scanning 420605303.PDF...\n",
      "PDF Certificate of Occupancy '420605303.PDF' retrieved.\n",
      "Copying text using optical character recognition...\n",
      "Harvesting dates...\n",
      "[]\n",
      "No date found. Continuing...\n",
      "Scanning 420605303TCO1.PDF...\n",
      "PDF Certificate of Occupancy '420605303TCO1.PDF' retrieved.\n",
      "Copying text using optical character recognition...\n",
      "Harvesting dates...\n"
     ]
    },
    {
     "name": "stderr",
     "output_type": "stream",
     "text": [
      "\r",
      "38it [11:48, 13.32s/it]"
     ]
    },
    {
     "name": "stdout",
     "output_type": "stream",
     "text": [
      "[]\n",
      "No date found. Continuing...\n",
      "On loop 39...\n",
      "Requested BIN 4040944 data from BIS, awaiting response...\n"
     ]
    },
    {
     "name": "stderr",
     "output_type": "stream",
     "text": [
      "\r",
      "39it [11:58, 12.44s/it]"
     ]
    },
    {
     "name": "stdout",
     "output_type": "stream",
     "text": [
      "Got a response.\n",
      "Discovered 0 Certificates of Occupancy.\n",
      "On loop 40...\n",
      "Requested BIN 3131104 data from BIS, awaiting response...\n"
     ]
    },
    {
     "name": "stderr",
     "output_type": "stream",
     "text": [
      "\r",
      "40it [12:08, 11.85s/it]"
     ]
    },
    {
     "name": "stdout",
     "output_type": "stream",
     "text": [
      "Got a response.\n",
      "Discovered 0 Certificates of Occupancy.\n",
      "On loop 41...\n",
      "Requested BIN 4467216 data from BIS, awaiting response...\n",
      "Got a response.\n",
      "Discovered 1 Certificates of Occupancy.\n",
      "Scanning 420579662F.PDF...\n",
      "PDF Certificate of Occupancy '420579662F.PDF' retrieved.\n",
      "Copying text using optical character recognition...\n",
      "Harvesting dates...\n"
     ]
    },
    {
     "name": "stderr",
     "output_type": "stream",
     "text": [
      "\r",
      "41it [12:20, 11.82s/it]"
     ]
    },
    {
     "name": "stdout",
     "output_type": "stream",
     "text": [
      "[]\n",
      "No date found. Continuing...\n",
      "On loop 42...\n",
      "Requested BIN 4008506 data from BIS, awaiting response...\n",
      "Got a response.\n",
      "Discovered 2 Certificates of Occupancy.\n",
      "Scanning Q000198673.PDF...\n",
      "PDF Certificate of Occupancy 'Q000198673.PDF' retrieved.\n",
      "Copying text using optical character recognition...\n",
      "Harvesting dates...\n",
      "[]\n",
      "No date found. Continuing...\n",
      "Scanning Q000198677.PDF...\n"
     ]
    },
    {
     "name": "stderr",
     "output_type": "stream",
     "text": [
      "\r",
      "42it [12:31, 11.55s/it]"
     ]
    },
    {
     "name": "stdout",
     "output_type": "stream",
     "text": [
      "PDF Certificate of Occupancy 'Q000198677.PDF' retrieved.\n",
      "Copying text using optical character recognition...\n",
      "Harvesting dates...\n",
      "[]\n",
      "No date found. Continuing...\n",
      "On loop 43...\n",
      "Requested BIN 2829339 data from BIS, awaiting response...\n"
     ]
    },
    {
     "name": "stderr",
     "output_type": "stream",
     "text": [
      "\r",
      "43it [12:41, 11.21s/it]"
     ]
    },
    {
     "name": "stdout",
     "output_type": "stream",
     "text": [
      "Got a response.\n",
      "Discovered 0 Certificates of Occupancy.\n",
      "On loop 44...\n",
      "Requested BIN 2829341 data from BIS, awaiting response...\n"
     ]
    },
    {
     "name": "stderr",
     "output_type": "stream",
     "text": [
      "\r",
      "44it [12:52, 10.97s/it]"
     ]
    },
    {
     "name": "stdout",
     "output_type": "stream",
     "text": [
      "Got a response.\n",
      "Discovered 0 Certificates of Occupancy.\n",
      "On loop 45...\n",
      "Requested BIN 2829342 data from BIS, awaiting response...\n"
     ]
    },
    {
     "name": "stderr",
     "output_type": "stream",
     "text": [
      "\r",
      "45it [13:02, 10.81s/it]"
     ]
    },
    {
     "name": "stdout",
     "output_type": "stream",
     "text": [
      "Got a response.\n",
      "Discovered 0 Certificates of Occupancy.\n",
      "On loop 46...\n",
      "Requested BIN 2829372 data from BIS, awaiting response...\n"
     ]
    },
    {
     "name": "stderr",
     "output_type": "stream",
     "text": [
      "\r",
      "46it [13:13, 10.66s/it]"
     ]
    },
    {
     "name": "stdout",
     "output_type": "stream",
     "text": [
      "Got a response.\n",
      "Discovered 0 Certificates of Occupancy.\n",
      "On loop 47...\n",
      "Requested BIN 2829374 data from BIS, awaiting response...\n"
     ]
    },
    {
     "name": "stderr",
     "output_type": "stream",
     "text": [
      "\r",
      "47it [13:23, 10.67s/it]"
     ]
    },
    {
     "name": "stdout",
     "output_type": "stream",
     "text": [
      "Got a response.\n",
      "Discovered 0 Certificates of Occupancy.\n",
      "On loop 48...\n",
      "Requested BIN 2829375 data from BIS, awaiting response...\n"
     ]
    },
    {
     "name": "stderr",
     "output_type": "stream",
     "text": [
      "\r",
      "48it [13:34, 10.56s/it]"
     ]
    },
    {
     "name": "stdout",
     "output_type": "stream",
     "text": [
      "Got a response.\n",
      "Discovered 0 Certificates of Occupancy.\n",
      "On loop 49...\n",
      "Requested BIN 2829376 data from BIS, awaiting response...\n"
     ]
    },
    {
     "name": "stderr",
     "output_type": "stream",
     "text": [
      "\r",
      "49it [13:44, 10.47s/it]"
     ]
    },
    {
     "name": "stdout",
     "output_type": "stream",
     "text": [
      "Got a response.\n",
      "Discovered 0 Certificates of Occupancy.\n",
      "On loop 50...\n",
      "Requested BIN 2829377 data from BIS, awaiting response...\n"
     ]
    },
    {
     "name": "stderr",
     "output_type": "stream",
     "text": [
      "\r",
      "50it [13:54, 10.45s/it]"
     ]
    },
    {
     "name": "stdout",
     "output_type": "stream",
     "text": [
      "Got a response.\n",
      "Discovered 0 Certificates of Occupancy.\n",
      "On loop 51...\n",
      "Requested BIN 2829378 data from BIS, awaiting response...\n"
     ]
    },
    {
     "name": "stderr",
     "output_type": "stream",
     "text": [
      "\r",
      "51it [14:05, 10.43s/it]"
     ]
    },
    {
     "name": "stdout",
     "output_type": "stream",
     "text": [
      "Got a response.\n",
      "Discovered 0 Certificates of Occupancy.\n",
      "On loop 52...\n",
      "Requested BIN 2829379 data from BIS, awaiting response...\n"
     ]
    },
    {
     "name": "stderr",
     "output_type": "stream",
     "text": [
      "\r",
      "52it [14:15, 10.42s/it]"
     ]
    },
    {
     "name": "stdout",
     "output_type": "stream",
     "text": [
      "Got a response.\n",
      "Discovered 0 Certificates of Occupancy.\n",
      "On loop 53...\n",
      "Requested BIN 2829380 data from BIS, awaiting response...\n"
     ]
    },
    {
     "name": "stderr",
     "output_type": "stream",
     "text": [
      "\r",
      "53it [14:25, 10.42s/it]"
     ]
    },
    {
     "name": "stdout",
     "output_type": "stream",
     "text": [
      "Got a response.\n",
      "Discovered 0 Certificates of Occupancy.\n",
      "On loop 54...\n",
      "Requested BIN 2829382 data from BIS, awaiting response...\n"
     ]
    },
    {
     "name": "stderr",
     "output_type": "stream",
     "text": [
      "\r",
      "54it [14:36, 10.38s/it]"
     ]
    },
    {
     "name": "stdout",
     "output_type": "stream",
     "text": [
      "Got a response.\n",
      "Discovered 0 Certificates of Occupancy.\n",
      "On loop 55...\n",
      "Requested BIN 2829383 data from BIS, awaiting response...\n"
     ]
    },
    {
     "name": "stderr",
     "output_type": "stream",
     "text": [
      "\r",
      "55it [14:46, 10.39s/it]"
     ]
    },
    {
     "name": "stdout",
     "output_type": "stream",
     "text": [
      "Got a response.\n",
      "Discovered 0 Certificates of Occupancy.\n",
      "On loop 56...\n",
      "Requested BIN 2829384 data from BIS, awaiting response...\n"
     ]
    },
    {
     "name": "stderr",
     "output_type": "stream",
     "text": [
      "\r",
      "56it [14:57, 10.43s/it]"
     ]
    },
    {
     "name": "stdout",
     "output_type": "stream",
     "text": [
      "Got a response.\n",
      "Discovered 0 Certificates of Occupancy.\n",
      "On loop 57...\n",
      "Requested BIN 2829385 data from BIS, awaiting response...\n"
     ]
    },
    {
     "name": "stderr",
     "output_type": "stream",
     "text": [
      "\r",
      "57it [15:07, 10.40s/it]"
     ]
    },
    {
     "name": "stdout",
     "output_type": "stream",
     "text": [
      "Got a response.\n",
      "Discovered 0 Certificates of Occupancy.\n",
      "On loop 58...\n",
      "Requested BIN 4305516 data from BIS, awaiting response...\n"
     ]
    },
    {
     "name": "stderr",
     "output_type": "stream",
     "text": [
      "\r",
      "58it [15:17, 10.37s/it]"
     ]
    },
    {
     "name": "stdout",
     "output_type": "stream",
     "text": [
      "Got a response.\n",
      "Discovered 0 Certificates of Occupancy.\n",
      "On loop 59...\n",
      "Requested BIN 3137429 data from BIS, awaiting response...\n",
      "Got a response.\n",
      "Discovered 1 Certificates of Occupancy.\n",
      "Scanning 320719594.PDF...\n",
      "PDF Certificate of Occupancy '320719594.PDF' retrieved.\n",
      "Copying text using optical character recognition...\n",
      "Harvesting dates...\n"
     ]
    },
    {
     "name": "stderr",
     "output_type": "stream",
     "text": [
      "\r",
      "59it [15:29, 10.75s/it]"
     ]
    },
    {
     "name": "stdout",
     "output_type": "stream",
     "text": [
      "[]\n",
      "No date found. Continuing...\n",
      "On loop 60...\n",
      "Requested BIN 4141752 data from BIS, awaiting response...\n",
      "Got a response.\n",
      "Discovered 1 Certificates of Occupancy.\n",
      "Scanning Q000086127.PDF...\n",
      "PDF Certificate of Occupancy 'Q000086127.PDF' retrieved.\n",
      "Copying text using optical character recognition...\n",
      "Harvesting dates...\n"
     ]
    },
    {
     "name": "stderr",
     "output_type": "stream",
     "text": [
      "\r",
      "60it [15:41, 11.19s/it]"
     ]
    },
    {
     "name": "stdout",
     "output_type": "stream",
     "text": [
      "['09/09/2015', '09/09/2015', '11/10/2015', '11/10/2015']\n",
      "Date(s) found!\n",
      "On loop 61...\n",
      "Requested BIN 2831362 data from BIS, awaiting response...\n"
     ]
    },
    {
     "name": "stderr",
     "output_type": "stream",
     "text": [
      "\r",
      "61it [15:52, 10.98s/it]"
     ]
    },
    {
     "name": "stdout",
     "output_type": "stream",
     "text": [
      "Got a response.\n",
      "Discovered 0 Certificates of Occupancy.\n",
      "On loop 62...\n",
      "Requested BIN 4306387 data from BIS, awaiting response...\n",
      "Got a response.\n",
      "Discovered 3 Certificates of Occupancy.\n",
      "Scanning Q000096706.PDF...\n",
      "PDF Certificate of Occupancy 'Q000096706.PDF' retrieved.\n",
      "Copying text using optical character recognition...\n",
      "Harvesting dates...\n",
      "['09/09/2015', '09/09/2015', '11/10/2015', '11/10/2015']\n",
      "Date(s) found!\n",
      "Scanning 420862016.PDF...\n",
      "PDF Certificate of Occupancy '420862016.PDF' retrieved.\n",
      "Copying text using optical character recognition...\n",
      "Harvesting dates...\n",
      "['09/09/2015', '09/09/2015', '11/10/2015', '11/10/2015']\n",
      "Date(s) found!\n",
      "Scanning 420862016F.PDF...\n",
      "PDF Certificate of Occupancy '420862016F.PDF' retrieved.\n",
      "Copying text using optical character recognition...\n",
      "Harvesting dates...\n"
     ]
    },
    {
     "name": "stderr",
     "output_type": "stream",
     "text": [
      "\r",
      "62it [16:09, 12.87s/it]"
     ]
    },
    {
     "name": "stdout",
     "output_type": "stream",
     "text": [
      "['09/09/2015', '09/09/2015', '11/10/2015', '11/10/2015']\n",
      "Date(s) found!\n",
      "On loop 63...\n",
      "Requested BIN 5158554 data from BIS, awaiting response...\n",
      "Got a response.\n",
      "Discovered 1 Certificates of Occupancy.\n",
      "Scanning 520125588F.PDF...\n",
      "PDF Certificate of Occupancy '520125588F.PDF' retrieved.\n",
      "Copying text using optical character recognition...\n",
      "Harvesting dates...\n"
     ]
    },
    {
     "name": "stderr",
     "output_type": "stream",
     "text": [
      "\r",
      "63it [16:21, 12.58s/it]"
     ]
    },
    {
     "name": "stdout",
     "output_type": "stream",
     "text": [
      "['09/09/2015', '09/09/2015']\n",
      "Date(s) found!\n",
      "On loop 64...\n",
      "Requested BIN 5158555 data from BIS, awaiting response...\n",
      "Got a response.\n",
      "Discovered 1 Certificates of Occupancy.\n",
      "Scanning 520125604F.PDF...\n",
      "PDF Certificate of Occupancy '520125604F.PDF' retrieved.\n",
      "Copying text using optical character recognition...\n",
      "Harvesting dates...\n"
     ]
    },
    {
     "name": "stderr",
     "output_type": "stream",
     "text": [
      "\r",
      "64it [16:32, 12.22s/it]"
     ]
    },
    {
     "name": "stdout",
     "output_type": "stream",
     "text": [
      "[]\n",
      "No date found. Continuing...\n",
      "On loop 65...\n",
      "Requested BIN 5158556 data from BIS, awaiting response...\n",
      "Got a response.\n",
      "Discovered 3 Certificates of Occupancy.\n",
      "Scanning R000001922.PDF...\n",
      "PDF Certificate of Occupancy 'R000001922.PDF' retrieved.\n",
      "Copying text using optical character recognition...\n",
      "Harvesting dates...\n",
      "[]\n",
      "No date found. Continuing...\n",
      "Scanning R000001482.PDF...\n",
      "PDF Certificate of Occupancy 'R000001482.PDF' retrieved.\n",
      "Copying text using optical character recognition...\n",
      "Harvesting dates...\n",
      "[]\n",
      "No date found. Continuing...\n",
      "Scanning 520125613F.PDF...\n",
      "Got the wait page. Trying to retrieve the PDF Certificate of Occupancy '520125613F.PDF' again in five seconds...\n",
      "After some delay, PDF Certificate of Occupancy '520125613F.PDF' retrieved.\n",
      "Copying text using optical character recognition...\n",
      "Harvesting dates...\n"
     ]
    },
    {
     "name": "stderr",
     "output_type": "stream",
     "text": [
      "\r",
      "65it [16:55, 15.31s/it]"
     ]
    },
    {
     "name": "stdout",
     "output_type": "stream",
     "text": [
      "['09/03/2015']\n",
      "Date(s) found!\n",
      "On loop 66...\n",
      "Requested BIN 4863747 data from BIS, awaiting response...\n"
     ]
    },
    {
     "name": "stderr",
     "output_type": "stream",
     "text": [
      "\r",
      "66it [17:05, 13.84s/it]"
     ]
    },
    {
     "name": "stdout",
     "output_type": "stream",
     "text": [
      "Got a response.\n",
      "Discovered 0 Certificates of Occupancy.\n",
      "On loop 67...\n",
      "Requested BIN 4044745 data from BIS, awaiting response...\n",
      "Got a response.\n",
      "Discovered 1 Certificates of Occupancy.\n",
      "Scanning 420824255.PDF...\n",
      "Got the wait page. Trying to retrieve the PDF Certificate of Occupancy '420824255.PDF' again in five seconds...\n",
      "Got the wait page. Trying to retrieve the PDF Certificate of Occupancy '420824255.PDF' again in five seconds...\n",
      "After some delay, PDF Certificate of Occupancy '420824255.PDF' retrieved.\n",
      "Copying text using optical character recognition...\n",
      "Harvesting dates...\n"
     ]
    },
    {
     "name": "stderr",
     "output_type": "stream",
     "text": [
      "\r",
      "67it [17:29, 16.91s/it]"
     ]
    },
    {
     "name": "stdout",
     "output_type": "stream",
     "text": [
      "['09/03/2015', '09/03/2015']\n",
      "Date(s) found!\n",
      "On loop 68...\n",
      "Requested BIN 5158989 data from BIS, awaiting response...\n",
      "Got a response.\n",
      "Discovered 1 Certificates of Occupancy.\n",
      "Scanning 520113840F.PDF...\n",
      "PDF Certificate of Occupancy '520113840F.PDF' retrieved.\n",
      "Copying text using optical character recognition...\n",
      "Harvesting dates...\n"
     ]
    },
    {
     "name": "stderr",
     "output_type": "stream",
     "text": [
      "\r",
      "68it [17:43, 15.93s/it]"
     ]
    },
    {
     "name": "stdout",
     "output_type": "stream",
     "text": [
      "['08/28/2015', '08/28/2015', '08/28/2015']\n",
      "Date(s) found!\n",
      "On loop 69...\n",
      "Requested BIN 5159056 data from BIS, awaiting response...\n",
      "Got a response.\n",
      "Discovered 1 Certificates of Occupancy.\n",
      "Scanning 520113546F.PDF...\n",
      "Got the wait page. Trying to retrieve the PDF Certificate of Occupancy '520113546F.PDF' again in five seconds...\n",
      "After some delay, PDF Certificate of Occupancy '520113546F.PDF' retrieved.\n",
      "Copying text using optical character recognition...\n",
      "Harvesting dates...\n"
     ]
    },
    {
     "name": "stderr",
     "output_type": "stream",
     "text": [
      "\r",
      "69it [18:01, 16.59s/it]"
     ]
    },
    {
     "name": "stdout",
     "output_type": "stream",
     "text": [
      "['04/30/2014', '04/30/2014', '04/30/2014']\n",
      "Date(s) found!\n",
      "On loop 70...\n",
      "Requested BIN 5159058 data from BIS, awaiting response...\n",
      "Got a response.\n",
      "Discovered 1 Certificates of Occupancy.\n",
      "Scanning 520113528F.PDF...\n",
      "PDF Certificate of Occupancy '520113528F.PDF' retrieved.\n",
      "Copying text using optical character recognition...\n",
      "Harvesting dates...\n"
     ]
    },
    {
     "name": "stderr",
     "output_type": "stream",
     "text": [
      "\r",
      "70it [18:14, 15.53s/it]"
     ]
    },
    {
     "name": "stdout",
     "output_type": "stream",
     "text": [
      "['01/14/2014', '01/14/2014', '01/14/2014']\n",
      "Date(s) found!\n",
      "On loop 71...\n",
      "Requested BIN 5159059 data from BIS, awaiting response...\n",
      "Got a response.\n",
      "Discovered 1 Certificates of Occupancy.\n",
      "Scanning 520113519F.PDF...\n",
      "PDF Certificate of Occupancy '520113519F.PDF' retrieved.\n",
      "Copying text using optical character recognition...\n",
      "Harvesting dates...\n"
     ]
    },
    {
     "name": "stderr",
     "output_type": "stream",
     "text": [
      "\r",
      "71it [18:26, 14.40s/it]"
     ]
    },
    {
     "name": "stdout",
     "output_type": "stream",
     "text": [
      "['01/14/2014', '01/14/2014', '01/14/2014']\n",
      "Date(s) found!\n",
      "On loop 72...\n",
      "Requested BIN 5159060 data from BIS, awaiting response...\n",
      "Got a response.\n",
      "Discovered 1 Certificates of Occupancy.\n",
      "Scanning 520113500F.PDF...\n",
      "PDF Certificate of Occupancy '520113500F.PDF' retrieved.\n",
      "Copying text using optical character recognition...\n",
      "Harvesting dates...\n"
     ]
    },
    {
     "name": "stderr",
     "output_type": "stream",
     "text": [
      "\r",
      "72it [18:38, 13.82s/it]"
     ]
    },
    {
     "name": "stdout",
     "output_type": "stream",
     "text": [
      "['01/14/2014', '01/14/2014', '01/14/2014']\n",
      "Date(s) found!\n",
      "On loop 73...\n",
      "Requested BIN 5159061 data from BIS, awaiting response...\n",
      "Got a response.\n",
      "Discovered 1 Certificates of Occupancy.\n",
      "Scanning 520113494F.PDF...\n",
      "PDF Certificate of Occupancy '520113494F.PDF' retrieved.\n",
      "Copying text using optical character recognition...\n",
      "Harvesting dates...\n"
     ]
    },
    {
     "name": "stderr",
     "output_type": "stream",
     "text": [
      "\r",
      "73it [18:51, 13.35s/it]"
     ]
    },
    {
     "name": "stdout",
     "output_type": "stream",
     "text": [
      "['12/31/2013', '12/31/2013', '12/31/2013', '12/31/2013']\n",
      "Date(s) found!\n",
      "On loop 74...\n",
      "Requested BIN 5159118 data from BIS, awaiting response...\n",
      "Got a response.\n",
      "Discovered 1 Certificates of Occupancy.\n",
      "Scanning 520113831F.PDF...\n",
      "PDF Certificate of Occupancy '520113831F.PDF' retrieved.\n",
      "Copying text using optical character recognition...\n",
      "Harvesting dates...\n"
     ]
    },
    {
     "name": "stderr",
     "output_type": "stream",
     "text": [
      "\r",
      "74it [19:08, 14.44s/it]"
     ]
    },
    {
     "name": "stdout",
     "output_type": "stream",
     "text": [
      "['01/14/2014', '01/14/2014', '01/14/2014']\n",
      "Date(s) found!\n",
      "On loop 75...\n",
      "Requested BIN 5159119 data from BIS, awaiting response...\n",
      "Got a response.\n",
      "Discovered 1 Certificates of Occupancy.\n",
      "Scanning 520113822F.PDF...\n",
      "PDF Certificate of Occupancy '520113822F.PDF' retrieved.\n",
      "Copying text using optical character recognition...\n",
      "Harvesting dates...\n"
     ]
    },
    {
     "name": "stderr",
     "output_type": "stream",
     "text": [
      "\r",
      "75it [19:20, 13.72s/it]"
     ]
    },
    {
     "name": "stdout",
     "output_type": "stream",
     "text": [
      "['04/30/2014', '04/30/2014', '04/30/2014']\n",
      "Date(s) found!\n",
      "On loop 76...\n",
      "Requested BIN 5159120 data from BIS, awaiting response...\n",
      "Got a response.\n",
      "Discovered 1 Certificates of Occupancy.\n",
      "Scanning 520113813F.PDF...\n",
      "Got the wait page. Trying to retrieve the PDF Certificate of Occupancy '520113813F.PDF' again in five seconds...\n",
      "After some delay, PDF Certificate of Occupancy '520113813F.PDF' retrieved.\n",
      "Copying text using optical character recognition...\n",
      "Harvesting dates...\n"
     ]
    },
    {
     "name": "stderr",
     "output_type": "stream",
     "text": [
      "\r",
      "76it [19:40, 15.63s/it]"
     ]
    },
    {
     "name": "stdout",
     "output_type": "stream",
     "text": [
      "['04/30/2014', '04/30/2014', '04/30/2014']\n",
      "Date(s) found!\n",
      "On loop 77...\n",
      "Requested BIN 5159129 data from BIS, awaiting response...\n",
      "Got a response.\n",
      "Discovered 1 Certificates of Occupancy.\n",
      "Scanning 520113804F.PDF...\n",
      "PDF Certificate of Occupancy '520113804F.PDF' retrieved.\n",
      "Copying text using optical character recognition...\n",
      "Harvesting dates...\n"
     ]
    },
    {
     "name": "stderr",
     "output_type": "stream",
     "text": [
      "\r",
      "77it [19:53, 14.82s/it]"
     ]
    },
    {
     "name": "stdout",
     "output_type": "stream",
     "text": [
      "['04/30/2014', '04/30/2014', '04/30/2014']\n",
      "Date(s) found!\n",
      "On loop 78...\n",
      "Requested BIN 5159130 data from BIS, awaiting response...\n",
      "Got a response.\n",
      "Discovered 1 Certificates of Occupancy.\n",
      "Scanning 520113797F.PDF...\n",
      "PDF Certificate of Occupancy '520113797F.PDF' retrieved.\n",
      "Copying text using optical character recognition...\n",
      "Harvesting dates...\n"
     ]
    },
    {
     "name": "stderr",
     "output_type": "stream",
     "text": [
      "\r",
      "78it [20:05, 14.01s/it]"
     ]
    },
    {
     "name": "stdout",
     "output_type": "stream",
     "text": [
      "['06/05/2014', '06/05/2014']\n",
      "Date(s) found!\n",
      "On loop 79...\n",
      "Requested BIN 5159131 data from BIS, awaiting response...\n",
      "Got a response.\n",
      "Discovered 1 Certificates of Occupancy.\n",
      "Scanning 520113788F.PDF...\n",
      "Got the wait page. Trying to retrieve the PDF Certificate of Occupancy '520113788F.PDF' again in five seconds...\n",
      "After some delay, PDF Certificate of Occupancy '520113788F.PDF' retrieved.\n",
      "Copying text using optical character recognition...\n",
      "Harvesting dates...\n"
     ]
    },
    {
     "name": "stderr",
     "output_type": "stream",
     "text": [
      "\r",
      "79it [20:25, 15.76s/it]"
     ]
    },
    {
     "name": "stdout",
     "output_type": "stream",
     "text": [
      "['04/30/2014', '04/30/2014', '04/30/2014']\n",
      "Date(s) found!\n",
      "On loop 80...\n",
      "Requested BIN 5159132 data from BIS, awaiting response...\n",
      "Got a response.\n",
      "Discovered 1 Certificates of Occupancy.\n",
      "Scanning 520113779F.PDF...\n",
      "PDF Certificate of Occupancy '520113779F.PDF' retrieved.\n",
      "Copying text using optical character recognition...\n",
      "Harvesting dates...\n"
     ]
    },
    {
     "name": "stderr",
     "output_type": "stream",
     "text": [
      "\r",
      "80it [20:38, 15.04s/it]"
     ]
    },
    {
     "name": "stdout",
     "output_type": "stream",
     "text": [
      "['04/30/2014', '04/30/2014', '04/30/2014']\n",
      "Date(s) found!\n",
      "On loop 81...\n",
      "Requested BIN 5159133 data from BIS, awaiting response...\n",
      "Got a response.\n",
      "Discovered 1 Certificates of Occupancy.\n",
      "Scanning 520113760F.PDF...\n",
      "PDF Certificate of Occupancy '520113760F.PDF' retrieved.\n",
      "Copying text using optical character recognition...\n",
      "Harvesting dates...\n"
     ]
    },
    {
     "name": "stderr",
     "output_type": "stream",
     "text": [
      "\r",
      "81it [20:51, 14.52s/it]"
     ]
    },
    {
     "name": "stdout",
     "output_type": "stream",
     "text": [
      "['04/30/2014', '04/30/2014', '04/30/2014']\n",
      "Date(s) found!\n",
      "On loop 82...\n",
      "Requested BIN 5159134 data from BIS, awaiting response...\n",
      "Got a response.\n",
      "Discovered 1 Certificates of Occupancy.\n",
      "Scanning 520113751F.PDF...\n",
      "PDF Certificate of Occupancy '520113751F.PDF' retrieved.\n",
      "Copying text using optical character recognition...\n",
      "Harvesting dates...\n"
     ]
    },
    {
     "name": "stderr",
     "output_type": "stream",
     "text": [
      "\r",
      "82it [21:04, 14.10s/it]"
     ]
    },
    {
     "name": "stdout",
     "output_type": "stream",
     "text": [
      "['04/11/2014', '04/11/2014', '04/11/2014']\n",
      "Date(s) found!\n",
      "On loop 83...\n",
      "Requested BIN 4864530 data from BIS, awaiting response...\n"
     ]
    },
    {
     "name": "stderr",
     "output_type": "stream",
     "text": [
      "\r",
      "83it [21:15, 13.16s/it]"
     ]
    },
    {
     "name": "stdout",
     "output_type": "stream",
     "text": [
      "Got a response.\n",
      "Discovered 0 Certificates of Occupancy.\n",
      "On loop 84...\n",
      "Requested BIN 3062376 data from BIS, awaiting response...\n",
      "Got a response.\n",
      "Discovered 1 Certificates of Occupancy.\n",
      "Scanning 320545362.PDF...\n",
      "Got the wait page. Trying to retrieve the PDF Certificate of Occupancy '320545362.PDF' again in five seconds...\n",
      "Got the wait page. Trying to retrieve the PDF Certificate of Occupancy '320545362.PDF' again in five seconds...\n",
      "After some delay, PDF Certificate of Occupancy '320545362.PDF' retrieved.\n",
      "Copying text using optical character recognition...\n",
      "Harvesting dates...\n"
     ]
    },
    {
     "name": "stderr",
     "output_type": "stream",
     "text": [
      "\r",
      "84it [21:39, 16.27s/it]"
     ]
    },
    {
     "name": "stdout",
     "output_type": "stream",
     "text": [
      "['04/15/2014', '04/15/2014', '04/15/2014']\n",
      "Date(s) found!\n",
      "On loop 85...\n",
      "Requested BIN 5159614 data from BIS, awaiting response...\n",
      "Got a response.\n",
      "Discovered 2 Certificates of Occupancy.\n",
      "Scanning 500520117F.PDF...\n",
      "PDF Certificate of Occupancy '500520117F.PDF' retrieved.\n",
      "Copying text using optical character recognition...\n",
      "Harvesting dates...\n",
      "['09/11/2015', '09/11/2015', '09/11/2015']\n",
      "Date(s) found!\n",
      "Scanning 500520117F.PDF...\n",
      "PDF Certificate of Occupancy '500520117F.PDF' retrieved.\n",
      "Copying text using optical character recognition...\n",
      "Harvesting dates...\n"
     ]
    },
    {
     "name": "stderr",
     "output_type": "stream",
     "text": [
      "\r",
      "85it [21:55, 16.10s/it]"
     ]
    },
    {
     "name": "stdout",
     "output_type": "stream",
     "text": [
      "['09/11/2015', '09/11/2015', '09/11/2015']\n",
      "Date(s) found!\n",
      "On loop 86...\n",
      "Requested BIN 2800767 data from BIS, awaiting response...\n",
      "Got a response.\n",
      "Discovered 1 Certificates of Occupancy.\n",
      "Scanning 220246240T001.PDF...\n",
      "PDF Certificate of Occupancy '220246240T001.PDF' retrieved.\n",
      "Copying text using optical character recognition...\n",
      "Harvesting dates...\n"
     ]
    },
    {
     "name": "stderr",
     "output_type": "stream",
     "text": [
      "\r",
      "86it [22:07, 14.91s/it]"
     ]
    },
    {
     "name": "stdout",
     "output_type": "stream",
     "text": [
      "['09/11/2015', '09/11/2015', '09/11/2015']\n",
      "Date(s) found!\n",
      "On loop 87...\n",
      "Requested BIN 4865460 data from BIS, awaiting response...\n",
      "Got a response.\n",
      "Discovered 1 Certificates of Occupancy.\n",
      "Scanning 420291534.PDF...\n",
      "Got the wait page. Trying to retrieve the PDF Certificate of Occupancy '420291534.PDF' again in five seconds...\n",
      "After some delay, PDF Certificate of Occupancy '420291534.PDF' retrieved.\n",
      "Copying text using optical character recognition...\n",
      "Harvesting dates...\n"
     ]
    },
    {
     "name": "stderr",
     "output_type": "stream",
     "text": [
      "\r",
      "87it [22:25, 15.91s/it]"
     ]
    },
    {
     "name": "stdout",
     "output_type": "stream",
     "text": [
      "['05/19/2016', '05/19/2016', '08/17/2016', '08/17/2016', '15/19/2016']\n",
      "No date found. Continuing...\n",
      "On loop 88...\n",
      "Requested BIN 4865462 data from BIS, awaiting response...\n",
      "Got a response.\n",
      "Discovered 1 Certificates of Occupancy.\n",
      "Scanning 420291525.PDF...\n",
      "Got the wait page. Trying to retrieve the PDF Certificate of Occupancy '420291525.PDF' again in five seconds...\n",
      "After some delay, PDF Certificate of Occupancy '420291525.PDF' retrieved.\n",
      "Copying text using optical character recognition...\n",
      "Harvesting dates...\n"
     ]
    },
    {
     "name": "stderr",
     "output_type": "stream",
     "text": [
      "\r",
      "88it [22:43, 16.65s/it]"
     ]
    },
    {
     "name": "stdout",
     "output_type": "stream",
     "text": [
      "['01/19/2016', '01/19/2016', '01/19/2016']\n",
      "Date(s) found!\n",
      "On loop 89...\n",
      "Requested BIN 5029412 data from BIS, awaiting response...\n",
      "Got a response.\n",
      "Discovered 1 Certificates of Occupancy.\n",
      "Scanning 520145334F.PDF...\n",
      "PDF Certificate of Occupancy '520145334F.PDF' retrieved.\n",
      "Copying text using optical character recognition...\n",
      "Harvesting dates...\n"
     ]
    },
    {
     "name": "stderr",
     "output_type": "stream",
     "text": [
      "\r",
      "89it [22:56, 15.34s/it]"
     ]
    },
    {
     "name": "stdout",
     "output_type": "stream",
     "text": [
      "['01/21/2016', '01/21/2016', '01/21/2016']\n",
      "Date(s) found!\n",
      "On loop 90...\n",
      "Requested BIN 3063353 data from BIS, awaiting response...\n",
      "Got a response.\n",
      "Discovered 1 Certificates of Occupancy.\n",
      "Scanning 320375651.PDF...\n",
      "PDF Certificate of Occupancy '320375651.PDF' retrieved.\n",
      "Copying text using optical character recognition...\n",
      "Harvesting dates...\n"
     ]
    },
    {
     "name": "stderr",
     "output_type": "stream",
     "text": [
      "\r",
      "90it [23:08, 14.53s/it]"
     ]
    },
    {
     "name": "stdout",
     "output_type": "stream",
     "text": [
      "['09/11/2014', '09/11/2014', '09/11/2014']\n",
      "Date(s) found!\n",
      "On loop 91...\n",
      "Requested BIN 4538134 data from BIS, awaiting response...\n",
      "Got a response.\n",
      "Discovered 2 Certificates of Occupancy.\n",
      "Scanning 420534372.PDF...\n",
      "PDF Certificate of Occupancy '420534372.PDF' retrieved.\n",
      "Copying text using optical character recognition...\n",
      "Harvesting dates...\n",
      "['05/07/2015', '05/07/2015']\n",
      "Date(s) found!\n",
      "Scanning 420534372T1.PDF...\n",
      "PDF Certificate of Occupancy '420534372T1.PDF' retrieved.\n",
      "Copying text using optical character recognition...\n",
      "Harvesting dates...\n"
     ]
    },
    {
     "name": "stderr",
     "output_type": "stream",
     "text": [
      "\r",
      "91it [23:23, 14.71s/it]"
     ]
    },
    {
     "name": "stdout",
     "output_type": "stream",
     "text": [
      "['05/07/2015', '05/07/2015']\n",
      "Date(s) found!\n",
      "On loop 92...\n",
      "Requested BIN 4538167 data from BIS, awaiting response...\n",
      "Got a response.\n",
      "Discovered 1 Certificates of Occupancy.\n",
      "Scanning 420778741F.PDF...\n",
      "Got the wait page. Trying to retrieve the PDF Certificate of Occupancy '420778741F.PDF' again in five seconds...\n",
      "Got the wait page. Trying to retrieve the PDF Certificate of Occupancy '420778741F.PDF' again in five seconds...\n",
      "After some delay, PDF Certificate of Occupancy '420778741F.PDF' retrieved.\n",
      "Copying text using optical character recognition...\n",
      "Harvesting dates...\n"
     ]
    },
    {
     "name": "stderr",
     "output_type": "stream",
     "text": [
      "\r",
      "92it [23:47, 17.52s/it]"
     ]
    },
    {
     "name": "stdout",
     "output_type": "stream",
     "text": [
      "['07/01/2015', '07/01/2015', '09/29/2015', '09/29/2015']\n",
      "Date(s) found!\n",
      "On loop 93...\n",
      "Requested BIN 5816196 data from BIS, awaiting response...\n",
      "Got a response.\n",
      "Discovered 2 Certificates of Occupancy.\n",
      "Scanning 520144567F.PDF...\n",
      "PDF Certificate of Occupancy '520144567F.PDF' retrieved.\n",
      "Copying text using optical character recognition...\n",
      "Harvesting dates...\n",
      "['04/03/2015', '04/03/2015']\n",
      "Date(s) found!\n",
      "Scanning 520180740F.PDF...\n",
      "PDF Certificate of Occupancy '520180740F.PDF' retrieved.\n",
      "Copying text using optical character recognition...\n",
      "Harvesting dates...\n"
     ]
    },
    {
     "name": "stderr",
     "output_type": "stream",
     "text": [
      "\r",
      "93it [24:01, 16.42s/it]"
     ]
    },
    {
     "name": "stdout",
     "output_type": "stream",
     "text": [
      "['04/03/2015', '04/03/2015']\n",
      "Date(s) found!\n",
      "On loop 94...\n",
      "Requested BIN 3325861 data from BIS, awaiting response...\n",
      "Got a response.\n",
      "Discovered 3 Certificates of Occupancy.\n",
      "Scanning B000214031.PDF...\n",
      "PDF Certificate of Occupancy 'B000214031.PDF' retrieved.\n",
      "Copying text using optical character recognition...\n",
      "Harvesting dates...\n",
      "['01/25/2016', '01/25/2016']\n",
      "Date(s) found!\n",
      "Scanning B000113318.PDF...\n",
      "PDF Certificate of Occupancy 'B000113318.PDF' retrieved.\n",
      "Copying text using optical character recognition...\n",
      "Harvesting dates...\n",
      "['01/25/2016', '01/25/2016']\n",
      "Date(s) found!\n",
      "Scanning B000214031.PDF...\n",
      "PDF Certificate of Occupancy 'B000214031.PDF' retrieved.\n",
      "Copying text using optical character recognition...\n",
      "Harvesting dates...\n"
     ]
    },
    {
     "name": "stderr",
     "output_type": "stream",
     "text": [
      "\r",
      "94it [24:18, 16.63s/it]"
     ]
    },
    {
     "name": "stdout",
     "output_type": "stream",
     "text": [
      "['01/25/2016', '01/25/2016']\n",
      "Date(s) found!\n",
      "On loop 95...\n",
      "Requested BIN 5062667 data from BIS, awaiting response...\n"
     ]
    },
    {
     "name": "stderr",
     "output_type": "stream",
     "text": [
      "\r",
      "95it [24:29, 14.79s/it]"
     ]
    },
    {
     "name": "stdout",
     "output_type": "stream",
     "text": [
      "Got a response.\n",
      "Discovered 0 Certificates of Occupancy.\n",
      "On loop 96...\n",
      "Requested BIN 4571598 data from BIS, awaiting response...\n",
      "Got a response.\n",
      "Discovered 2 Certificates of Occupancy.\n",
      "Scanning 420856336F.PDF...\n",
      "PDF Certificate of Occupancy '420856336F.PDF' retrieved.\n",
      "Copying text using optical character recognition...\n",
      "Harvesting dates...\n",
      "['01/25/2016', '01/25/2016']\n",
      "Date(s) found!\n",
      "Scanning 420856121F.PDF...\n",
      "PDF Certificate of Occupancy '420856121F.PDF' retrieved.\n",
      "Copying text using optical character recognition...\n",
      "Harvesting dates...\n"
     ]
    },
    {
     "name": "stderr",
     "output_type": "stream",
     "text": [
      "\r",
      "96it [24:47, 15.68s/it]"
     ]
    },
    {
     "name": "stdout",
     "output_type": "stream",
     "text": [
      "['01/25/2016', '01/25/2016']\n",
      "Date(s) found!\n",
      "On loop 97...\n",
      "Requested BIN 2016152 data from BIS, awaiting response...\n"
     ]
    },
    {
     "name": "stderr",
     "output_type": "stream",
     "text": [
      "\r",
      "97it [24:57, 14.16s/it]"
     ]
    },
    {
     "name": "stdout",
     "output_type": "stream",
     "text": [
      "Got a response.\n",
      "Discovered 0 Certificates of Occupancy.\n",
      "On loop 98...\n",
      "Requested BIN 5161894 data from BIS, awaiting response...\n"
     ]
    },
    {
     "name": "stderr",
     "output_type": "stream",
     "text": [
      "\r",
      "98it [25:08, 13.06s/it]"
     ]
    },
    {
     "name": "stdout",
     "output_type": "stream",
     "text": [
      "Got a response.\n",
      "Discovered 0 Certificates of Occupancy.\n",
      "On loop 99...\n",
      "Requested BIN 3851222 data from BIS, awaiting response...\n",
      "Got a response.\n",
      "Discovered 1 Certificates of Occupancy.\n",
      "Scanning 320529530.PDF...\n",
      "PDF Certificate of Occupancy '320529530.PDF' retrieved.\n",
      "Copying text using optical character recognition...\n",
      "Harvesting dates...\n"
     ]
    },
    {
     "name": "stderr",
     "output_type": "stream",
     "text": [
      "\r",
      "99it [25:23, 13.80s/it]"
     ]
    },
    {
     "name": "stdout",
     "output_type": "stream",
     "text": [
      "['06/11/2014', '06/11/2014', '06/11/2014']\n",
      "Date(s) found!\n",
      "On loop 100...\n",
      "Requested BIN 2016441 data from BIS, awaiting response...\n",
      "Got a response.\n",
      "Discovered 4 Certificates of Occupancy.\n",
      "Scanning 220232175T001.PDF...\n",
      "PDF Certificate of Occupancy '220232175T001.PDF' retrieved.\n",
      "Copying text using optical character recognition...\n",
      "Harvesting dates...\n",
      "['06/11/2014', '06/11/2014', '06/11/2014']\n",
      "Date(s) found!\n",
      "Scanning 220232175T003.PDF...\n",
      "Got the wait page. Trying to retrieve the PDF Certificate of Occupancy '220232175T003.PDF' again in five seconds...\n",
      "After some delay, PDF Certificate of Occupancy '220232175T003.PDF' retrieved.\n",
      "Copying text using optical character recognition...\n",
      "Harvesting dates...\n",
      "['03/02/2015', '03/17/2016', '05/31/2015', '03/17/2016']\n",
      "Date(s) found!\n",
      "Scanning 220232175T004.PDF...\n",
      "Got the wait page. Trying to retrieve the PDF Certificate of Occupancy '220232175T004.PDF' again in five seconds...\n",
      "After some delay, PDF Certificate of Occupancy '220232175T004.PDF' retrieved.\n",
      "Copying text using optical character recognition...\n",
      "Harvesting dates...\n",
      "['03/02/2015', '03/17/2016', '05/31/2015', '03/17/2016']\n",
      "Date(s) found!\n",
      "Scanning 220232175T002.PDF...\n",
      "PDF Certificate of Occupancy '220232175T002.PDF' retrieved.\n",
      "Copying text using optical character recognition...\n",
      "Harvesting dates...\n"
     ]
    },
    {
     "name": "stderr",
     "output_type": "stream",
     "text": [
      "\r",
      "100it [26:09, 23.36s/it]"
     ]
    },
    {
     "name": "stdout",
     "output_type": "stream",
     "text": [
      "['03/02/2015', '03/17/2016', '05/31/2015', '03/17/2016']\n",
      "Date(s) found!\n",
      "On loop 101...\n",
      "Requested BIN 5162170 data from BIS, awaiting response...\n",
      "Got a response.\n",
      "Discovered 1 Certificates of Occupancy.\n",
      "Scanning 520148386F.PDF...\n",
      "PDF Certificate of Occupancy '520148386F.PDF' retrieved.\n",
      "Copying text using optical character recognition...\n",
      "Harvesting dates...\n"
     ]
    },
    {
     "name": "stderr",
     "output_type": "stream",
     "text": [
      "\r",
      "101it [26:23, 20.63s/it]"
     ]
    },
    {
     "name": "stdout",
     "output_type": "stream",
     "text": [
      "['06/11/2015', '06/11/2015', '09/09/2015', '09/09/2015', '26/11/2015']\n",
      "No date found. Continuing...\n",
      "On loop 102...\n",
      "Requested BIN 5162171 data from BIS, awaiting response...\n",
      "Got a response.\n",
      "Discovered 1 Certificates of Occupancy.\n",
      "Scanning 520148395F.PDF...\n",
      "Got the wait page. Trying to retrieve the PDF Certificate of Occupancy '520148395F.PDF' again in five seconds...\n",
      "After some delay, PDF Certificate of Occupancy '520148395F.PDF' retrieved.\n",
      "Copying text using optical character recognition...\n",
      "Harvesting dates...\n"
     ]
    },
    {
     "name": "stderr",
     "output_type": "stream",
     "text": [
      "\r",
      "102it [26:43, 20.31s/it]"
     ]
    },
    {
     "name": "stdout",
     "output_type": "stream",
     "text": [
      "['09/25/2014', '09/25/2014', '09/25/2014']\n",
      "Date(s) found!\n",
      "On loop 103...\n",
      "Requested BIN 5162176 data from BIS, awaiting response...\n",
      "Got a response.\n",
      "Discovered 1 Certificates of Occupancy.\n",
      "Scanning 520144193F.PDF...\n",
      "Got the wait page. Trying to retrieve the PDF Certificate of Occupancy '520144193F.PDF' again in five seconds...\n",
      "After some delay, PDF Certificate of Occupancy '520144193F.PDF' retrieved.\n",
      "Copying text using optical character recognition...\n",
      "Harvesting dates...\n"
     ]
    },
    {
     "name": "stderr",
     "output_type": "stream",
     "text": [
      "\r",
      "103it [27:03, 20.31s/it]"
     ]
    },
    {
     "name": "stdout",
     "output_type": "stream",
     "text": [
      "['07/17/2014', '07/17/2014', '07/17/2014']\n",
      "Date(s) found!\n",
      "On loop 104...\n",
      "Requested BIN 5162207 data from BIS, awaiting response...\n",
      "Got a response.\n",
      "Discovered 1 Certificates of Occupancy.\n",
      "Scanning 520148402F.PDF...\n",
      "PDF Certificate of Occupancy '520148402F.PDF' retrieved.\n",
      "Copying text using optical character recognition...\n",
      "Harvesting dates...\n"
     ]
    },
    {
     "name": "stderr",
     "output_type": "stream",
     "text": [
      "\r",
      "104it [27:16, 18.01s/it]"
     ]
    },
    {
     "name": "stdout",
     "output_type": "stream",
     "text": [
      "['05/02/2014', '05/02/2014']\n",
      "Date(s) found!\n",
      "On loop 105...\n",
      "Requested BIN 5162208 data from BIS, awaiting response...\n",
      "Got a response.\n",
      "Discovered 1 Certificates of Occupancy.\n",
      "Scanning 520148411F.PDF...\n",
      "PDF Certificate of Occupancy '520148411F.PDF' retrieved.\n",
      "Copying text using optical character recognition...\n",
      "Harvesting dates...\n"
     ]
    },
    {
     "name": "stderr",
     "output_type": "stream",
     "text": [
      "\r",
      "105it [27:28, 16.25s/it]"
     ]
    },
    {
     "name": "stdout",
     "output_type": "stream",
     "text": [
      "['08/07/2014', '08/07/2014']\n",
      "Date(s) found!\n",
      "On loop 106...\n",
      "Requested BIN 5162334 data from BIS, awaiting response...\n",
      "Got a response.\n",
      "Discovered 1 Certificates of Occupancy.\n",
      "Scanning 520147305F.PDF...\n",
      "PDF Certificate of Occupancy '520147305F.PDF' retrieved.\n",
      "Copying text using optical character recognition...\n",
      "Harvesting dates...\n"
     ]
    },
    {
     "name": "stderr",
     "output_type": "stream",
     "text": [
      "\r",
      "106it [27:41, 15.43s/it]"
     ]
    },
    {
     "name": "stdout",
     "output_type": "stream",
     "text": [
      "['09/12/2014', '09/12/2014', '09/12/2014']\n",
      "Date(s) found!\n",
      "On loop 107...\n",
      "Requested BIN 5162529 data from BIS, awaiting response...\n",
      "Got a response.\n",
      "Discovered 4 Certificates of Occupancy.\n",
      "Scanning 520145290F.PDF...\n",
      "PDF Certificate of Occupancy '520145290F.PDF' retrieved.\n",
      "Copying text using optical character recognition...\n",
      "Harvesting dates...\n",
      "['03/25/2014', '03/25/2014', '03/25/2014']\n",
      "Date(s) found!\n",
      "Scanning 520145307F.PDF...\n",
      "PDF Certificate of Occupancy '520145307F.PDF' retrieved.\n",
      "Copying text using optical character recognition...\n",
      "Harvesting dates...\n",
      "['03/25/2014', '03/25/2014', '03/25/2014']\n",
      "Date(s) found!\n",
      "Scanning 520145290F.PDF...\n",
      "PDF Certificate of Occupancy '520145290F.PDF' retrieved.\n",
      "Copying text using optical character recognition...\n",
      "Harvesting dates...\n",
      "['03/25/2014', '03/25/2014', '03/25/2014']\n",
      "Date(s) found!\n",
      "Scanning 520145307F.PDF...\n",
      "PDF Certificate of Occupancy '520145307F.PDF' retrieved.\n",
      "Copying text using optical character recognition...\n",
      "Harvesting dates...\n"
     ]
    },
    {
     "name": "stderr",
     "output_type": "stream",
     "text": [
      "\r",
      "107it [28:01, 16.55s/it]"
     ]
    },
    {
     "name": "stdout",
     "output_type": "stream",
     "text": [
      "['03/25/2014', '03/25/2014', '03/25/2014']\n",
      "Date(s) found!\n",
      "On loop 108...\n",
      "Requested BIN 3819111 data from BIS, awaiting response...\n",
      "Got a response.\n",
      "Discovered 2 Certificates of Occupancy.\n",
      "Scanning B000089988.PDF...\n",
      "PDF Certificate of Occupancy 'B000089988.PDF' retrieved.\n",
      "Copying text using optical character recognition...\n",
      "Harvesting dates...\n",
      "['11/20/2014', '11/20/2014', '11/20/2014', '11/20/2014']\n",
      "Date(s) found!\n",
      "Scanning 320529549.PDF...\n",
      "Got the wait page. Trying to retrieve the PDF Certificate of Occupancy '320529549.PDF' again in five seconds...\n",
      "After some delay, PDF Certificate of Occupancy '320529549.PDF' retrieved.\n",
      "Copying text using optical character recognition...\n",
      "Harvesting dates...\n"
     ]
    },
    {
     "name": "stderr",
     "output_type": "stream",
     "text": [
      "\r",
      "108it [28:22, 18.05s/it]"
     ]
    },
    {
     "name": "stdout",
     "output_type": "stream",
     "text": [
      "['11/20/2014', '11/20/2014', '11/20/2014', '11/20/2014']\n",
      "Date(s) found!\n",
      "On loop 109...\n",
      "Requested BIN 3131134 data from BIS, awaiting response...\n",
      "Got a response.\n",
      "Discovered 2 Certificates of Occupancy.\n",
      "Scanning B000211963.PDF...\n",
      "PDF Certificate of Occupancy 'B000211963.PDF' retrieved.\n",
      "Copying text using optical character recognition...\n",
      "Harvesting dates...\n",
      "[]\n",
      "No date found. Continuing...\n",
      "Scanning 320723473.PDF...\n",
      "PDF Certificate of Occupancy '320723473.PDF' retrieved.\n",
      "Copying text using optical character recognition...\n",
      "Harvesting dates...\n"
     ]
    },
    {
     "name": "stderr",
     "output_type": "stream",
     "text": [
      "\r",
      "109it [28:34, 16.33s/it]"
     ]
    },
    {
     "name": "stdout",
     "output_type": "stream",
     "text": [
      "[]\n",
      "No date found. Continuing...\n",
      "On loop 110...\n",
      "Requested BIN 5857603 data from BIS, awaiting response...\n"
     ]
    },
    {
     "name": "stderr",
     "output_type": "stream",
     "text": [
      "\r",
      "110it [28:45, 14.61s/it]"
     ]
    },
    {
     "name": "stdout",
     "output_type": "stream",
     "text": [
      "Got a response.\n",
      "Discovered 0 Certificates of Occupancy.\n",
      "On loop 111...\n",
      "Requested BIN 4212792 data from BIS, awaiting response...\n"
     ]
    },
    {
     "name": "stderr",
     "output_type": "stream",
     "text": [
      "\r",
      "111it [28:56, 13.45s/it]"
     ]
    },
    {
     "name": "stdout",
     "output_type": "stream",
     "text": [
      "Got a response.\n",
      "Discovered 0 Certificates of Occupancy.\n",
      "On loop 112...\n",
      "Requested BIN 4442276 data from BIS, awaiting response...\n",
      "Got a response.\n",
      "Discovered 5 Certificates of Occupancy.\n",
      "Scanning Q000193710.PDF...\n",
      "Got the wait page. Trying to retrieve the PDF Certificate of Occupancy 'Q000193710.PDF' again in five seconds...\n",
      "After some delay, PDF Certificate of Occupancy 'Q000193710.PDF' retrieved.\n",
      "Copying text using optical character recognition...\n",
      "Harvesting dates...\n",
      "['02/16/2016', '02/16/2016']\n",
      "Date(s) found!\n",
      "Scanning 420603644TCO1.PDF...\n",
      "Got the wait page. Trying to retrieve the PDF Certificate of Occupancy '420603644TCO1.PDF' again in five seconds...\n",
      "Got the wait page. Trying to retrieve the PDF Certificate of Occupancy '420603644TCO1.PDF' again in five seconds...\n",
      "Got the wait page. Trying to retrieve the PDF Certificate of Occupancy '420603644TCO1.PDF' again in five seconds...\n",
      "After some delay, PDF Certificate of Occupancy '420603644TCO1.PDF' retrieved.\n",
      "Copying text using optical character recognition...\n",
      "Harvesting dates...\n",
      "['02/16/2016', '02/16/2016']\n",
      "Date(s) found!\n",
      "Scanning 420603644T004.PDF...\n",
      "PDF Certificate of Occupancy '420603644T004.PDF' retrieved.\n",
      "Copying text using optical character recognition...\n",
      "Harvesting dates...\n",
      "['02/16/2016', '02/16/2016']\n",
      "Date(s) found!\n",
      "Scanning 420603644T2.PDF...\n",
      "PDF Certificate of Occupancy '420603644T2.PDF' retrieved.\n",
      "Copying text using optical character recognition...\n",
      "Harvesting dates...\n",
      "['02/16/2016', '02/16/2016']\n",
      "Date(s) found!\n",
      "Scanning 420603644TCO3.PDF...\n",
      "PDF Certificate of Occupancy '420603644TCO3.PDF' retrieved.\n",
      "Copying text using optical character recognition...\n",
      "Harvesting dates...\n"
     ]
    },
    {
     "name": "stderr",
     "output_type": "stream",
     "text": [
      "\r",
      "112it [29:56, 27.46s/it]"
     ]
    },
    {
     "name": "stdout",
     "output_type": "stream",
     "text": [
      "['02/16/2016', '02/16/2016']\n",
      "Date(s) found!\n",
      "On loop 113...\n",
      "Requested BIN 3000634 data from BIS, awaiting response...\n",
      "Got a response.\n",
      "Discovered 3 Certificates of Occupancy.\n",
      "Scanning B000115640.PDF...\n",
      "PDF Certificate of Occupancy 'B000115640.PDF' retrieved.\n",
      "Copying text using optical character recognition...\n",
      "Harvesting dates...\n",
      "['02/16/2016', '02/16/2016']\n",
      "Date(s) found!\n",
      "Scanning B000194265.PDF...\n",
      "Got the wait page. Trying to retrieve the PDF Certificate of Occupancy 'B000194265.PDF' again in five seconds...\n",
      "After some delay, PDF Certificate of Occupancy 'B000194265.PDF' retrieved.\n",
      "Copying text using optical character recognition...\n",
      "Harvesting dates...\n",
      "['02/11/2016', '32/11/2016']\n",
      "No date found. Continuing...\n",
      "Scanning 320375991-01.PDF...\n",
      "PDF Certificate of Occupancy '320375991-01.PDF' retrieved.\n",
      "Copying text using optical character recognition...\n",
      "Harvesting dates...\n"
     ]
    },
    {
     "name": "stderr",
     "output_type": "stream",
     "text": [
      "\r",
      "113it [30:28, 28.92s/it]"
     ]
    },
    {
     "name": "stdout",
     "output_type": "stream",
     "text": [
      "['02/11/2016', '32/11/2016']\n",
      "No date found. Continuing...\n",
      "On loop 114...\n",
      "Requested BIN 5163451 data from BIS, awaiting response...\n",
      "Got a response.\n",
      "Discovered 1 Certificates of Occupancy.\n",
      "Scanning 520147993F.PDF...\n",
      "PDF Certificate of Occupancy '520147993F.PDF' retrieved.\n",
      "Copying text using optical character recognition...\n",
      "Harvesting dates...\n"
     ]
    },
    {
     "name": "stderr",
     "output_type": "stream",
     "text": [
      "\r",
      "114it [30:43, 24.76s/it]"
     ]
    },
    {
     "name": "stdout",
     "output_type": "stream",
     "text": [
      "['02/11/2016', '32/11/2016']\n",
      "No date found. Continuing...\n",
      "On loop 115...\n",
      "Requested BIN 4541524 data from BIS, awaiting response...\n",
      "Got a response.\n",
      "Discovered 2 Certificates of Occupancy.\n",
      "Scanning 420534381F.PDF...\n",
      "PDF Certificate of Occupancy '420534381F.PDF' retrieved.\n",
      "Copying text using optical character recognition...\n",
      "Harvesting dates...\n",
      "['04/15/2015', '05/25/2016', '07/25/2016', '15/25/2016']\n",
      "No date found. Continuing...\n",
      "Scanning 420534381T1.PDF...\n",
      "Got the wait page. Trying to retrieve the PDF Certificate of Occupancy '420534381T1.PDF' again in five seconds...\n",
      "Got the wait page. Trying to retrieve the PDF Certificate of Occupancy '420534381T1.PDF' again in five seconds...\n",
      "After some delay, PDF Certificate of Occupancy '420534381T1.PDF' retrieved.\n",
      "Copying text using optical character recognition...\n",
      "Harvesting dates...\n"
     ]
    },
    {
     "name": "stderr",
     "output_type": "stream",
     "text": [
      "\r",
      "115it [31:12, 26.09s/it]"
     ]
    },
    {
     "name": "stdout",
     "output_type": "stream",
     "text": [
      "['04/15/2015', '05/25/2016', '07/25/2016', '15/25/2016']\n",
      "No date found. Continuing...\n",
      "On loop 116...\n",
      "Requested BIN 2832138 data from BIS, awaiting response...\n"
     ]
    },
    {
     "name": "stderr",
     "output_type": "stream",
     "text": [
      "\r",
      "116it [31:23, 21.51s/it]"
     ]
    },
    {
     "name": "stdout",
     "output_type": "stream",
     "text": [
      "Got a response.\n",
      "Discovered 0 Certificates of Occupancy.\n",
      "On loop 117...\n",
      "Requested BIN 5164082 data from BIS, awaiting response...\n",
      "Got a response.\n",
      "Discovered 1 Certificates of Occupancy.\n",
      "Scanning 520145343F.PDF...\n",
      "PDF Certificate of Occupancy '520145343F.PDF' retrieved.\n",
      "Copying text using optical character recognition...\n",
      "Harvesting dates...\n"
     ]
    },
    {
     "name": "stderr",
     "output_type": "stream",
     "text": [
      "\r",
      "117it [31:36, 18.96s/it]"
     ]
    },
    {
     "name": "stdout",
     "output_type": "stream",
     "text": [
      "['07/01/2015', '10/15/2015', '09/29/2015', '10/21/2015']\n",
      "Date(s) found!\n",
      "On loop 118...\n",
      "Requested BIN 4541577 data from BIS, awaiting response...\n",
      "Got a response.\n",
      "Discovered 1 Certificates of Occupancy.\n",
      "Scanning Q000192971.PDF...\n",
      "PDF Certificate of Occupancy 'Q000192971.PDF' retrieved.\n",
      "Copying text using optical character recognition...\n",
      "Harvesting dates...\n"
     ]
    },
    {
     "name": "stderr",
     "output_type": "stream",
     "text": [
      "\r",
      "118it [31:50, 17.28s/it]"
     ]
    },
    {
     "name": "stdout",
     "output_type": "stream",
     "text": [
      "['09/11/2014', '09/11/2014', '09/11/2014']\n",
      "Date(s) found!\n",
      "On loop 119...\n",
      "Requested BIN 4541630 data from BIS, awaiting response...\n"
     ]
    },
    {
     "name": "stderr",
     "output_type": "stream",
     "text": [
      "\r",
      "119it [32:00, 15.29s/it]"
     ]
    },
    {
     "name": "stdout",
     "output_type": "stream",
     "text": [
      "Got a response.\n",
      "Discovered 0 Certificates of Occupancy.\n",
      "On loop 120...\n",
      "Requested BIN 3853611 data from BIS, awaiting response...\n"
     ]
    },
    {
     "name": "stderr",
     "output_type": "stream",
     "text": [
      "\r",
      "120it [32:11, 13.85s/it]"
     ]
    },
    {
     "name": "stdout",
     "output_type": "stream",
     "text": [
      "Got a response.\n",
      "Discovered 0 Certificates of Occupancy.\n",
      "On loop 121...\n",
      "Requested BIN 4214980 data from BIS, awaiting response...\n"
     ]
    },
    {
     "name": "stderr",
     "output_type": "stream",
     "text": [
      "\r",
      "121it [32:21, 12.86s/it]"
     ]
    },
    {
     "name": "stdout",
     "output_type": "stream",
     "text": [
      "Got a response.\n",
      "Discovered 0 Certificates of Occupancy.\n",
      "On loop 122...\n",
      "Requested BIN 4214981 data from BIS, awaiting response...\n"
     ]
    },
    {
     "name": "stderr",
     "output_type": "stream",
     "text": [
      "\r",
      "122it [32:33, 12.40s/it]"
     ]
    },
    {
     "name": "stdout",
     "output_type": "stream",
     "text": [
      "Got a response.\n",
      "Discovered 0 Certificates of Occupancy.\n",
      "On loop 123...\n",
      "Requested BIN 4542663 data from BIS, awaiting response...\n",
      "Got a response.\n",
      "Discovered 3 Certificates of Occupancy.\n",
      "Scanning 420605651TCO3.PDF...\n",
      "PDF Certificate of Occupancy '420605651TCO3.PDF' retrieved.\n",
      "Copying text using optical character recognition...\n",
      "Harvesting dates...\n",
      "[]\n",
      "No date found. Continuing...\n",
      "Scanning 420605651T1.PDF...\n",
      "PDF Certificate of Occupancy '420605651T1.PDF' retrieved.\n",
      "Copying text using optical character recognition...\n",
      "Harvesting dates...\n",
      "[]\n",
      "No date found. Continuing...\n",
      "Scanning 420605651T005.PDF...\n",
      "PDF Certificate of Occupancy '420605651T005.PDF' retrieved.\n",
      "Copying text using optical character recognition...\n",
      "Harvesting dates...\n"
     ]
    },
    {
     "name": "stderr",
     "output_type": "stream",
     "text": [
      "\r",
      "123it [32:45, 12.44s/it]"
     ]
    },
    {
     "name": "stdout",
     "output_type": "stream",
     "text": [
      "[]\n",
      "No date found. Continuing...\n",
      "On loop 124...\n",
      "Requested BIN 4542669 data from BIS, awaiting response...\n"
     ]
    },
    {
     "name": "stderr",
     "output_type": "stream",
     "text": [
      "\r",
      "124it [32:56, 11.87s/it]"
     ]
    },
    {
     "name": "stdout",
     "output_type": "stream",
     "text": [
      "Got a response.\n",
      "Discovered 0 Certificates of Occupancy.\n",
      "On loop 125...\n",
      "Requested BIN 4542710 data from BIS, awaiting response...\n"
     ]
    },
    {
     "name": "stderr",
     "output_type": "stream",
     "text": [
      "\r",
      "125it [33:07, 11.57s/it]"
     ]
    },
    {
     "name": "stdout",
     "output_type": "stream",
     "text": [
      "Got a response.\n",
      "Discovered 0 Certificates of Occupancy.\n",
      "On loop 126...\n",
      "Requested BIN 5158980 data from BIS, awaiting response...\n",
      "Got a response.\n",
      "Discovered 1 Certificates of Occupancy.\n",
      "Scanning 520110291F.PDF...\n",
      "PDF Certificate of Occupancy '520110291F.PDF' retrieved.\n",
      "Copying text using optical character recognition...\n",
      "Harvesting dates...\n"
     ]
    },
    {
     "name": "stderr",
     "output_type": "stream",
     "text": [
      "\r",
      "126it [33:19, 11.83s/it]"
     ]
    },
    {
     "name": "stdout",
     "output_type": "stream",
     "text": [
      "[]\n",
      "No date found. Continuing...\n",
      "On loop 127...\n",
      "Requested BIN 4542912 data from BIS, awaiting response...\n"
     ]
    },
    {
     "name": "stderr",
     "output_type": "stream",
     "text": [
      "\r",
      "127it [33:30, 11.50s/it]"
     ]
    },
    {
     "name": "stdout",
     "output_type": "stream",
     "text": [
      "Got a response.\n",
      "Discovered 0 Certificates of Occupancy.\n",
      "On loop 128...\n",
      "Requested BIN 5159057 data from BIS, awaiting response...\n",
      "Got a response.\n",
      "Discovered 1 Certificates of Occupancy.\n",
      "Scanning 520113537F.PDF...\n",
      "PDF Certificate of Occupancy '520113537F.PDF' retrieved.\n",
      "Copying text using optical character recognition...\n",
      "Harvesting dates...\n"
     ]
    },
    {
     "name": "stderr",
     "output_type": "stream",
     "text": [
      "\r",
      "128it [33:45, 12.53s/it]"
     ]
    },
    {
     "name": "stdout",
     "output_type": "stream",
     "text": [
      "['07/31/2014', '05/26/2016', '08/24/2016']\n",
      "Date(s) found!\n",
      "On loop 129...\n",
      "Requested BIN 4117462 data from BIS, awaiting response...\n",
      "Got a response.\n"
     ]
    },
    {
     "name": "stderr",
     "output_type": "stream",
     "text": [
      "\r",
      "129it [33:56, 12.06s/it]"
     ]
    },
    {
     "name": "stdout",
     "output_type": "stream",
     "text": [
      "Discovered 0 Certificates of Occupancy.\n",
      "On loop 130...\n",
      "Requested BIN 4543773 data from BIS, awaiting response...\n",
      "Got a response.\n",
      "Discovered 2 Certificates of Occupancy.\n",
      "Scanning 420840594F.PDF...\n",
      "PDF Certificate of Occupancy '420840594F.PDF' retrieved.\n",
      "Copying text using optical character recognition...\n",
      "Harvesting dates...\n",
      "['01/14/2014', '01/14/2014', '01/14/2014']\n",
      "Date(s) found!\n",
      "Scanning 420814364F.PDF...\n",
      "PDF Certificate of Occupancy '420814364F.PDF' retrieved.\n",
      "Copying text using optical character recognition...\n",
      "Harvesting dates...\n"
     ]
    },
    {
     "name": "stderr",
     "output_type": "stream",
     "text": [
      "\r",
      "130it [34:11, 13.07s/it]"
     ]
    },
    {
     "name": "stdout",
     "output_type": "stream",
     "text": [
      "['01/14/2014', '01/14/2014', '01/14/2014']\n",
      "Date(s) found!\n",
      "On loop 131...\n",
      "Requested BIN 2119001 data from BIS, awaiting response...\n"
     ]
    },
    {
     "name": "stderr",
     "output_type": "stream",
     "text": [
      "\r",
      "131it [34:22, 12.36s/it]"
     ]
    },
    {
     "name": "stdout",
     "output_type": "stream",
     "text": [
      "Got a response.\n",
      "Discovered 0 Certificates of Occupancy.\n",
      "On loop 132...\n",
      "Requested BIN 3856360 data from BIS, awaiting response...\n"
     ]
    },
    {
     "name": "stderr",
     "output_type": "stream",
     "text": [
      "\r",
      "132it [34:33, 11.91s/it]"
     ]
    },
    {
     "name": "stdout",
     "output_type": "stream",
     "text": [
      "Got a response.\n",
      "Discovered 0 Certificates of Occupancy.\n",
      "On loop 133...\n",
      "Requested BIN 4544604 data from BIS, awaiting response...\n"
     ]
    },
    {
     "name": "stderr",
     "output_type": "stream",
     "text": [
      "\r",
      "133it [34:43, 11.58s/it]"
     ]
    },
    {
     "name": "stdout",
     "output_type": "stream",
     "text": [
      "Got a response.\n",
      "Discovered 0 Certificates of Occupancy.\n",
      "On loop 134...\n",
      "Requested BIN 3398118 data from BIS, awaiting response...\n",
      "Got a response.\n",
      "Discovered 1 Certificates of Occupancy.\n",
      "Scanning 320513191.PDF...\n",
      "PDF Certificate of Occupancy '320513191.PDF' retrieved.\n",
      "Copying text using optical character recognition...\n",
      "Harvesting dates...\n"
     ]
    },
    {
     "name": "stderr",
     "output_type": "stream",
     "text": [
      "\r",
      "134it [34:58, 12.32s/it]"
     ]
    },
    {
     "name": "stdout",
     "output_type": "stream",
     "text": [
      "['06/18/2015', '06/18/2015', '06/18/2015']\n",
      "Date(s) found!\n",
      "On loop 135...\n",
      "Requested BIN 3398258 data from BIS, awaiting response...\n"
     ]
    },
    {
     "name": "stderr",
     "output_type": "stream",
     "text": [
      "\r",
      "135it [35:08, 11.84s/it]"
     ]
    },
    {
     "name": "stdout",
     "output_type": "stream",
     "text": [
      "Got a response.\n",
      "Discovered 0 Certificates of Occupancy.\n",
      "On loop 136...\n",
      "Requested BIN 3398374 data from BIS, awaiting response...\n",
      "Got a response.\n",
      "Discovered 2 Certificates of Occupancy.\n",
      "Scanning 320507778.PDF...\n",
      "PDF Certificate of Occupancy '320507778.PDF' retrieved.\n",
      "Copying text using optical character recognition...\n",
      "Harvesting dates...\n",
      "['06/24/2014', '06/24/2014', '06/24/2014']\n",
      "Date(s) found!\n",
      "Scanning 320507778-01.PDF...\n",
      "Got the wait page. Trying to retrieve the PDF Certificate of Occupancy '320507778-01.PDF' again in five seconds...\n",
      "After some delay, PDF Certificate of Occupancy '320507778-01.PDF' retrieved.\n",
      "Copying text using optical character recognition...\n",
      "Harvesting dates...\n"
     ]
    },
    {
     "name": "stderr",
     "output_type": "stream",
     "text": [
      "\r",
      "136it [35:29, 14.37s/it]"
     ]
    },
    {
     "name": "stdout",
     "output_type": "stream",
     "text": [
      "['06/24/2014', '06/24/2014', '06/24/2014']\n",
      "Date(s) found!\n",
      "On loop 137...\n",
      "Requested BIN 3398375 data from BIS, awaiting response...\n"
     ]
    },
    {
     "name": "stderr",
     "output_type": "stream",
     "text": [
      "\r",
      "137it [35:39, 13.24s/it]"
     ]
    },
    {
     "name": "stdout",
     "output_type": "stream",
     "text": [
      "Got a response.\n",
      "Discovered 0 Certificates of Occupancy.\n",
      "On loop 138...\n",
      "Requested BIN 3398428 data from BIS, awaiting response...\n",
      "Got a response.\n",
      "Discovered 1 Certificates of Occupancy.\n",
      "Scanning 320467945.PDF...\n",
      "PDF Certificate of Occupancy '320467945.PDF' retrieved.\n",
      "Copying text using optical character recognition...\n",
      "Harvesting dates...\n"
     ]
    },
    {
     "name": "stderr",
     "output_type": "stream",
     "text": [
      "\r",
      "138it [35:51, 12.98s/it]"
     ]
    },
    {
     "name": "stdout",
     "output_type": "stream",
     "text": [
      "['01/07/2016', '01/07/2016', '04/06/2016', '04/06/2016']\n",
      "Date(s) found!\n",
      "On loop 139...\n",
      "Requested BIN 3398449 data from BIS, awaiting response...\n"
     ]
    },
    {
     "name": "stderr",
     "output_type": "stream",
     "text": [
      "\r",
      "139it [36:02, 12.23s/it]"
     ]
    },
    {
     "name": "stdout",
     "output_type": "stream",
     "text": [
      "Got a response.\n",
      "Discovered 0 Certificates of Occupancy.\n",
      "On loop 140...\n",
      "Requested BIN 1039598 data from BIS, awaiting response...\n"
     ]
    },
    {
     "name": "stderr",
     "output_type": "stream",
     "text": [
      "\r",
      "140it [36:12, 11.69s/it]"
     ]
    },
    {
     "name": "stdout",
     "output_type": "stream",
     "text": [
      "Got a response.\n",
      "Discovered 0 Certificates of Occupancy.\n",
      "On loop 141...\n",
      "Requested BIN 3399064 data from BIS, awaiting response...\n",
      "Got a response.\n",
      "Discovered 1 Certificates of Occupancy.\n",
      "Scanning 320516465.PDF...\n",
      "Got the wait page. Trying to retrieve the PDF Certificate of Occupancy '320516465.PDF' again in five seconds...\n",
      "After some delay, PDF Certificate of Occupancy '320516465.PDF' retrieved.\n",
      "Copying text using optical character recognition...\n",
      "Harvesting dates...\n"
     ]
    },
    {
     "name": "stderr",
     "output_type": "stream",
     "text": [
      "\r",
      "141it [36:32, 13.99s/it]"
     ]
    },
    {
     "name": "stdout",
     "output_type": "stream",
     "text": [
      "['04/20/2016', '04/20/2016', '04/20/2016']\n",
      "Date(s) found!\n",
      "On loop 142...\n",
      "Requested BIN 3399065 data from BIS, awaiting response...\n",
      "Got a response.\n",
      "Discovered 1 Certificates of Occupancy.\n",
      "Scanning 320516492.PDF...\n",
      "PDF Certificate of Occupancy '320516492.PDF' retrieved.\n",
      "Copying text using optical character recognition...\n",
      "Harvesting dates...\n"
     ]
    },
    {
     "name": "stderr",
     "output_type": "stream",
     "text": [
      "\r",
      "142it [36:45, 13.70s/it]"
     ]
    },
    {
     "name": "stdout",
     "output_type": "stream",
     "text": [
      "['08/20/2015', '08/20/2015', '08/20/2015']\n",
      "Date(s) found!\n",
      "On loop 143...\n",
      "Requested BIN 3399066 data from BIS, awaiting response...\n",
      "Got a response.\n",
      "Discovered 1 Certificates of Occupancy.\n",
      "Scanning 320516483.PDF...\n",
      "Got the wait page. Trying to retrieve the PDF Certificate of Occupancy '320516483.PDF' again in five seconds...\n",
      "After some delay, PDF Certificate of Occupancy '320516483.PDF' retrieved.\n",
      "Copying text using optical character recognition...\n",
      "Harvesting dates...\n"
     ]
    },
    {
     "name": "stderr",
     "output_type": "stream",
     "text": [
      "\r",
      "143it [37:03, 14.94s/it]"
     ]
    },
    {
     "name": "stdout",
     "output_type": "stream",
     "text": [
      "['08/28/2015', '08/28/2015', '08/28/2015']\n",
      "Date(s) found!\n",
      "On loop 144...\n",
      "Requested BIN 3399067 data from BIS, awaiting response...\n",
      "Got a response.\n",
      "Discovered 1 Certificates of Occupancy.\n",
      "Scanning 320516474.PDF...\n",
      "PDF Certificate of Occupancy '320516474.PDF' retrieved.\n",
      "Copying text using optical character recognition...\n",
      "Harvesting dates...\n"
     ]
    },
    {
     "name": "stderr",
     "output_type": "stream",
     "text": [
      "\r",
      "144it [37:16, 14.35s/it]"
     ]
    },
    {
     "name": "stdout",
     "output_type": "stream",
     "text": [
      "['08/20/2015', '08/20/2015', '08/20/2015']\n",
      "Date(s) found!\n",
      "On loop 145...\n",
      "Requested BIN 2055853 data from BIS, awaiting response...\n",
      "Got a response.\n",
      "Discovered 1 Certificates of Occupancy.\n",
      "Scanning X000041777.PDF...\n",
      "PDF Certificate of Occupancy 'X000041777.PDF' retrieved.\n",
      "Copying text using optical character recognition...\n",
      "Harvesting dates...\n"
     ]
    },
    {
     "name": "stderr",
     "output_type": "stream",
     "text": [
      "\r",
      "145it [37:27, 13.60s/it]"
     ]
    },
    {
     "name": "stdout",
     "output_type": "stream",
     "text": [
      "['08/27/2015', '08/27/2015', '08/27/2015']\n",
      "Date(s) found!\n",
      "On loop 146...\n",
      "Requested BIN 4120329 data from BIS, awaiting response...\n"
     ]
    },
    {
     "name": "stderr",
     "output_type": "stream",
     "text": [
      "\r",
      "146it [37:38, 12.69s/it]"
     ]
    },
    {
     "name": "stdout",
     "output_type": "stream",
     "text": [
      "Got a response.\n",
      "Discovered 0 Certificates of Occupancy.\n",
      "On loop 147...\n",
      "Requested BIN 3182609 data from BIS, awaiting response...\n"
     ]
    },
    {
     "name": "stderr",
     "output_type": "stream",
     "text": [
      "\r",
      "147it [37:49, 12.15s/it]"
     ]
    },
    {
     "name": "stdout",
     "output_type": "stream",
     "text": [
      "Got a response.\n",
      "Discovered 0 Certificates of Occupancy.\n",
      "On loop 148...\n",
      "Requested BIN 5857593 data from BIS, awaiting response...\n"
     ]
    },
    {
     "name": "stderr",
     "output_type": "stream",
     "text": [
      "\r",
      "148it [38:00, 11.83s/it]"
     ]
    },
    {
     "name": "stdout",
     "output_type": "stream",
     "text": [
      "Got a response.\n",
      "Discovered 0 Certificates of Occupancy.\n",
      "On loop 149...\n",
      "Requested BIN 5857594 data from BIS, awaiting response...\n"
     ]
    },
    {
     "name": "stderr",
     "output_type": "stream",
     "text": [
      "\r",
      "149it [38:11, 11.48s/it]"
     ]
    },
    {
     "name": "stdout",
     "output_type": "stream",
     "text": [
      "Got a response.\n",
      "Discovered 0 Certificates of Occupancy.\n",
      "On loop 150...\n",
      "Requested BIN 5857595 data from BIS, awaiting response...\n"
     ]
    },
    {
     "name": "stderr",
     "output_type": "stream",
     "text": [
      "\r",
      "150it [38:23, 11.73s/it]"
     ]
    },
    {
     "name": "stdout",
     "output_type": "stream",
     "text": [
      "Got a response.\n",
      "Discovered 0 Certificates of Occupancy.\n",
      "On loop 151...\n",
      "Requested BIN 5857596 data from BIS, awaiting response...\n"
     ]
    },
    {
     "name": "stderr",
     "output_type": "stream",
     "text": [
      "\r",
      "151it [38:34, 11.42s/it]"
     ]
    },
    {
     "name": "stdout",
     "output_type": "stream",
     "text": [
      "Got a response.\n",
      "Discovered 0 Certificates of Occupancy.\n",
      "On loop 152...\n",
      "Requested BIN 5857597 data from BIS, awaiting response...\n"
     ]
    },
    {
     "name": "stderr",
     "output_type": "stream",
     "text": [
      "\r",
      "152it [38:45, 11.25s/it]"
     ]
    },
    {
     "name": "stdout",
     "output_type": "stream",
     "text": [
      "Got a response.\n",
      "Discovered 0 Certificates of Occupancy.\n",
      "On loop 153...\n",
      "Requested BIN 5857598 data from BIS, awaiting response...\n"
     ]
    },
    {
     "name": "stderr",
     "output_type": "stream",
     "text": [
      "\r",
      "153it [38:56, 11.41s/it]"
     ]
    },
    {
     "name": "stdout",
     "output_type": "stream",
     "text": [
      "Got a response.\n",
      "Discovered 0 Certificates of Occupancy.\n",
      "On loop 154...\n",
      "Requested BIN 5857599 data from BIS, awaiting response...\n"
     ]
    },
    {
     "name": "stderr",
     "output_type": "stream",
     "text": [
      "\r",
      "154it [39:07, 11.29s/it]"
     ]
    },
    {
     "name": "stdout",
     "output_type": "stream",
     "text": [
      "Got a response.\n",
      "Discovered 0 Certificates of Occupancy.\n",
      "On loop 155...\n",
      "Requested BIN 5857600 data from BIS, awaiting response...\n"
     ]
    },
    {
     "name": "stderr",
     "output_type": "stream",
     "text": [
      "\r",
      "155it [39:18, 11.18s/it]"
     ]
    },
    {
     "name": "stdout",
     "output_type": "stream",
     "text": [
      "Got a response.\n",
      "Discovered 0 Certificates of Occupancy.\n",
      "On loop 156...\n",
      "Requested BIN 5857601 data from BIS, awaiting response...\n"
     ]
    },
    {
     "name": "stderr",
     "output_type": "stream",
     "text": [
      "\r",
      "156it [39:29, 10.99s/it]"
     ]
    },
    {
     "name": "stdout",
     "output_type": "stream",
     "text": [
      "Got a response.\n",
      "Discovered 0 Certificates of Occupancy.\n",
      "On loop 157...\n",
      "Requested BIN 5857602 data from BIS, awaiting response...\n"
     ]
    },
    {
     "name": "stderr",
     "output_type": "stream",
     "text": [
      "\r",
      "157it [39:39, 10.88s/it]"
     ]
    },
    {
     "name": "stdout",
     "output_type": "stream",
     "text": [
      "Got a response.\n",
      "Discovered 0 Certificates of Occupancy.\n",
      "On loop 158...\n",
      "Requested BIN 4547155 data from BIS, awaiting response...\n",
      "Got a response.\n",
      "Discovered 3 Certificates of Occupancy.\n",
      "Scanning 410028312.PDF...\n",
      "Got the wait page. Trying to retrieve the PDF Certificate of Occupancy '410028312.PDF' again in five seconds...\n",
      "Got the wait page. Trying to retrieve the PDF Certificate of Occupancy '410028312.PDF' again in five seconds...\n",
      "After some delay, PDF Certificate of Occupancy '410028312.PDF' retrieved.\n",
      "Copying text using optical character recognition...\n",
      "Harvesting dates...\n",
      "[]\n",
      "No date found. Continuing...\n",
      "Scanning 410028312T1.PDF...\n",
      "PDF Certificate of Occupancy '410028312T1.PDF' retrieved.\n",
      "Copying text using optical character recognition...\n",
      "Harvesting dates...\n",
      "[]\n",
      "No date found. Continuing...\n",
      "Scanning 420817147.PDF...\n",
      "PDF Certificate of Occupancy '420817147.PDF' retrieved.\n",
      "Copying text using optical character recognition...\n",
      "Harvesting dates...\n"
     ]
    },
    {
     "name": "stderr",
     "output_type": "stream",
     "text": [
      "\r",
      "158it [40:06, 15.57s/it]"
     ]
    },
    {
     "name": "stdout",
     "output_type": "stream",
     "text": [
      "[]\n",
      "No date found. Continuing...\n",
      "On loop 159...\n",
      "Requested BIN 4547156 data from BIS, awaiting response...\n",
      "Got a response.\n",
      "Discovered 3 Certificates of Occupancy.\n",
      "Scanning 410028303F.PDF...\n",
      "PDF Certificate of Occupancy '410028303F.PDF' retrieved.\n",
      "Copying text using optical character recognition...\n",
      "Harvesting dates...\n",
      "['08/12/2014', '08/12/2014', '08/12/2014']\n",
      "Date(s) found!\n",
      "Scanning 410028303TCO1.PDF...\n",
      "Got the wait page. Trying to retrieve the PDF Certificate of Occupancy '410028303TCO1.PDF' again in five seconds...\n",
      "Got the wait page. Trying to retrieve the PDF Certificate of Occupancy '410028303TCO1.PDF' again in five seconds...\n",
      "After some delay, PDF Certificate of Occupancy '410028303TCO1.PDF' retrieved.\n",
      "Copying text using optical character recognition...\n",
      "Harvesting dates...\n",
      "['08/12/2014', '08/12/2014', '08/12/2014']\n",
      "Date(s) found!\n",
      "Scanning 420817138F.PDF...\n",
      "PDF Certificate of Occupancy '420817138F.PDF' retrieved.\n",
      "Copying text using optical character recognition...\n",
      "Harvesting dates...\n"
     ]
    },
    {
     "name": "stderr",
     "output_type": "stream",
     "text": [
      "\r",
      "159it [40:33, 19.03s/it]"
     ]
    },
    {
     "name": "stdout",
     "output_type": "stream",
     "text": [
      "['08/12/2014', '08/12/2014', '08/12/2014']\n",
      "Date(s) found!\n",
      "On loop 160...\n",
      "Requested BIN 4121353 data from BIS, awaiting response...\n",
      "Got a response.\n",
      "Discovered 2 Certificates of Occupancy.\n",
      "Scanning 420809664.PDF...\n",
      "PDF Certificate of Occupancy '420809664.PDF' retrieved.\n",
      "Copying text using optical character recognition...\n",
      "Harvesting dates...\n",
      "['08/12/2014', '08/12/2014', '08/12/2014']\n",
      "Date(s) found!\n",
      "Scanning 420827181.PDF...\n",
      "PDF Certificate of Occupancy '420827181.PDF' retrieved.\n",
      "Copying text using optical character recognition...\n",
      "Harvesting dates...\n"
     ]
    },
    {
     "name": "stderr",
     "output_type": "stream",
     "text": [
      "\r",
      "160it [40:46, 17.36s/it]"
     ]
    },
    {
     "name": "stdout",
     "output_type": "stream",
     "text": [
      "['08/12/2014', '08/12/2014', '08/12/2014']\n",
      "Date(s) found!\n",
      "On loop 161...\n",
      "Requested BIN 3220959 data from BIS, awaiting response...\n"
     ]
    },
    {
     "name": "stderr",
     "output_type": "stream",
     "text": [
      "\r",
      "161it [40:57, 15.42s/it]"
     ]
    },
    {
     "name": "stdout",
     "output_type": "stream",
     "text": [
      "Got a response.\n",
      "Discovered 0 Certificates of Occupancy.\n",
      "On loop 162...\n",
      "Requested BIN 5858114 data from BIS, awaiting response...\n",
      "Got a response.\n",
      "Discovered 1 Certificates of Occupancy.\n",
      "Scanning 520094576F.PDF...\n",
      "PDF Certificate of Occupancy '520094576F.PDF' retrieved.\n",
      "Copying text using optical character recognition...\n",
      "Harvesting dates...\n"
     ]
    },
    {
     "name": "stderr",
     "output_type": "stream",
     "text": [
      "\r",
      "162it [41:11, 14.78s/it]"
     ]
    },
    {
     "name": "stdout",
     "output_type": "stream",
     "text": [
      "['09/25/2014', '09/25/2014', '09/25/2014']\n",
      "Date(s) found!\n",
      "On loop 163...\n",
      "Requested BIN 5858115 data from BIS, awaiting response...\n",
      "Got a response.\n",
      "Discovered 1 Certificates of Occupancy.\n",
      "Scanning 520094585F.PDF...\n",
      "Got the wait page. Trying to retrieve the PDF Certificate of Occupancy '520094585F.PDF' again in five seconds...\n",
      "After some delay, PDF Certificate of Occupancy '520094585F.PDF' retrieved.\n",
      "Copying text using optical character recognition...\n",
      "Harvesting dates...\n"
     ]
    },
    {
     "name": "stderr",
     "output_type": "stream",
     "text": [
      "\r",
      "163it [41:29, 15.75s/it]"
     ]
    },
    {
     "name": "stdout",
     "output_type": "stream",
     "text": [
      "['10/16/2014', '10/16/2014', '10/16/2014', '10/16/2014']\n",
      "Date(s) found!\n",
      "On loop 164...\n",
      "Requested BIN 5858116 data from BIS, awaiting response...\n",
      "Got a response.\n",
      "Discovered 1 Certificates of Occupancy.\n",
      "Scanning 520094594F.PDF...\n",
      "PDF Certificate of Occupancy '520094594F.PDF' retrieved.\n",
      "Copying text using optical character recognition...\n",
      "Harvesting dates...\n"
     ]
    },
    {
     "name": "stderr",
     "output_type": "stream",
     "text": [
      "\r",
      "164it [41:41, 14.58s/it]"
     ]
    },
    {
     "name": "stdout",
     "output_type": "stream",
     "text": [
      "['02/05/2015', '02/05/2015']\n",
      "Date(s) found!\n",
      "On loop 165...\n",
      "Requested BIN 5034136 data from BIS, awaiting response...\n",
      "Got a response.\n",
      "Discovered 2 Certificates of Occupancy.\n",
      "Scanning R000033235.PDF...\n",
      "PDF Certificate of Occupancy 'R000033235.PDF' retrieved.\n",
      "Copying text using optical character recognition...\n",
      "Harvesting dates...\n",
      "['03/30/2015', '03/30/2015', '03/30/2015']\n",
      "Date(s) found!\n",
      "Scanning R500380483.PDF...\n",
      "PDF Certificate of Occupancy 'R500380483.PDF' retrieved.\n",
      "Copying text using optical character recognition...\n",
      "Harvesting dates...\n"
     ]
    },
    {
     "name": "stderr",
     "output_type": "stream",
     "text": [
      "\r",
      "165it [41:56, 14.73s/it]"
     ]
    },
    {
     "name": "stdout",
     "output_type": "stream",
     "text": [
      "['03/30/2015', '03/30/2015', '03/30/2015']\n",
      "Date(s) found!\n",
      "On loop 166...\n",
      "Requested BIN 5858216 data from BIS, awaiting response...\n"
     ]
    },
    {
     "name": "stderr",
     "output_type": "stream",
     "text": [
      "\r",
      "166it [42:06, 13.55s/it]"
     ]
    },
    {
     "name": "stdout",
     "output_type": "stream",
     "text": [
      "Got a response.\n",
      "Discovered 0 Certificates of Occupancy.\n",
      "On loop 167...\n",
      "Requested BIN 3827132 data from BIS, awaiting response...\n",
      "Got a response.\n",
      "Discovered 1 Certificates of Occupancy.\n",
      "Scanning 320756151.PDF...\n",
      "PDF Certificate of Occupancy '320756151.PDF' retrieved.\n",
      "Copying text using optical character recognition...\n",
      "Harvesting dates...\n"
     ]
    },
    {
     "name": "stderr",
     "output_type": "stream",
     "text": [
      "\r",
      "167it [42:21, 13.80s/it]"
     ]
    },
    {
     "name": "stdout",
     "output_type": "stream",
     "text": [
      "[]\n",
      "No date found. Continuing...\n",
      "On loop 168...\n",
      "Requested BIN 4105868 data from BIS, awaiting response...\n",
      "Got a response.\n",
      "Discovered 2 Certificates of Occupancy.\n",
      "Scanning Q000057699.PDF...\n",
      "PDF Certificate of Occupancy 'Q000057699.PDF' retrieved.\n",
      "Copying text using optical character recognition...\n",
      "Harvesting dates...\n",
      "['08/12/2014', '08/12/2014']\n",
      "Date(s) found!\n",
      "Scanning 420805597F.PDF...\n",
      "PDF Certificate of Occupancy '420805597F.PDF' retrieved.\n",
      "Copying text using optical character recognition...\n",
      "Harvesting dates...\n"
     ]
    },
    {
     "name": "stderr",
     "output_type": "stream",
     "text": [
      "\r",
      "168it [42:37, 14.67s/it]"
     ]
    },
    {
     "name": "stdout",
     "output_type": "stream",
     "text": [
      "['08/12/2014', '08/12/2014']\n",
      "Date(s) found!\n",
      "On loop 169...\n",
      "Requested BIN 3140067 data from BIS, awaiting response...\n",
      "Got a response.\n",
      "Discovered 2 Certificates of Occupancy.\n",
      "Scanning B000094805.PDF...\n",
      "PDF Certificate of Occupancy 'B000094805.PDF' retrieved.\n",
      "Copying text using optical character recognition...\n",
      "Harvesting dates...\n",
      "['08/12/2014', '08/12/2014']\n",
      "Date(s) found!\n",
      "Scanning 320742381.PDF...\n",
      "Got the wait page. Trying to retrieve the PDF Certificate of Occupancy '320742381.PDF' again in five seconds...\n"
     ]
    },
    {
     "name": "stderr",
     "output_type": "stream",
     "text": [
      "\r",
      "169it [42:59, 16.61s/it]"
     ]
    },
    {
     "name": "stdout",
     "output_type": "stream",
     "text": [
      "After some delay, PDF Certificate of Occupancy '320742381.PDF' retrieved.\n",
      "Copying text using optical character recognition...\n",
      "Harvesting dates...\n",
      "[]\n",
      "No date found. Continuing...\n",
      "On loop 170...\n",
      "Requested BIN 4221547 data from BIS, awaiting response...\n",
      "Got a response.\n",
      "Discovered 1 Certificates of Occupancy.\n",
      "Scanning Q000088592.PDF...\n",
      "Got the wait page. Trying to retrieve the PDF Certificate of Occupancy 'Q000088592.PDF' again in five seconds...\n",
      "Got the wait page. Trying to retrieve the PDF Certificate of Occupancy 'Q000088592.PDF' again in five seconds...\n",
      "Got the wait page. Trying to retrieve the PDF Certificate of Occupancy 'Q000088592.PDF' again in five seconds...\n",
      "After some delay, PDF Certificate of Occupancy 'Q000088592.PDF' retrieved.\n",
      "Copying text using optical character recognition...\n",
      "Harvesting dates...\n"
     ]
    },
    {
     "name": "stderr",
     "output_type": "stream",
     "text": [
      "\r",
      "170it [43:42, 24.70s/it]"
     ]
    },
    {
     "name": "stdout",
     "output_type": "stream",
     "text": [
      "['07/21/2015', '07/21/2015', '07/21/2015']\n",
      "Date(s) found!\n",
      "On loop 171...\n",
      "Requested BIN 3107718 data from BIS, awaiting response...\n",
      "Got a response.\n",
      "Discovered 1 Certificates of Occupancy.\n",
      "Scanning B000230624.PDF...\n",
      "PDF Certificate of Occupancy 'B000230624.PDF' retrieved.\n",
      "Copying text using optical character recognition...\n",
      "Harvesting dates...\n"
     ]
    },
    {
     "name": "stderr",
     "output_type": "stream",
     "text": [
      "\r",
      "171it [43:56, 21.53s/it]"
     ]
    },
    {
     "name": "stdout",
     "output_type": "stream",
     "text": [
      "['07/21/2015', '07/21/2015', '07/21/2015']\n",
      "Date(s) found!\n",
      "On loop 172...\n",
      "Requested BIN 5860463 data from BIS, awaiting response...\n"
     ]
    },
    {
     "name": "stderr",
     "output_type": "stream",
     "text": [
      "\r",
      "172it [44:07, 18.26s/it]"
     ]
    },
    {
     "name": "stdout",
     "output_type": "stream",
     "text": [
      "Got a response.\n",
      "Discovered 0 Certificates of Occupancy.\n",
      "On loop 173...\n",
      "Requested BIN 5860484 data from BIS, awaiting response...\n"
     ]
    },
    {
     "name": "stderr",
     "output_type": "stream",
     "text": [
      "\r",
      "173it [44:18, 15.97s/it]"
     ]
    },
    {
     "name": "stdout",
     "output_type": "stream",
     "text": [
      "Got a response.\n",
      "Discovered 0 Certificates of Occupancy.\n",
      "On loop 174...\n",
      "Requested BIN 3402929 data from BIS, awaiting response...\n"
     ]
    },
    {
     "name": "stderr",
     "output_type": "stream",
     "text": [
      "\r",
      "174it [44:28, 14.37s/it]"
     ]
    },
    {
     "name": "stdout",
     "output_type": "stream",
     "text": [
      "Got a response.\n",
      "Discovered 0 Certificates of Occupancy.\n",
      "On loop 175...\n",
      "Requested BIN 3402993 data from BIS, awaiting response...\n",
      "Got a response.\n",
      "Discovered 1 Certificates of Occupancy.\n",
      "Scanning 320756160.PDF...\n",
      "PDF Certificate of Occupancy '320756160.PDF' retrieved.\n",
      "Copying text using optical character recognition...\n",
      "Harvesting dates...\n"
     ]
    },
    {
     "name": "stderr",
     "output_type": "stream",
     "text": [
      "\r",
      "175it [44:40, 13.53s/it]"
     ]
    },
    {
     "name": "stdout",
     "output_type": "stream",
     "text": [
      "[]\n",
      "No date found. Continuing...\n",
      "On loop 176...\n",
      "Requested BIN 5861033 data from BIS, awaiting response...\n"
     ]
    },
    {
     "name": "stderr",
     "output_type": "stream",
     "text": [
      "\r",
      "176it [44:50, 12.68s/it]"
     ]
    },
    {
     "name": "stdout",
     "output_type": "stream",
     "text": [
      "Got a response.\n",
      "Discovered 0 Certificates of Occupancy.\n",
      "On loop 177...\n",
      "Requested BIN 5861034 data from BIS, awaiting response...\n"
     ]
    },
    {
     "name": "stderr",
     "output_type": "stream",
     "text": [
      "\r",
      "177it [45:02, 12.26s/it]"
     ]
    },
    {
     "name": "stdout",
     "output_type": "stream",
     "text": [
      "Got a response.\n",
      "Discovered 0 Certificates of Occupancy.\n",
      "On loop 178...\n",
      "Requested BIN 5041922 data from BIS, awaiting response...\n"
     ]
    },
    {
     "name": "stderr",
     "output_type": "stream",
     "text": [
      "\r",
      "178it [45:12, 11.74s/it]"
     ]
    },
    {
     "name": "stdout",
     "output_type": "stream",
     "text": [
      "Got a response.\n",
      "Discovered 0 Certificates of Occupancy.\n",
      "On loop 179...\n",
      "Requested BIN 5861663 data from BIS, awaiting response...\n",
      "Got a response.\n",
      "Discovered 1 Certificates of Occupancy.\n",
      "Scanning 520161128F.PDF...\n",
      "PDF Certificate of Occupancy '520161128F.PDF' retrieved.\n",
      "Copying text using optical character recognition...\n",
      "Harvesting dates...\n"
     ]
    },
    {
     "name": "stderr",
     "output_type": "stream",
     "text": [
      "\r",
      "179it [45:25, 12.05s/it]"
     ]
    },
    {
     "name": "stdout",
     "output_type": "stream",
     "text": [
      "['08/01/2014', '08/01/2014']\n",
      "Date(s) found!\n",
      "On loop 180...\n",
      "Requested BIN 1078240 data from BIS, awaiting response...\n",
      "Got a response.\n",
      "Discovered 7 Certificates of Occupancy.\n",
      "Scanning M000012721.PDF...\n",
      "PDF Certificate of Occupancy 'M000012721.PDF' retrieved.\n",
      "Copying text using optical character recognition...\n",
      "Harvesting dates...\n",
      "['02/19/2016', '02/19/2016', '02/19/2016']\n",
      "Date(s) found!\n",
      "Scanning M000014373.PDF...\n",
      "Got the wait page. Trying to retrieve the PDF Certificate of Occupancy 'M000014373.PDF' again in five seconds...\n",
      "Got the wait page. Trying to retrieve the PDF Certificate of Occupancy 'M000014373.PDF' again in five seconds...\n",
      "After some delay, PDF Certificate of Occupancy 'M000014373.PDF' retrieved.\n",
      "Copying text using optical character recognition...\n",
      "Harvesting dates...\n",
      "['02/19/2016', '02/19/2016', '02/19/2016']\n",
      "Date(s) found!\n",
      "Scanning M000014638.PDF...\n",
      "PDF Certificate of Occupancy 'M000014638.PDF' retrieved.\n",
      "Copying text using optical character recognition...\n",
      "Harvesting dates...\n",
      "['02/19/2016', '02/19/2016', '02/19/2016']\n",
      "Date(s) found!\n",
      "Scanning M000029865.PDF...\n",
      "PDF Certificate of Occupancy 'M000029865.PDF' retrieved.\n",
      "Copying text using optical character recognition...\n",
      "Harvesting dates...\n",
      "['02/19/2016', '02/19/2016', '02/19/2016']\n",
      "Date(s) found!\n",
      "Scanning M000012721.PDF...\n",
      "PDF Certificate of Occupancy 'M000012721.PDF' retrieved.\n",
      "Copying text using optical character recognition...\n",
      "Harvesting dates...\n",
      "['02/19/2016', '02/19/2016', '02/19/2016']\n",
      "Date(s) found!\n",
      "Scanning M000014373.PDF...\n",
      "PDF Certificate of Occupancy 'M000014373.PDF' retrieved.\n",
      "Copying text using optical character recognition...\n",
      "Harvesting dates...\n",
      "['02/19/2016', '02/19/2016', '02/19/2016']\n",
      "Date(s) found!\n",
      "Scanning M000029865.PDF...\n",
      "PDF Certificate of Occupancy 'M000029865.PDF' retrieved.\n",
      "Copying text using optical character recognition...\n",
      "Harvesting dates...\n"
     ]
    },
    {
     "name": "stderr",
     "output_type": "stream",
     "text": [
      "\r",
      "180it [46:22, 25.52s/it]"
     ]
    },
    {
     "name": "stdout",
     "output_type": "stream",
     "text": [
      "['02/19/2016', '02/19/2016', '02/19/2016']\n",
      "Date(s) found!\n",
      "On loop 181...\n",
      "Requested BIN 4155560 data from BIS, awaiting response...\n"
     ]
    },
    {
     "name": "stderr",
     "output_type": "stream",
     "text": [
      "\r",
      "181it [46:33, 21.07s/it]"
     ]
    },
    {
     "name": "stdout",
     "output_type": "stream",
     "text": [
      "Got a response.\n",
      "Discovered 0 Certificates of Occupancy.\n",
      "On loop 182...\n",
      "Requested BIN 4224102 data from BIS, awaiting response...\n"
     ]
    },
    {
     "name": "stderr",
     "output_type": "stream",
     "text": [
      "\r",
      "182it [46:44, 18.07s/it]"
     ]
    },
    {
     "name": "stdout",
     "output_type": "stream",
     "text": [
      "Got a response.\n",
      "Discovered 0 Certificates of Occupancy.\n",
      "On loop 183...\n",
      "Requested BIN 5863056 data from BIS, awaiting response...\n",
      "Got a response.\n",
      "Discovered 1 Certificates of Occupancy.\n",
      "Scanning 520094601F.PDF...\n",
      "PDF Certificate of Occupancy '520094601F.PDF' retrieved.\n",
      "Copying text using optical character recognition...\n",
      "Harvesting dates...\n"
     ]
    },
    {
     "name": "stderr",
     "output_type": "stream",
     "text": [
      "\r",
      "183it [47:03, 18.33s/it]"
     ]
    },
    {
     "name": "stdout",
     "output_type": "stream",
     "text": [
      "['02/19/2016', '02/19/2016', '02/19/2016']\n",
      "Date(s) found!\n",
      "On loop 184...\n",
      "Requested BIN 5044235 data from BIS, awaiting response...\n",
      "Got a response.\n",
      "Discovered 1 Certificates of Occupancy.\n",
      "Scanning 520125597F.PDF...\n",
      "PDF Certificate of Occupancy '520125597F.PDF' retrieved.\n",
      "Copying text using optical character recognition...\n",
      "Harvesting dates...\n"
     ]
    },
    {
     "name": "stderr",
     "output_type": "stream",
     "text": [
      "\r",
      "184it [47:22, 18.55s/it]"
     ]
    },
    {
     "name": "stdout",
     "output_type": "stream",
     "text": [
      "['02/19/2016', '02/19/2016', '02/19/2016']\n",
      "Date(s) found!\n",
      "On loop 185...\n",
      "Requested BIN 4159853 data from BIS, awaiting response...\n",
      "Got a response.\n",
      "Discovered 1 Certificates of Occupancy.\n",
      "Scanning 420621456F.PDF...\n",
      "PDF Certificate of Occupancy '420621456F.PDF' retrieved.\n",
      "Copying text using optical character recognition...\n",
      "Harvesting dates...\n"
     ]
    },
    {
     "name": "stderr",
     "output_type": "stream",
     "text": [
      "\r",
      "185it [47:41, 18.77s/it]"
     ]
    },
    {
     "name": "stdout",
     "output_type": "stream",
     "text": [
      "['02/19/2016', '02/19/2016', '02/19/2016']\n",
      "Date(s) found!\n",
      "On loop 186...\n",
      "Requested BIN 1080831 data from BIS, awaiting response...\n",
      "Got a response.\n",
      "Discovered 6 Certificates of Occupancy.\n",
      "Scanning M000074762.PDF...\n",
      "Got the wait page. Trying to retrieve the PDF Certificate of Occupancy 'M000074762.PDF' again in five seconds...\n",
      "After some delay, PDF Certificate of Occupancy 'M000074762.PDF' retrieved.\n",
      "Copying text using optical character recognition...\n",
      "Harvesting dates...\n",
      "['07/15/2014']\n",
      "Date(s) found!\n",
      "Scanning 121325495-02.PDF...\n",
      "PDF Certificate of Occupancy '121325495-02.PDF' retrieved.\n",
      "Copying text using optical character recognition...\n",
      "Harvesting dates...\n",
      "['07/15/2014']\n",
      "Date(s) found!\n",
      "Scanning 121325495-05.PDF...\n",
      "PDF Certificate of Occupancy '121325495-05.PDF' retrieved.\n",
      "Copying text using optical character recognition...\n",
      "Harvesting dates...\n",
      "['07/15/2014']\n",
      "Date(s) found!\n",
      "Scanning 121325495-04.PDF...\n",
      "PDF Certificate of Occupancy '121325495-04.PDF' retrieved.\n",
      "Copying text using optical character recognition...\n",
      "Harvesting dates...\n",
      "['07/15/2014']\n",
      "Date(s) found!\n",
      "Scanning 121325495-01.PDF...\n",
      "PDF Certificate of Occupancy '121325495-01.PDF' retrieved.\n",
      "Copying text using optical character recognition...\n",
      "Harvesting dates...\n",
      "['07/15/2014']\n",
      "Date(s) found!\n",
      "Scanning 121325495-03.PDF...\n",
      "PDF Certificate of Occupancy '121325495-03.PDF' retrieved.\n",
      "Copying text using optical character recognition...\n",
      "Harvesting dates...\n"
     ]
    },
    {
     "name": "stderr",
     "output_type": "stream",
     "text": [
      "\r",
      "186it [48:46, 32.53s/it]"
     ]
    },
    {
     "name": "stdout",
     "output_type": "stream",
     "text": [
      "['07/15/2014']\n",
      "Date(s) found!\n"
     ]
    },
    {
     "name": "stderr",
     "output_type": "stream",
     "text": [
      "\n"
     ]
    }
   ],
   "source": [
    "c_of_o_dict = dict()\n",
    "counter = 0\n",
    "for ind in tqdm((august_2013_permits).iterrows()):\n",
    "    print(\"On loop {0}...\".format(counter + 1))\n",
    "    boro = ind[1]['BOROUGH']\n",
    "    bin = ind[1]['Bin #']\n",
    "    boro_code = borough_map[boro]\n",
    "    c_of_o_dict[bin] = co_reader.get_co_date(bin, boro_code)\n",
    "    counter += 1"
   ]
  },
  {
   "cell_type": "code",
   "execution_count": 29,
   "metadata": {
    "collapsed": false,
    "scrolled": true
   },
   "outputs": [
    {
     "data": {
      "text/plain": [
       "{1039598: None,\n",
       " 1078240: datetime.datetime(2016, 2, 19, 0, 0, tzinfo=tzutc()),\n",
       " 1080831: datetime.datetime(2014, 7, 15, 0, 0, tzinfo=tzutc()),\n",
       " 1082214: None,\n",
       " 1085940: None,\n",
       " 1088829: None,\n",
       " 1089321: None,\n",
       " 2000570: datetime.datetime(2014, 11, 25, 0, 0, tzinfo=tzutc()),\n",
       " 2016152: None,\n",
       " 2016441: datetime.datetime(2015, 3, 2, 0, 0, tzinfo=tzutc()),\n",
       " 2055853: datetime.datetime(2015, 8, 27, 0, 0, tzinfo=tzutc()),\n",
       " 2072797: None,\n",
       " 2119001: None,\n",
       " 2800767: datetime.datetime(2015, 9, 11, 0, 0, tzinfo=tzutc()),\n",
       " 2829339: None,\n",
       " 2829340: None,\n",
       " 2829341: None,\n",
       " 2829342: None,\n",
       " 2829372: None,\n",
       " 2829374: None,\n",
       " 2829375: None,\n",
       " 2829376: None,\n",
       " 2829377: None,\n",
       " 2829378: None,\n",
       " 2829379: None,\n",
       " 2829380: None,\n",
       " 2829381: None,\n",
       " 2829382: None,\n",
       " 2829383: None,\n",
       " 2829384: None,\n",
       " 2829385: None,\n",
       " 2831362: None,\n",
       " 2832138: None,\n",
       " 3000634: datetime.datetime(2016, 2, 16, 0, 0, tzinfo=tzutc()),\n",
       " 3062376: datetime.datetime(2014, 4, 15, 0, 0, tzinfo=tzutc()),\n",
       " 3063353: datetime.datetime(2014, 9, 11, 0, 0, tzinfo=tzutc()),\n",
       " 3088244: datetime.datetime(2014, 8, 21, 0, 0, tzinfo=tzutc()),\n",
       " 3107718: datetime.datetime(2015, 7, 21, 0, 0, tzinfo=tzutc()),\n",
       " 3131104: None,\n",
       " 3131134: None,\n",
       " 3137429: None,\n",
       " 3140067: datetime.datetime(2014, 8, 12, 0, 0, tzinfo=tzutc()),\n",
       " 3182609: None,\n",
       " 3220959: None,\n",
       " 3325861: datetime.datetime(2016, 1, 25, 0, 0, tzinfo=tzutc()),\n",
       " 3398118: datetime.datetime(2015, 6, 18, 0, 0, tzinfo=tzutc()),\n",
       " 3398258: None,\n",
       " 3398374: datetime.datetime(2014, 6, 24, 0, 0, tzinfo=tzutc()),\n",
       " 3398375: None,\n",
       " 3398417: None,\n",
       " 3398428: datetime.datetime(2016, 1, 7, 0, 0, tzinfo=tzutc()),\n",
       " 3398449: None,\n",
       " 3399064: datetime.datetime(2016, 4, 20, 0, 0, tzinfo=tzutc()),\n",
       " 3399065: datetime.datetime(2015, 8, 20, 0, 0, tzinfo=tzutc()),\n",
       " 3399066: datetime.datetime(2015, 8, 28, 0, 0, tzinfo=tzutc()),\n",
       " 3399067: datetime.datetime(2015, 8, 20, 0, 0, tzinfo=tzutc()),\n",
       " 3402929: None,\n",
       " 3402993: None,\n",
       " 3410228: datetime.datetime(2015, 7, 14, 0, 0, tzinfo=tzutc()),\n",
       " 3807374: datetime.datetime(2015, 4, 15, 0, 0, tzinfo=tzutc()),\n",
       " 3819111: datetime.datetime(2014, 11, 20, 0, 0, tzinfo=tzutc()),\n",
       " 3827132: None,\n",
       " 3851222: datetime.datetime(2014, 6, 11, 0, 0, tzinfo=tzutc()),\n",
       " 3851635: None,\n",
       " 3853611: None,\n",
       " 3856360: None,\n",
       " 4000093: None,\n",
       " 4004803: None,\n",
       " 4004953: datetime.datetime(2014, 4, 25, 0, 0, tzinfo=tzutc()),\n",
       " 4008028: None,\n",
       " 4008506: None,\n",
       " 4040944: None,\n",
       " 4044745: datetime.datetime(2015, 9, 3, 0, 0, tzinfo=tzutc()),\n",
       " 4101093: datetime.datetime(2016, 5, 20, 0, 0, tzinfo=tzutc()),\n",
       " 4105868: datetime.datetime(2014, 8, 12, 0, 0, tzinfo=tzutc()),\n",
       " 4117462: None,\n",
       " 4120329: None,\n",
       " 4121353: datetime.datetime(2014, 8, 12, 0, 0, tzinfo=tzutc()),\n",
       " 4134801: datetime.datetime(2014, 9, 26, 0, 0, tzinfo=tzutc()),\n",
       " 4141752: datetime.datetime(2015, 9, 9, 0, 0, tzinfo=tzutc()),\n",
       " 4155560: None,\n",
       " 4159853: datetime.datetime(2016, 2, 19, 0, 0, tzinfo=tzutc()),\n",
       " 4162303: datetime.datetime(2014, 1, 14, 0, 0, tzinfo=tzutc()),\n",
       " 4163416: datetime.datetime(2015, 3, 9, 0, 0, tzinfo=tzutc()),\n",
       " 4163841: datetime.datetime(2015, 7, 14, 0, 0, tzinfo=tzutc()),\n",
       " 4212792: None,\n",
       " 4214980: None,\n",
       " 4214981: None,\n",
       " 4221547: datetime.datetime(2015, 7, 21, 0, 0, tzinfo=tzutc()),\n",
       " 4224102: None,\n",
       " 4305516: None,\n",
       " 4306387: datetime.datetime(2015, 9, 9, 0, 0, tzinfo=tzutc()),\n",
       " 4442276: datetime.datetime(2016, 2, 16, 0, 0, tzinfo=tzutc()),\n",
       " 4464467: None,\n",
       " 4465392: None,\n",
       " 4465824: datetime.datetime(2016, 4, 6, 0, 0, tzinfo=tzutc()),\n",
       " 4465850: datetime.datetime(2016, 4, 6, 0, 0, tzinfo=tzutc()),\n",
       " 4466104: None,\n",
       " 4466176: None,\n",
       " 4466513: datetime.datetime(2014, 5, 22, 0, 0, tzinfo=tzutc()),\n",
       " 4466643: None,\n",
       " 4466659: None,\n",
       " 4467216: None,\n",
       " 4529910: None,\n",
       " 4538134: datetime.datetime(2015, 5, 7, 0, 0, tzinfo=tzutc()),\n",
       " 4538167: datetime.datetime(2015, 7, 1, 0, 0, tzinfo=tzutc()),\n",
       " 4541524: None,\n",
       " 4541577: datetime.datetime(2014, 9, 11, 0, 0, tzinfo=tzutc()),\n",
       " 4541630: None,\n",
       " 4542663: None,\n",
       " 4542669: None,\n",
       " 4542710: None,\n",
       " 4542912: None,\n",
       " 4543773: datetime.datetime(2014, 1, 14, 0, 0, tzinfo=tzutc()),\n",
       " 4544604: None,\n",
       " 4547155: None,\n",
       " 4547156: datetime.datetime(2014, 8, 12, 0, 0, tzinfo=tzutc()),\n",
       " 4565110: None,\n",
       " 4565111: None,\n",
       " 4565115: None,\n",
       " 4571598: datetime.datetime(2016, 1, 25, 0, 0, tzinfo=tzutc()),\n",
       " 4593965: datetime.datetime(2015, 11, 6, 0, 0, tzinfo=tzutc()),\n",
       " 4863747: None,\n",
       " 4864530: None,\n",
       " 4865460: None,\n",
       " 4865462: datetime.datetime(2016, 1, 19, 0, 0, tzinfo=tzutc()),\n",
       " 5029412: datetime.datetime(2016, 1, 21, 0, 0, tzinfo=tzutc()),\n",
       " 5034136: datetime.datetime(2015, 3, 30, 0, 0, tzinfo=tzutc()),\n",
       " 5041922: None,\n",
       " 5044235: datetime.datetime(2016, 2, 19, 0, 0, tzinfo=tzutc()),\n",
       " 5047261: datetime.datetime(2014, 11, 25, 0, 0, tzinfo=tzutc()),\n",
       " 5062667: None,\n",
       " 5158554: datetime.datetime(2015, 9, 9, 0, 0, tzinfo=tzutc()),\n",
       " 5158555: None,\n",
       " 5158556: datetime.datetime(2015, 9, 3, 0, 0, tzinfo=tzutc()),\n",
       " 5158980: None,\n",
       " 5158989: datetime.datetime(2015, 8, 28, 0, 0, tzinfo=tzutc()),\n",
       " 5159056: datetime.datetime(2014, 4, 30, 0, 0, tzinfo=tzutc()),\n",
       " 5159057: datetime.datetime(2014, 7, 31, 0, 0, tzinfo=tzutc()),\n",
       " 5159058: datetime.datetime(2014, 1, 14, 0, 0, tzinfo=tzutc()),\n",
       " 5159059: datetime.datetime(2014, 1, 14, 0, 0, tzinfo=tzutc()),\n",
       " 5159060: datetime.datetime(2014, 1, 14, 0, 0, tzinfo=tzutc()),\n",
       " 5159061: datetime.datetime(2013, 12, 31, 0, 0, tzinfo=tzutc()),\n",
       " 5159118: datetime.datetime(2014, 1, 14, 0, 0, tzinfo=tzutc()),\n",
       " 5159119: datetime.datetime(2014, 4, 30, 0, 0, tzinfo=tzutc()),\n",
       " 5159120: datetime.datetime(2014, 4, 30, 0, 0, tzinfo=tzutc()),\n",
       " 5159129: datetime.datetime(2014, 4, 30, 0, 0, tzinfo=tzutc()),\n",
       " 5159130: datetime.datetime(2014, 6, 5, 0, 0, tzinfo=tzutc()),\n",
       " 5159131: datetime.datetime(2014, 4, 30, 0, 0, tzinfo=tzutc()),\n",
       " 5159132: datetime.datetime(2014, 4, 30, 0, 0, tzinfo=tzutc()),\n",
       " 5159133: datetime.datetime(2014, 4, 30, 0, 0, tzinfo=tzutc()),\n",
       " 5159134: datetime.datetime(2014, 4, 11, 0, 0, tzinfo=tzutc()),\n",
       " 5159614: datetime.datetime(2015, 9, 11, 0, 0, tzinfo=tzutc()),\n",
       " 5161894: None,\n",
       " 5162170: None,\n",
       " 5162171: datetime.datetime(2014, 9, 25, 0, 0, tzinfo=tzutc()),\n",
       " 5162176: datetime.datetime(2014, 7, 17, 0, 0, tzinfo=tzutc()),\n",
       " 5162207: datetime.datetime(2014, 5, 2, 0, 0, tzinfo=tzutc()),\n",
       " 5162208: datetime.datetime(2014, 8, 7, 0, 0, tzinfo=tzutc()),\n",
       " 5162334: datetime.datetime(2014, 9, 12, 0, 0, tzinfo=tzutc()),\n",
       " 5162529: datetime.datetime(2014, 3, 25, 0, 0, tzinfo=tzutc()),\n",
       " 5163451: None,\n",
       " 5164082: datetime.datetime(2015, 7, 1, 0, 0, tzinfo=tzutc()),\n",
       " 5816196: datetime.datetime(2015, 4, 3, 0, 0, tzinfo=tzutc()),\n",
       " 5857593: None,\n",
       " 5857594: None,\n",
       " 5857595: None,\n",
       " 5857596: None,\n",
       " 5857597: None,\n",
       " 5857598: None,\n",
       " 5857599: None,\n",
       " 5857600: None,\n",
       " 5857601: None,\n",
       " 5857602: None,\n",
       " 5857603: None,\n",
       " 5858114: datetime.datetime(2014, 9, 25, 0, 0, tzinfo=tzutc()),\n",
       " 5858115: datetime.datetime(2014, 10, 16, 0, 0, tzinfo=tzutc()),\n",
       " 5858116: datetime.datetime(2015, 2, 5, 0, 0, tzinfo=tzutc()),\n",
       " 5858216: None,\n",
       " 5860463: None,\n",
       " 5860484: None,\n",
       " 5861033: None,\n",
       " 5861034: None,\n",
       " 5861035: None,\n",
       " 5861663: datetime.datetime(2014, 8, 1, 0, 0, tzinfo=tzutc()),\n",
       " 5863056: datetime.datetime(2016, 2, 19, 0, 0, tzinfo=tzutc())}"
      ]
     },
     "execution_count": 29,
     "metadata": {},
     "output_type": "execute_result"
    }
   ],
   "source": [
    "c_of_o_dict"
   ]
  },
  {
   "cell_type": "code",
   "execution_count": 35,
   "metadata": {
    "collapsed": false,
    "scrolled": true
   },
   "outputs": [
    {
     "data": {
      "text/plain": [
       "85"
      ]
     },
     "execution_count": 35,
     "metadata": {},
     "output_type": "execute_result"
    }
   ],
   "source": [
    "len([date for (bin, date) in c_of_o_dict.items() if date != None])"
   ]
  },
  {
   "cell_type": "markdown",
   "metadata": {},
   "source": [
    "### Data validation check\n",
    "\n",
    "186 new building construction permits were issued in August 2013. As of late June 2016, 85 of these have corresponding certificates of occupancy on record. This correspondgs with a `85/186 = ~45%` completion rate.\n",
    "\n",
    "85*12=1020, so this data implies that in New York City there are around 2000 new building construction permits are issued per year, of which 1000 new buildings are completed per year.\n",
    "\n",
    "Is this figure reasonable? [According to the DOB component of the Mayor's Management Report](http://www1.nyc.gov/assets/operations/downloads/pdf/pmmr2016/dob.pdf), a typical financial year in New York City sees the issuance of approximately 5,500 certificates of occupancy. This implies that approximately one in five certificates issued are for new buildings, while the remaining four in five certificates issued are for significantly renovated existing ones.\n",
    "\n",
    "As a gut check, this seems reasonable.\n",
    "\n",
    "### Notes on the algorithm\n",
    "\n",
    "As expected this process of mining PDF pages is fairly slow. Still, the algorithm ran faster than expected, generating 186 results in 48 minutes, 46 seconds.\n",
    "\n",
    "This corresponds to an average runtime of approximately 16 seconds per bin.\n",
    "\n",
    "Fast failures occur in approximately 12 seconds. Documents with many documents to scan take approximately 20 seconds. \n",
    "\n",
    "Hitting a wait page extends the wait time 5 seconds apiece.\n",
    "\n",
    "The worst case response took 32 seconds. The best case response took 10.\n",
    "\n",
    "The full dataset contains 6136 bins, corresponding with a runtime of approximately 27.3 hours. A conversation must be had to verify that such a thing is necessary before a pull of such a magnitude be attempted."
   ]
  },
  {
   "cell_type": "code",
   "execution_count": 73,
   "metadata": {
    "collapsed": false
   },
   "outputs": [
    {
     "data": {
      "text/plain": [
       "numpy.datetime64('2014-01-14T00:00:00.000000000')"
      ]
     },
     "execution_count": 73,
     "metadata": {},
     "output_type": "execute_result"
    }
   ],
   "source": [
    "sample['Bin #'].map(lambda x: c_of_o_dict[x]).values[0]"
   ]
  },
  {
   "cell_type": "code",
   "execution_count": 83,
   "metadata": {
    "collapsed": false
   },
   "outputs": [
    {
     "name": "stderr",
     "output_type": "stream",
     "text": [
      "/Users/Honors/anaconda/envs/nyc-construction-timelines/lib/python2.7/site-packages/ipykernel/__main__.py:3: DeprecationWarning: parsing timezone aware datetimes is deprecated; this will raise an error in the future\n",
      "  app.launch_new_instance()\n"
     ]
    }
   ],
   "source": [
    "sample = august_2013_permits.copy()\n",
    "sample['Certificate Date'] = sample['Bin #'].map(lambda x: c_of_o_dict[x]).values\n",
    "sample['Filing Date'] = sample['Filing Date'].map(lambda x: np.datetime64(arrow.get(x,\"MM/DD/YYYY\").datetime))\n",
    "sample['Build Time'] = sample.apply(lambda srs: srs['Certificate Date'] - srs['Filing Date'], axis='columns')"
   ]
  },
  {
   "cell_type": "markdown",
   "metadata": {},
   "source": [
    "### Sample analysis\n",
    "\n",
    "Our initial sample is of a very small sample size, but it's still useful to see a few quick things."
   ]
  },
  {
   "cell_type": "code",
   "execution_count": 6,
   "metadata": {
    "collapsed": true
   },
   "outputs": [],
   "source": [
    "import seaborn as sns\n",
    "import matplotlib.pyplot as plt\n",
    "%matplotlib inline"
   ]
  },
  {
   "cell_type": "code",
   "execution_count": 99,
   "metadata": {
    "collapsed": false
   },
   "outputs": [],
   "source": [
    "pier = sample['Build Time'].map(lambda v: pd.isnull(v)).value_counts()\n",
    "pier.index = ['Built', 'Not Built']\n",
    "pier.name = ''"
   ]
  },
  {
   "cell_type": "markdown",
   "metadata": {},
   "source": [
    "#### August 2013&mdash;June 2016 newly permitted construction completion rate\n",
    "\n",
    "What percentage of construction permits issued in August of 2013 resulted in completed buildings as of today?"
   ]
  },
  {
   "cell_type": "code",
   "execution_count": 132,
   "metadata": {
    "collapsed": false
   },
   "outputs": [
    {
     "data": {
      "text/plain": [
       "<matplotlib.axes._subplots.AxesSubplot at 0x119c32710>"
      ]
     },
     "execution_count": 132,
     "metadata": {},
     "output_type": "execute_result"
    },
    {
     "data": {
      "image/png": "[encoded data removed]",
      "text/plain": [
       "<matplotlib.figure.Figure at 0x119c29410>"
      ]
     },
     "metadata": {},
     "output_type": "display_data"
    }
   ],
   "source": [
    "pier.plot(kind='pie', figsize=(8,8), fontsize=20, colors=('lightgreen', 'lightcoral')) # title='August 2013 Newly Permitted Construction')"
   ]
  },
  {
   "cell_type": "markdown",
   "metadata": {},
   "source": [
    "#### August 2013&mdash;June 2016 newly permitted construction completion times\n",
    "\n",
    "When did buildings with construction permits issued in August of 2013 actually complete?"
   ]
  },
  {
   "cell_type": "code",
   "execution_count": 131,
   "metadata": {
    "collapsed": false,
    "scrolled": true
   },
   "outputs": [
    {
     "data": {
      "image/png": "[encoded data removed]",
      "text/plain": [
       "<matplotlib.figure.Figure at 0x118463390>"
      ]
     },
     "metadata": {},
     "output_type": "display_data"
    }
   ],
   "source": [
    "sns.set_style('white')\n",
    "sns.distplot(sample['Build Time'][sample['Build Time'].notnull()].map(lambda t: t.days),\n",
    "             bins=10,\n",
    "             kde=False,\n",
    "             rug=True,\n",
    "             hist_kws={'alpha': 0.5},\n",
    "            )\n",
    "sns.despine()"
   ]
  },
  {
   "cell_type": "markdown",
   "metadata": {},
   "source": [
    "The lack of a discernable pattern in this data is surprising, but may simply be the result of a small sample size (with 86 data point in 10 bins, there are just 8.6 observations per bin). To take this further, a larger sample or a full run must be taken."
   ]
  },
  {
   "cell_type": "markdown",
   "metadata": {},
   "source": [
    "#### Archiving the data"
   ]
  },
  {
   "cell_type": "code",
   "execution_count": 140,
   "metadata": {
    "collapsed": false
   },
   "outputs": [],
   "source": [
    "deduped_new_building_permits.to_csv(\"new_building_permits.csv\")\n",
    "sample.to_csv(\"august_2013_sample.csv\")"
   ]
  },
  {
   "cell_type": "markdown",
   "metadata": {},
   "source": [
    "## Briefly&mdash;Site Fill\n",
    "\n",
    "The following data looks interesting. Perhaps it should be the target of further analysis?"
   ]
  },
  {
   "cell_type": "code",
   "execution_count": 135,
   "metadata": {
    "collapsed": false
   },
   "outputs": [
    {
     "data": {
      "text/plain": [
       "ON-SITE                                     3615\n",
       "USE UNDER 300 CU.YD                         1805\n",
       "OFF-SITE                                     701\n",
       "NONE                                          15\n",
       "Name: Site Fill, dtype: int64"
      ]
     },
     "execution_count": 135,
     "metadata": {},
     "output_type": "execute_result"
    }
   ],
   "source": [
    "deduped_new_building_permits['Site Fill'].value_counts()"
   ]
  },
  {
   "cell_type": "code",
   "execution_count": 138,
   "metadata": {
    "collapsed": false
   },
   "outputs": [
    {
     "data": {
      "image/png": "[encoded data removed]",
      "text/plain": [
       "<matplotlib.figure.Figure at 0x119035590>"
      ]
     },
     "metadata": {},
     "output_type": "display_data"
    }
   ],
   "source": [
    "deduped_new_building_permits['Site Fill'].value_counts().plot(kind='bar')\n",
    "sns.despine()"
   ]
  },
  {
   "cell_type": "markdown",
   "metadata": {},
   "source": [
    "## Reading Certificate of Occupation Data&mdash;Full Run\n",
    "\n",
    "The full algorithm takes over a day to run, so I broke it up into intermediate nightly steps."
   ]
  },
  {
   "cell_type": "markdown",
   "metadata": {},
   "source": [
    "### Briefly&mdash;Examining Yearly Counts"
   ]
  },
  {
   "cell_type": "code",
   "execution_count": 8,
   "metadata": {
    "collapsed": true
   },
   "outputs": [],
   "source": [
    "import pandas as pd\n",
    "import seaborn as sns\n",
    "%matplotlib inline"
   ]
  },
  {
   "cell_type": "code",
   "execution_count": 6,
   "metadata": {
    "collapsed": false,
    "scrolled": true
   },
   "outputs": [],
   "source": [
    "deduped_new_building_permits = pd.read_csv(\"new_building_permits.csv\")"
   ]
  },
  {
   "cell_type": "code",
   "execution_count": 9,
   "metadata": {
    "collapsed": false
   },
   "outputs": [
    {
     "data": {
      "text/plain": [
       "<matplotlib.axes._subplots.AxesSubplot at 0x1111c5d50>"
      ]
     },
     "execution_count": 9,
     "metadata": {},
     "output_type": "execute_result"
    },
    {
     "data": {
      "image/png": "[encoded data removed]",
      "text/plain": [
       "<matplotlib.figure.Figure at 0x1111b3090>"
      ]
     },
     "metadata": {},
     "output_type": "display_data"
    }
   ],
   "source": [
    "years = deduped_new_building_permits['Filing Date'].map(lambda x: arrow.get(x,\"MM/DD/YYYY\").year)\n",
    "sns.countplot(years)"
   ]
  },
  {
   "cell_type": "code",
   "execution_count": 10,
   "metadata": {
    "collapsed": false
   },
   "outputs": [],
   "source": [
    "deduped_new_building_permits['Year'] = deduped_new_building_permits['Filing Date'].map(lambda x: arrow.get(x,\"MM/DD/YYYY\").year)"
   ]
  },
  {
   "cell_type": "code",
   "execution_count": 11,
   "metadata": {
    "collapsed": false
   },
   "outputs": [
    {
     "data": {
      "text/html": [
       "<div>\n",
       "<table border=\"1\" class=\"dataframe\">\n",
       "  <thead>\n",
       "    <tr style=\"text-align: right;\">\n",
       "      <th></th>\n",
       "      <th>Unnamed: 0</th>\n",
       "      <th>BOROUGH</th>\n",
       "      <th>Bin #</th>\n",
       "      <th>House #</th>\n",
       "      <th>Street Name</th>\n",
       "      <th>Job #</th>\n",
       "      <th>Job doc. #</th>\n",
       "      <th>Job Type</th>\n",
       "      <th>Self_Cert</th>\n",
       "      <th>Block</th>\n",
       "      <th>...</th>\n",
       "      <th>Owner's First Name</th>\n",
       "      <th>Owner's Last Name</th>\n",
       "      <th>Owner's House #</th>\n",
       "      <th>Owner's House Street Name</th>\n",
       "      <th>Owner’s House City</th>\n",
       "      <th>Owner’s House State</th>\n",
       "      <th>Owner’s House Zip Code</th>\n",
       "      <th>Owner's Phone #</th>\n",
       "      <th>DOBRunDate</th>\n",
       "      <th>Year</th>\n",
       "    </tr>\n",
       "  </thead>\n",
       "  <tbody>\n",
       "    <tr>\n",
       "      <th>4078</th>\n",
       "      <td>336988</td>\n",
       "      <td>BROOKLYN</td>\n",
       "      <td>3855241.0</td>\n",
       "      <td>12749</td>\n",
       "      <td>FLATLANDS AVENUE</td>\n",
       "      <td>302322948.0</td>\n",
       "      <td>1.0</td>\n",
       "      <td>NB</td>\n",
       "      <td>Y</td>\n",
       "      <td>4566.0</td>\n",
       "      <td>...</td>\n",
       "      <td>JOHN</td>\n",
       "      <td>O'CONNELL</td>\n",
       "      <td>85-25</td>\n",
       "      <td>68 ROAD</td>\n",
       "      <td>REGO PARK</td>\n",
       "      <td>NY</td>\n",
       "      <td>11374.0</td>\n",
       "      <td>9.175778e+09</td>\n",
       "      <td>04/30/2015 12:00:00 AM</td>\n",
       "      <td>2008</td>\n",
       "    </tr>\n",
       "  </tbody>\n",
       "</table>\n",
       "<p>1 rows × 56 columns</p>\n",
       "</div>"
      ],
      "text/plain": [
       "      Unnamed: 0   BOROUGH      Bin #       House #  \\\n",
       "4078      336988  BROOKLYN  3855241.0  12749          \n",
       "\n",
       "                           Street Name        Job #  Job doc. # Job Type  \\\n",
       "4078  FLATLANDS AVENUE                  302322948.0         1.0       NB   \n",
       "\n",
       "     Self_Cert   Block  ...   Owner's First Name  \\\n",
       "4078         Y  4566.0  ...      JOHN              \n",
       "\n",
       "                   Owner's Last Name Owner's House #  \\\n",
       "4078  O'CONNELL                         85-25          \n",
       "\n",
       "             Owner's House Street Name Owner’s House City Owner’s House State  \\\n",
       "4078  68 ROAD                             REGO PARK                        NY   \n",
       "\n",
       "      Owner’s House Zip Code Owner's Phone #              DOBRunDate  Year  \n",
       "4078                 11374.0    9.175778e+09  04/30/2015 12:00:00 AM  2008  \n",
       "\n",
       "[1 rows x 56 columns]"
      ]
     },
     "execution_count": 11,
     "metadata": {},
     "output_type": "execute_result"
    }
   ],
   "source": [
    "deduped_new_building_permits[deduped_new_building_permits['Year'] == 2008]"
   ]
  },
  {
   "cell_type": "markdown",
   "metadata": {},
   "source": [
    "This entry exhibits that the leading years in the dataset are for permits which had an extremely long lag time between filing and issuance, for unknown reasons.\n",
    "\n",
    "We can lump the runs into \"2013 and earlier\", \"2014\", and \"2015\", and \"2016\"."
   ]
  },
  {
   "cell_type": "code",
   "execution_count": 12,
   "metadata": {
    "collapsed": false
   },
   "outputs": [],
   "source": [
    "permits_2008_to_2013 = deduped_new_building_permits[deduped_new_building_permits['Year'] <= 2013]\n",
    "permits_2014 = deduped_new_building_permits[deduped_new_building_permits['Year'] == 2014]\n",
    "permits_2015 = deduped_new_building_permits[deduped_new_building_permits['Year'] == 2015]\n",
    "permits_2016 = deduped_new_building_permits[deduped_new_building_permits['Year'] == 2016]"
   ]
  },
  {
   "cell_type": "code",
   "execution_count": 13,
   "metadata": {
    "collapsed": false
   },
   "outputs": [
    {
     "data": {
      "text/plain": [
       "(1332, 1869, 2207, 728)"
      ]
     },
     "execution_count": 13,
     "metadata": {},
     "output_type": "execute_result"
    }
   ],
   "source": [
    "len(permits_2008_to_2013), len(permits_2014), len(permits_2015), len(permits_2016)"
   ]
  },
  {
   "cell_type": "markdown",
   "metadata": {},
   "source": [
    "### Algorithm"
   ]
  },
  {
   "cell_type": "code",
   "execution_count": 19,
   "metadata": {
    "collapsed": true
   },
   "outputs": [],
   "source": [
    "from tqdm import tqdm\n",
    "import arrow\n",
    "import numpy as np\n",
    "import co_reader"
   ]
  },
  {
   "cell_type": "code",
   "execution_count": 15,
   "metadata": {
    "collapsed": false
   },
   "outputs": [],
   "source": [
    "def co_run(df):\n",
    "    borough_map = {\n",
    "        'BROOKLYN': 'B',\n",
    "        'QUEENS': 'Q',\n",
    "        'STATEN ISLAND': 'R',\n",
    "        'BRONX': 'X',\n",
    "        'MANHATTAN': 'M'\n",
    "    }\n",
    "    c_of_o_dict = dict()\n",
    "    counter = 0\n",
    "    for ind in tqdm((df).iterrows()):\n",
    "        print(\"On loop {0}...\".format(counter + 1))\n",
    "        boro = ind[1]['BOROUGH']\n",
    "        bin = ind[1]['Bin #']\n",
    "        boro_code = borough_map[boro]\n",
    "        c_of_o_dict[bin] = co_reader.get_co_date(bin, boro_code)\n",
    "        counter += 1\n",
    "    sample = df.copy()\n",
    "    sample['Certificate Date'] = sample['Bin #'].map(lambda x: c_of_o_dict[x]).values\n",
    "    sample['Filing Date'] = sample['Filing Date'].map(lambda x: np.datetime64(arrow.get(x,\"MM/DD/YYYY\").datetime))\n",
    "    sample['Build Time'] = sample.apply(lambda srs: srs['Certificate Date'] - srs['Filing Date'], axis='columns')\n",
    "    return sample"
   ]
  },
  {
   "cell_type": "code",
   "execution_count": 17,
   "metadata": {
    "collapsed": false
   },
   "outputs": [],
   "source": [
    "# test_run_result = co_run(permits_2008_to_2013.sample(2))"
   ]
  },
  {
   "cell_type": "code",
   "execution_count": 18,
   "metadata": {
    "collapsed": false
   },
   "outputs": [],
   "source": [
    "# test_run_result"
   ]
  },
  {
   "cell_type": "markdown",
   "metadata": {},
   "source": [
    "### First Part&mdash;2013 or earlier\n",
    "\n",
    "Excepted runtime for this first leg: 6 hours."
   ]
  },
  {
   "cell_type": "code",
   "execution_count": 20,
   "metadata": {
    "collapsed": false
   },
   "outputs": [
    {
     "name": "stderr",
     "output_type": "stream",
     "text": [
      "\r",
      "0it [00:00, ?it/s]"
     ]
    },
    {
     "name": "stdout",
     "output_type": "stream",
     "text": [
      "On loop 1...\n",
      "Requested BIN 2818049.0 data from BIS, awaiting response...\n",
      "Got a response.\n",
      "Discovered 8 Certificates of Occupancy.\n",
      "Scanning X000000627.PDF...\n",
      "PDF Certificate of Occupancy 'X000000627.PDF' retrieved.\n",
      "Copying text using optical character recognition...\n",
      "Harvesting dates...\n",
      "[]\n",
      "No date found. Continuing...\n",
      "Scanning X000004013.PDF...\n",
      "PDF Certificate of Occupancy 'X000004013.PDF' retrieved.\n",
      "Copying text using optical character recognition...\n",
      "Harvesting dates...\n",
      "[]\n",
      "No date found. Continuing...\n",
      "Scanning X000027982.PDF...\n",
      "PDF Certificate of Occupancy 'X000027982.PDF' retrieved.\n",
      "Copying text using optical character recognition...\n",
      "Harvesting dates...\n",
      "[]\n",
      "No date found. Continuing...\n",
      "Scanning X000037234.PDF...\n",
      "PDF Certificate of Occupancy 'X000037234.PDF' retrieved.\n",
      "Copying text using optical character recognition...\n",
      "Harvesting dates...\n",
      "[]\n",
      "No date found. Continuing...\n",
      "Scanning 220177350F.PDF...\n",
      "PDF Certificate of Occupancy '220177350F.PDF' retrieved.\n",
      "Copying text using optical character recognition...\n",
      "Harvesting dates...\n",
      "['11/02/2015', '11/02/2015']\n",
      "Date(s) found!\n",
      "Scanning 220177350T003.PDF...\n",
      "PDF Certificate of Occupancy '220177350T003.PDF' retrieved.\n",
      "Copying text using optical character recognition...\n",
      "Harvesting dates...\n",
      "['09/24/2015', '09/24/2015', '12/23/2015', '12/23/2015']\n",
      "Date(s) found!\n",
      "Scanning 220177350T001.PDF...\n",
      "PDF Certificate of Occupancy '220177350T001.PDF' retrieved.\n",
      "Copying text using optical character recognition...\n",
      "Harvesting dates...\n",
      "['06/25/2015', '06/25/2015', '08/08/2015', '08/08/2015']\n",
      "Date(s) found!\n",
      "Scanning 220177350T002.PDF...\n",
      "Got the wait page. Trying to retrieve the PDF Certificate of Occupancy '220177350T002.PDF' again in five seconds...\n",
      "After some delay, PDF Certificate of Occupancy '220177350T002.PDF' retrieved.\n",
      "Copying text using optical character recognition...\n",
      "Harvesting dates...\n"
     ]
    },
    {
     "name": "stderr",
     "output_type": "stream",
     "text": [
      "\r",
      "1it [07:38, 458.27s/it]"
     ]
    },
    {
     "name": "stdout",
     "output_type": "stream",
     "text": [
      "['07/01/2015', '07/01/2015', '09/29/2015', '09/29/2015']\n",
      "Date(s) found!\n",
      "On loop 2...\n",
      "Requested BIN 1015907.0 data from BIS, awaiting response...\n",
      "Got a response.\n",
      "Discovered 6 Certificates of Occupancy.\n",
      "Scanning M000005305.PDF...\n",
      "PDF Certificate of Occupancy 'M000005305.PDF' retrieved.\n",
      "Copying text using optical character recognition...\n"
     ]
    },
    {
     "name": "stderr",
     "output_type": "stream",
     "text": [
      "\n"
     ]
    },
    {
     "ename": "KeyboardInterrupt",
     "evalue": "",
     "output_type": "error",
     "traceback": [
      "\u001b[0;31m---------------------------------------------------------------------------\u001b[0m",
      "\u001b[0;31mKeyboardInterrupt\u001b[0m                         Traceback (most recent call last)",
      "\u001b[0;32m<ipython-input-20-87c5146faec8>\u001b[0m in \u001b[0;36m<module>\u001b[0;34m()\u001b[0m\n\u001b[0;32m----> 1\u001b[0;31m \u001b[0mleg_2008_to_2013\u001b[0m \u001b[0;34m=\u001b[0m \u001b[0mco_run\u001b[0m\u001b[0;34m(\u001b[0m\u001b[0mpermits_2008_to_2013\u001b[0m\u001b[0;34m)\u001b[0m\u001b[0;34m\u001b[0m\u001b[0m\n\u001b[0m",
      "\u001b[0;32m<ipython-input-15-2b473e65f3c6>\u001b[0m in \u001b[0;36mco_run\u001b[0;34m(df)\u001b[0m\n\u001b[1;32m     14\u001b[0m         \u001b[0mbin\u001b[0m \u001b[0;34m=\u001b[0m \u001b[0mind\u001b[0m\u001b[0;34m[\u001b[0m\u001b[0;36m1\u001b[0m\u001b[0;34m]\u001b[0m\u001b[0;34m[\u001b[0m\u001b[0;34m'Bin #'\u001b[0m\u001b[0;34m]\u001b[0m\u001b[0;34m\u001b[0m\u001b[0m\n\u001b[1;32m     15\u001b[0m         \u001b[0mboro_code\u001b[0m \u001b[0;34m=\u001b[0m \u001b[0mborough_map\u001b[0m\u001b[0;34m[\u001b[0m\u001b[0mboro\u001b[0m\u001b[0;34m]\u001b[0m\u001b[0;34m\u001b[0m\u001b[0m\n\u001b[0;32m---> 16\u001b[0;31m         \u001b[0mc_of_o_dict\u001b[0m\u001b[0;34m[\u001b[0m\u001b[0mbin\u001b[0m\u001b[0;34m]\u001b[0m \u001b[0;34m=\u001b[0m \u001b[0mco_reader\u001b[0m\u001b[0;34m.\u001b[0m\u001b[0mget_co_date\u001b[0m\u001b[0;34m(\u001b[0m\u001b[0mbin\u001b[0m\u001b[0;34m,\u001b[0m \u001b[0mboro_code\u001b[0m\u001b[0;34m)\u001b[0m\u001b[0;34m\u001b[0m\u001b[0m\n\u001b[0m\u001b[1;32m     17\u001b[0m         \u001b[0mcounter\u001b[0m \u001b[0;34m+=\u001b[0m \u001b[0;36m1\u001b[0m\u001b[0;34m\u001b[0m\u001b[0m\n\u001b[1;32m     18\u001b[0m     \u001b[0msample\u001b[0m \u001b[0;34m=\u001b[0m \u001b[0mdf\u001b[0m\u001b[0;34m.\u001b[0m\u001b[0mcopy\u001b[0m\u001b[0;34m(\u001b[0m\u001b[0;34m)\u001b[0m\u001b[0;34m\u001b[0m\u001b[0m\n",
      "\u001b[0;32m/Users/Honors/Desktop/nyc-construction-timeline/co_reader.py\u001b[0m in \u001b[0;36mget_co_date\u001b[0;34m(bin, borough_code)\u001b[0m\n\u001b[1;32m    249\u001b[0m         \u001b[0;31m# If the download returns True, run the resultant PDF through the scrape.\u001b[0m\u001b[0;34m\u001b[0m\u001b[0;34m\u001b[0m\u001b[0m\n\u001b[1;32m    250\u001b[0m         \u001b[0;32mprint\u001b[0m\u001b[0;34m(\u001b[0m\u001b[0;34m\"Copying text using optical character recognition...\"\u001b[0m\u001b[0;34m)\u001b[0m\u001b[0;34m\u001b[0m\u001b[0m\n\u001b[0;32m--> 251\u001b[0;31m         \u001b[0mtemp_ocr\u001b[0m \u001b[0;34m=\u001b[0m \u001b[0m_copy_pdf_using_ocr\u001b[0m\u001b[0;34m(\u001b[0m\u001b[0;34m\"temp.pdf\"\u001b[0m\u001b[0;34m)\u001b[0m\u001b[0;34m\u001b[0m\u001b[0m\n\u001b[0m\u001b[1;32m    252\u001b[0m         \u001b[0;32mprint\u001b[0m\u001b[0;34m(\u001b[0m\u001b[0;34m\"Harvesting dates...\"\u001b[0m\u001b[0;34m)\u001b[0m\u001b[0;34m\u001b[0m\u001b[0m\n\u001b[1;32m    253\u001b[0m         \u001b[0mco\u001b[0m \u001b[0;34m=\u001b[0m \u001b[0m_harvest_certificate_date_from_pdf\u001b[0m\u001b[0;34m(\u001b[0m\u001b[0mtemp_ocr\u001b[0m\u001b[0;34m)\u001b[0m\u001b[0;34m\u001b[0m\u001b[0m\n",
      "\u001b[0;32m/Users/Honors/Desktop/nyc-construction-timeline/co_reader.py\u001b[0m in \u001b[0;36m_copy_pdf_using_ocr\u001b[0;34m(pdf_filename)\u001b[0m\n\u001b[1;32m    181\u001b[0m     \"\"\"\n\u001b[1;32m    182\u001b[0m     \u001b[0mp\u001b[0m \u001b[0;34m=\u001b[0m \u001b[0msubprocess\u001b[0m\u001b[0;34m.\u001b[0m\u001b[0mPopen\u001b[0m\u001b[0;34m(\u001b[0m\u001b[0;34m\"pypdfocr {0}\"\u001b[0m\u001b[0;34m.\u001b[0m\u001b[0mformat\u001b[0m\u001b[0;34m(\u001b[0m\u001b[0mpdf_filename\u001b[0m\u001b[0;34m)\u001b[0m\u001b[0;34m,\u001b[0m \u001b[0mshell\u001b[0m\u001b[0;34m=\u001b[0m\u001b[0mTrue\u001b[0m\u001b[0;34m)\u001b[0m\u001b[0;34m\u001b[0m\u001b[0m\n\u001b[0;32m--> 183\u001b[0;31m     \u001b[0mp\u001b[0m\u001b[0;34m.\u001b[0m\u001b[0mwait\u001b[0m\u001b[0;34m(\u001b[0m\u001b[0;34m)\u001b[0m\u001b[0;34m\u001b[0m\u001b[0m\n\u001b[0m\u001b[1;32m    184\u001b[0m     \u001b[0;32mreturn\u001b[0m \u001b[0mpdf_filename\u001b[0m\u001b[0;34m.\u001b[0m\u001b[0mreplace\u001b[0m\u001b[0;34m(\u001b[0m\u001b[0;34m\".pdf\"\u001b[0m\u001b[0;34m,\u001b[0m \u001b[0;34m\"_ocr.pdf\"\u001b[0m\u001b[0;34m)\u001b[0m\u001b[0;34m\u001b[0m\u001b[0m\n\u001b[1;32m    185\u001b[0m \u001b[0;34m\u001b[0m\u001b[0m\n",
      "\u001b[0;32m/Users/Honors/anaconda/envs/nyc-construction-timelines/lib/python2.7/subprocess.pyc\u001b[0m in \u001b[0;36mwait\u001b[0;34m(self)\u001b[0m\n\u001b[1;32m   1382\u001b[0m             \u001b[0;32mwhile\u001b[0m \u001b[0mself\u001b[0m\u001b[0;34m.\u001b[0m\u001b[0mreturncode\u001b[0m \u001b[0;32mis\u001b[0m \u001b[0mNone\u001b[0m\u001b[0;34m:\u001b[0m\u001b[0;34m\u001b[0m\u001b[0m\n\u001b[1;32m   1383\u001b[0m                 \u001b[0;32mtry\u001b[0m\u001b[0;34m:\u001b[0m\u001b[0;34m\u001b[0m\u001b[0m\n\u001b[0;32m-> 1384\u001b[0;31m                     \u001b[0mpid\u001b[0m\u001b[0;34m,\u001b[0m \u001b[0msts\u001b[0m \u001b[0;34m=\u001b[0m \u001b[0m_eintr_retry_call\u001b[0m\u001b[0;34m(\u001b[0m\u001b[0mos\u001b[0m\u001b[0;34m.\u001b[0m\u001b[0mwaitpid\u001b[0m\u001b[0;34m,\u001b[0m \u001b[0mself\u001b[0m\u001b[0;34m.\u001b[0m\u001b[0mpid\u001b[0m\u001b[0;34m,\u001b[0m \u001b[0;36m0\u001b[0m\u001b[0;34m)\u001b[0m\u001b[0;34m\u001b[0m\u001b[0m\n\u001b[0m\u001b[1;32m   1385\u001b[0m                 \u001b[0;32mexcept\u001b[0m \u001b[0mOSError\u001b[0m \u001b[0;32mas\u001b[0m \u001b[0me\u001b[0m\u001b[0;34m:\u001b[0m\u001b[0;34m\u001b[0m\u001b[0m\n\u001b[1;32m   1386\u001b[0m                     \u001b[0;32mif\u001b[0m \u001b[0me\u001b[0m\u001b[0;34m.\u001b[0m\u001b[0merrno\u001b[0m \u001b[0;34m!=\u001b[0m \u001b[0merrno\u001b[0m\u001b[0;34m.\u001b[0m\u001b[0mECHILD\u001b[0m\u001b[0;34m:\u001b[0m\u001b[0;34m\u001b[0m\u001b[0m\n",
      "\u001b[0;32m/Users/Honors/anaconda/envs/nyc-construction-timelines/lib/python2.7/subprocess.pyc\u001b[0m in \u001b[0;36m_eintr_retry_call\u001b[0;34m(func, *args)\u001b[0m\n\u001b[1;32m    474\u001b[0m     \u001b[0;32mwhile\u001b[0m \u001b[0mTrue\u001b[0m\u001b[0;34m:\u001b[0m\u001b[0;34m\u001b[0m\u001b[0m\n\u001b[1;32m    475\u001b[0m         \u001b[0;32mtry\u001b[0m\u001b[0;34m:\u001b[0m\u001b[0;34m\u001b[0m\u001b[0m\n\u001b[0;32m--> 476\u001b[0;31m             \u001b[0;32mreturn\u001b[0m \u001b[0mfunc\u001b[0m\u001b[0;34m(\u001b[0m\u001b[0;34m*\u001b[0m\u001b[0margs\u001b[0m\u001b[0;34m)\u001b[0m\u001b[0;34m\u001b[0m\u001b[0m\n\u001b[0m\u001b[1;32m    477\u001b[0m         \u001b[0;32mexcept\u001b[0m \u001b[0;34m(\u001b[0m\u001b[0mOSError\u001b[0m\u001b[0;34m,\u001b[0m \u001b[0mIOError\u001b[0m\u001b[0;34m)\u001b[0m \u001b[0;32mas\u001b[0m \u001b[0me\u001b[0m\u001b[0;34m:\u001b[0m\u001b[0;34m\u001b[0m\u001b[0m\n\u001b[1;32m    478\u001b[0m             \u001b[0;32mif\u001b[0m \u001b[0me\u001b[0m\u001b[0;34m.\u001b[0m\u001b[0merrno\u001b[0m \u001b[0;34m==\u001b[0m \u001b[0merrno\u001b[0m\u001b[0;34m.\u001b[0m\u001b[0mEINTR\u001b[0m\u001b[0;34m:\u001b[0m\u001b[0;34m\u001b[0m\u001b[0m\n",
      "\u001b[0;31mKeyboardInterrupt\u001b[0m: "
     ]
    }
   ],
   "source": [
    "leg_2008_to_2013 = co_run(permits_2008_to_2013)"
   ]
  }
 ],
 "metadata": {
  "kernelspec": {
   "display_name": "Python 2",
   "language": "python",
   "name": "python2"
  },
  "language_info": {
   "codemirror_mode": {
    "name": "ipython",
    "version": 2
   },
   "file_extension": ".py",
   "mimetype": "text/x-python",
   "name": "python",
   "nbconvert_exporter": "python",
   "pygments_lexer": "ipython2",
   "version": "2.7.11"
  }
 },
 "nbformat": 4,
 "nbformat_minor": 0
}
