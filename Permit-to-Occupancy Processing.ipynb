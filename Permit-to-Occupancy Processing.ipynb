{
 "cells": [
  {
   "cell_type": "markdown",
   "metadata": {},
   "source": [
    "# Permit-to-Occupancy in New York City\n",
    "\n",
    "This notebook (along with files associated with it) examines the timeline of building construction to occupation in New York City.\n",
    "\n",
    "## Introduction\n",
    "\n",
    "### Construction Permit Process\n",
    "\n",
    "Before a new building can begin construction it has to go through a long professional vetting process. The Department of Buildings (DOB) is the principal governmental organization responsible for overseeing the inspections and paperwork required for breaking ground. Once the construction permit has been issued and posted, work can begin.\n",
    "\n",
    "### Certificate of Occupancy Process\n",
    "\n",
    "The last step of new building construction is obtaining a certificate of occupancy (\"C of O\" for short). This document affirms that the building in question has been deemed to conform to the building code and is safe to occupy. \n",
    "\n",
    "A C of O is required for a building to be legally occupiable. DOB verifies with other coordinating agencies that all other outstanding requirements for the building have been satisfied before issuing the permit. Thus obtaining a C of O is the last step of the process in opening and occupying a building.\n",
    "\n",
    "Most C of Os are permanent documents, however it is also possible to obtain an (expediated?) temporary document. Temporary C of Os have an expiration date, by which time a permanent document ought to have been granted. For our purposes we will treat them as equivalent documents.\n",
    "\n",
    "### Retrieving Certificates of Occupancy\n",
    "\n",
    "Certificates of Occupancy are publically available via the DOB [BIS interface](http://a810-bisweb.nyc.gov/bisweb/bsqpm01.jsp). This is an old interface and technically challenging to hook up to progammatically. Furthermore C of Os are stored as PDF documents, so access requires a pipeline for retrieving, loading, scanning, and parsing PDF text.\n",
    "\n",
    "The `co_reader.py` module in this repository implements this capacity. For more technical notes on how that's done refer to that module's documentation.\n",
    "\n",
    "### Retrieving Construction Permits\n",
    "\n",
    "DOB releases a rolling list of all DOB construction permits filed as a publically accessible [dataset](https://data.cityofnewyork.us/Housing-Development/DOB-Permit-Issuance/ipu4-2q9a) on the New York City Open Data portal. Retrieving these permits is merely a matter of accessing, extracting, and filtering this dataset.\n",
    "\n",
    "### Joining Permits to Certs\n",
    "\n",
    "As expected, both the permits database and the certification pages are keyed by building `BIN`. However since the cert data requires a massive and long-running web scraping operation, the permit data is used as a base and the cert data is joined against it."
   ]
  },
  {
   "cell_type": "markdown",
   "metadata": {},
   "source": [
    "## Reading Construction Permit Data\n",
    "\n",
    "The code below sets up our construction permit data."
   ]
  },
  {
   "cell_type": "code",
   "execution_count": 1,
   "metadata": {
    "collapsed": false
   },
   "outputs": [],
   "source": [
    "import pandas as pd\n",
    "import numpy as np\n",
    "from __future__ import print_function"
   ]
  },
  {
   "cell_type": "code",
   "execution_count": 2,
   "metadata": {
    "collapsed": true
   },
   "outputs": [],
   "source": [
    "pd.set_option(\"max_columns\", 500)"
   ]
  },
  {
   "cell_type": "code",
   "execution_count": 3,
   "metadata": {
    "collapsed": false
   },
   "outputs": [
    {
     "name": "stderr",
     "output_type": "stream",
     "text": [
      "/Users/Honors/anaconda/envs/nyc-construction-timelines/lib/python2.7/site-packages/IPython/core/interactiveshell.py:2723: DtypeWarning: Columns (1,8,9,11,12,31,51) have mixed types. Specify dtype option on import or set low_memory=False.\n",
      "  interactivity=interactivity, compiler=compiler, result=result)\n"
     ]
    }
   ],
   "source": [
    "permits = pd.read_csv(\"DOB_Permit_Issuance.csv\")"
   ]
  },
  {
   "cell_type": "code",
   "execution_count": 4,
   "metadata": {
    "collapsed": false
   },
   "outputs": [
    {
     "data": {
      "text/html": [
       "<div>\n",
       "<table border=\"1\" class=\"dataframe\">\n",
       "  <thead>\n",
       "    <tr style=\"text-align: right;\">\n",
       "      <th></th>\n",
       "      <th>BOROUGH</th>\n",
       "      <th>Bin #</th>\n",
       "      <th>House #</th>\n",
       "      <th>Street Name</th>\n",
       "      <th>Job #</th>\n",
       "      <th>Job doc. #</th>\n",
       "      <th>Job Type</th>\n",
       "      <th>Self_Cert</th>\n",
       "      <th>Block</th>\n",
       "      <th>Lot</th>\n",
       "      <th>Community Board</th>\n",
       "      <th>Zip Code</th>\n",
       "      <th>Bldg Type</th>\n",
       "      <th>Residential</th>\n",
       "      <th>Special District 1</th>\n",
       "      <th>Special District 2</th>\n",
       "      <th>Work Type</th>\n",
       "      <th>Permit Status</th>\n",
       "      <th>Filing Status</th>\n",
       "      <th>Permit Type</th>\n",
       "      <th>Permit Sequence #</th>\n",
       "      <th>Permit Subtype</th>\n",
       "      <th>Oil Gas</th>\n",
       "      <th>Site Fill</th>\n",
       "      <th>Filing Date</th>\n",
       "      <th>Issuance Date</th>\n",
       "      <th>Expiration Date</th>\n",
       "      <th>Job Start Date</th>\n",
       "      <th>Permittee's First Name</th>\n",
       "      <th>Permittee's Last Name</th>\n",
       "      <th>Permittee's Business Name</th>\n",
       "      <th>Permittee's Phone #</th>\n",
       "      <th>Permittee's License Type</th>\n",
       "      <th>Permittee's License #</th>\n",
       "      <th>Act as Superintendent</th>\n",
       "      <th>Permittee's Other Title</th>\n",
       "      <th>HIC License</th>\n",
       "      <th>Site Safety Mgr's First Name</th>\n",
       "      <th>Site Safety Mgr's Last Name</th>\n",
       "      <th>Site Safety Mgr Business Name</th>\n",
       "      <th>Superintendent First &amp; Last Name</th>\n",
       "      <th>Superintendent Business Name</th>\n",
       "      <th>Owner's Business Type</th>\n",
       "      <th>Non-Profit</th>\n",
       "      <th>Owner's Business Name</th>\n",
       "      <th>Owner's First Name</th>\n",
       "      <th>Owner's Last Name</th>\n",
       "      <th>Owner's House #</th>\n",
       "      <th>Owner's House Street Name</th>\n",
       "      <th>Owner’s House City</th>\n",
       "      <th>Owner’s House State</th>\n",
       "      <th>Owner’s House Zip Code</th>\n",
       "      <th>Owner's Phone #</th>\n",
       "      <th>DOBRunDate</th>\n",
       "    </tr>\n",
       "  </thead>\n",
       "  <tbody>\n",
       "    <tr>\n",
       "      <th>553853</th>\n",
       "      <td>MANHATTAN</td>\n",
       "      <td>1031645</td>\n",
       "      <td>333</td>\n",
       "      <td>CENTRAL PARK WEST</td>\n",
       "      <td>122732506.0</td>\n",
       "      <td>1.0</td>\n",
       "      <td>A2</td>\n",
       "      <td>NaN</td>\n",
       "      <td>1207</td>\n",
       "      <td>29</td>\n",
       "      <td>107</td>\n",
       "      <td>10025</td>\n",
       "      <td>2</td>\n",
       "      <td>YES</td>\n",
       "      <td>NaN</td>\n",
       "      <td>NaN</td>\n",
       "      <td>MH</td>\n",
       "      <td>ISSUED</td>\n",
       "      <td>INITIAL</td>\n",
       "      <td>EW</td>\n",
       "      <td>1.0</td>\n",
       "      <td>MH</td>\n",
       "      <td></td>\n",
       "      <td>NOT APPLICABLE</td>\n",
       "      <td>06/01/2016</td>\n",
       "      <td>06/14/2016 12:00:00 AM</td>\n",
       "      <td>01/14/2017</td>\n",
       "      <td>06/14/2016</td>\n",
       "      <td>GENCI</td>\n",
       "      <td>KONICA</td>\n",
       "      <td>G &amp; G MECHANICAL GROUP</td>\n",
       "      <td>2126712241</td>\n",
       "      <td>GENERAL CONTRACTOR</td>\n",
       "      <td>0614544</td>\n",
       "      <td></td>\n",
       "      <td></td>\n",
       "      <td></td>\n",
       "      <td></td>\n",
       "      <td></td>\n",
       "      <td></td>\n",
       "      <td></td>\n",
       "      <td></td>\n",
       "      <td>CONDO/CO-OP</td>\n",
       "      <td>NaN</td>\n",
       "      <td>NA</td>\n",
       "      <td>MORGAN</td>\n",
       "      <td>HARTING</td>\n",
       "      <td>333</td>\n",
       "      <td>CENTRAL PARK WEST</td>\n",
       "      <td>NEW YORK</td>\n",
       "      <td>NY</td>\n",
       "      <td>10025</td>\n",
       "      <td>3475106964</td>\n",
       "      <td>06/15/2016 12:00:00 AM</td>\n",
       "    </tr>\n",
       "    <tr>\n",
       "      <th>7838</th>\n",
       "      <td>MANHATTAN</td>\n",
       "      <td>1017841</td>\n",
       "      <td>119</td>\n",
       "      <td>EAST 17 STREET</td>\n",
       "      <td>140077360.0</td>\n",
       "      <td>1.0</td>\n",
       "      <td>A3</td>\n",
       "      <td>Y</td>\n",
       "      <td>873</td>\n",
       "      <td>14</td>\n",
       "      <td>105</td>\n",
       "      <td>10003</td>\n",
       "      <td>1</td>\n",
       "      <td>YES</td>\n",
       "      <td>NaN</td>\n",
       "      <td>NaN</td>\n",
       "      <td>EQ</td>\n",
       "      <td>ISSUED</td>\n",
       "      <td>INITIAL</td>\n",
       "      <td>EQ</td>\n",
       "      <td>1.0</td>\n",
       "      <td>SF</td>\n",
       "      <td></td>\n",
       "      <td>NaN</td>\n",
       "      <td>05/09/2013</td>\n",
       "      <td>05/09/2013 12:00:00 AM</td>\n",
       "      <td>05/09/2014</td>\n",
       "      <td>05/09/2013</td>\n",
       "      <td>CHRISTOPHER</td>\n",
       "      <td>DOWNES</td>\n",
       "      <td>EVEREST SCAFFOLDING INC</td>\n",
       "      <td>7183281004</td>\n",
       "      <td>GENERAL CONTRACTOR</td>\n",
       "      <td>0032158</td>\n",
       "      <td></td>\n",
       "      <td></td>\n",
       "      <td></td>\n",
       "      <td></td>\n",
       "      <td></td>\n",
       "      <td></td>\n",
       "      <td></td>\n",
       "      <td></td>\n",
       "      <td>PARTNERSHIP</td>\n",
       "      <td>NaN</td>\n",
       "      <td>GRAMERCY PALACE CORP</td>\n",
       "      <td>PAOLO</td>\n",
       "      <td>ZAMPOLLI</td>\n",
       "      <td>44</td>\n",
       "      <td>WALL STREET</td>\n",
       "      <td>NEW YORK</td>\n",
       "      <td>NY</td>\n",
       "      <td>10005</td>\n",
       "      <td>2122063700</td>\n",
       "      <td>05/10/2013 12:00:00 AM</td>\n",
       "    </tr>\n",
       "    <tr>\n",
       "      <th>241437</th>\n",
       "      <td>BROOKLYN</td>\n",
       "      <td>3127291</td>\n",
       "      <td>681</td>\n",
       "      <td>E 7TH ST</td>\n",
       "      <td>320328463.0</td>\n",
       "      <td>1.0</td>\n",
       "      <td>A2</td>\n",
       "      <td>NaN</td>\n",
       "      <td>5401</td>\n",
       "      <td>72</td>\n",
       "      <td>312</td>\n",
       "      <td>11218</td>\n",
       "      <td>1</td>\n",
       "      <td>YES</td>\n",
       "      <td>OP</td>\n",
       "      <td>NaN</td>\n",
       "      <td>PL</td>\n",
       "      <td>ISSUED</td>\n",
       "      <td>INITIAL</td>\n",
       "      <td>PL</td>\n",
       "      <td>1.0</td>\n",
       "      <td></td>\n",
       "      <td></td>\n",
       "      <td>NOT APPLICABLE</td>\n",
       "      <td>09/30/2014</td>\n",
       "      <td>09/30/2014 12:00:00 AM</td>\n",
       "      <td>09/30/2015</td>\n",
       "      <td>09/30/2014</td>\n",
       "      <td>JEFFREY</td>\n",
       "      <td>TROODLER</td>\n",
       "      <td>MILLENNIUM MECH CONT INC</td>\n",
       "      <td>7.18492e+09</td>\n",
       "      <td>MASTER PLUMBER</td>\n",
       "      <td>0000434</td>\n",
       "      <td></td>\n",
       "      <td></td>\n",
       "      <td></td>\n",
       "      <td></td>\n",
       "      <td></td>\n",
       "      <td></td>\n",
       "      <td></td>\n",
       "      <td></td>\n",
       "      <td>INDIVIDUAL</td>\n",
       "      <td>NaN</td>\n",
       "      <td>NA</td>\n",
       "      <td>CHAIM</td>\n",
       "      <td>GLICK</td>\n",
       "      <td>681</td>\n",
       "      <td>E 7TH ST</td>\n",
       "      <td>BROOKLYN</td>\n",
       "      <td>NY</td>\n",
       "      <td>11218</td>\n",
       "      <td>7188712958</td>\n",
       "      <td>10/01/2014 12:00:00 AM</td>\n",
       "    </tr>\n",
       "  </tbody>\n",
       "</table>\n",
       "</div>"
      ],
      "text/plain": [
       "          BOROUGH    Bin #       House #                       Street Name  \\\n",
       "553853  MANHATTAN  1031645  333           CENTRAL PARK WEST                  \n",
       "7838    MANHATTAN  1017841  119           EAST 17 STREET                     \n",
       "241437   BROOKLYN  3127291  681           E 7TH ST                           \n",
       "\n",
       "              Job #  Job doc. # Job Type Self_Cert Block Lot Community Board  \\\n",
       "553853  122732506.0         1.0       A2       NaN  1207  29             107   \n",
       "7838    140077360.0         1.0       A3         Y   873  14             105   \n",
       "241437  320328463.0         1.0       A2       NaN  5401  72             312   \n",
       "\n",
       "       Zip Code Bldg Type Residential Special District 1 Special District 2  \\\n",
       "553853    10025         2         YES                NaN                NaN   \n",
       "7838      10003         1         YES                NaN                NaN   \n",
       "241437    11218         1         YES             OP                    NaN   \n",
       "\n",
       "       Work Type Permit Status Filing Status Permit Type  Permit Sequence #  \\\n",
       "553853        MH        ISSUED       INITIAL          EW                1.0   \n",
       "7838          EQ        ISSUED       INITIAL          EQ                1.0   \n",
       "241437        PL        ISSUED       INITIAL          PL                1.0   \n",
       "\n",
       "       Permit Subtype Oil Gas                                 Site Fill  \\\n",
       "553853             MH          NOT APPLICABLE                             \n",
       "7838               SF                                               NaN   \n",
       "241437                         NOT APPLICABLE                             \n",
       "\n",
       "       Filing Date           Issuance Date Expiration Date Job Start Date  \\\n",
       "553853  06/01/2016  06/14/2016 12:00:00 AM      01/14/2017     06/14/2016   \n",
       "7838    05/09/2013  05/09/2013 12:00:00 AM      05/09/2014     05/09/2013   \n",
       "241437  09/30/2014  09/30/2014 12:00:00 AM      09/30/2015     09/30/2014   \n",
       "\n",
       "       Permittee's First Name Permittee's Last Name  \\\n",
       "553853        GENCI            KONICA                 \n",
       "7838          CHRISTOPHER      DOWNES                 \n",
       "241437        JEFFREY          TROODLER               \n",
       "\n",
       "               Permittee's Business Name Permittee's Phone #  \\\n",
       "553853  G & G MECHANICAL GROUP                    2126712241   \n",
       "7838    EVEREST SCAFFOLDING INC                   7183281004   \n",
       "241437  MILLENNIUM MECH CONT INC                 7.18492e+09   \n",
       "\n",
       "                        Permittee's License Type Permittee's License #  \\\n",
       "553853  GENERAL CONTRACTOR                                     0614544   \n",
       "7838    GENERAL CONTRACTOR                                     0032158   \n",
       "241437  MASTER PLUMBER                                         0000434   \n",
       "\n",
       "       Act as Superintendent Permittee's Other Title HIC License  \\\n",
       "553853                                                             \n",
       "7838                                                               \n",
       "241437                                                             \n",
       "\n",
       "       Site Safety Mgr's First Name Site Safety Mgr's Last Name  \\\n",
       "553853                                                            \n",
       "7838                                                              \n",
       "241437                                                            \n",
       "\n",
       "           Site Safety Mgr Business Name  Superintendent First & Last Name  \\\n",
       "553853                                                                       \n",
       "7838                                                                         \n",
       "241437                                                                       \n",
       "\n",
       "            Superintendent Business Name  \\\n",
       "553853                                     \n",
       "7838                                       \n",
       "241437                                     \n",
       "\n",
       "                           Owner's Business Type Non-Profit  \\\n",
       "553853  CONDO/CO-OP                                     NaN   \n",
       "7838    PARTNERSHIP                                     NaN   \n",
       "241437  INDIVIDUAL                                      NaN   \n",
       "\n",
       "                   Owner's Business Name Owner's First Name  \\\n",
       "553853  NA                                  MORGAN            \n",
       "7838    GRAMERCY PALACE CORP                PAOLO             \n",
       "241437  NA                                  CHAIM             \n",
       "\n",
       "                     Owner's Last Name Owner's House #  \\\n",
       "553853  HARTING                           333            \n",
       "7838    ZAMPOLLI                          44             \n",
       "241437  GLICK                             681            \n",
       "\n",
       "               Owner's House Street Name Owner’s House City  \\\n",
       "553853  CENTRAL PARK WEST                   NEW YORK          \n",
       "7838    WALL STREET                         NEW YORK          \n",
       "241437  E 7TH ST                            BROOKLYN          \n",
       "\n",
       "       Owner’s House State Owner’s House Zip Code Owner's Phone #  \\\n",
       "553853                  NY              10025          3475106964   \n",
       "7838                    NY              10005          2122063700   \n",
       "241437                  NY                  11218      7188712958   \n",
       "\n",
       "                    DOBRunDate  \n",
       "553853  06/15/2016 12:00:00 AM  \n",
       "7838    05/10/2013 12:00:00 AM  \n",
       "241437  10/01/2014 12:00:00 AM  "
      ]
     },
     "execution_count": 4,
     "metadata": {},
     "output_type": "execute_result"
    }
   ],
   "source": [
    "permits.sample(3)"
   ]
  },
  {
   "cell_type": "markdown",
   "metadata": {},
   "source": [
    "Non-obvious column keys:\n",
    "\n",
    "* Bin # &mdash; Building Identification Number\n",
    "* Job # &mdash; The number assigned to the job in the DOB system.\n",
    "* Job doc # &mdash; A single job, if the job is of a sufficient level of complexity, can have multiple permits associated with it (when this occurs is unclear to me, however).\n",
    "\n",
    "  These documents are all (almost?) always approved at the same time, so for our purposes we may safely take only Job doc # == 1.\n",
    "* Job Type &mdash; We want specifically records with `Job Type=NB` as these are new building construction jobs.\n",
    "* Permit Type &mdash; We want specifically records with `NB`, again.\n",
    "* Self_Cert &mdash; Whether or not the job was professionally certified (at the cost of the owner; expedites the approval process).\n",
    "* Bldg Type &mdash; Unsure what this is, but it seems to be unimportant. Only options are 1, 2, and (occassionally) an empty string.\n",
    "* Permit Status &mdash; Whether the permit has been issued (usually), re-issued (occassionally), or is in process of being issued (rare, temporal).\n",
    "\n",
    "  This appears to mean specifically the physical documents.\n",
    "\n",
    "  For our purposes we only want original issuances.\n",
    "* Filing Status &mdash; Whether the permit filed is a renewal or an initial filing.\n",
    "\n",
    "  This appears to mean the actual permit document.\n",
    "  \n",
    "  Obviously we only want initial filings.\n",
    "* Permit Sequence # &mdash; the number of the permit, in terms of how many times it has been renewed or perhaps re-requested. As expected, 'Filing Status'=='INITAL' implies that 'Permit Sequent #' == 1.0.\n",
    "* Permit Subtype &mdash; Unknown, may be [building type](http://www.parkeronline.org/DocumentCenter/View/16233). Mostly left empty regardless.\n",
    "* Oil Gas &mdash; Always empty.\n",
    "* Site Fill &mdash; Apparent dirt movage. Very important to our audience! Will investigate further along.\n",
    "* Filing Date &mdash; Date that the permit was approved.\n",
    "* Expiration Date &mdash; Exactly one year less a day from the filing date."
   ]
  },
  {
   "cell_type": "code",
   "execution_count": 5,
   "metadata": {
    "collapsed": false
   },
   "outputs": [
    {
     "data": {
      "text/plain": [
       "ISSUED        553319\n",
       "RE-ISSUED       3245\n",
       "IN PROCESS        53\n",
       "Name: Permit Status, dtype: int64"
      ]
     },
     "execution_count": 5,
     "metadata": {},
     "output_type": "execute_result"
    }
   ],
   "source": [
    "permits['Permit Status'].value_counts()"
   ]
  },
  {
   "cell_type": "code",
   "execution_count": 6,
   "metadata": {
    "collapsed": false
   },
   "outputs": [
    {
     "data": {
      "text/plain": [
       "INITIAL    380733\n",
       "RENEWAL    175884\n",
       "Name: Filing Status, dtype: int64"
      ]
     },
     "execution_count": 6,
     "metadata": {},
     "output_type": "execute_result"
    }
   ],
   "source": [
    "permits['Filing Status'].value_counts()"
   ]
  },
  {
   "cell_type": "code",
   "execution_count": 7,
   "metadata": {
    "collapsed": false
   },
   "outputs": [
    {
     "data": {
      "text/plain": [
       "1.0     499793\n",
       "2.0      44227\n",
       "3.0      10095\n",
       "4.0       1653\n",
       "5.0        608\n",
       "6.0        140\n",
       "7.0         62\n",
       "8.0         27\n",
       "9.0         10\n",
       "10.0         2\n",
       "Name: Job doc. #, dtype: int64"
      ]
     },
     "execution_count": 7,
     "metadata": {},
     "output_type": "execute_result"
    }
   ],
   "source": [
    "permits['Job doc. #'].value_counts()"
   ]
  },
  {
   "cell_type": "markdown",
   "metadata": {},
   "source": [
    "Applying the restrictions noted in our exploration of the dataset nets us our new building permits."
   ]
  },
  {
   "cell_type": "code",
   "execution_count": 8,
   "metadata": {
    "collapsed": false
   },
   "outputs": [],
   "source": [
    "new_building_permits = permits[(permits['Job Type'] == 'NB') &\n",
    "                               (permits['Permit Type'] == 'NB') &\n",
    "                               (permits['Permit Status'] == 'ISSUED') & \n",
    "                               (permits['Filing Status'] == 'INITIAL') &\n",
    "                               (permits['Job doc. #'] == 1.0)]"
   ]
  },
  {
   "cell_type": "code",
   "execution_count": 9,
   "metadata": {
    "collapsed": false,
    "scrolled": true
   },
   "outputs": [
    {
     "data": {
      "text/plain": [
       "556644"
      ]
     },
     "execution_count": 9,
     "metadata": {},
     "output_type": "execute_result"
    }
   ],
   "source": [
    "len(permits)"
   ]
  },
  {
   "cell_type": "code",
   "execution_count": 10,
   "metadata": {
    "collapsed": false
   },
   "outputs": [
    {
     "data": {
      "text/plain": [
       "6819"
      ]
     },
     "execution_count": 10,
     "metadata": {},
     "output_type": "execute_result"
    }
   ],
   "source": [
    "len(new_building_permits)"
   ]
  },
  {
   "cell_type": "markdown",
   "metadata": {},
   "source": [
    "The trouble is that this set is still not fully de-duped."
   ]
  },
  {
   "cell_type": "markdown",
   "metadata": {},
   "source": [
    "These entries appear to be seperate filing, each of which resulted in a construction permit being granted!"
   ]
  },
  {
   "cell_type": "code",
   "execution_count": 11,
   "metadata": {
    "collapsed": true
   },
   "outputs": [],
   "source": [
    "from collections import Counter\n",
    "from tqdm import tqdm"
   ]
  },
  {
   "cell_type": "code",
   "execution_count": 12,
   "metadata": {
    "collapsed": false
   },
   "outputs": [
    {
     "name": "stderr",
     "output_type": "stream",
     "text": [
      "100%|██████████| 6136/6136 [00:10<00:00, 572.40it/s]"
     ]
    },
    {
     "name": "stdout",
     "output_type": "stream",
     "text": [
      "567\n"
     ]
    },
    {
     "name": "stderr",
     "output_type": "stream",
     "text": [
      "\n"
     ]
    }
   ],
   "source": [
    "cnt = 0\n",
    "for _bin in tqdm(set(new_building_permits['Bin #'])):\n",
    "    if len(new_building_permits[new_building_permits['Bin #'] == _bin]) > 1:\n",
    "        cnt += 1\n",
    "print(cnt)"
   ]
  },
  {
   "cell_type": "markdown",
   "metadata": {},
   "source": [
    "Our timeline will need to accomodate the possibility of multiple permits&mdash;as it turns out, it is possible for multiple initial new building construction permits, neither reissues (in case the first permit was lost) or renewals (in case the first permit expired), to be obtained. This occurs, we expect, when a building project is complex enough that the work involved invokes several distinct construction permits."
   ]
  },
  {
   "cell_type": "code",
   "execution_count": 13,
   "metadata": {
    "collapsed": false
   },
   "outputs": [
    {
     "name": "stderr",
     "output_type": "stream",
     "text": [
      "100%|██████████| 6136/6136 [00:10<00:00, 604.78it/s]\n"
     ]
    },
    {
     "data": {
      "text/plain": [
       "Counter({2: 521, 3: 21, 4: 18, 5: 1, 6: 2, 8: 1, 13: 1, 17: 1, 18: 1})"
      ]
     },
     "execution_count": 13,
     "metadata": {},
     "output_type": "execute_result"
    }
   ],
   "source": [
    "counter = Counter()\n",
    "for _bin in tqdm(set(new_building_permits['Bin #'])):\n",
    "    nbp_l = len(new_building_permits[new_building_permits['Bin #'] == _bin])\n",
    "    if nbp_l > 1:\n",
    "        counter[nbp_l] += 1\n",
    "counter"
   ]
  },
  {
   "cell_type": "markdown",
   "metadata": {},
   "source": [
    "This is 1250 jobs total, a *very* significant number that takes a big bite out of our 6-odd thousand total."
   ]
  },
  {
   "cell_type": "code",
   "execution_count": 36,
   "metadata": {
    "collapsed": false,
    "scrolled": true
   },
   "outputs": [
    {
     "name": "stderr",
     "output_type": "stream",
     "text": [
      "/Users/Honors/anaconda/envs/nyc-construction-timelines/lib/python2.7/site-packages/ipykernel/__main__.py:1: SettingWithCopyWarning: \n",
      "A value is trying to be set on a copy of a slice from a DataFrame.\n",
      "Try using .loc[row_indexer,col_indexer] = value instead\n",
      "\n",
      "See the caveats in the documentation: http://pandas.pydata.org/pandas-docs/stable/indexing.html#indexing-view-versus-copy\n",
      "  if __name__ == '__main__':\n"
     ]
    }
   ],
   "source": [
    "new_building_permits['Issuance Date'] = pd.to_datetime(new_building_permits['Issuance Date'])"
   ]
  },
  {
   "cell_type": "code",
   "execution_count": 40,
   "metadata": {
    "collapsed": false
   },
   "outputs": [
    {
     "name": "stderr",
     "output_type": "stream",
     "text": [
      "100%|██████████| 6136/6136 [00:13<00:00, 443.12it/s]\n"
     ]
    }
   ],
   "source": [
    "s = dict()\n",
    "for _bin in tqdm(set(new_building_permits['Bin #'])):\n",
    "    bin_srs = new_building_permits[new_building_permits['Bin #'] == _bin]\n",
    "    if len(bin_srs) > 1:\n",
    "        s[_bin] = np.max(bin_srs['Issuance Date'].values) - np.min(bin_srs['Issuance Date'].values)"
   ]
  },
  {
   "cell_type": "markdown",
   "metadata": {},
   "source": [
    "The number of new building construction lots with multiple initial permits:"
   ]
  },
  {
   "cell_type": "code",
   "execution_count": 62,
   "metadata": {
    "collapsed": false
   },
   "outputs": [
    {
     "data": {
      "text/plain": [
       "567"
      ]
     },
     "execution_count": 62,
     "metadata": {},
     "output_type": "execute_result"
    }
   ],
   "source": [
    "len(s)"
   ]
  },
  {
   "cell_type": "code",
   "execution_count": 63,
   "metadata": {
    "collapsed": false
   },
   "outputs": [
    {
     "data": {
      "text/plain": [
       "<matplotlib.axes._subplots.AxesSubplot at 0x114830dd0>"
      ]
     },
     "execution_count": 63,
     "metadata": {},
     "output_type": "execute_result"
    },
    {
     "data": {
      "image/png": "[encoded data removed]",
      "text/plain": [
       "<matplotlib.figure.Figure at 0x113bd1110>"
      ]
     },
     "metadata": {},
     "output_type": "display_data"
    }
   ],
   "source": [
    "sns.set(font_scale=2)\n",
    "pd.Series(s).sort_values().reset_index(drop=True).map(lambda s: s.days).plot(title='New Building Construction Lots with Multiple Initial Permits by Days between First and Last Permit', figsize=(24, 10))"
   ]
  },
  {
   "cell_type": "markdown",
   "metadata": {},
   "source": [
    "How many of these lots had time delays between permit issuances? By how much?"
   ]
  },
  {
   "cell_type": "code",
   "execution_count": 92,
   "metadata": {
    "collapsed": false
   },
   "outputs": [
    {
     "data": {
      "text/plain": [
       "234"
      ]
     },
     "execution_count": 92,
     "metadata": {},
     "output_type": "execute_result"
    }
   ],
   "source": [
    "len(s[s > timedelta(days=0)])"
   ]
  },
  {
   "cell_type": "code",
   "execution_count": 97,
   "metadata": {
    "collapsed": false
   },
   "outputs": [
    {
     "data": {
      "text/plain": [
       "39"
      ]
     },
     "execution_count": 97,
     "metadata": {},
     "output_type": "execute_result"
    }
   ],
   "source": [
    "len(s[s > timedelta(days=180)])"
   ]
  },
  {
   "cell_type": "code",
   "execution_count": 98,
   "metadata": {
    "collapsed": false,
    "scrolled": true
   },
   "outputs": [
    {
     "data": {
      "text/plain": [
       "9"
      ]
     },
     "execution_count": 98,
     "metadata": {},
     "output_type": "execute_result"
    }
   ],
   "source": [
    "len(s[s > timedelta(days=365)])"
   ]
  },
  {
   "cell_type": "markdown",
   "metadata": {},
   "source": [
    "I begin to suspect that the high end of the time delays there are simply entirely new building construction jobs&mdash;cases perhaps where the first bid was scrapped completely and a new one was started, for whatever (disfunctional, likely) reason."
   ]
  },
  {
   "cell_type": "code",
   "execution_count": 64,
   "metadata": {
    "collapsed": false,
    "scrolled": true
   },
   "outputs": [
    {
     "name": "stderr",
     "output_type": "stream",
     "text": [
      "100%|██████████| 6136/6136 [00:14<00:00, 414.92it/s]\n"
     ]
    }
   ],
   "source": [
    "s = dict()\n",
    "for _bin in tqdm(set(new_building_permits['Bin #'])):\n",
    "    bin_srs = new_building_permits[new_building_permits['Bin #'] == _bin]\n",
    "    s[_bin] = np.max(bin_srs['Issuance Date'].values) - np.min(bin_srs['Issuance Date'].values)"
   ]
  },
  {
   "cell_type": "code",
   "execution_count": 65,
   "metadata": {
    "collapsed": false
   },
   "outputs": [
    {
     "data": {
      "text/plain": [
       "<matplotlib.axes._subplots.AxesSubplot at 0x1144a1e10>"
      ]
     },
     "execution_count": 65,
     "metadata": {},
     "output_type": "execute_result"
    },
    {
     "data": {
      "image/png": "[encoded data removed]",
      "text/plain": [
       "<matplotlib.figure.Figure at 0x11479b950>"
      ]
     },
     "metadata": {},
     "output_type": "display_data"
    }
   ],
   "source": [
    "sns.set(font_scale=2)\n",
    "pd.Series(s).sort_values().reset_index(drop=True).map(lambda s: s.days).plot(title='New Building Construction Lots Permits by Days between First and Last Permit', figsize=(24, 10))"
   ]
  },
  {
   "cell_type": "markdown",
   "metadata": {},
   "source": [
    "These duplicitous permits are not helpful to us. Let's simply take the date of the earliest one, as even in the case of extreme time lag between the issuance of permits, the issuance of a certificate of occupancy is still the ultimate authority on a building opening."
   ]
  },
  {
   "cell_type": "code",
   "execution_count": 14,
   "metadata": {
    "collapsed": true
   },
   "outputs": [],
   "source": [
    "import arrow"
   ]
  },
  {
   "cell_type": "code",
   "execution_count": 15,
   "metadata": {
    "collapsed": true
   },
   "outputs": [],
   "source": [
    "import time"
   ]
  },
  {
   "cell_type": "code",
   "execution_count": 16,
   "metadata": {
    "collapsed": true
   },
   "outputs": [],
   "source": [
    "def select_earliest_permit(df):\n",
    "    return df.iloc[np.argmin(df['Filing Date'].apply(lambda x: arrow.get(x,\"MM/DD/YYYY\")).values)]"
   ]
  },
  {
   "cell_type": "code",
   "execution_count": 17,
   "metadata": {
    "collapsed": false
   },
   "outputs": [
    {
     "name": "stderr",
     "output_type": "stream",
     "text": [
      "100%|██████████| 6136/6136 [00:12<00:00, 487.06it/s]\n"
     ]
    }
   ],
   "source": [
    "list_by_bin = []\n",
    "for _bin in tqdm(set(new_building_permits['Bin #'])):\n",
    "    df = new_building_permits[new_building_permits['Bin #'] == _bin]\n",
    "    if len(df) > 1:\n",
    "        # print(select_earliest_permit(df))\n",
    "        list_by_bin.append(select_earliest_permit(df))\n",
    "        # time.sleep(1)\n",
    "    else:\n",
    "        list_by_bin.append(df.iloc[0])"
   ]
  },
  {
   "cell_type": "markdown",
   "metadata": {},
   "source": [
    "This step took a long time to figure out. By default it concats Series into one super-Series, but axis=1 puts things in the wrong place index-wise, so I have to swap the indexes with `T` (transpose)."
   ]
  },
  {
   "cell_type": "code",
   "execution_count": 18,
   "metadata": {
    "collapsed": false
   },
   "outputs": [],
   "source": [
    "deduped_new_building_permits = pd.concat(list_by_bin, axis=1).T"
   ]
  },
  {
   "cell_type": "code",
   "execution_count": 19,
   "metadata": {
    "collapsed": false
   },
   "outputs": [
    {
     "data": {
      "text/plain": [
       "QUEENS           1898\n",
       "BROOKLYN         1890\n",
       "STATEN ISLAND    1566\n",
       "BRONX             486\n",
       "MANHATTAN         296\n",
       "Name: BOROUGH, dtype: int64"
      ]
     },
     "execution_count": 19,
     "metadata": {},
     "output_type": "execute_result"
    }
   ],
   "source": [
    "deduped_new_building_permits['BOROUGH'].value_counts()"
   ]
  },
  {
   "cell_type": "code",
   "execution_count": 20,
   "metadata": {
    "collapsed": true
   },
   "outputs": [],
   "source": [
    "borough_map = {\n",
    "    'BROOKLYN': 'B',\n",
    "    'QUEENS': 'Q',\n",
    "    'STATEN ISLAND': 'R',\n",
    "    'BRONX': 'X',\n",
    "    'MANHATTAN': 'M'\n",
    "}"
   ]
  },
  {
   "cell_type": "code",
   "execution_count": 21,
   "metadata": {
    "collapsed": false
   },
   "outputs": [
    {
     "data": {
      "text/plain": [
       "26416         2818049\n",
       "168380        4292627\n",
       "131159        3833881\n",
       "535342    2.09719e+06\n",
       "544547        5144619\n",
       "Name: Bin #, dtype: object"
      ]
     },
     "execution_count": 21,
     "metadata": {},
     "output_type": "execute_result"
    }
   ],
   "source": [
    "deduped_new_building_permits.head(5)['Bin #']"
   ]
  },
  {
   "cell_type": "code",
   "execution_count": 27,
   "metadata": {
    "collapsed": false,
    "scrolled": false
   },
   "outputs": [
    {
     "data": {
      "text/html": [
       "<div>\n",
       "<table border=\"1\" class=\"dataframe\">\n",
       "  <thead>\n",
       "    <tr style=\"text-align: right;\">\n",
       "      <th></th>\n",
       "      <th>BOROUGH</th>\n",
       "      <th>Bin #</th>\n",
       "      <th>House #</th>\n",
       "      <th>Street Name</th>\n",
       "      <th>Job #</th>\n",
       "      <th>Job doc. #</th>\n",
       "      <th>Job Type</th>\n",
       "      <th>Self_Cert</th>\n",
       "      <th>Block</th>\n",
       "      <th>Lot</th>\n",
       "      <th>Community Board</th>\n",
       "      <th>Zip Code</th>\n",
       "      <th>Bldg Type</th>\n",
       "      <th>Residential</th>\n",
       "      <th>Special District 1</th>\n",
       "      <th>Special District 2</th>\n",
       "      <th>Work Type</th>\n",
       "      <th>Permit Status</th>\n",
       "      <th>Filing Status</th>\n",
       "      <th>Permit Type</th>\n",
       "      <th>Permit Sequence #</th>\n",
       "      <th>Permit Subtype</th>\n",
       "      <th>Oil Gas</th>\n",
       "      <th>Site Fill</th>\n",
       "      <th>Filing Date</th>\n",
       "      <th>Issuance Date</th>\n",
       "      <th>Expiration Date</th>\n",
       "      <th>Job Start Date</th>\n",
       "      <th>Permittee's First Name</th>\n",
       "      <th>Permittee's Last Name</th>\n",
       "      <th>Permittee's Business Name</th>\n",
       "      <th>Permittee's Phone #</th>\n",
       "      <th>Permittee's License Type</th>\n",
       "      <th>Permittee's License #</th>\n",
       "      <th>Act as Superintendent</th>\n",
       "      <th>Permittee's Other Title</th>\n",
       "      <th>HIC License</th>\n",
       "      <th>Site Safety Mgr's First Name</th>\n",
       "      <th>Site Safety Mgr's Last Name</th>\n",
       "      <th>Site Safety Mgr Business Name</th>\n",
       "      <th>Superintendent First &amp; Last Name</th>\n",
       "      <th>Superintendent Business Name</th>\n",
       "      <th>Owner's Business Type</th>\n",
       "      <th>Non-Profit</th>\n",
       "      <th>Owner's Business Name</th>\n",
       "      <th>Owner's First Name</th>\n",
       "      <th>Owner's Last Name</th>\n",
       "      <th>Owner's House #</th>\n",
       "      <th>Owner's House Street Name</th>\n",
       "      <th>Owner’s House City</th>\n",
       "      <th>Owner’s House State</th>\n",
       "      <th>Owner’s House Zip Code</th>\n",
       "      <th>Owner's Phone #</th>\n",
       "      <th>DOBRunDate</th>\n",
       "    </tr>\n",
       "  </thead>\n",
       "  <tbody>\n",
       "    <tr>\n",
       "      <th>26416</th>\n",
       "      <td>BRONX</td>\n",
       "      <td>2818049</td>\n",
       "      <td>92</td>\n",
       "      <td>WEST TREMONT AVE</td>\n",
       "      <td>2.20177e+08</td>\n",
       "      <td>1</td>\n",
       "      <td>NB</td>\n",
       "      <td>NaN</td>\n",
       "      <td>2867</td>\n",
       "      <td>125</td>\n",
       "      <td>205</td>\n",
       "      <td>10453</td>\n",
       "      <td>2</td>\n",
       "      <td>YES</td>\n",
       "      <td>NaN</td>\n",
       "      <td>NaN</td>\n",
       "      <td></td>\n",
       "      <td>ISSUED</td>\n",
       "      <td>INITIAL</td>\n",
       "      <td>NB</td>\n",
       "      <td>1</td>\n",
       "      <td></td>\n",
       "      <td></td>\n",
       "      <td>ON-SITE</td>\n",
       "      <td>06/21/2013</td>\n",
       "      <td>06/21/2013 12:00:00 AM</td>\n",
       "      <td>03/20/2014</td>\n",
       "      <td>06/21/2013</td>\n",
       "      <td>JIMMY</td>\n",
       "      <td>ZERVOUDIS</td>\n",
       "      <td>GALAXY G.C.GROUP LLC</td>\n",
       "      <td>7186017000</td>\n",
       "      <td>GENERAL CONTRACTOR</td>\n",
       "      <td>0610672</td>\n",
       "      <td></td>\n",
       "      <td></td>\n",
       "      <td></td>\n",
       "      <td></td>\n",
       "      <td></td>\n",
       "      <td></td>\n",
       "      <td>PHILIP            ANTONAKOS</td>\n",
       "      <td>GALAXY GENERAL CONTRACTIO</td>\n",
       "      <td>HPD</td>\n",
       "      <td>Y</td>\n",
       "      <td>HOUSING PRESERVATION AND DEVELOP</td>\n",
       "      <td>TIMOTHY</td>\n",
       "      <td>JOSEPH</td>\n",
       "      <td>100</td>\n",
       "      <td>GOLD STREET</td>\n",
       "      <td>NEW YORK</td>\n",
       "      <td>NY</td>\n",
       "      <td>10038</td>\n",
       "      <td>2128637490</td>\n",
       "      <td>06/22/2013 12:00:00 AM</td>\n",
       "    </tr>\n",
       "  </tbody>\n",
       "</table>\n",
       "</div>"
      ],
      "text/plain": [
       "      BOROUGH    Bin #       House #                       Street Name  \\\n",
       "26416   BRONX  2818049  92            WEST TREMONT AVE                   \n",
       "\n",
       "             Job # Job doc. # Job Type Self_Cert Block  Lot Community Board  \\\n",
       "26416  2.20177e+08          1       NB       NaN  2867  125             205   \n",
       "\n",
       "      Zip Code Bldg Type Residential Special District 1 Special District 2  \\\n",
       "26416    10453         2         YES                NaN                NaN   \n",
       "\n",
       "      Work Type Permit Status Filing Status Permit Type Permit Sequence #  \\\n",
       "26416                  ISSUED       INITIAL          NB                 1   \n",
       "\n",
       "      Permit Subtype Oil Gas                                 Site Fill  \\\n",
       "26416                         ON-SITE                                    \n",
       "\n",
       "      Filing Date           Issuance Date Expiration Date Job Start Date  \\\n",
       "26416  06/21/2013  06/21/2013 12:00:00 AM      03/20/2014     06/21/2013   \n",
       "\n",
       "      Permittee's First Name Permittee's Last Name  \\\n",
       "26416        JIMMY            ZERVOUDIS              \n",
       "\n",
       "              Permittee's Business Name Permittee's Phone #  \\\n",
       "26416  GALAXY G.C.GROUP LLC                      7186017000   \n",
       "\n",
       "                       Permittee's License Type Permittee's License #  \\\n",
       "26416  GENERAL CONTRACTOR                                     0610672   \n",
       "\n",
       "      Act as Superintendent Permittee's Other Title HIC License  \\\n",
       "26416                                                             \n",
       "\n",
       "      Site Safety Mgr's First Name Site Safety Mgr's Last Name  \\\n",
       "26416                                                            \n",
       "\n",
       "          Site Safety Mgr Business Name  \\\n",
       "26416                                     \n",
       "\n",
       "             Superintendent First & Last Name  \\\n",
       "26416  PHILIP            ANTONAKOS              \n",
       "\n",
       "           Superintendent Business Name  \\\n",
       "26416  GALAXY GENERAL CONTRACTIO          \n",
       "\n",
       "                          Owner's Business Type Non-Profit  \\\n",
       "26416  HPD                                               Y   \n",
       "\n",
       "                  Owner's Business Name Owner's First Name  \\\n",
       "26416  HOUSING PRESERVATION AND DEVELOP    TIMOTHY           \n",
       "\n",
       "                    Owner's Last Name Owner's House #  \\\n",
       "26416  JOSEPH                            100            \n",
       "\n",
       "              Owner's House Street Name Owner’s House City  \\\n",
       "26416  GOLD STREET                         NEW YORK          \n",
       "\n",
       "      Owner’s House State Owner’s House Zip Code Owner's Phone #  \\\n",
       "26416                  NY              10038          2128637490   \n",
       "\n",
       "                   DOBRunDate  \n",
       "26416  06/22/2013 12:00:00 AM  "
      ]
     },
     "execution_count": 27,
     "metadata": {},
     "output_type": "execute_result"
    }
   ],
   "source": [
    "deduped_new_building_permits.head(1)"
   ]
  },
  {
   "cell_type": "markdown",
   "metadata": {},
   "source": [
    "## Reading Certificate of Occupation Data&mdash;August 2013 Test Run\n",
    "\n",
    "In order to validate assumptions about the data pipeline I used (arbitrarily selected) August 2013 permits as a month of interest."
   ]
  },
  {
   "cell_type": "code",
   "execution_count": 23,
   "metadata": {
    "collapsed": true
   },
   "outputs": [],
   "source": [
    "import co_reader"
   ]
  },
  {
   "cell_type": "code",
   "execution_count": 24,
   "metadata": {
    "collapsed": false
   },
   "outputs": [],
   "source": [
    "august_2013_permits = deduped_new_building_permits[deduped_new_building_permits['Filing Date'].map(lambda x: arrow.get(x,\"MM/DD/YYYY\").month == 9 and arrow.get(x,\"MM/DD/YYYY\").year == 2013)]"
   ]
  },
  {
   "cell_type": "code",
   "execution_count": 25,
   "metadata": {
    "collapsed": false
   },
   "outputs": [
    {
     "data": {
      "text/plain": [
       "186"
      ]
     },
     "execution_count": 25,
     "metadata": {},
     "output_type": "execute_result"
    }
   ],
   "source": [
    "len(august_2013_permits)"
   ]
  },
  {
   "cell_type": "code",
   "execution_count": 26,
   "metadata": {
    "collapsed": true
   },
   "outputs": [
    {
     "name": "stderr",
     "output_type": "stream",
     "text": [
      "\r",
      "0it [00:00, ?it/s]"
     ]
    },
    {
     "name": "stdout",
     "output_type": "stream",
     "text": [
      "On loop 1...\n",
      "Requested BIN 4162303 data from BIS, awaiting response...\n",
      "Got a response.\n",
      "Discovered 4 Certificates of Occupancy.\n",
      "Scanning Q000214797.PDF...\n",
      "PDF Certificate of Occupancy 'Q000214797.PDF' retrieved.\n",
      "Copying text using optical character recognition...\n",
      "Harvesting dates...\n",
      "[]\n",
      "No date found. Continuing...\n",
      "Scanning Q000085427.PDF...\n",
      "PDF Certificate of Occupancy 'Q000085427.PDF' retrieved.\n",
      "Copying text using optical character recognition...\n",
      "Harvesting dates...\n",
      "[]\n",
      "No date found. Continuing...\n",
      "Scanning 420825673.PDF...\n",
      "PDF Certificate of Occupancy '420825673.PDF' retrieved.\n",
      "Copying text using optical character recognition...\n",
      "Harvesting dates...\n",
      "[]\n",
      "No date found. Continuing...\n",
      "Scanning 420825263.PDF...\n",
      "Got the wait page. Trying to retrieve the PDF Certificate of Occupancy '420825263.PDF' again in five seconds...\n"
     ]
    },
    {
     "name": "stderr",
     "output_type": "stream",
     "text": [
      "\r",
      "1it [00:27, 27.16s/it]"
     ]
    },
    {
     "name": "stdout",
     "output_type": "stream",
     "text": [
      "After some delay, PDF Certificate of Occupancy '420825263.PDF' retrieved.\n",
      "Copying text using optical character recognition...\n",
      "Harvesting dates...\n",
      "[]\n",
      "No date found. Continuing...\n",
      "On loop 2...\n",
      "Requested BIN 1082214 data from BIS, awaiting response...\n"
     ]
    },
    {
     "name": "stderr",
     "output_type": "stream",
     "text": [
      "\r",
      "2it [00:39, 22.76s/it]"
     ]
    },
    {
     "name": "stdout",
     "output_type": "stream",
     "text": [
      "Got a response.\n",
      "Discovered 0 Certificates of Occupancy.\n",
      "On loop 3...\n",
      "Requested BIN 5047261 data from BIS, awaiting response...\n",
      "Got a response.\n",
      "Discovered 1 Certificates of Occupancy.\n",
      "Scanning 520147984F.PDF...\n",
      "PDF Certificate of Occupancy '520147984F.PDF' retrieved.\n",
      "Copying text using optical character recognition...\n",
      "Harvesting dates...\n"
     ]
    },
    {
     "name": "stderr",
     "output_type": "stream",
     "text": [
      "\r",
      "3it [00:51, 19.61s/it]"
     ]
    },
    {
     "name": "stdout",
     "output_type": "stream",
     "text": [
      "['04/15/2015']\n",
      "Date(s) found!\n",
      "On loop 4...\n",
      "Requested BIN 2000570 data from BIS, awaiting response...\n",
      "Got a response.\n",
      "Discovered 5 Certificates of Occupancy.\n",
      "Scanning 220192887F.PDF...\n",
      "Got the wait page. Trying to retrieve the PDF Certificate of Occupancy '220192887F.PDF' again in five seconds...\n",
      "After some delay, PDF Certificate of Occupancy '220192887F.PDF' retrieved.\n",
      "Copying text using optical character recognition...\n",
      "Harvesting dates...\n",
      "['04/07/2015']\n",
      "Date(s) found!\n",
      "Scanning 220192887T002.PDF...\n",
      "PDF Certificate of Occupancy '220192887T002.PDF' retrieved.\n",
      "Copying text using optical character recognition...\n",
      "Harvesting dates...\n",
      "['12/08/2014', '03/08/2015']\n",
      "Date(s) found!\n",
      "Scanning 220192887.PDF...\n",
      "Got the wait page. Trying to retrieve the PDF Certificate of Occupancy '220192887.PDF' again in five seconds...\n",
      "After some delay, PDF Certificate of Occupancy '220192887.PDF' retrieved.\n",
      "Copying text using optical character recognition...\n",
      "Harvesting dates...\n",
      "['04/07/2015']\n",
      "Date(s) found!\n",
      "Scanning 220192887T001.PDF...\n",
      "PDF Certificate of Occupancy '220192887T001.PDF' retrieved.\n",
      "Copying text using optical character recognition...\n",
      "Harvesting dates...\n",
      "['09/16/2014', '12/15/2014']\n",
      "Date(s) found!\n",
      "Scanning 220192887T003.PDF...\n",
      "PDF Certificate of Occupancy '220192887T003.PDF' retrieved.\n",
      "Copying text using optical character recognition...\n",
      "Harvesting dates...\n"
     ]
    },
    {
     "name": "stderr",
     "output_type": "stream",
     "text": [
      "\r",
      "4it [01:18, 21.74s/it]"
     ]
    },
    {
     "name": "stdout",
     "output_type": "stream",
     "text": [
      "['03/09/2015', '06/07/2015']\n",
      "Date(s) found!\n",
      "On loop 5...\n",
      "Requested BIN 4163416 data from BIS, awaiting response...\n",
      "Got a response.\n",
      "Discovered 3 Certificates of Occupancy.\n",
      "Scanning Q000115527.PDF...\n",
      "Got the wait page. Trying to retrieve the PDF Certificate of Occupancy 'Q000115527.PDF' again in five seconds...\n",
      "After some delay, PDF Certificate of Occupancy 'Q000115527.PDF' retrieved.\n",
      "Copying text using optical character recognition...\n",
      "Harvesting dates...\n",
      "[]\n",
      "No date found. Continuing...\n",
      "Scanning 420849336T1.PDF...\n",
      "PDF Certificate of Occupancy '420849336T1.PDF' retrieved.\n",
      "Copying text using optical character recognition...\n",
      "Harvesting dates...\n",
      "['07/17/2015', '10/15/2015']\n",
      "Date(s) found!\n",
      "Scanning 420849345F.PDF...\n",
      "PDF Certificate of Occupancy '420849345F.PDF' retrieved.\n",
      "Copying text using optical character recognition...\n",
      "Harvesting dates...\n"
     ]
    },
    {
     "name": "stderr",
     "output_type": "stream",
     "text": [
      "\r",
      "5it [01:43, 22.76s/it]"
     ]
    },
    {
     "name": "stdout",
     "output_type": "stream",
     "text": [
      "['07/14/2015']\n",
      "Date(s) found!\n",
      "On loop 6...\n",
      "Requested BIN 2829340 data from BIS, awaiting response...\n"
     ]
    },
    {
     "name": "stderr",
     "output_type": "stream",
     "text": [
      "\r",
      "6it [01:54, 19.10s/it]"
     ]
    },
    {
     "name": "stdout",
     "output_type": "stream",
     "text": [
      "Got a response.\n",
      "Discovered 0 Certificates of Occupancy.\n",
      "On loop 7...\n",
      "Requested BIN 4163841 data from BIS, awaiting response...\n",
      "Got a response.\n",
      "Discovered 2 Certificates of Occupancy.\n",
      "Scanning 420861482F.PDF...\n",
      "PDF Certificate of Occupancy '420861482F.PDF' retrieved.\n",
      "Copying text using optical character recognition...\n",
      "Harvesting dates...\n",
      "['04/15/2015']\n",
      "Date(s) found!\n",
      "Scanning 420861491.PDF...\n",
      "PDF Certificate of Occupancy '420861491.PDF' retrieved.\n",
      "Copying text using optical character recognition...\n",
      "Harvesting dates...\n"
     ]
    },
    {
     "name": "stderr",
     "output_type": "stream",
     "text": [
      "\r",
      "7it [02:07, 17.31s/it]"
     ]
    },
    {
     "name": "stdout",
     "output_type": "stream",
     "text": [
      "['04/15/2015']\n",
      "Date(s) found!\n",
      "On loop 8...\n",
      "Requested BIN 3410228 data from BIS, awaiting response...\n",
      "Got a response.\n",
      "Discovered 1 Certificates of Occupancy.\n",
      "Scanning 320719585.PDF...\n",
      "PDF Certificate of Occupancy '320719585.PDF' retrieved.\n",
      "Copying text using optical character recognition...\n",
      "Harvesting dates...\n"
     ]
    },
    {
     "name": "stderr",
     "output_type": "stream",
     "text": [
      "\r",
      "8it [02:19, 15.62s/it]"
     ]
    },
    {
     "name": "stdout",
     "output_type": "stream",
     "text": [
      "['09/09/2015']\n",
      "Date(s) found!\n",
      "On loop 9...\n",
      "Requested BIN 4000093 data from BIS, awaiting response...\n"
     ]
    },
    {
     "name": "stderr",
     "output_type": "stream",
     "text": [
      "\r",
      "9it [02:29, 14.11s/it]"
     ]
    },
    {
     "name": "stdout",
     "output_type": "stream",
     "text": [
      "Got a response.\n",
      "Discovered 0 Certificates of Occupancy.\n",
      "On loop 10...\n",
      "Requested BIN 2829381 data from BIS, awaiting response...\n"
     ]
    },
    {
     "name": "stderr",
     "output_type": "stream",
     "text": [
      "\r",
      "10it [02:40, 13.06s/it]"
     ]
    },
    {
     "name": "stdout",
     "output_type": "stream",
     "text": [
      "Got a response.\n",
      "Discovered 0 Certificates of Occupancy.\n",
      "On loop 11...\n",
      "Requested BIN 1085940 data from BIS, awaiting response...\n"
     ]
    },
    {
     "name": "stderr",
     "output_type": "stream",
     "text": [
      "\r",
      "11it [02:51, 12.35s/it]"
     ]
    },
    {
     "name": "stdout",
     "output_type": "stream",
     "text": [
      "Got a response.\n",
      "Discovered 0 Certificates of Occupancy.\n",
      "On loop 12...\n",
      "Requested BIN 3807374 data from BIS, awaiting response...\n",
      "Got a response.\n",
      "Discovered 2 Certificates of Occupancy.\n",
      "Scanning B000000790.PDF...\n",
      "PDF Certificate of Occupancy 'B000000790.PDF' retrieved.\n",
      "Copying text using optical character recognition...\n",
      "Harvesting dates...\n",
      "[]\n",
      "No date found. Continuing...\n",
      "Scanning 320491115.PDF...\n",
      "PDF Certificate of Occupancy '320491115.PDF' retrieved.\n",
      "Copying text using optical character recognition...\n",
      "Harvesting dates...\n"
     ]
    },
    {
     "name": "stderr",
     "output_type": "stream",
     "text": [
      "\r",
      "12it [03:06, 13.30s/it]"
     ]
    },
    {
     "name": "stdout",
     "output_type": "stream",
     "text": [
      "['05/20/2016']\n",
      "Date(s) found!\n",
      "On loop 13...\n",
      "Requested BIN 4101093 data from BIS, awaiting response...\n",
      "Got a response.\n",
      "Discovered 2 Certificates of Occupancy.\n",
      "Scanning Q000152898.PDF...\n",
      "Got the wait page. Trying to retrieve the PDF Certificate of Occupancy 'Q000152898.PDF' again in five seconds...\n",
      "After some delay, PDF Certificate of Occupancy 'Q000152898.PDF' retrieved.\n",
      "Copying text using optical character recognition...\n",
      "Harvesting dates...\n",
      "[]\n",
      "No date found. Continuing...\n",
      "Scanning 420856229.PDF...\n"
     ]
    },
    {
     "name": "stderr",
     "output_type": "stream",
     "text": [
      "\r",
      "13it [03:39, 19.27s/it]"
     ]
    },
    {
     "name": "stdout",
     "output_type": "stream",
     "text": [
      "PDF Certificate of Occupancy '420856229.PDF' retrieved.\n",
      "Copying text using optical character recognition...\n",
      "Harvesting dates...\n",
      "[]\n",
      "No date found. Continuing...\n",
      "On loop 14...\n",
      "Requested BIN 4134801 data from BIS, awaiting response...\n",
      "Got a response.\n",
      "Discovered 2 Certificates of Occupancy.\n",
      "Scanning 420629270F.PDF...\n",
      "PDF Certificate of Occupancy '420629270F.PDF' retrieved.\n",
      "Copying text using optical character recognition...\n",
      "Harvesting dates...\n",
      "['04/13/2015']\n",
      "Date(s) found!\n",
      "Scanning 420814596F.PDF...\n",
      "PDF Certificate of Occupancy '420814596F.PDF' retrieved.\n",
      "Copying text using optical character recognition...\n",
      "Harvesting dates...\n"
     ]
    },
    {
     "name": "stderr",
     "output_type": "stream",
     "text": [
      "\r",
      "14it [03:54, 17.99s/it]"
     ]
    },
    {
     "name": "stdout",
     "output_type": "stream",
     "text": [
      "['11/06/2015']\n",
      "Date(s) found!\n",
      "On loop 15...\n",
      "Requested BIN 5861035 data from BIS, awaiting response...\n"
     ]
    },
    {
     "name": "stderr",
     "output_type": "stream",
     "text": [
      "\r",
      "15it [04:05, 15.84s/it]"
     ]
    },
    {
     "name": "stdout",
     "output_type": "stream",
     "text": [
      "Got a response.\n",
      "Discovered 0 Certificates of Occupancy.\n",
      "On loop 16...\n",
      "Requested BIN 4593965 data from BIS, awaiting response...\n",
      "Got a response.\n",
      "Discovered 1 Certificates of Occupancy.\n",
      "Scanning 420821025F.PDF...\n",
      "PDF Certificate of Occupancy '420821025F.PDF' retrieved.\n",
      "Copying text using optical character recognition...\n",
      "Harvesting dates...\n"
     ]
    },
    {
     "name": "stderr",
     "output_type": "stream",
     "text": [
      "\r",
      "16it [04:17, 14.66s/it]"
     ]
    },
    {
     "name": "stdout",
     "output_type": "stream",
     "text": [
      "['04/25/2014']\n",
      "Date(s) found!\n",
      "On loop 17...\n",
      "Requested BIN 4004803 data from BIS, awaiting response...\n"
     ]
    },
    {
     "name": "stderr",
     "output_type": "stream",
     "text": [
      "\r",
      "17it [04:28, 13.51s/it]"
     ]
    },
    {
     "name": "stdout",
     "output_type": "stream",
     "text": [
      "Got a response.\n",
      "Discovered 0 Certificates of Occupancy.\n",
      "On loop 18...\n",
      "Requested BIN 4004953 data from BIS, awaiting response...\n",
      "Got a response.\n",
      "Discovered 2 Certificates of Occupancy.\n",
      "Scanning Q000029501.PDF...\n",
      "PDF Certificate of Occupancy 'Q000029501.PDF' retrieved.\n",
      "Copying text using optical character recognition...\n",
      "Harvesting dates...\n",
      "[]\n",
      "No date found. Continuing...\n",
      "Scanning Q000168574.PDF...\n"
     ]
    },
    {
     "name": "stderr",
     "output_type": "stream",
     "text": [
      "\r",
      "18it [04:41, 13.28s/it]"
     ]
    },
    {
     "name": "stdout",
     "output_type": "stream",
     "text": [
      "PDF Certificate of Occupancy 'Q000168574.PDF' retrieved.\n",
      "Copying text using optical character recognition...\n",
      "Harvesting dates...\n",
      "[]\n",
      "No date found. Continuing...\n",
      "On loop 19...\n",
      "Requested BIN 1088829 data from BIS, awaiting response...\n"
     ]
    },
    {
     "name": "stderr",
     "output_type": "stream",
     "text": [
      "\r",
      "19it [04:51, 12.47s/it]"
     ]
    },
    {
     "name": "stdout",
     "output_type": "stream",
     "text": [
      "Got a response.\n",
      "Discovered 0 Certificates of Occupancy.\n",
      "On loop 20...\n",
      "Requested BIN 4529910 data from BIS, awaiting response...\n"
     ]
    },
    {
     "name": "stderr",
     "output_type": "stream",
     "text": [
      "\r",
      "20it [05:02, 11.91s/it]"
     ]
    },
    {
     "name": "stdout",
     "output_type": "stream",
     "text": [
      "Got a response.\n",
      "Discovered 0 Certificates of Occupancy.\n",
      "On loop 21...\n",
      "Requested BIN 1089321 data from BIS, awaiting response...\n"
     ]
    },
    {
     "name": "stderr",
     "output_type": "stream",
     "text": [
      "\r",
      "21it [05:13, 11.61s/it]"
     ]
    },
    {
     "name": "stdout",
     "output_type": "stream",
     "text": [
      "Got a response.\n",
      "Discovered 0 Certificates of Occupancy.\n",
      "On loop 22...\n",
      "Requested BIN 4464467 data from BIS, awaiting response...\n",
      "Got a response.\n",
      "Discovered 1 Certificates of Occupancy.\n",
      "Scanning 420887927.PDF...\n"
     ]
    },
    {
     "name": "stderr",
     "output_type": "stream",
     "text": [
      "\r",
      "22it [05:25, 11.80s/it]"
     ]
    },
    {
     "name": "stdout",
     "output_type": "stream",
     "text": [
      "PDF Certificate of Occupancy '420887927.PDF' retrieved.\n",
      "Copying text using optical character recognition...\n",
      "Harvesting dates...\n",
      "[]\n",
      "No date found. Continuing...\n",
      "On loop 23...\n",
      "Requested BIN 3088244 data from BIS, awaiting response...\n",
      "Got a response.\n",
      "Discovered 11 Certificates of Occupancy.\n",
      "Scanning B000218282.PDF...\n",
      "PDF Certificate of Occupancy 'B000218282.PDF' retrieved.\n",
      "Copying text using optical character recognition...\n",
      "Harvesting dates...\n",
      "[]\n",
      "No date found. Continuing...\n",
      "Scanning B000121583.PDF...\n",
      "PDF Certificate of Occupancy 'B000121583.PDF' retrieved.\n",
      "Copying text using optical character recognition...\n",
      "Harvesting dates...\n",
      "[]\n",
      "No date found. Continuing...\n",
      "Scanning B000204812.PDF...\n",
      "Got the wait page. Trying to retrieve the PDF Certificate of Occupancy 'B000204812.PDF' again in five seconds...\n",
      "After some delay, PDF Certificate of Occupancy 'B000204812.PDF' retrieved.\n",
      "Copying text using optical character recognition...\n",
      "Harvesting dates...\n",
      "[]\n",
      "No date found. Continuing...\n",
      "Scanning B000225341.PDF...\n",
      "PDF Certificate of Occupancy 'B000225341.PDF' retrieved.\n",
      "Copying text using optical character recognition...\n",
      "Harvesting dates...\n",
      "[]\n",
      "No date found. Continuing...\n",
      "Scanning 300768916F.PDF...\n"
     ]
    },
    {
     "name": "stderr",
     "output_type": "stream",
     "text": [
      "\n"
     ]
    },
    {
     "ename": "ConnectionError",
     "evalue": "HTTPConnectionPool(host='a810-bisweb.nyc.gov', port=80): Max retries exceeded with url: /bisweb/CofoDocumentContentServlet?passjobnumber=null&cofomatadata1=cofo&cofomatadata2=B&cofomatadata3=300&cofomatadata4=768000&cofomatadata5=300768916F.PDF&requestid=5 (Caused by NewConnectionError('<requests.packages.urllib3.connection.HTTPConnection object at 0x10cf1fe10>: Failed to establish a new connection: [Errno 8] nodename nor servname provided, or not known',))",
     "output_type": "error",
     "traceback": [
      "\u001b[0;31m---------------------------------------------------------------------------\u001b[0m",
      "\u001b[0;31mConnectionError\u001b[0m                           Traceback (most recent call last)",
      "\u001b[0;32m<ipython-input-26-0a19829c5b6f>\u001b[0m in \u001b[0;36m<module>\u001b[0;34m()\u001b[0m\n\u001b[1;32m      6\u001b[0m     \u001b[0mbin\u001b[0m \u001b[0;34m=\u001b[0m \u001b[0mind\u001b[0m\u001b[0;34m[\u001b[0m\u001b[0;36m1\u001b[0m\u001b[0;34m]\u001b[0m\u001b[0;34m[\u001b[0m\u001b[0;34m'Bin #'\u001b[0m\u001b[0;34m]\u001b[0m\u001b[0;34m\u001b[0m\u001b[0m\n\u001b[1;32m      7\u001b[0m     \u001b[0mboro_code\u001b[0m \u001b[0;34m=\u001b[0m \u001b[0mborough_map\u001b[0m\u001b[0;34m[\u001b[0m\u001b[0mboro\u001b[0m\u001b[0;34m]\u001b[0m\u001b[0;34m\u001b[0m\u001b[0m\n\u001b[0;32m----> 8\u001b[0;31m     \u001b[0mc_of_o_dict\u001b[0m\u001b[0;34m[\u001b[0m\u001b[0mbin\u001b[0m\u001b[0;34m]\u001b[0m \u001b[0;34m=\u001b[0m \u001b[0mco_reader\u001b[0m\u001b[0;34m.\u001b[0m\u001b[0mget_co_date\u001b[0m\u001b[0;34m(\u001b[0m\u001b[0mbin\u001b[0m\u001b[0;34m,\u001b[0m \u001b[0mboro_code\u001b[0m\u001b[0;34m)\u001b[0m\u001b[0;34m\u001b[0m\u001b[0m\n\u001b[0m\u001b[1;32m      9\u001b[0m     \u001b[0mcounter\u001b[0m \u001b[0;34m+=\u001b[0m \u001b[0;36m1\u001b[0m\u001b[0;34m\u001b[0m\u001b[0m\n",
      "\u001b[0;32m/Users/Honors/Desktop/nyc-construction-timeline/co_reader.pyc\u001b[0m in \u001b[0;36mget_co_date\u001b[0;34m(bin, borough_code)\u001b[0m\n\u001b[1;32m    213\u001b[0m     \u001b[0;32mfor\u001b[0m \u001b[0mpdf_link\u001b[0m \u001b[0;32min\u001b[0m \u001b[0mpdf_links\u001b[0m\u001b[0;34m:\u001b[0m\u001b[0;34m\u001b[0m\u001b[0m\n\u001b[1;32m    214\u001b[0m         \u001b[0;32mprint\u001b[0m\u001b[0;34m(\u001b[0m\u001b[0;34m\"Scanning {0}...\"\u001b[0m\u001b[0;34m.\u001b[0m\u001b[0mformat\u001b[0m\u001b[0;34m(\u001b[0m\u001b[0mpdf_link\u001b[0m\u001b[0;34m)\u001b[0m\u001b[0;34m)\u001b[0m\u001b[0;34m\u001b[0m\u001b[0m\n\u001b[0;32m--> 215\u001b[0;31m         \u001b[0msuccess_status\u001b[0m \u001b[0;34m=\u001b[0m \u001b[0m_download_certificate_pdf\u001b[0m\u001b[0;34m(\u001b[0m\u001b[0mpdf_link\u001b[0m\u001b[0;34m,\u001b[0m \u001b[0mborough_code\u001b[0m\u001b[0;34m)\u001b[0m\u001b[0;34m\u001b[0m\u001b[0m\n\u001b[0m\u001b[1;32m    216\u001b[0m         \u001b[0;31m# If the download returns False, indicating a failure, just skip to the next document in the loop.\u001b[0m\u001b[0;34m\u001b[0m\u001b[0;34m\u001b[0m\u001b[0m\n\u001b[1;32m    217\u001b[0m         \u001b[0;32mif\u001b[0m \u001b[0;32mnot\u001b[0m \u001b[0msuccess_status\u001b[0m\u001b[0;34m:\u001b[0m\u001b[0;34m\u001b[0m\u001b[0m\n",
      "\u001b[0;32m/Users/Honors/Desktop/nyc-construction-timeline/co_reader.pyc\u001b[0m in \u001b[0;36m_download_certificate_pdf\u001b[0;34m(co_link, borough_code)\u001b[0m\n\u001b[1;32m    119\u001b[0m           u\"&cofomatadata2={0}&cofomatadata3={1}&cofomatadata4={2}&cofomatadata5={3}&requestid=5\".format(\n\u001b[1;32m    120\u001b[0m         borough_code, co_link_shortened[0:3], co_link_shortened[3:6] + \"000\", co_link)\n\u001b[0;32m--> 121\u001b[0;31m     \u001b[0mr\u001b[0m \u001b[0;34m=\u001b[0m \u001b[0mrequests\u001b[0m\u001b[0;34m.\u001b[0m\u001b[0mget\u001b[0m\u001b[0;34m(\u001b[0m\u001b[0mreq_str\u001b[0m\u001b[0;34m)\u001b[0m\u001b[0;34m\u001b[0m\u001b[0m\n\u001b[0m\u001b[1;32m    122\u001b[0m     \u001b[0;31m# If we get the PDF immediately we are done.\u001b[0m\u001b[0;34m\u001b[0m\u001b[0;34m\u001b[0m\u001b[0m\n\u001b[1;32m    123\u001b[0m     \u001b[0;32mif\u001b[0m \u001b[0mr\u001b[0m\u001b[0;34m.\u001b[0m\u001b[0mheaders\u001b[0m\u001b[0;34m[\u001b[0m\u001b[0;34m'content-type'\u001b[0m\u001b[0;34m]\u001b[0m \u001b[0;34m==\u001b[0m \u001b[0;34m\"application/pdf\"\u001b[0m\u001b[0;34m:\u001b[0m\u001b[0;34m\u001b[0m\u001b[0m\n",
      "\u001b[0;32m/Users/Honors/anaconda/envs/nyc-construction-timelines/lib/python2.7/site-packages/requests/api.pyc\u001b[0m in \u001b[0;36mget\u001b[0;34m(url, params, **kwargs)\u001b[0m\n\u001b[1;32m     69\u001b[0m \u001b[0;34m\u001b[0m\u001b[0m\n\u001b[1;32m     70\u001b[0m     \u001b[0mkwargs\u001b[0m\u001b[0;34m.\u001b[0m\u001b[0msetdefault\u001b[0m\u001b[0;34m(\u001b[0m\u001b[0;34m'allow_redirects'\u001b[0m\u001b[0;34m,\u001b[0m \u001b[0mTrue\u001b[0m\u001b[0;34m)\u001b[0m\u001b[0;34m\u001b[0m\u001b[0m\n\u001b[0;32m---> 71\u001b[0;31m     \u001b[0;32mreturn\u001b[0m \u001b[0mrequest\u001b[0m\u001b[0;34m(\u001b[0m\u001b[0;34m'get'\u001b[0m\u001b[0;34m,\u001b[0m \u001b[0murl\u001b[0m\u001b[0;34m,\u001b[0m \u001b[0mparams\u001b[0m\u001b[0;34m=\u001b[0m\u001b[0mparams\u001b[0m\u001b[0;34m,\u001b[0m \u001b[0;34m**\u001b[0m\u001b[0mkwargs\u001b[0m\u001b[0;34m)\u001b[0m\u001b[0;34m\u001b[0m\u001b[0m\n\u001b[0m\u001b[1;32m     72\u001b[0m \u001b[0;34m\u001b[0m\u001b[0m\n\u001b[1;32m     73\u001b[0m \u001b[0;34m\u001b[0m\u001b[0m\n",
      "\u001b[0;32m/Users/Honors/anaconda/envs/nyc-construction-timelines/lib/python2.7/site-packages/requests/api.pyc\u001b[0m in \u001b[0;36mrequest\u001b[0;34m(method, url, **kwargs)\u001b[0m\n\u001b[1;32m     55\u001b[0m     \u001b[0;31m# cases, and look like a memory leak in others.\u001b[0m\u001b[0;34m\u001b[0m\u001b[0;34m\u001b[0m\u001b[0m\n\u001b[1;32m     56\u001b[0m     \u001b[0;32mwith\u001b[0m \u001b[0msessions\u001b[0m\u001b[0;34m.\u001b[0m\u001b[0mSession\u001b[0m\u001b[0;34m(\u001b[0m\u001b[0;34m)\u001b[0m \u001b[0;32mas\u001b[0m \u001b[0msession\u001b[0m\u001b[0;34m:\u001b[0m\u001b[0;34m\u001b[0m\u001b[0m\n\u001b[0;32m---> 57\u001b[0;31m         \u001b[0;32mreturn\u001b[0m \u001b[0msession\u001b[0m\u001b[0;34m.\u001b[0m\u001b[0mrequest\u001b[0m\u001b[0;34m(\u001b[0m\u001b[0mmethod\u001b[0m\u001b[0;34m=\u001b[0m\u001b[0mmethod\u001b[0m\u001b[0;34m,\u001b[0m \u001b[0murl\u001b[0m\u001b[0;34m=\u001b[0m\u001b[0murl\u001b[0m\u001b[0;34m,\u001b[0m \u001b[0;34m**\u001b[0m\u001b[0mkwargs\u001b[0m\u001b[0;34m)\u001b[0m\u001b[0;34m\u001b[0m\u001b[0m\n\u001b[0m\u001b[1;32m     58\u001b[0m \u001b[0;34m\u001b[0m\u001b[0m\n\u001b[1;32m     59\u001b[0m \u001b[0;34m\u001b[0m\u001b[0m\n",
      "\u001b[0;32m/Users/Honors/anaconda/envs/nyc-construction-timelines/lib/python2.7/site-packages/requests/sessions.pyc\u001b[0m in \u001b[0;36mrequest\u001b[0;34m(self, method, url, params, data, headers, cookies, files, auth, timeout, allow_redirects, proxies, hooks, stream, verify, cert, json)\u001b[0m\n\u001b[1;32m    473\u001b[0m         }\n\u001b[1;32m    474\u001b[0m         \u001b[0msend_kwargs\u001b[0m\u001b[0;34m.\u001b[0m\u001b[0mupdate\u001b[0m\u001b[0;34m(\u001b[0m\u001b[0msettings\u001b[0m\u001b[0;34m)\u001b[0m\u001b[0;34m\u001b[0m\u001b[0m\n\u001b[0;32m--> 475\u001b[0;31m         \u001b[0mresp\u001b[0m \u001b[0;34m=\u001b[0m \u001b[0mself\u001b[0m\u001b[0;34m.\u001b[0m\u001b[0msend\u001b[0m\u001b[0;34m(\u001b[0m\u001b[0mprep\u001b[0m\u001b[0;34m,\u001b[0m \u001b[0;34m**\u001b[0m\u001b[0msend_kwargs\u001b[0m\u001b[0;34m)\u001b[0m\u001b[0;34m\u001b[0m\u001b[0m\n\u001b[0m\u001b[1;32m    476\u001b[0m \u001b[0;34m\u001b[0m\u001b[0m\n\u001b[1;32m    477\u001b[0m         \u001b[0;32mreturn\u001b[0m \u001b[0mresp\u001b[0m\u001b[0;34m\u001b[0m\u001b[0m\n",
      "\u001b[0;32m/Users/Honors/anaconda/envs/nyc-construction-timelines/lib/python2.7/site-packages/requests/sessions.pyc\u001b[0m in \u001b[0;36msend\u001b[0;34m(self, request, **kwargs)\u001b[0m\n\u001b[1;32m    583\u001b[0m \u001b[0;34m\u001b[0m\u001b[0m\n\u001b[1;32m    584\u001b[0m         \u001b[0;31m# Send the request\u001b[0m\u001b[0;34m\u001b[0m\u001b[0;34m\u001b[0m\u001b[0m\n\u001b[0;32m--> 585\u001b[0;31m         \u001b[0mr\u001b[0m \u001b[0;34m=\u001b[0m \u001b[0madapter\u001b[0m\u001b[0;34m.\u001b[0m\u001b[0msend\u001b[0m\u001b[0;34m(\u001b[0m\u001b[0mrequest\u001b[0m\u001b[0;34m,\u001b[0m \u001b[0;34m**\u001b[0m\u001b[0mkwargs\u001b[0m\u001b[0;34m)\u001b[0m\u001b[0;34m\u001b[0m\u001b[0m\n\u001b[0m\u001b[1;32m    586\u001b[0m \u001b[0;34m\u001b[0m\u001b[0m\n\u001b[1;32m    587\u001b[0m         \u001b[0;31m# Total elapsed time of the request (approximately)\u001b[0m\u001b[0;34m\u001b[0m\u001b[0;34m\u001b[0m\u001b[0m\n",
      "\u001b[0;32m/Users/Honors/anaconda/envs/nyc-construction-timelines/lib/python2.7/site-packages/requests/adapters.pyc\u001b[0m in \u001b[0;36msend\u001b[0;34m(self, request, stream, timeout, verify, cert, proxies)\u001b[0m\n\u001b[1;32m    465\u001b[0m                 \u001b[0;32mraise\u001b[0m \u001b[0mProxyError\u001b[0m\u001b[0;34m(\u001b[0m\u001b[0me\u001b[0m\u001b[0;34m,\u001b[0m \u001b[0mrequest\u001b[0m\u001b[0;34m=\u001b[0m\u001b[0mrequest\u001b[0m\u001b[0;34m)\u001b[0m\u001b[0;34m\u001b[0m\u001b[0m\n\u001b[1;32m    466\u001b[0m \u001b[0;34m\u001b[0m\u001b[0m\n\u001b[0;32m--> 467\u001b[0;31m             \u001b[0;32mraise\u001b[0m \u001b[0mConnectionError\u001b[0m\u001b[0;34m(\u001b[0m\u001b[0me\u001b[0m\u001b[0;34m,\u001b[0m \u001b[0mrequest\u001b[0m\u001b[0;34m=\u001b[0m\u001b[0mrequest\u001b[0m\u001b[0;34m)\u001b[0m\u001b[0;34m\u001b[0m\u001b[0m\n\u001b[0m\u001b[1;32m    468\u001b[0m \u001b[0;34m\u001b[0m\u001b[0m\n\u001b[1;32m    469\u001b[0m         \u001b[0;32mexcept\u001b[0m \u001b[0mClosedPoolError\u001b[0m \u001b[0;32mas\u001b[0m \u001b[0me\u001b[0m\u001b[0;34m:\u001b[0m\u001b[0;34m\u001b[0m\u001b[0m\n",
      "\u001b[0;31mConnectionError\u001b[0m: HTTPConnectionPool(host='a810-bisweb.nyc.gov', port=80): Max retries exceeded with url: /bisweb/CofoDocumentContentServlet?passjobnumber=null&cofomatadata1=cofo&cofomatadata2=B&cofomatadata3=300&cofomatadata4=768000&cofomatadata5=300768916F.PDF&requestid=5 (Caused by NewConnectionError('<requests.packages.urllib3.connection.HTTPConnection object at 0x10cf1fe10>: Failed to establish a new connection: [Errno 8] nodename nor servname provided, or not known',))"
     ]
    }
   ],
   "source": [
    "c_of_o_dict = dict()\n",
    "counter = 0\n",
    "for ind in tqdm((august_2013_permits).iterrows()):\n",
    "    print(\"On loop {0}...\".format(counter + 1))\n",
    "    boro = ind[1]['BOROUGH']\n",
    "    bin = ind[1]['Bin #']\n",
    "    boro_code = borough_map[boro]\n",
    "    c_of_o_dict[bin] = co_reader.get_co_date(bin, boro_code)\n",
    "    counter += 1"
   ]
  },
  {
   "cell_type": "code",
   "execution_count": null,
   "metadata": {
    "collapsed": true
   },
   "outputs": [],
   "source": [
    "c_of_o_dict"
   ]
  },
  {
   "cell_type": "code",
   "execution_count": null,
   "metadata": {
    "collapsed": false,
    "scrolled": true
   },
   "outputs": [],
   "source": [
    "len([date for (bin, date) in c_of_o_dict.items() if date != None])"
   ]
  },
  {
   "cell_type": "markdown",
   "metadata": {},
   "source": [
    "### Data validation check\n",
    "\n",
    "186 new building construction permits were issued in August 2013. As of late June 2016, 85 of these have corresponding certificates of occupancy on record. This correspondgs with a `85/186 = ~45%` completion rate.\n",
    "\n",
    "85*12=1020, so this data implies that in New York City there are around 2000 new building construction permits are issued per year, of which 1000 new buildings are completed per year.\n",
    "\n",
    "Is this figure reasonable? [According to the DOB component of the Mayor's Management Report](http://www1.nyc.gov/assets/operations/downloads/pdf/pmmr2016/dob.pdf), a typical financial year in New York City sees the issuance of approximately 5,500 certificates of occupancy. This implies that approximately one in five certificates issued are for new buildings, while the remaining four in five certificates issued are for significantly renovated existing ones.\n",
    "\n",
    "As a gut check, this seems reasonable.\n",
    "\n",
    "### Notes on the algorithm\n",
    "\n",
    "As expected this process of mining PDF pages is fairly slow. Still, the algorithm ran faster than expected, generating 186 results in 48 minutes, 46 seconds.\n",
    "\n",
    "This corresponds to an average runtime of approximately 16 seconds per bin.\n",
    "\n",
    "Fast failures occur in approximately 12 seconds. Documents with many documents to scan take approximately 20 seconds. \n",
    "\n",
    "Hitting a wait page extends the wait time 5 seconds apiece.\n",
    "\n",
    "The worst case response took 32 seconds. The best case response took 10.\n",
    "\n",
    "The full dataset contains 6136 bins, corresponding with a runtime of approximately 27.3 hours. A conversation must be had to verify that such a thing is necessary before a pull of such a magnitude be attempted."
   ]
  },
  {
   "cell_type": "code",
   "execution_count": null,
   "metadata": {
    "collapsed": false
   },
   "outputs": [],
   "source": [
    "sample['Bin #'].map(lambda x: c_of_o_dict[x]).values[0]"
   ]
  },
  {
   "cell_type": "code",
   "execution_count": null,
   "metadata": {
    "collapsed": false
   },
   "outputs": [],
   "source": [
    "sample = august_2013_permits.copy()\n",
    "sample['Certificate Date'] = sample['Bin #'].map(lambda x: c_of_o_dict[x]).values\n",
    "sample['Filing Date'] = sample['Filing Date'].map(lambda x: np.datetime64(arrow.get(x,\"MM/DD/YYYY\").datetime))\n",
    "sample['Build Time'] = sample.apply(lambda srs: srs['Certificate Date'] - srs['Filing Date'], axis='columns')"
   ]
  },
  {
   "cell_type": "markdown",
   "metadata": {},
   "source": [
    "### Sample analysis\n",
    "\n",
    "Our initial sample is of a very small sample size, but it's still useful to see a few quick things."
   ]
  },
  {
   "cell_type": "code",
   "execution_count": null,
   "metadata": {
    "collapsed": true
   },
   "outputs": [],
   "source": [
    "import seaborn as sns\n",
    "import matplotlib.pyplot as plt\n",
    "%matplotlib inline"
   ]
  },
  {
   "cell_type": "code",
   "execution_count": null,
   "metadata": {
    "collapsed": false
   },
   "outputs": [],
   "source": [
    "pier = sample['Build Time'].map(lambda v: pd.isnull(v)).value_counts()\n",
    "pier.index = ['Built', 'Not Built']\n",
    "pier.name = ''"
   ]
  },
  {
   "cell_type": "markdown",
   "metadata": {},
   "source": [
    "#### August 2013&mdash;June 2016 newly permitted construction completion rate\n",
    "\n",
    "What percentage of construction permits issued in August of 2013 resulted in completed buildings as of today?"
   ]
  },
  {
   "cell_type": "code",
   "execution_count": null,
   "metadata": {
    "collapsed": false
   },
   "outputs": [],
   "source": [
    "pier.plot(kind='pie', figsize=(8,8), fontsize=20, colors=('lightgreen', 'lightcoral')) # title='August 2013 Newly Permitted Construction')"
   ]
  },
  {
   "cell_type": "markdown",
   "metadata": {},
   "source": [
    "#### August 2013&mdash;June 2016 newly permitted construction completion times\n",
    "\n",
    "When did buildings with construction permits issued in August of 2013 actually complete?"
   ]
  },
  {
   "cell_type": "code",
   "execution_count": null,
   "metadata": {
    "collapsed": false,
    "scrolled": true
   },
   "outputs": [],
   "source": [
    "sns.set_style('white')\n",
    "sns.distplot(sample['Build Time'][sample['Build Time'].notnull()].map(lambda t: t.days),\n",
    "             bins=10,\n",
    "             kde=False,\n",
    "             rug=True,\n",
    "             hist_kws={'alpha': 0.5},\n",
    "            )\n",
    "sns.despine()"
   ]
  },
  {
   "cell_type": "markdown",
   "metadata": {},
   "source": [
    "The lack of a discernable pattern in this data is surprising, but may simply be the result of a small sample size (with 86 data point in 10 bins, there are just 8.6 observations per bin). To take this further, a larger sample or a full run must be taken."
   ]
  },
  {
   "cell_type": "markdown",
   "metadata": {},
   "source": [
    "#### Archiving the data"
   ]
  },
  {
   "cell_type": "code",
   "execution_count": null,
   "metadata": {
    "collapsed": false
   },
   "outputs": [],
   "source": [
    "deduped_new_building_permits.to_csv(\"new_building_permits.csv\")\n",
    "sample.to_csv(\"august_2013_sample.csv\")"
   ]
  },
  {
   "cell_type": "markdown",
   "metadata": {},
   "source": [
    "## Briefly&mdash;Site Fill\n",
    "\n",
    "The following data looks interesting. Perhaps it should be the target of further analysis?"
   ]
  },
  {
   "cell_type": "code",
   "execution_count": 135,
   "metadata": {
    "collapsed": false
   },
   "outputs": [
    {
     "data": {
      "text/plain": [
       "ON-SITE                                     3615\n",
       "USE UNDER 300 CU.YD                         1805\n",
       "OFF-SITE                                     701\n",
       "NONE                                          15\n",
       "Name: Site Fill, dtype: int64"
      ]
     },
     "execution_count": 135,
     "metadata": {},
     "output_type": "execute_result"
    }
   ],
   "source": [
    "deduped_new_building_permits['Site Fill'].value_counts()"
   ]
  },
  {
   "cell_type": "code",
   "execution_count": 138,
   "metadata": {
    "collapsed": false
   },
   "outputs": [
    {
     "data": {
      "image/png": "[encoded data removed]",
      "text/plain": [
       "<matplotlib.figure.Figure at 0x119035590>"
      ]
     },
     "metadata": {},
     "output_type": "display_data"
    }
   ],
   "source": [
    "deduped_new_building_permits['Site Fill'].value_counts().plot(kind='bar')\n",
    "sns.despine()"
   ]
  },
  {
   "cell_type": "markdown",
   "metadata": {},
   "source": [
    "## Reading Certificate of Occupation Data&mdash;Partial Run\n",
    "\n",
    "The full algorithm takes over a day to run, so I broke it up into intermediate nightly steps.\n",
    "\n",
    "The run was ammended into a partial one partway through."
   ]
  },
  {
   "cell_type": "markdown",
   "metadata": {},
   "source": [
    "### Briefly&mdash;Examining Yearly Counts"
   ]
  },
  {
   "cell_type": "code",
   "execution_count": 1,
   "metadata": {
    "collapsed": true
   },
   "outputs": [],
   "source": [
    "import pandas as pd\n",
    "import seaborn as sns\n",
    "import arrow\n",
    "%matplotlib inline"
   ]
  },
  {
   "cell_type": "code",
   "execution_count": 2,
   "metadata": {
    "collapsed": false,
    "scrolled": true
   },
   "outputs": [],
   "source": [
    "deduped_new_building_permits = pd.read_csv(\"new_building_permits.csv\")"
   ]
  },
  {
   "cell_type": "code",
   "execution_count": 9,
   "metadata": {
    "collapsed": false
   },
   "outputs": [
    {
     "data": {
      "text/plain": [
       "<matplotlib.axes._subplots.AxesSubplot at 0x1111c5d50>"
      ]
     },
     "execution_count": 9,
     "metadata": {},
     "output_type": "execute_result"
    },
    {
     "data": {
      "image/png": "[encoded data removed]",
      "text/plain": [
       "<matplotlib.figure.Figure at 0x1111b3090>"
      ]
     },
     "metadata": {},
     "output_type": "display_data"
    }
   ],
   "source": [
    "years = deduped_new_building_permits['Filing Date'].map(lambda x: arrow.get(x,\"MM/DD/YYYY\").year)\n",
    "sns.countplot(years)"
   ]
  },
  {
   "cell_type": "code",
   "execution_count": 7,
   "metadata": {
    "collapsed": false
   },
   "outputs": [],
   "source": [
    "deduped_new_building_permits['Year'] = deduped_new_building_permits['Filing Date'].map(lambda x: arrow.get(x,\"MM/DD/YYYY\").year)"
   ]
  },
  {
   "cell_type": "code",
   "execution_count": 7,
   "metadata": {
    "collapsed": false
   },
   "outputs": [
    {
     "data": {
      "text/html": [
       "<div>\n",
       "<table border=\"1\" class=\"dataframe\">\n",
       "  <thead>\n",
       "    <tr style=\"text-align: right;\">\n",
       "      <th></th>\n",
       "      <th>Unnamed: 0</th>\n",
       "      <th>BOROUGH</th>\n",
       "      <th>Bin #</th>\n",
       "      <th>House #</th>\n",
       "      <th>Street Name</th>\n",
       "      <th>Job #</th>\n",
       "      <th>Job doc. #</th>\n",
       "      <th>Job Type</th>\n",
       "      <th>Self_Cert</th>\n",
       "      <th>Block</th>\n",
       "      <th>...</th>\n",
       "      <th>Owner's First Name</th>\n",
       "      <th>Owner's Last Name</th>\n",
       "      <th>Owner's House #</th>\n",
       "      <th>Owner's House Street Name</th>\n",
       "      <th>Owner’s House City</th>\n",
       "      <th>Owner’s House State</th>\n",
       "      <th>Owner’s House Zip Code</th>\n",
       "      <th>Owner's Phone #</th>\n",
       "      <th>DOBRunDate</th>\n",
       "      <th>Year</th>\n",
       "    </tr>\n",
       "  </thead>\n",
       "  <tbody>\n",
       "    <tr>\n",
       "      <th>4078</th>\n",
       "      <td>336988</td>\n",
       "      <td>BROOKLYN</td>\n",
       "      <td>3855241.0</td>\n",
       "      <td>12749</td>\n",
       "      <td>FLATLANDS AVENUE</td>\n",
       "      <td>302322948.0</td>\n",
       "      <td>1.0</td>\n",
       "      <td>NB</td>\n",
       "      <td>Y</td>\n",
       "      <td>4566.0</td>\n",
       "      <td>...</td>\n",
       "      <td>JOHN</td>\n",
       "      <td>O'CONNELL</td>\n",
       "      <td>85-25</td>\n",
       "      <td>68 ROAD</td>\n",
       "      <td>REGO PARK</td>\n",
       "      <td>NY</td>\n",
       "      <td>11374.0</td>\n",
       "      <td>9.175778e+09</td>\n",
       "      <td>04/30/2015 12:00:00 AM</td>\n",
       "      <td>2008</td>\n",
       "    </tr>\n",
       "  </tbody>\n",
       "</table>\n",
       "<p>1 rows × 56 columns</p>\n",
       "</div>"
      ],
      "text/plain": [
       "      Unnamed: 0   BOROUGH      Bin #       House #  \\\n",
       "4078      336988  BROOKLYN  3855241.0  12749          \n",
       "\n",
       "                           Street Name        Job #  Job doc. # Job Type  \\\n",
       "4078  FLATLANDS AVENUE                  302322948.0         1.0       NB   \n",
       "\n",
       "     Self_Cert   Block  ...   Owner's First Name  \\\n",
       "4078         Y  4566.0  ...      JOHN              \n",
       "\n",
       "                   Owner's Last Name Owner's House #  \\\n",
       "4078  O'CONNELL                         85-25          \n",
       "\n",
       "             Owner's House Street Name Owner’s House City Owner’s House State  \\\n",
       "4078  68 ROAD                             REGO PARK                        NY   \n",
       "\n",
       "      Owner’s House Zip Code Owner's Phone #              DOBRunDate  Year  \n",
       "4078                 11374.0    9.175778e+09  04/30/2015 12:00:00 AM  2008  \n",
       "\n",
       "[1 rows x 56 columns]"
      ]
     },
     "execution_count": 7,
     "metadata": {},
     "output_type": "execute_result"
    }
   ],
   "source": [
    "deduped_new_building_permits[deduped_new_building_permits['Year'] == 2008]"
   ]
  },
  {
   "cell_type": "markdown",
   "metadata": {},
   "source": [
    "This entry exhibits that the leading years in the dataset are for permits which had an extremely long lag time between filing and issuance, for unknown reasons."
   ]
  },
  {
   "cell_type": "markdown",
   "metadata": {},
   "source": [
    "### Algorithm"
   ]
  },
  {
   "cell_type": "code",
   "execution_count": 3,
   "metadata": {
    "collapsed": true
   },
   "outputs": [],
   "source": [
    "from tqdm import tqdm\n",
    "import numpy as np\n",
    "import co_reader"
   ]
  },
  {
   "cell_type": "code",
   "execution_count": 4,
   "metadata": {
    "collapsed": false
   },
   "outputs": [],
   "source": [
    "def co_run(df):\n",
    "    borough_map = {\n",
    "        'BROOKLYN': 'B',\n",
    "        'QUEENS': 'Q',\n",
    "        'STATEN ISLAND': 'R',\n",
    "        'BRONX': 'X',\n",
    "        'MANHATTAN': 'M'\n",
    "    }\n",
    "    c_of_o_dict = dict()\n",
    "    counter = 0\n",
    "    for ind in tqdm((df).iterrows()):\n",
    "        print(\"On loop {0}...\".format(counter + 1))\n",
    "        boro = ind[1]['BOROUGH']\n",
    "        bin = ind[1]['Bin #']\n",
    "        boro_code = borough_map[boro]\n",
    "        c_of_o_dict[bin] = co_reader.get_co_date(bin, boro_code)\n",
    "        counter += 1\n",
    "    sample = df.copy()\n",
    "    sample['Certificate Date'] = sample['Bin #'].map(lambda x: c_of_o_dict[x]).values\n",
    "    sample['Filing Date'] = sample['Filing Date'].map(lambda x: np.datetime64(arrow.get(x,\"MM/DD/YYYY\").datetime))\n",
    "    sample['Build Time'] = sample.apply(lambda srs: srs['Certificate Date'] - srs['Filing Date'], axis='columns')\n",
    "    return sample"
   ]
  },
  {
   "cell_type": "code",
   "execution_count": 17,
   "metadata": {
    "collapsed": false
   },
   "outputs": [],
   "source": [
    "# test_run_result = co_run(permits_2008_to_2013.sample(2))"
   ]
  },
  {
   "cell_type": "code",
   "execution_count": 18,
   "metadata": {
    "collapsed": false
   },
   "outputs": [],
   "source": [
    "# test_run_result"
   ]
  },
  {
   "cell_type": "markdown",
   "metadata": {},
   "source": [
    "### Diversion&mdash;`co_reader` Redesign\n",
    "\n",
    "When I ran the `co_reader` algorithm on the test set it exhibited one kind of behavior. When I ran it again a week later on the real thing, with an estimated leg time of 6 hours for the first set (permits issued prior to 2013), it exhibited another entirely.\n",
    "\n",
    "The issue&mdash;which appeared to be present at the time of the previous run as well&mdash;is that the `subprocess.Popen` calls that I make inside of my code spawn `python2.7` child processes, which in turn spawn `tesseract` child processes. These processes finish their actual jobs very quickly, as expected, but do not finish running very quickly, hanging around instead as [zombie processes](https://en.wikipedia.org/wiki/Zombie_process).\n",
    "\n",
    "Waiting for them to quit using `Popen.wait` forces wait times in excess of two minutes per document, a completely unacceptable state of affairs. If I were to run the entire dataset through at that speed I could expect a month's wait for it to finish executing!\n",
    "\n",
    "The only way to force these threads to die, really die, if we do not wait for them explicitly, is to restart the entire computer. No program or Python module can force them to quit because they can only be killed by killing their live root parent, and their live root parent is the original Python execution&mdash;this notebook's process. In other words the only way to kill the zombie army is to terminate the executing notebook's own kernel!\n",
    "\n",
    "The test run appears to have been successful only because the number of subprocesses spawned did not exceed my computer's inherent thread limit, due to the small size of the sample.\n",
    "\n",
    "Amazingly, however, another thing also seems to have changed. The original implementation of the algorithm required running the PDFs through an OCR processer because the files themselves were read-locked. However, when the algo is run again a week later it appears that the read-locking has been removed.\n",
    "\n",
    "Thus I can avoid all of the issues above by simply not using OCR in the first place.\n",
    "\n",
    "It's all very strange. But it works."
   ]
  },
  {
   "cell_type": "code",
   "execution_count": 8,
   "metadata": {
    "collapsed": false
   },
   "outputs": [],
   "source": [
    "permits_2008_to_2013 = deduped_new_building_permits[deduped_new_building_permits['Year'] <= 2013]\n",
    "permits_2014 = deduped_new_building_permits[deduped_new_building_permits['Year'] == 2014]\n",
    "permits_2015 = deduped_new_building_permits[deduped_new_building_permits['Year'] == 2015]\n",
    "permits_2016 = deduped_new_building_permits[deduped_new_building_permits['Year'] == 2016]"
   ]
  },
  {
   "cell_type": "code",
   "execution_count": 13,
   "metadata": {
    "collapsed": false
   },
   "outputs": [
    {
     "data": {
      "text/plain": [
       "(1332, 1869, 2207, 728)"
      ]
     },
     "execution_count": 13,
     "metadata": {},
     "output_type": "execute_result"
    }
   ],
   "source": [
    "len(permits_2008_to_2013), len(permits_2014), len(permits_2015), len(permits_2016)"
   ]
  },
  {
   "cell_type": "markdown",
   "metadata": {},
   "source": [
    "### Leg 1&mdash;2008 to 2013\n",
    "\n",
    "This leg was successfully run overnight on July 2/3, 2016."
   ]
  },
  {
   "cell_type": "code",
   "execution_count": null,
   "metadata": {
    "collapsed": true
   },
   "outputs": [],
   "source": [
    "leg_2008_to_2013 = co_run(permits_2008_to_2013)"
   ]
  },
  {
   "cell_type": "markdown",
   "metadata": {},
   "source": [
    "(Note that this code logged its actuals inline with the notebook just as the August 2013 sample run did above, but the contents of that log have been removed from this notebook because loading so many lines of text was causing the notebook server to run very slowly.)"
   ]
  },
  {
   "cell_type": "markdown",
   "metadata": {},
   "source": [
    "### Leg 2—2014\n",
    "\n",
    "This leg was mostly run through during July 3, 2016 daylight hours. It failed on the ~1500th entry with a connection reset error, almost certainly due to a random Python bug.\n",
    "\n",
    "(Note that this code logged its actuals inline with the notebook just as the August 2013 sample run did above, but the contents of that log have been removed from this notebook because loading so many lines of text was causing the notebook server to run very slowly.)"
   ]
  },
  {
   "cell_type": "code",
   "execution_count": 9,
   "metadata": {
    "collapsed": false,
    "scrolled": true
   },
   "outputs": [
    {
     "name": "stderr",
     "output_type": "stream",
     "text": [
      "\r",
      "0it [00:00, ?it/s]"
     ]
    }
   ],
   "source": [
    "leg_2014_remaining = co_run(permits_2014_remaining)"
   ]
  },
  {
   "cell_type": "markdown",
   "metadata": {},
   "source": [
    "#### Recovering data\n",
    "\n",
    "There are over 1500 data points that were lost when the runner crashed. I didn't use an intermediary object like I did with the August 2013 test set, so I didn't cache the result. But the log file (removed from here per the above; output saved to `crashed_2014_log.txt`) is pretty extensive and completely standardized, so it should be fairly easy to extract the results thus far from there."
   ]
  },
  {
   "cell_type": "code",
   "execution_count": 2,
   "metadata": {
    "collapsed": false
   },
   "outputs": [
    {
     "data": {
      "text/plain": [
       "1563"
      ]
     },
     "execution_count": 2,
     "metadata": {},
     "output_type": "execute_result"
    }
   ],
   "source": [
    "len(results)"
   ]
  },
  {
   "cell_type": "code",
   "execution_count": null,
   "metadata": {
    "collapsed": true
   },
   "outputs": [],
   "source": [
    "results = dict()\n",
    "BIN = None\n",
    "dates = []\n",
    "\n",
    "with open(\"crashed_2014_log.txt\") as logfile:\n",
    "    for line in logfile:\n",
    "        if \"Requested BIN\" in line:\n",
    "            # Calculate maximum minimum date and append.\n",
    "            if dates:\n",
    "                mindate = np.max(dates)\n",
    "            else:\n",
    "                mindate = None\n",
    "            results[BIN] = mindate\n",
    "            # Clean up.\n",
    "            BIN = int(float(line.split(' ')[2]))\n",
    "            dates = []\n",
    "        elif \"['\" in line:\n",
    "            date_strs = re.findall(\"[0-9]{2}[/][0-9]{2}[/][0-9]{4}\", line)\n",
    "            dates.append(min([arrow.get(date_str, 'MM/DD/YYYY') for date_str in date_strs]).datetime)"
   ]
  },
  {
   "cell_type": "code",
   "execution_count": null,
   "metadata": {
    "collapsed": true
   },
   "outputs": [],
   "source": [
    "permits_2014_partial = permits_2014[permits_2014['Bin #'].isin(results.keys())]\n",
    "permits_2014_partial['Certificate Date'] = permits_2014_partial['Bin #'].map(lambda x: results[x]).values\n",
    "permits_2014_partial['Filing Date'] = permits_2014_partial['Filing Date'].map(lambda x: np.datetime64(arrow.get(x,\"MM/DD/YYYY\").datetime))\n",
    "permits_2014_partial['Build Time'] = permits_2014_partial.apply(lambda srs: srs['Certificate Date'] - srs['Filing Date'], axis='columns')"
   ]
  },
  {
   "cell_type": "code",
   "execution_count": 48,
   "metadata": {
    "collapsed": false
   },
   "outputs": [],
   "source": [
    "leg_2014 = pd.concat([leg_2014_remaining, permits_2014_partial])"
   ]
  },
  {
   "cell_type": "code",
   "execution_count": 49,
   "metadata": {
    "collapsed": true
   },
   "outputs": [],
   "source": [
    "leg_2014.to_csv(\"leg_2014.csv\")"
   ]
  },
  {
   "cell_type": "markdown",
   "metadata": {},
   "source": [
    "#### Remaining workload\n",
    "\n",
    "We need just under 300 (about 1 1/2 the size of the August 2013 test set) more queries to complete the 2014 recordset."
   ]
  },
  {
   "cell_type": "code",
   "execution_count": null,
   "metadata": {
    "collapsed": true
   },
   "outputs": [],
   "source": [
    "permits_2014_remaining = permits_2014[~permits_2014['Bin #'].isin(permits_2014_partial['Bin #'])]"
   ]
  },
  {
   "cell_type": "code",
   "execution_count": 3,
   "metadata": {
    "collapsed": false
   },
   "outputs": [
    {
     "data": {
      "text/plain": [
       "292"
      ]
     },
     "execution_count": 3,
     "metadata": {},
     "output_type": "execute_result"
    }
   ],
   "source": [
    "len(permits_2014_remaining)"
   ]
  },
  {
   "cell_type": "code",
   "execution_count": null,
   "metadata": {
    "collapsed": true
   },
   "outputs": [],
   "source": [
    "leg_2014_remaining = co_run(permits_2014_remaining)"
   ]
  },
  {
   "cell_type": "markdown",
   "metadata": {},
   "source": [
    "Success!"
   ]
  },
  {
   "cell_type": "code",
   "execution_count": null,
   "metadata": {
    "collapsed": true
   },
   "outputs": [],
   "source": [
    "leg_2014 = pd.concat([leg_2014_remaining, permits_2014_partial])"
   ]
  },
  {
   "cell_type": "code",
   "execution_count": null,
   "metadata": {
    "collapsed": true
   },
   "outputs": [],
   "source": [
    "permits_sample = pd.concat([leg_2008_to_2013, leg_2014])"
   ]
  },
  {
   "cell_type": "code",
   "execution_count": 52,
   "metadata": {
    "collapsed": false
   },
   "outputs": [
    {
     "data": {
      "text/plain": [
       "3201"
      ]
     },
     "execution_count": 52,
     "metadata": {},
     "output_type": "execute_result"
    }
   ],
   "source": [
    "len(permits_sample)"
   ]
  },
  {
   "cell_type": "code",
   "execution_count": 53,
   "metadata": {
    "collapsed": true
   },
   "outputs": [],
   "source": [
    "permits_sample.to_csv(\"permit_occupancy_join_sample.csv\")"
   ]
  },
  {
   "cell_type": "markdown",
   "metadata": {},
   "source": [
    "### Leg 3&mdash;2015"
   ]
  },
  {
   "cell_type": "markdown",
   "metadata": {},
   "source": [
    "I will defer on further BISweb queries as I believe that this sample size is adequate, and because of the constrained timelines the data becomes increasingly less informative as we go on.\n",
    "\n",
    "We can simulate percentage completion rates for recent construction ourselves."
   ]
  },
  {
   "cell_type": "markdown",
   "metadata": {},
   "source": [
    "### Leg 4&mdash;2016"
   ]
  },
  {
   "cell_type": "markdown",
   "metadata": {},
   "source": [
    "Deferred; unlikely to be of much use anyway."
   ]
  },
  {
   "cell_type": "markdown",
   "metadata": {},
   "source": [
    "## Quick Peek"
   ]
  },
  {
   "cell_type": "code",
   "execution_count": 55,
   "metadata": {
    "collapsed": true
   },
   "outputs": [],
   "source": [
    "import seaborn as sns\n",
    "import matplotlib.pyplot as plt\n",
    "%matplotlib inline"
   ]
  },
  {
   "cell_type": "code",
   "execution_count": 57,
   "metadata": {
    "collapsed": false
   },
   "outputs": [],
   "source": [
    "permits_sample = pd.read_csv(\"permit_occupancy_join_sample.csv\")"
   ]
  },
  {
   "cell_type": "code",
   "execution_count": 58,
   "metadata": {
    "collapsed": true
   },
   "outputs": [],
   "source": [
    "full_pier = permits_sample['Build Time'].map(lambda v: pd.isnull(v)).value_counts()\n",
    "full_pier.index = ['Built', 'Not Built']\n",
    "full_pier.name = ''"
   ]
  },
  {
   "cell_type": "code",
   "execution_count": 62,
   "metadata": {
    "collapsed": false
   },
   "outputs": [
    {
     "data": {
      "text/plain": [
       "Built        0.564823\n",
       "Not Built    0.435177\n",
       "Name: , dtype: float64"
      ]
     },
     "execution_count": 62,
     "metadata": {},
     "output_type": "execute_result"
    }
   ],
   "source": [
    "full_pier / full_pier.sum()"
   ]
  },
  {
   "cell_type": "code",
   "execution_count": 59,
   "metadata": {
    "collapsed": false
   },
   "outputs": [
    {
     "data": {
      "text/plain": [
       "<matplotlib.axes._subplots.AxesSubplot at 0x113dac450>"
      ]
     },
     "execution_count": 59,
     "metadata": {},
     "output_type": "execute_result"
    },
    {
     "data": {
      "image/png": "[encoded data removed]",
      "text/plain": [
       "<matplotlib.figure.Figure at 0x112fe1a50>"
      ]
     },
     "metadata": {},
     "output_type": "display_data"
    }
   ],
   "source": [
    "full_pier.plot(kind='pie', figsize=(8,8), fontsize=20, colors=('lightgreen', 'lightcoral')) # title='August 2013 Newly Permitted Construction')"
   ]
  },
  {
   "cell_type": "code",
   "execution_count": 44,
   "metadata": {
    "collapsed": false
   },
   "outputs": [
    {
     "data": {
      "image/png": "[encoded data removed]",
      "text/plain": [
       "<matplotlib.figure.Figure at 0x117ad8b10>"
      ]
     },
     "metadata": {},
     "output_type": "display_data"
    }
   ],
   "source": [
    "sns.set_style('white')\n",
    "sns.distplot(permits_2014_partial['Build Time'][permits_2014_partial['Build Time'].notnull()].map(lambda t: t.days),\n",
    "             bins=10,\n",
    "             kde=False,\n",
    "             rug=True,\n",
    "             hist_kws={'alpha': 0.5},\n",
    "            )\n",
    "sns.despine()"
   ]
  }
 ],
 "metadata": {
  "kernelspec": {
   "display_name": "Python 2",
   "language": "python",
   "name": "python2"
  },
  "language_info": {
   "codemirror_mode": {
    "name": "ipython",
    "version": 2
   },
   "file_extension": ".py",
   "mimetype": "text/x-python",
   "name": "python",
   "nbconvert_exporter": "python",
   "pygments_lexer": "ipython2",
   "version": "2.7.11"
  }
 },
 "nbformat": 4,
 "nbformat_minor": 0
}
