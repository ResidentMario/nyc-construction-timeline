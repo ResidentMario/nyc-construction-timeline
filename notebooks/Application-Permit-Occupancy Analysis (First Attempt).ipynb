{
 "cells": [
  {
   "cell_type": "markdown",
   "metadata": {},
   "source": [
    "# Application, Permit, Occupancy &mdash; NYC Build Time Analysis"
   ]
  },
  {
   "cell_type": "code",
   "execution_count": 1,
   "metadata": {
    "collapsed": true
   },
   "outputs": [],
   "source": [
    "import pandas as pd\n",
    "import numpy as np\n",
    "import matplotlib.pyplot as plt\n",
    "import seaborn as sns\n",
    "import arrow\n",
    "%matplotlib inline\n",
    "pd.set_option(\"max_columns\", 500)"
   ]
  },
  {
   "cell_type": "code",
   "execution_count": 2,
   "metadata": {
    "collapsed": false
   },
   "outputs": [],
   "source": [
    "data = pd.read_csv(\"../data/permit_occupancy_join_sample.csv\", index_col=0)"
   ]
  },
  {
   "cell_type": "markdown",
   "metadata": {},
   "source": [
    "## Permit-to-Occupancy Analysis\n",
    "\n",
    "The sample of dates that we took consists of all borough-block-lots which recieved a construction permit in between April 25, 2013, when the open data record officially starts, and January 1, 2015, where our certificate of occupancy accessor algorithm ended its run. This means that every building has had at least 550 days in which to complete construction.\n",
    "\n",
    "Because the open data trail ends at our starting point any further data that we might recover from running the algorithm further forward in time would be of decreasing utility and increasing incompleteness, because those buildings will have less and less time in which to complete before they no longer show up in our dataset.\n",
    "\n",
    "Amongst the negative results we also have no way of distinguishing between cases in which a construction permit was filed for but the idea was eventually dropped, and cases where the construction permit was filed for and there has been progress of one form or another but the building still remains to be completed."
   ]
  },
  {
   "cell_type": "markdown",
   "metadata": {},
   "source": [
    "### Format conversions\n",
    "\n",
    "Because we saved to `CSV` format all of the date variables need to be reloaded into `numpy` data forms.\n",
    "\n",
    "First we convert dates. We need two date fields, `Issuance Date` (the date when the lot got its first new building permit, of format e.g. `06/21/2013 12:00:00 AM`) and `Certificate Date` (the date when the lot got its first certificate of occupancy, of format e.g. `06-21-2013`). Unfortunately I erronously encoded one set of dates in one format and the other set of dates in another, so each must be converted seperately in a slightly different way."
   ]
  },
  {
   "cell_type": "code",
   "execution_count": 3,
   "metadata": {
    "collapsed": false
   },
   "outputs": [
    {
     "data": {
      "text/html": [
       "<div>\n",
       "<table border=\"1\" class=\"dataframe\">\n",
       "  <thead>\n",
       "    <tr style=\"text-align: right;\">\n",
       "      <th></th>\n",
       "      <th>Unnamed: 0.1</th>\n",
       "      <th>BOROUGH</th>\n",
       "      <th>Bin #</th>\n",
       "      <th>House #</th>\n",
       "      <th>Street Name</th>\n",
       "      <th>Job #</th>\n",
       "      <th>Job doc. #</th>\n",
       "      <th>Job Type</th>\n",
       "      <th>Self_Cert</th>\n",
       "      <th>Block</th>\n",
       "      <th>Lot</th>\n",
       "      <th>Community Board</th>\n",
       "      <th>Zip Code</th>\n",
       "      <th>Bldg Type</th>\n",
       "      <th>Residential</th>\n",
       "      <th>Special District 1</th>\n",
       "      <th>Special District 2</th>\n",
       "      <th>Work Type</th>\n",
       "      <th>Permit Status</th>\n",
       "      <th>Filing Status</th>\n",
       "      <th>Permit Type</th>\n",
       "      <th>Permit Sequence #</th>\n",
       "      <th>Permit Subtype</th>\n",
       "      <th>Oil Gas</th>\n",
       "      <th>Site Fill</th>\n",
       "      <th>Filing Date</th>\n",
       "      <th>Issuance Date</th>\n",
       "      <th>Expiration Date</th>\n",
       "      <th>Job Start Date</th>\n",
       "      <th>Permittee's First Name</th>\n",
       "      <th>Permittee's Last Name</th>\n",
       "      <th>Permittee's Business Name</th>\n",
       "      <th>Permittee's Phone #</th>\n",
       "      <th>Permittee's License Type</th>\n",
       "      <th>Permittee's License #</th>\n",
       "      <th>Act as Superintendent</th>\n",
       "      <th>Permittee's Other Title</th>\n",
       "      <th>HIC License</th>\n",
       "      <th>Site Safety Mgr's First Name</th>\n",
       "      <th>Site Safety Mgr's Last Name</th>\n",
       "      <th>Site Safety Mgr Business Name</th>\n",
       "      <th>Superintendent First &amp; Last Name</th>\n",
       "      <th>Superintendent Business Name</th>\n",
       "      <th>Owner's Business Type</th>\n",
       "      <th>Non-Profit</th>\n",
       "      <th>Owner's Business Name</th>\n",
       "      <th>Owner's First Name</th>\n",
       "      <th>Owner's Last Name</th>\n",
       "      <th>Owner's House #</th>\n",
       "      <th>Owner's House Street Name</th>\n",
       "      <th>Owner’s House City</th>\n",
       "      <th>Owner’s House State</th>\n",
       "      <th>Owner’s House Zip Code</th>\n",
       "      <th>Owner's Phone #</th>\n",
       "      <th>DOBRunDate</th>\n",
       "      <th>Year</th>\n",
       "      <th>Certificate Date</th>\n",
       "      <th>Build Time</th>\n",
       "    </tr>\n",
       "  </thead>\n",
       "  <tbody>\n",
       "    <tr>\n",
       "      <th>0</th>\n",
       "      <td>26416</td>\n",
       "      <td>BRONX</td>\n",
       "      <td>2818049.0</td>\n",
       "      <td>92</td>\n",
       "      <td>WEST TREMONT AVE</td>\n",
       "      <td>220177350.0</td>\n",
       "      <td>1.0</td>\n",
       "      <td>NB</td>\n",
       "      <td>NaN</td>\n",
       "      <td>2867.0</td>\n",
       "      <td>125.0</td>\n",
       "      <td>205</td>\n",
       "      <td>10453</td>\n",
       "      <td>2.0</td>\n",
       "      <td>YES</td>\n",
       "      <td>NaN</td>\n",
       "      <td>NaN</td>\n",
       "      <td></td>\n",
       "      <td>ISSUED</td>\n",
       "      <td>INITIAL</td>\n",
       "      <td>NB</td>\n",
       "      <td>1.0</td>\n",
       "      <td></td>\n",
       "      <td></td>\n",
       "      <td>ON-SITE</td>\n",
       "      <td>2013-06-21</td>\n",
       "      <td>06/21/2013 12:00:00 AM</td>\n",
       "      <td>03/20/2014</td>\n",
       "      <td>06/21/2013</td>\n",
       "      <td>JIMMY</td>\n",
       "      <td>ZERVOUDIS</td>\n",
       "      <td>GALAXY G.C.GROUP LLC</td>\n",
       "      <td>7186017000</td>\n",
       "      <td>GENERAL CONTRACTOR</td>\n",
       "      <td>0610672</td>\n",
       "      <td></td>\n",
       "      <td></td>\n",
       "      <td></td>\n",
       "      <td></td>\n",
       "      <td></td>\n",
       "      <td></td>\n",
       "      <td>PHILIP            ANTONAKOS</td>\n",
       "      <td>GALAXY GENERAL CONTRACTIO</td>\n",
       "      <td>HPD</td>\n",
       "      <td>Y</td>\n",
       "      <td>HOUSING PRESERVATION AND DEVELOP</td>\n",
       "      <td>TIMOTHY</td>\n",
       "      <td>JOSEPH</td>\n",
       "      <td>100</td>\n",
       "      <td>GOLD STREET</td>\n",
       "      <td>NEW YORK</td>\n",
       "      <td>NY</td>\n",
       "      <td>10038.0</td>\n",
       "      <td>2.128637e+09</td>\n",
       "      <td>06/22/2013 12:00:00 AM</td>\n",
       "      <td>2013</td>\n",
       "      <td>2015-11-02</td>\n",
       "      <td>864 days 00:00:00.000000000</td>\n",
       "    </tr>\n",
       "  </tbody>\n",
       "</table>\n",
       "</div>"
      ],
      "text/plain": [
       "   Unnamed: 0.1 BOROUGH      Bin #       House #  \\\n",
       "0         26416   BRONX  2818049.0  92             \n",
       "\n",
       "                        Street Name        Job #  Job doc. # Job Type  \\\n",
       "0  WEST TREMONT AVE                  220177350.0         1.0       NB   \n",
       "\n",
       "  Self_Cert   Block    Lot Community Board Zip Code  Bldg Type Residential  \\\n",
       "0       NaN  2867.0  125.0             205    10453        2.0         YES   \n",
       "\n",
       "  Special District 1  Special District 2 Work Type Permit Status  \\\n",
       "0                NaN                 NaN                  ISSUED   \n",
       "\n",
       "  Filing Status Permit Type  Permit Sequence # Permit Subtype Oil Gas  \\\n",
       "0       INITIAL          NB                1.0                          \n",
       "\n",
       "                                  Site Fill Filing Date  \\\n",
       "0  ON-SITE                                   2013-06-21   \n",
       "\n",
       "            Issuance Date Expiration Date Job Start Date  \\\n",
       "0  06/21/2013 12:00:00 AM      03/20/2014     06/21/2013   \n",
       "\n",
       "  Permittee's First Name Permittee's Last Name  \\\n",
       "0        JIMMY            ZERVOUDIS              \n",
       "\n",
       "          Permittee's Business Name Permittee's Phone #  \\\n",
       "0  GALAXY G.C.GROUP LLC                      7186017000   \n",
       "\n",
       "                   Permittee's License Type Permittee's License #  \\\n",
       "0  GENERAL CONTRACTOR                                     0610672   \n",
       "\n",
       "  Act as Superintendent Permittee's Other Title HIC License  \\\n",
       "0                                                             \n",
       "\n",
       "  Site Safety Mgr's First Name Site Safety Mgr's Last Name  \\\n",
       "0                                                            \n",
       "\n",
       "      Site Safety Mgr Business Name        Superintendent First & Last Name  \\\n",
       "0                                    PHILIP            ANTONAKOS              \n",
       "\n",
       "       Superintendent Business Name                     Owner's Business Type  \\\n",
       "0  GALAXY GENERAL CONTRACTIO         HPD                                        \n",
       "\n",
       "  Non-Profit             Owner's Business Name Owner's First Name  \\\n",
       "0          Y  HOUSING PRESERVATION AND DEVELOP    TIMOTHY           \n",
       "\n",
       "                Owner's Last Name Owner's House #  \\\n",
       "0  JOSEPH                            100            \n",
       "\n",
       "          Owner's House Street Name Owner’s House City Owner’s House State  \\\n",
       "0  GOLD STREET                         NEW YORK                         NY   \n",
       "\n",
       "   Owner’s House Zip Code  Owner's Phone #              DOBRunDate  Year  \\\n",
       "0                 10038.0     2.128637e+09  06/22/2013 12:00:00 AM  2013   \n",
       "\n",
       "  Certificate Date                   Build Time  \n",
       "0       2015-11-02  864 days 00:00:00.000000000  "
      ]
     },
     "execution_count": 3,
     "metadata": {},
     "output_type": "execute_result"
    }
   ],
   "source": [
    "data.head(1)"
   ]
  },
  {
   "cell_type": "code",
   "execution_count": 4,
   "metadata": {
    "collapsed": true
   },
   "outputs": [],
   "source": [
    "def convert_issuance_time(date):\n",
    "    if isinstance(date, float):\n",
    "        return np.nan\n",
    "    else:\n",
    "        return np.datetime64(arrow.get(date.split(\" \")[0], 'MM/DD/YYYY').datetime)\n",
    "    \n",
    "def convert_certificate_time(date):\n",
    "    if isinstance(date, float):\n",
    "        return np.nan\n",
    "    else:\n",
    "        return np.datetime64(arrow.get(date, 'YYYY-MM-DD').datetime)"
   ]
  },
  {
   "cell_type": "code",
   "execution_count": 5,
   "metadata": {
    "collapsed": false
   },
   "outputs": [
    {
     "name": "stderr",
     "output_type": "stream",
     "text": [
      "/Users/Honors/anaconda/envs/nyc-construction-timelines/lib/python2.7/site-packages/ipykernel/__main__.py:5: DeprecationWarning: parsing timezone aware datetimes is deprecated; this will raise an error in the future\n",
      "/Users/Honors/anaconda/envs/nyc-construction-timelines/lib/python2.7/site-packages/ipykernel/__main__.py:11: DeprecationWarning: parsing timezone aware datetimes is deprecated; this will raise an error in the future\n"
     ]
    }
   ],
   "source": [
    "data['Issuance Date'] = [convert_issuance_time(date) for date in data['Issuance Date']]\n",
    "data['Certificate Date'] = [convert_certificate_time(date) for date in data['Certificate Date']]"
   ]
  },
  {
   "cell_type": "markdown",
   "metadata": {},
   "source": [
    "Then time deltas."
   ]
  },
  {
   "cell_type": "code",
   "execution_count": 6,
   "metadata": {
    "collapsed": false
   },
   "outputs": [],
   "source": [
    "def convert_time_delta(delta):\n",
    "    if isinstance(delta, float):\n",
    "        return None\n",
    "    else:\n",
    "        return np.timedelta64(delta.split(\" \")[0], 'D')"
   ]
  },
  {
   "cell_type": "code",
   "execution_count": 7,
   "metadata": {
    "collapsed": false
   },
   "outputs": [],
   "source": [
    "for col in ['Build Time']:\n",
    "    data[col] = [convert_time_delta(delta) for delta in data[col]]"
   ]
  },
  {
   "cell_type": "code",
   "execution_count": 8,
   "metadata": {
    "collapsed": false,
    "scrolled": false
   },
   "outputs": [
    {
     "data": {
      "text/html": [
       "<div>\n",
       "<table border=\"1\" class=\"dataframe\">\n",
       "  <thead>\n",
       "    <tr style=\"text-align: right;\">\n",
       "      <th></th>\n",
       "      <th>Unnamed: 0.1</th>\n",
       "      <th>BOROUGH</th>\n",
       "      <th>Bin #</th>\n",
       "      <th>House #</th>\n",
       "      <th>Street Name</th>\n",
       "      <th>Job #</th>\n",
       "      <th>Job doc. #</th>\n",
       "      <th>Job Type</th>\n",
       "      <th>Self_Cert</th>\n",
       "      <th>Block</th>\n",
       "      <th>Lot</th>\n",
       "      <th>Community Board</th>\n",
       "      <th>Zip Code</th>\n",
       "      <th>Bldg Type</th>\n",
       "      <th>Residential</th>\n",
       "      <th>Special District 1</th>\n",
       "      <th>Special District 2</th>\n",
       "      <th>Work Type</th>\n",
       "      <th>Permit Status</th>\n",
       "      <th>Filing Status</th>\n",
       "      <th>Permit Type</th>\n",
       "      <th>Permit Sequence #</th>\n",
       "      <th>Permit Subtype</th>\n",
       "      <th>Oil Gas</th>\n",
       "      <th>Site Fill</th>\n",
       "      <th>Filing Date</th>\n",
       "      <th>Issuance Date</th>\n",
       "      <th>Expiration Date</th>\n",
       "      <th>Job Start Date</th>\n",
       "      <th>Permittee's First Name</th>\n",
       "      <th>Permittee's Last Name</th>\n",
       "      <th>Permittee's Business Name</th>\n",
       "      <th>Permittee's Phone #</th>\n",
       "      <th>Permittee's License Type</th>\n",
       "      <th>Permittee's License #</th>\n",
       "      <th>Act as Superintendent</th>\n",
       "      <th>Permittee's Other Title</th>\n",
       "      <th>HIC License</th>\n",
       "      <th>Site Safety Mgr's First Name</th>\n",
       "      <th>Site Safety Mgr's Last Name</th>\n",
       "      <th>Site Safety Mgr Business Name</th>\n",
       "      <th>Superintendent First &amp; Last Name</th>\n",
       "      <th>Superintendent Business Name</th>\n",
       "      <th>Owner's Business Type</th>\n",
       "      <th>Non-Profit</th>\n",
       "      <th>Owner's Business Name</th>\n",
       "      <th>Owner's First Name</th>\n",
       "      <th>Owner's Last Name</th>\n",
       "      <th>Owner's House #</th>\n",
       "      <th>Owner's House Street Name</th>\n",
       "      <th>Owner’s House City</th>\n",
       "      <th>Owner’s House State</th>\n",
       "      <th>Owner’s House Zip Code</th>\n",
       "      <th>Owner's Phone #</th>\n",
       "      <th>DOBRunDate</th>\n",
       "      <th>Year</th>\n",
       "      <th>Certificate Date</th>\n",
       "      <th>Build Time</th>\n",
       "    </tr>\n",
       "  </thead>\n",
       "  <tbody>\n",
       "    <tr>\n",
       "      <th>0</th>\n",
       "      <td>26416</td>\n",
       "      <td>BRONX</td>\n",
       "      <td>2818049.0</td>\n",
       "      <td>92</td>\n",
       "      <td>WEST TREMONT AVE</td>\n",
       "      <td>220177350.0</td>\n",
       "      <td>1.0</td>\n",
       "      <td>NB</td>\n",
       "      <td>NaN</td>\n",
       "      <td>2867.0</td>\n",
       "      <td>125.0</td>\n",
       "      <td>205</td>\n",
       "      <td>10453</td>\n",
       "      <td>2.0</td>\n",
       "      <td>YES</td>\n",
       "      <td>NaN</td>\n",
       "      <td>NaN</td>\n",
       "      <td></td>\n",
       "      <td>ISSUED</td>\n",
       "      <td>INITIAL</td>\n",
       "      <td>NB</td>\n",
       "      <td>1.0</td>\n",
       "      <td></td>\n",
       "      <td></td>\n",
       "      <td>ON-SITE</td>\n",
       "      <td>2013-06-21</td>\n",
       "      <td>2013-06-21</td>\n",
       "      <td>03/20/2014</td>\n",
       "      <td>06/21/2013</td>\n",
       "      <td>JIMMY</td>\n",
       "      <td>ZERVOUDIS</td>\n",
       "      <td>GALAXY G.C.GROUP LLC</td>\n",
       "      <td>7186017000</td>\n",
       "      <td>GENERAL CONTRACTOR</td>\n",
       "      <td>0610672</td>\n",
       "      <td></td>\n",
       "      <td></td>\n",
       "      <td></td>\n",
       "      <td></td>\n",
       "      <td></td>\n",
       "      <td></td>\n",
       "      <td>PHILIP            ANTONAKOS</td>\n",
       "      <td>GALAXY GENERAL CONTRACTIO</td>\n",
       "      <td>HPD</td>\n",
       "      <td>Y</td>\n",
       "      <td>HOUSING PRESERVATION AND DEVELOP</td>\n",
       "      <td>TIMOTHY</td>\n",
       "      <td>JOSEPH</td>\n",
       "      <td>100</td>\n",
       "      <td>GOLD STREET</td>\n",
       "      <td>NEW YORK</td>\n",
       "      <td>NY</td>\n",
       "      <td>10038.0</td>\n",
       "      <td>2.128637e+09</td>\n",
       "      <td>06/22/2013 12:00:00 AM</td>\n",
       "      <td>2013</td>\n",
       "      <td>2015-11-02</td>\n",
       "      <td>864 days</td>\n",
       "    </tr>\n",
       "  </tbody>\n",
       "</table>\n",
       "</div>"
      ],
      "text/plain": [
       "   Unnamed: 0.1 BOROUGH      Bin #       House #  \\\n",
       "0         26416   BRONX  2818049.0  92             \n",
       "\n",
       "                        Street Name        Job #  Job doc. # Job Type  \\\n",
       "0  WEST TREMONT AVE                  220177350.0         1.0       NB   \n",
       "\n",
       "  Self_Cert   Block    Lot Community Board Zip Code  Bldg Type Residential  \\\n",
       "0       NaN  2867.0  125.0             205    10453        2.0         YES   \n",
       "\n",
       "  Special District 1  Special District 2 Work Type Permit Status  \\\n",
       "0                NaN                 NaN                  ISSUED   \n",
       "\n",
       "  Filing Status Permit Type  Permit Sequence # Permit Subtype Oil Gas  \\\n",
       "0       INITIAL          NB                1.0                          \n",
       "\n",
       "                                  Site Fill Filing Date Issuance Date  \\\n",
       "0  ON-SITE                                   2013-06-21    2013-06-21   \n",
       "\n",
       "  Expiration Date Job Start Date Permittee's First Name Permittee's Last Name  \\\n",
       "0      03/20/2014     06/21/2013        JIMMY            ZERVOUDIS              \n",
       "\n",
       "          Permittee's Business Name Permittee's Phone #  \\\n",
       "0  GALAXY G.C.GROUP LLC                      7186017000   \n",
       "\n",
       "                   Permittee's License Type Permittee's License #  \\\n",
       "0  GENERAL CONTRACTOR                                     0610672   \n",
       "\n",
       "  Act as Superintendent Permittee's Other Title HIC License  \\\n",
       "0                                                             \n",
       "\n",
       "  Site Safety Mgr's First Name Site Safety Mgr's Last Name  \\\n",
       "0                                                            \n",
       "\n",
       "      Site Safety Mgr Business Name        Superintendent First & Last Name  \\\n",
       "0                                    PHILIP            ANTONAKOS              \n",
       "\n",
       "       Superintendent Business Name                     Owner's Business Type  \\\n",
       "0  GALAXY GENERAL CONTRACTIO         HPD                                        \n",
       "\n",
       "  Non-Profit             Owner's Business Name Owner's First Name  \\\n",
       "0          Y  HOUSING PRESERVATION AND DEVELOP    TIMOTHY           \n",
       "\n",
       "                Owner's Last Name Owner's House #  \\\n",
       "0  JOSEPH                            100            \n",
       "\n",
       "          Owner's House Street Name Owner’s House City Owner’s House State  \\\n",
       "0  GOLD STREET                         NEW YORK                         NY   \n",
       "\n",
       "   Owner’s House Zip Code  Owner's Phone #              DOBRunDate  Year  \\\n",
       "0                 10038.0     2.128637e+09  06/22/2013 12:00:00 AM  2013   \n",
       "\n",
       "  Certificate Date  Build Time  \n",
       "0       2015-11-02    864 days  "
      ]
     },
     "execution_count": 8,
     "metadata": {},
     "output_type": "execute_result"
    }
   ],
   "source": [
    "data.head(1)"
   ]
  },
  {
   "cell_type": "markdown",
   "metadata": {},
   "source": [
    "In a handful of cases the Build Time parameter come back as negative. We will throw those few cases out."
   ]
  },
  {
   "cell_type": "code",
   "execution_count": 9,
   "metadata": {
    "collapsed": false
   },
   "outputs": [],
   "source": [
    "data = data[((data['Build Time'].isnull()) | (data['Build Time'] > np.timedelta64(0, \"D\")))]"
   ]
  },
  {
   "cell_type": "markdown",
   "metadata": {},
   "source": [
    "### Key Variables  and Opening Thoughts"
   ]
  },
  {
   "cell_type": "markdown",
   "metadata": {},
   "source": [
    "The key variables of interest are:\n",
    "\n",
    "* `Issuance Date` &mdash; The date that the first construction permit was issued.\n",
    "* `Certificate Date` &mdash; The date that the first certificate of occupancy was issued.\n",
    "* `Build Time` &mdash; The time between the first building permit and the first certificate of occupancy.\n",
    "\n",
    "Because the data in question is time-series data it is important to think about whether we can interpret it in terms of the overall statistics or must do so in terms of the statistics from the frame of reference of the date. We expect buildings started in 2013 to complete more often, in this dataset, than ones started in 2014, and so on down the line. The question is whether or not that effect is significant.\n",
    "\n",
    "We will split the work between build timing and application timing.\n",
    "\n",
    "First, the naive timing histogram."
   ]
  },
  {
   "cell_type": "markdown",
   "metadata": {},
   "source": [
    "### Naive Histogram\n",
    "\n",
    "First, the naive timing histogram."
   ]
  },
  {
   "cell_type": "code",
   "execution_count": 10,
   "metadata": {
    "collapsed": false
   },
   "outputs": [
    {
     "data": {
      "image/png": "[encoded data removed]",
      "text/plain": [
       "<matplotlib.figure.Figure at 0x111639b10>"
      ]
     },
     "metadata": {},
     "output_type": "display_data"
    }
   ],
   "source": [
    "sns.set_style('white')\n",
    "sns.distplot(data[data['Build Time'].notnull()]['Build Time'].map(lambda x: x.days),\n",
    "             bins=40,\n",
    "             kde=False,\n",
    "             rug=True,\n",
    "             hist_kws={'alpha': 0.5},\n",
    "            )\n",
    "sns.despine()"
   ]
  },
  {
   "cell_type": "markdown",
   "metadata": {},
   "source": [
    "We see that a great part of the completes occur after 550 days, indicating that great care must be taken not interpret naive results.\n",
    "\n",
    "The significant spikes are, on examination, batch job submissions.\n",
    "\n",
    "Per below, about 23 percent of buildings complete before our minimum window time, 22 percent after, and 57 percent do not complete at all. Again this is strong evidence that our data is strongly time-dependent."
   ]
  },
  {
   "cell_type": "code",
   "execution_count": 11,
   "metadata": {
    "collapsed": false
   },
   "outputs": [
    {
     "data": {
      "text/plain": [
       "0.21696931747025675"
      ]
     },
     "execution_count": 11,
     "metadata": {},
     "output_type": "execute_result"
    }
   ],
   "source": [
    "float(len(data[(data['Build Time'] > np.timedelta64(\"550\", \"D\"))])) / float(len(data))"
   ]
  },
  {
   "cell_type": "code",
   "execution_count": 12,
   "metadata": {
    "collapsed": false
   },
   "outputs": [
    {
     "data": {
      "text/plain": [
       "0.5660613650594866"
      ]
     },
     "execution_count": 12,
     "metadata": {},
     "output_type": "execute_result"
    }
   ],
   "source": [
    "float(len(data[(data['Build Time'].isnull())])) / float(len(data))"
   ]
  },
  {
   "cell_type": "markdown",
   "metadata": {},
   "source": [
    "### Time-series model\n",
    "\n",
    "So instead we need to iteratively model a cumulative sum.\n",
    "\n",
    "Ask the following question: given the buildings that per our dataset could still legally finish in time period X, what percentage of those buildings actually did complete? As we get further and further away this value becomes more speculative, but given that the average month contains ~80 new buildings I expect the error to remain relatively low. \n",
    "\n",
    "An explicit error bound will also be calculated (**TODO**).\n",
    "\n",
    "The steps for this algorithm are:\n",
    "\n",
    "1. Create a list of possible monthly timedeltas. Iterate through them.\n",
    "2. Let $B=b$ — Lots built in timedelta $b$\n",
    "\n",
    "   Let $E\\geq b$ — Lots elegible to be built in timedelta $b$ (in our timeframe)\n",
    "   \n",
    "   For each timedelta $b$, count the number of buildings which were elegible to be built, $E$, and the number of buildings which were actually built, $B$.\n",
    "3. Then $B/E$ will be the probability density function for that monthly period $b$."
   ]
  },
  {
   "cell_type": "code",
   "execution_count": 13,
   "metadata": {
    "collapsed": false
   },
   "outputs": [],
   "source": [
    "sample_months = np.arange(np.datetime64('2013-04'), np.datetime64('2016-06'), step=np.timedelta64(1,'M'))\n",
    "sample_timedeltas = sample_months - np.datetime64('2013-04')"
   ]
  },
  {
   "cell_type": "code",
   "execution_count": 14,
   "metadata": {
    "collapsed": false
   },
   "outputs": [],
   "source": [
    "# np.max(data['Issuance Date'])"
   ]
  },
  {
   "cell_type": "code",
   "execution_count": 15,
   "metadata": {
    "collapsed": false
   },
   "outputs": [
    {
     "name": "stdout",
     "output_type": "stream",
     "text": [
      "(2, 3194, 0.0006261740763932373)\n",
      "(1, 3194, 0.00031308703819661864)\n",
      "(4, 3194, 0.0012523481527864746)\n",
      "(5, 3194, 0.0015654351909830933)\n",
      "(11, 3194, 0.0034439574201628053)\n",
      "(12, 3193, 0.003758221108675227)\n",
      "(27, 3192, 0.008458646616541353)\n",
      "(56, 3192, 0.017543859649122806)\n",
      "(80, 3192, 0.02506265664160401)\n",
      "(70, 3192, 0.021929824561403508)\n",
      "(46, 3190, 0.014420062695924765)\n",
      "(67, 3190, 0.021003134796238245)\n",
      "(37, 3189, 0.011602383192223268)\n",
      "(51, 3187, 0.016002510197678066)\n",
      "(64, 3185, 0.020094191522762952)\n",
      "(52, 3180, 0.016352201257861635)\n",
      "(54, 3178, 0.016991818753933293)\n",
      "(51, 3176, 0.01605793450881612)\n",
      "(88, 3165, 0.027804107424960506)\n",
      "(49, 2983, 0.016426416359369762)\n",
      "(59, 2890, 0.02041522491349481)\n",
      "(40, 2736, 0.014619883040935672)\n",
      "(41, 2494, 0.01643945469125902)\n",
      "(78, 2330, 0.03347639484978541)\n",
      "(38, 2193, 0.017327861377108983)\n",
      "(43, 2060, 0.02087378640776699)\n",
      "(36, 1908, 0.018867924528301886)\n",
      "(28, 1741, 0.016082711085583)\n",
      "(31, 1535, 0.020195439739413682)\n",
      "(26, 1427, 0.018220042046250877)\n",
      "(37, 1301, 0.02843966179861645)\n",
      "(23, 1139, 0.02019315188762072)\n",
      "(19, 989, 0.019211324570273004)\n",
      "(11, 761, 0.01445466491458607)\n",
      "(23, 581, 0.039586919104991396)\n",
      "(6, 458, 0.013100436681222707)\n",
      "(7, 320, 0.021875)\n",
      "(4, 193, 0.02072538860103627)\n"
     ]
    }
   ],
   "source": [
    "# Capture buildings which were completed (for arithmatic purposes, since numpy doesn't like NaN arithmetic).\n",
    "completed_buildings = data[data['Build Time'].notnull()]\n",
    "# Set up the cumsum list.\n",
    "# cumsum = [1]\n",
    "# Set up the CDF holder.\n",
    "cdf = [0]\n",
    "pdf = [0]\n",
    "num_observations = np.array([])\n",
    "\n",
    "# Timedelta is a staggered list of all completion times that we could possibly have data on.\n",
    "# Timedelta starts at 0 months.\n",
    "# Each time we build a \"window\" of timedelta-to-timedelta-plus-one months.\n",
    "# And squeeze what's in between.\n",
    "for timedelta in sample_timedeltas:\n",
    "    # Generate a list of all lots which *could* have been completed in timedelta months.\n",
    "    # Two conditions:\n",
    "    # 1. Given our timeframe, they could have been built in timedelta months.\n",
    "#   # 2. They were not built earlier.\n",
    "    elegible_lots = data[data['Issuance Date'] < np.datetime64('2016-07') - timedelta]\n",
    "#     elegible_lots = elegible_lots[(elegible_lots['Build Time'].isnull()) | (elegible_lots['Build Time'] > timedelta)]\n",
    "    # Capture that number.\n",
    "    elegible_count = len(elegible_lots)\n",
    "    num_observations = np.append(num_observations, [elegible_count])\n",
    "    # Of these lots, capture which ones which *WERE* completed in one more month.\n",
    "    completed_lots = elegible_lots[(elegible_lots['Build Time'].notnull()) &\n",
    "                                   (elegible_lots['Build Time'] < timedelta + np.timedelta64(1, 'M')) &\n",
    "                                   (elegible_lots['Build Time'] > timedelta)]\n",
    "    # Capture that number.\n",
    "    completed_count = len(completed_lots)\n",
    "    # A = completed = # of lots completed in month X.\n",
    "    # B = elegible = # of lots which could be completed in month X.\n",
    "    # A / B = P(A|B) = P(completed|elegible)\n",
    "    completed_given_elegible = completed_count / float(elegible_count)\n",
    "    pdf.append(completed_given_elegible)\n",
    "    print(completed_count, elegible_count, completed_given_elegible)\n",
    "#     cdf.append(cdf[-1] + (1 - cdf[-1]) * completed_given_elegible)\n",
    "#     # 1 minus the ratio between these two values is the survival function.\n",
    "#     # That is, it is the percent chance that a building which has not recieved a C of O in X months will not\n",
    "#     # recieve a C of O in X+1 months either.\n",
    "#     survival_rate = 1 - completed_count / float(elegible_count)\n",
    "#     # Use that to calculate the effect on the survival CDF and append that to the list.\n",
    "#     cumsum.append(cumsum[-1] * survival_rate)\n",
    "\n",
    "pdf = np.array(pdf)\n",
    "cdf = pdf.cumsum()\n",
    "\n",
    "# Invert the survival cumulative to get the discrete by-month permit-to-occupancy CDF.\n",
    "# cdf = 1 - np.array(cumsum)\n",
    "# Subtract through to get the PDF.\n",
    "# cdf = np.array(cdf)\n",
    "# pdf = cdf[1:] - cdf[:-1]\n",
    "# Include the largely symbolic first value into the PDF\n",
    "# pdf = np.insert(pdf, 0, 0)\n",
    "\n",
    "del completed_buildings"
   ]
  },
  {
   "cell_type": "code",
   "execution_count": 16,
   "metadata": {
    "collapsed": false
   },
   "outputs": [
    {
     "data": {
      "text/plain": [
       "[<matplotlib.lines.Line2D at 0x116616390>]"
      ]
     },
     "execution_count": 16,
     "metadata": {},
     "output_type": "execute_result"
    },
    {
     "data": {
      "image/png": "[encoded data removed]",
      "text/plain": [
       "<matplotlib.figure.Figure at 0x111625b10>"
      ]
     },
     "metadata": {},
     "output_type": "display_data"
    }
   ],
   "source": [
    "plt.plot(pdf)"
   ]
  },
  {
   "cell_type": "markdown",
   "metadata": {},
   "source": [
    "Extrordinarily, it appears that after an initial lag period (and accounting for the volatility of the dataset) the rate of building construction (in the captured timeframe) is *linear* with respect to time.\n",
    "\n",
    "This is very surprising. I expected building construction times to be approximately normally distributed, which they clearly aren't.\n",
    "\n",
    "Below I do a monthly breakdown."
   ]
  },
  {
   "cell_type": "code",
   "execution_count": 17,
   "metadata": {
    "collapsed": true
   },
   "outputs": [],
   "source": [
    "# I accidentally deleted gen_cdf_pdf."
   ]
  },
  {
   "cell_type": "code",
   "execution_count": 19,
   "metadata": {
    "collapsed": false,
    "scrolled": true
   },
   "outputs": [],
   "source": [
    "# monthly_dfs = [data[data['Issuance Date'].map(lambda d: (d.month == n) & (d.year == 2014))] for n in range(1, 13)]\n",
    "# for n in range(0, 12):\n",
    "#     cdf, pdf = gen_cdf_pdf(monthly_dfs[n])\n",
    "#     plt.plot(pdf)"
   ]
  },
  {
   "cell_type": "code",
   "execution_count": 20,
   "metadata": {
    "collapsed": false,
    "scrolled": true
   },
   "outputs": [],
   "source": [
    "# monthly_dfs = [data[data['Issuance Date'].map(lambda d: (d.month == n) & (d.year == 2013))] for n in range(1, 13)]\n",
    "# for n in range(0, 12):\n",
    "#     cdf, pdf = gen_cdf_pdf(monthly_dfs[n])\n",
    "#     plt.plot(pdf)"
   ]
  },
  {
   "cell_type": "markdown",
   "metadata": {},
   "source": [
    "The CDF makes things clearer."
   ]
  },
  {
   "cell_type": "code",
   "execution_count": 21,
   "metadata": {
    "collapsed": false
   },
   "outputs": [
    {
     "data": {
      "text/plain": [
       "[<matplotlib.lines.Line2D at 0x110834390>]"
      ]
     },
     "execution_count": 21,
     "metadata": {},
     "output_type": "execute_result"
    },
    {
     "data": {
      "image/png": "[encoded data removed]",
      "text/plain": [
       "<matplotlib.figure.Figure at 0x11669c750>"
      ]
     },
     "metadata": {},
     "output_type": "display_data"
    }
   ],
   "source": [
    "plt.plot(cdf)"
   ]
  },
  {
   "cell_type": "markdown",
   "metadata": {},
   "source": [
    "Again we see a linear construction rate with respect to time. The plot can be broken down into two parts: the initial lag, and the linear growth period.\n",
    "\n",
    "But this is because we are limited by our dataset in our observations to just the first 37 months or so. The curve will have to round off at some point, creating another flatter portion of the curve somewhere in the 40-month-plus range.\n",
    "\n",
    "If knew what the overall percentage of permits which result in new buildings (that is, permits which are not abandoned) are, then we could extrapolate the end of the curve. However, because we don't know what the cealing is, we can't do that.\n",
    "\n",
    "More data would be helpful in interpreting this result. The following plot charts the number of observations each pass is based on."
   ]
  },
  {
   "cell_type": "code",
   "execution_count": 22,
   "metadata": {
    "collapsed": false
   },
   "outputs": [
    {
     "data": {
      "text/plain": [
       "[<matplotlib.lines.Line2D at 0x116616f90>]"
      ]
     },
     "execution_count": 22,
     "metadata": {},
     "output_type": "execute_result"
    },
    {
     "data": {
      "image/png": "[encoded data removed]",
      "text/plain": [
       "<matplotlib.figure.Figure at 0x116626bd0>"
      ]
     },
     "metadata": {},
     "output_type": "display_data"
    }
   ],
   "source": [
    "plt.plot(num_observations)"
   ]
  },
  {
   "cell_type": "markdown",
   "metadata": {},
   "source": [
    "An average build time is not a meaningful statistic. Averages would fail to capture the structure of the data very well, due to its linear nature.\n",
    "\n",
    "We do have data up to the ~60th percentile, however. So we do have and can use a meaningful median value (though not a full IQR), and speak to the challenges of getting a more accurate depiction."
   ]
  },
  {
   "cell_type": "markdown",
   "metadata": {},
   "source": [
    "## Application-to-Permit Analysis"
   ]
  },
  {
   "cell_type": "code",
   "execution_count": 34,
   "metadata": {
    "collapsed": true
   },
   "outputs": [],
   "source": [
    "p_data = pd.read_csv(\"../data/application_permit_join_sample.csv\", index_col=0)"
   ]
  },
  {
   "cell_type": "markdown",
   "metadata": {},
   "source": [
    "The challenge is again the same: how do we account for the limitation on the time frame of our data? In this case I took all of the permit data between July 2016 and the beginning of 2015, and merged the job data onto that. Since the job data goes back to March 2013, this means that every permit had the opportunity for a year and a half of application acrrual ahead of getting an actual permit."
   ]
  },
  {
   "cell_type": "markdown",
   "metadata": {},
   "source": [
    "### Format conversions\n",
    "\n",
    "Again we have to fix inputs first."
   ]
  },
  {
   "cell_type": "code",
   "execution_count": 48,
   "metadata": {
    "collapsed": true
   },
   "outputs": [],
   "source": [
    "# def convert_issuance_time(date):\n",
    "#     if isinstance(date, float):\n",
    "#         return np.nan\n",
    "#     else:\n",
    "#         return np.datetime64(arrow.get(date, 'MM/DD/YYYY').datetime)\n",
    "    \n",
    "def convert_issuance_and_application_time(date):\n",
    "    if isinstance(date, float):\n",
    "        return np.nan\n",
    "    else:\n",
    "        return np.datetime64(arrow.get(date, 'YYYY-MM-DD').datetime)"
   ]
  },
  {
   "cell_type": "code",
   "execution_count": 42,
   "metadata": {
    "collapsed": false,
    "scrolled": true
   },
   "outputs": [
    {
     "name": "stderr",
     "output_type": "stream",
     "text": [
      "/Users/Honors/anaconda/envs/nyc-construction-timelines/lib/python2.7/site-packages/ipykernel/__main__.py:11: DeprecationWarning: parsing timezone aware datetimes is deprecated; this will raise an error in the future\n"
     ]
    }
   ],
   "source": [
    "p_data['Issuance Date'] = [convert_issuance_and_application_time(date) for date in p_data['Issuance Date']]"
   ]
  },
  {
   "cell_type": "code",
   "execution_count": 50,
   "metadata": {
    "collapsed": false
   },
   "outputs": [
    {
     "name": "stderr",
     "output_type": "stream",
     "text": [
      "/Users/Honors/anaconda/envs/nyc-construction-timelines/lib/python2.7/site-packages/ipykernel/__main__.py:11: DeprecationWarning: parsing timezone aware datetimes is deprecated; this will raise an error in the future\n"
     ]
    }
   ],
   "source": [
    "p_data['Application Date'] = [convert_issuance_and_application_time(date) for date in  p_data['Application Date']]"
   ]
  },
  {
   "cell_type": "code",
   "execution_count": 51,
   "metadata": {
    "collapsed": true
   },
   "outputs": [],
   "source": [
    "for col in ['Application Time']:\n",
    "    p_data[col] = [convert_time_delta(delta) for delta in p_data[col]]"
   ]
  },
  {
   "cell_type": "markdown",
   "metadata": {},
   "source": [
    "### Naive histogram"
   ]
  },
  {
   "cell_type": "markdown",
   "metadata": {},
   "source": [
    "Again we start by looking at a naive, time window -ignoring histogram."
   ]
  },
  {
   "cell_type": "code",
   "execution_count": 52,
   "metadata": {
    "collapsed": false
   },
   "outputs": [
    {
     "data": {
      "image/png": "[encoded data removed]",
      "text/plain": [
       "<matplotlib.figure.Figure at 0x11091cbd0>"
      ]
     },
     "metadata": {},
     "output_type": "display_data"
    }
   ],
   "source": [
    "sns.set_style('white')\n",
    "sns.distplot(p_data[p_data['Application Time'].notnull()]['Application Time'].map(lambda x: x.days),\n",
    "             bins=40,\n",
    "             kde=False,\n",
    "             rug=True,\n",
    "             hist_kws={'alpha': 0.5},\n",
    "            )\n",
    "sns.despine()"
   ]
  },
  {
   "cell_type": "markdown",
   "metadata": {},
   "source": [
    "The problem is the same, a very non-trivial amount of information is getting cut off. I did two ways:\n",
    "\n",
    "1. Adapting the script above directly.\n",
    "2. Independently rewriting the script above from a functional perspective."
   ]
  },
  {
   "cell_type": "markdown",
   "metadata": {},
   "source": [
    "### Functional Time-Series Analysis"
   ]
  },
  {
   "cell_type": "code",
   "execution_count": 53,
   "metadata": {
    "collapsed": true
   },
   "outputs": [],
   "source": [
    "from datetime import datetime"
   ]
  },
  {
   "cell_type": "code",
   "execution_count": 54,
   "metadata": {
    "collapsed": false
   },
   "outputs": [],
   "source": [
    "def legal_observations(df, time_col, timedelta):\n",
    "    \"\"\"\n",
    "    Given a DataFrame of times and a certain timedelta input, returns the observations in the time series which are more\n",
    "    than timedelta from the present (said another way, the observations whose outcomes have been observed in the given\n",
    "    timedelta).\n",
    "    \"\"\"\n",
    "    now = np.datetime64(datetime.now())\n",
    "    most_recent_possible_date = np.datetime64('2016-07') - timedelta\n",
    "    # print(most_recent_possible_date)\n",
    "    df = df[df[time_col].notnull()]\n",
    "    return df[df[time_col].map(lambda t: t < most_recent_possible_date)]\n",
    "\n",
    "\n",
    "def count_legal_observations(df, time_col, timedelta):\n",
    "    \"\"\"\n",
    "    Counter wrapper for `legal_observations()`.\n",
    "    \"\"\"\n",
    "    return len(legal_observations(df, time_col, timedelta))\n",
    "\n",
    "\n",
    "def bounded_timedelta_observations(df, timedelta_col, (minimum_timedelta, maximum_timedelta)):\n",
    "    \"\"\"\n",
    "    Gets DataFrames indices with timedeltas present in some column which are between two bounds.\n",
    "    \"\"\"\n",
    "    df = df[df[timedelta_col].notnull()]\n",
    "    return df[(df[timedelta_col] < maximum_timedelta) & (df[timedelta_col] > minimum_timedelta)]\n",
    "\n",
    "\n",
    "def count_bounded_timedelta_observations(df, timedelta_col, (minimum_timedelta, maximum_timedelta)):\n",
    "    \"\"\"\n",
    "    Counter wrapper for `legal_observations()`.\n",
    "    \"\"\"\n",
    "    return len(bounded_timedelta_observations(df, timedelta_col, (minimum_timedelta, maximum_timedelta)))"
   ]
  },
  {
   "cell_type": "code",
   "execution_count": 55,
   "metadata": {
    "collapsed": false
   },
   "outputs": [],
   "source": [
    "num_observations = []\n",
    "application_time_pdf = []\n",
    "num_successes = []\n",
    "\n",
    "for n in range(1, 39):\n",
    "    observations = legal_observations(p_data, 'Application Date', np.timedelta64(n, 'M'))\n",
    "    num_observations.append(len(observations))\n",
    "#     if n == 24:\n",
    "#         test_set = observations\n",
    "    count_successes = count_bounded_timedelta_observations(\n",
    "        observations,\n",
    "        'Application Time',\n",
    "        (np.timedelta64(n - 1, 'M'), np.timedelta64(n, 'M'))\n",
    "    )\n",
    "    num_successes.append(count_successes)\n",
    "\n",
    "# application_time_pdf = np.array(num_observations) / len(p_data)\n",
    "# application_time_cdf = application_time_pdf.cumsum()"
   ]
  },
  {
   "cell_type": "code",
   "execution_count": 69,
   "metadata": {
    "collapsed": false
   },
   "outputs": [],
   "source": [
    "application_time_pdf = np.array(num_successes) / np.array(num_observations).astype(float)\n",
    "application_time_cdf = application_time_pdf.cumsum()"
   ]
  },
  {
   "cell_type": "code",
   "execution_count": 68,
   "metadata": {
    "collapsed": false
   },
   "outputs": [
    {
     "data": {
      "text/plain": [
       "[<matplotlib.lines.Line2D at 0x11452a850>]"
      ]
     },
     "execution_count": 68,
     "metadata": {},
     "output_type": "execute_result"
    },
    {
     "data": {
      "image/png": "[encoded data removed]",
      "text/plain": [
       "<matplotlib.figure.Figure at 0x113c90490>"
      ]
     },
     "metadata": {},
     "output_type": "display_data"
    }
   ],
   "source": [
    "plt.plot(application_time_pdf)"
   ]
  },
  {
   "cell_type": "code",
   "execution_count": 64,
   "metadata": {
    "collapsed": false
   },
   "outputs": [
    {
     "data": {
      "text/plain": [
       "[<matplotlib.lines.Line2D at 0x1111e4ad0>]"
      ]
     },
     "execution_count": 64,
     "metadata": {},
     "output_type": "execute_result"
    },
    {
     "data": {
      "image/png": "[encoded data removed]",
      "text/plain": [
       "<matplotlib.figure.Figure at 0x11abdb290>"
      ]
     },
     "metadata": {},
     "output_type": "display_data"
    }
   ],
   "source": [
    "plt.plot(num_observations)"
   ]
  },
  {
   "cell_type": "code",
   "execution_count": 65,
   "metadata": {
    "collapsed": false
   },
   "outputs": [
    {
     "data": {
      "text/plain": [
       "[<matplotlib.lines.Line2D at 0x113af4c90>]"
      ]
     },
     "execution_count": 65,
     "metadata": {},
     "output_type": "execute_result"
    },
    {
     "data": {
      "image/png": "[encoded data removed]",
      "text/plain": [
       "<matplotlib.figure.Figure at 0x11ac46510>"
      ]
     },
     "metadata": {},
     "output_type": "display_data"
    }
   ],
   "source": [
    "plt.plot(num_successes)"
   ]
  },
  {
   "cell_type": "code",
   "execution_count": 70,
   "metadata": {
    "collapsed": false
   },
   "outputs": [
    {
     "data": {
      "text/plain": [
       "[<matplotlib.lines.Line2D at 0x11b921ad0>]"
      ]
     },
     "execution_count": 70,
     "metadata": {},
     "output_type": "execute_result"
    },
    {
     "data": {
      "image/png": "[encoded data removed]",
      "text/plain": [
       "<matplotlib.figure.Figure at 0x1146c2c10>"
      ]
     },
     "metadata": {},
     "output_type": "display_data"
    }
   ],
   "source": [
    "plt.plot(application_time_cdf)"
   ]
  },
  {
   "cell_type": "markdown",
   "metadata": {},
   "source": [
    "### Scripted Time-Series Analysis"
   ]
  },
  {
   "cell_type": "code",
   "execution_count": null,
   "metadata": {
    "collapsed": false
   },
   "outputs": [],
   "source": [
    "permitted_buildings = p_data[p_data['Application Time'].notnull()]\n",
    "# Set up the cumsum list.\n",
    "# cumsum = [1]\n",
    "# Set up the CDF holder.\n",
    "cdf = [0]\n",
    "pdf = [0]\n",
    "num_observations = np.array([])\n",
    "\n",
    "# Timedelta is a staggered list of all completion times that we could possibly have data on.\n",
    "# Timedelta starts at 0 months.\n",
    "# Each time we build a \"window\" of timedelta-to-timedelta-plus-one months.\n",
    "# And squeeze what's in between.\n",
    "for timedelta in sample_timedeltas:\n",
    "    # Generate a list of all lots which *could* have been completed in timedelta months.\n",
    "    # Two conditions:\n",
    "    # 1. Given our timeframe, they could have been built in timedelta months.\n",
    "#   # 2. They were not built earlier.\n",
    "    elegible_lots = p_data[p_data['Application Date'] < np.datetime64('2016-07') - timedelta]\n",
    "#     elegible_lots = elegible_lots[(elegible_lots['Build Time'].isnull()) | (elegible_lots['Build Time'] > timedelta)]\n",
    "    # Capture that number.\n",
    "    elegible_count = len(elegible_lots)\n",
    "    num_observations = np.append(num_observations, [elegible_count])\n",
    "    # Of these lots, capture which ones which *WERE* completed in one more month.\n",
    "    permitted_lots = elegible_lots[(elegible_lots['Application Time'].notnull()) &\n",
    "                                   (elegible_lots['Application Time'] < timedelta + np.timedelta64(1, 'M')) &\n",
    "                                   (elegible_lots['Application Time'] > timedelta)]\n",
    "    # Capture that number.\n",
    "    permitted_count = len(permitted_lots)\n",
    "    # A = completed = # of lots completed in month X.\n",
    "    # B = elegible = # of lots which could be completed in month X.\n",
    "    # A / B = P(A|B) = P(completed|elegible)\n",
    "    permitted_given_elegible = permitted_count / float(elegible_count)\n",
    "    pdf.append(permitted_given_elegible)\n",
    "    print(permitted_count, elegible_count, permitted_given_elegible)\n",
    "#     cdf.append(cdf[-1] + (1 - cdf[-1]) * completed_given_elegible)\n",
    "#     # 1 minus the ratio between these two values is the survival function.\n",
    "#     # That is, it is the percent chance that a building which has not recieved a C of O in X months will not\n",
    "#     # recieve a C of O in X+1 months either.\n",
    "#     survival_rate = 1 - completed_count / float(elegible_count)\n",
    "#     # Use that to calculate the effect on the survival CDF and append that to the list.\n",
    "#     cumsum.append(cumsum[-1] * survival_rate)\n",
    "\n",
    "pdf = np.array(pdf)\n",
    "cdf = pdf.cumsum()\n",
    "\n",
    "# Invert the survival cumulative to get the discrete by-month permit-to-occupancy CDF.\n",
    "# cdf = 1 - np.array(cumsum)\n",
    "# Subtract through to get the PDF.\n",
    "# cdf = np.array(cdf)\n",
    "# pdf = cdf[1:] - cdf[:-1]\n",
    "# Include the largely symbolic first value into the PDF\n",
    "# pdf = np.insert(pdf, 0, 0)\n",
    "\n",
    "del permitted_buildings"
   ]
  },
  {
   "cell_type": "code",
   "execution_count": 60,
   "metadata": {
    "collapsed": false
   },
   "outputs": [
    {
     "data": {
      "text/plain": [
       "array([  0.00000000e+00,   6.26174076e-04,   9.39261115e-04,\n",
       "         2.19160927e-03,   3.75704446e-03,   7.20100188e-03,\n",
       "         1.09592230e-02,   1.94178696e-02,   3.69617293e-02,\n",
       "         6.20243859e-02,   8.39542105e-02,   9.83742732e-02,\n",
       "         1.19377408e-01,   1.30979791e-01,   1.46982301e-01,\n",
       "         1.67076493e-01,   1.83428694e-01,   2.00420513e-01,\n",
       "         2.16478447e-01,   2.44282555e-01,   2.60708971e-01,\n",
       "         2.81124196e-01,   2.95744079e-01,   3.12183534e-01,\n",
       "         3.45659929e-01,   3.62987790e-01,   3.83861576e-01,\n",
       "         4.02729501e-01,   4.18812212e-01,   4.39007652e-01,\n",
       "         4.57227694e-01,   4.85667356e-01,   5.05860508e-01,\n",
       "         5.25071832e-01,   5.39526497e-01,   5.79113416e-01,\n",
       "         5.92213853e-01,   6.14088853e-01,   6.34814241e-01])"
      ]
     },
     "execution_count": 60,
     "metadata": {},
     "output_type": "execute_result"
    }
   ],
   "source": [
    "cdf"
   ]
  },
  {
   "cell_type": "code",
   "execution_count": 61,
   "metadata": {
    "collapsed": false
   },
   "outputs": [
    {
     "data": {
      "text/plain": [
       "[<matplotlib.lines.Line2D at 0x11b79e250>]"
      ]
     },
     "execution_count": 61,
     "metadata": {},
     "output_type": "execute_result"
    },
    {
     "data": {
      "image/png": "[encoded data removed]",
      "text/plain": [
       "<matplotlib.figure.Figure at 0x11aef61d0>"
      ]
     },
     "metadata": {},
     "output_type": "display_data"
    }
   ],
   "source": [
    "plt.plot(pdf)"
   ]
  },
  {
   "cell_type": "code",
   "execution_count": 62,
   "metadata": {
    "collapsed": false
   },
   "outputs": [
    {
     "data": {
      "text/plain": [
       "[<matplotlib.lines.Line2D at 0x11afeaa50>]"
      ]
     },
     "execution_count": 62,
     "metadata": {},
     "output_type": "execute_result"
    },
    {
     "data": {
      "image/png": "[encoded data removed]",
      "text/plain": [
       "<matplotlib.figure.Figure at 0x11569f950>"
      ]
     },
     "metadata": {},
     "output_type": "display_data"
    }
   ],
   "source": [
    "plt.plot(cdf)"
   ]
  },
  {
   "cell_type": "code",
   "execution_count": 63,
   "metadata": {
    "collapsed": false
   },
   "outputs": [
    {
     "data": {
      "text/plain": [
       "[<matplotlib.lines.Line2D at 0x11abe9350>]"
      ]
     },
     "execution_count": 63,
     "metadata": {},
     "output_type": "execute_result"
    },
    {
     "data": {
      "image/png": "[encoded data removed]",
      "text/plain": [
       "<matplotlib.figure.Figure at 0x11660fdd0>"
      ]
     },
     "metadata": {},
     "output_type": "display_data"
    }
   ],
   "source": [
    "plt.plot(num_observations)"
   ]
  },
  {
   "cell_type": "markdown",
   "metadata": {},
   "source": [
    "Both of these attempts show the same thing, something pattently wrong&mdash;a CDF way over 1. That closes the book on the wrongness of this approach, unfortunately.\n",
    "\n",
    "So the real lesson learned here is that it's time for me to learn proper time series analysis techniques."
   ]
  }
 ],
 "metadata": {
  "kernelspec": {
   "display_name": "Python 2",
   "language": "python",
   "name": "python2"
  },
  "language_info": {
   "codemirror_mode": {
    "name": "ipython",
    "version": 2
   },
   "file_extension": ".py",
   "mimetype": "text/x-python",
   "name": "python",
   "nbconvert_exporter": "python",
   "pygments_lexer": "ipython2",
   "version": "2.7.11"
  }
 },
 "nbformat": 4,
 "nbformat_minor": 0
}
