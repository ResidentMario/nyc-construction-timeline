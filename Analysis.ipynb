{
 "cells": [
  {
   "cell_type": "markdown",
   "metadata": {},
   "source": [
    "# Application, Permit, Occupancy &mdash; NYC Build Time Analysis"
   ]
  },
  {
   "cell_type": "code",
   "execution_count": 1,
   "metadata": {
    "collapsed": true
   },
   "outputs": [],
   "source": [
    "import pandas as pd\n",
    "import numpy as np\n",
    "import matplotlib.pyplot as plt\n",
    "import seaborn as sns\n",
    "import arrow\n",
    "%matplotlib inline\n",
    "pd.set_option(\"max_columns\", 500)"
   ]
  },
  {
   "cell_type": "code",
   "execution_count": 2,
   "metadata": {
    "collapsed": false
   },
   "outputs": [],
   "source": [
    "data = pd.read_csv(\"combined_data.csv\", index_col=0)"
   ]
  },
  {
   "cell_type": "markdown",
   "metadata": {},
   "source": [
    "## Format conversions\n",
    "\n",
    "Because we saved to `CSV` format all of the date variables need to be reloaded into `numpy` data forms.\n",
    "\n",
    "First we convert dates."
   ]
  },
  {
   "cell_type": "code",
   "execution_count": 3,
   "metadata": {
    "collapsed": false
   },
   "outputs": [],
   "source": [
    "def convert_time(date):\n",
    "    if isinstance(date, float):\n",
    "        return np.nan\n",
    "    else:\n",
    "        return np.datetime64(arrow.get(date, 'YYYY-MM-DD').datetime)"
   ]
  },
  {
   "cell_type": "code",
   "execution_count": 4,
   "metadata": {
    "collapsed": false
   },
   "outputs": [
    {
     "name": "stderr",
     "output_type": "stream",
     "text": [
      "/Users/Honors/anaconda/envs/nyc-construction-timelines/lib/python2.7/site-packages/ipykernel/__main__.py:5: DeprecationWarning: parsing timezone aware datetimes is deprecated; this will raise an error in the future\n"
     ]
    }
   ],
   "source": [
    "for col in ['Application Date', 'Issuance Date', 'Certificate Date']:\n",
    "    data[col] = [convert_time(date) for date in data[col]]"
   ]
  },
  {
   "cell_type": "markdown",
   "metadata": {},
   "source": [
    "The time deltas."
   ]
  },
  {
   "cell_type": "code",
   "execution_count": 5,
   "metadata": {
    "collapsed": false
   },
   "outputs": [],
   "source": [
    "def convert_time_delta(delta):\n",
    "    if isinstance(delta, float):\n",
    "        return None\n",
    "    else:\n",
    "        return np.timedelta64(delta.split(\" \")[0], 'D')"
   ]
  },
  {
   "cell_type": "code",
   "execution_count": 7,
   "metadata": {
    "collapsed": false
   },
   "outputs": [],
   "source": [
    "for col in ['Application Time', 'Build Time']:\n",
    "    data[col] = [convert_time_delta(delta) for delta in data[col]]"
   ]
  },
  {
   "cell_type": "code",
   "execution_count": 7,
   "metadata": {
    "collapsed": false,
    "scrolled": false
   },
   "outputs": [
    {
     "data": {
      "text/html": [
       "<div>\n",
       "<table border=\"1\" class=\"dataframe\">\n",
       "  <thead>\n",
       "    <tr style=\"text-align: right;\">\n",
       "      <th></th>\n",
       "      <th>BOROUGH</th>\n",
       "      <th>Bin #</th>\n",
       "      <th>House #</th>\n",
       "      <th>Street Name</th>\n",
       "      <th>Job #</th>\n",
       "      <th>Job doc. #</th>\n",
       "      <th>Job Type</th>\n",
       "      <th>Self_Cert</th>\n",
       "      <th>Block</th>\n",
       "      <th>Lot</th>\n",
       "      <th>Community Board</th>\n",
       "      <th>Zip Code</th>\n",
       "      <th>Bldg Type</th>\n",
       "      <th>Residential</th>\n",
       "      <th>Special District 1</th>\n",
       "      <th>Special District 2</th>\n",
       "      <th>Work Type</th>\n",
       "      <th>Permit Status</th>\n",
       "      <th>Filing Status</th>\n",
       "      <th>Permit Type</th>\n",
       "      <th>Permit Sequence #</th>\n",
       "      <th>Permit Subtype</th>\n",
       "      <th>Oil Gas</th>\n",
       "      <th>Site Fill</th>\n",
       "      <th>Filing Date</th>\n",
       "      <th>Issuance Date</th>\n",
       "      <th>Expiration Date</th>\n",
       "      <th>Job Start Date</th>\n",
       "      <th>Permittee's First Name</th>\n",
       "      <th>Permittee's Last Name</th>\n",
       "      <th>Permittee's Business Name</th>\n",
       "      <th>Permittee's Phone #</th>\n",
       "      <th>Permittee's License Type</th>\n",
       "      <th>Permittee's License #</th>\n",
       "      <th>Act as Superintendent</th>\n",
       "      <th>Permittee's Other Title</th>\n",
       "      <th>HIC License</th>\n",
       "      <th>Site Safety Mgr's First Name</th>\n",
       "      <th>Site Safety Mgr's Last Name</th>\n",
       "      <th>Site Safety Mgr Business Name</th>\n",
       "      <th>Superintendent First &amp; Last Name</th>\n",
       "      <th>Superintendent Business Name</th>\n",
       "      <th>Owner's Business Type</th>\n",
       "      <th>Non-Profit</th>\n",
       "      <th>Owner's Business Name</th>\n",
       "      <th>Owner's First Name</th>\n",
       "      <th>Owner's Last Name</th>\n",
       "      <th>Owner's House #</th>\n",
       "      <th>Owner's House Street Name</th>\n",
       "      <th>Owner’s House City</th>\n",
       "      <th>Owner’s House State</th>\n",
       "      <th>Owner’s House Zip Code</th>\n",
       "      <th>Owner's Phone #</th>\n",
       "      <th>DOBRunDate</th>\n",
       "      <th>Year</th>\n",
       "      <th>Certificate Date</th>\n",
       "      <th>Build Time</th>\n",
       "      <th>Application Date</th>\n",
       "      <th>Application Time</th>\n",
       "    </tr>\n",
       "  </thead>\n",
       "  <tbody>\n",
       "    <tr>\n",
       "      <th>0</th>\n",
       "      <td>BRONX</td>\n",
       "      <td>2818049.0</td>\n",
       "      <td>92</td>\n",
       "      <td>WEST TREMONT AVE</td>\n",
       "      <td>220177350.0</td>\n",
       "      <td>1.0</td>\n",
       "      <td>NB</td>\n",
       "      <td>NaN</td>\n",
       "      <td>2867.0</td>\n",
       "      <td>125.0</td>\n",
       "      <td>205</td>\n",
       "      <td>10453</td>\n",
       "      <td>2.0</td>\n",
       "      <td>YES</td>\n",
       "      <td>NaN</td>\n",
       "      <td>NaN</td>\n",
       "      <td></td>\n",
       "      <td>ISSUED</td>\n",
       "      <td>INITIAL</td>\n",
       "      <td>NB</td>\n",
       "      <td>1.0</td>\n",
       "      <td></td>\n",
       "      <td></td>\n",
       "      <td>ON-SITE</td>\n",
       "      <td>2013-06-21</td>\n",
       "      <td>2013-06-21</td>\n",
       "      <td>03/20/2014</td>\n",
       "      <td>06/21/2013</td>\n",
       "      <td>JIMMY</td>\n",
       "      <td>ZERVOUDIS</td>\n",
       "      <td>GALAXY G.C.GROUP LLC</td>\n",
       "      <td>7186017000</td>\n",
       "      <td>GENERAL CONTRACTOR</td>\n",
       "      <td>0610672</td>\n",
       "      <td></td>\n",
       "      <td></td>\n",
       "      <td></td>\n",
       "      <td></td>\n",
       "      <td></td>\n",
       "      <td></td>\n",
       "      <td>PHILIP            ANTONAKOS</td>\n",
       "      <td>GALAXY GENERAL CONTRACTIO</td>\n",
       "      <td>HPD</td>\n",
       "      <td>Y</td>\n",
       "      <td>HOUSING PRESERVATION AND DEVELOP</td>\n",
       "      <td>TIMOTHY</td>\n",
       "      <td>JOSEPH</td>\n",
       "      <td>100</td>\n",
       "      <td>GOLD STREET</td>\n",
       "      <td>NEW YORK</td>\n",
       "      <td>NY</td>\n",
       "      <td>10038.0</td>\n",
       "      <td>2.128637e+09</td>\n",
       "      <td>06/22/2013 12:00:00 AM</td>\n",
       "      <td>2013</td>\n",
       "      <td>2015-11-02</td>\n",
       "      <td>864.0</td>\n",
       "      <td>NaN</td>\n",
       "      <td>NaN</td>\n",
       "    </tr>\n",
       "  </tbody>\n",
       "</table>\n",
       "</div>"
      ],
      "text/plain": [
       "  BOROUGH      Bin #       House #                       Street Name  \\\n",
       "0   BRONX  2818049.0  92            WEST TREMONT AVE                   \n",
       "\n",
       "         Job #  Job doc. # Job Type Self_Cert   Block    Lot Community Board  \\\n",
       "0  220177350.0         1.0       NB       NaN  2867.0  125.0             205   \n",
       "\n",
       "  Zip Code  Bldg Type Residential Special District 1  Special District 2  \\\n",
       "0    10453        2.0         YES                NaN                 NaN   \n",
       "\n",
       "  Work Type Permit Status Filing Status Permit Type  Permit Sequence #  \\\n",
       "0                  ISSUED       INITIAL          NB                1.0   \n",
       "\n",
       "  Permit Subtype Oil Gas                                 Site Fill  \\\n",
       "0                         ON-SITE                                    \n",
       "\n",
       "  Filing Date Issuance Date Expiration Date Job Start Date  \\\n",
       "0  2013-06-21    2013-06-21      03/20/2014     06/21/2013   \n",
       "\n",
       "  Permittee's First Name Permittee's Last Name  \\\n",
       "0        JIMMY            ZERVOUDIS              \n",
       "\n",
       "          Permittee's Business Name Permittee's Phone #  \\\n",
       "0  GALAXY G.C.GROUP LLC                      7186017000   \n",
       "\n",
       "                   Permittee's License Type Permittee's License #  \\\n",
       "0  GENERAL CONTRACTOR                                     0610672   \n",
       "\n",
       "  Act as Superintendent Permittee's Other Title HIC License  \\\n",
       "0                                                             \n",
       "\n",
       "  Site Safety Mgr's First Name Site Safety Mgr's Last Name  \\\n",
       "0                                                            \n",
       "\n",
       "      Site Safety Mgr Business Name        Superintendent First & Last Name  \\\n",
       "0                                    PHILIP            ANTONAKOS              \n",
       "\n",
       "       Superintendent Business Name                     Owner's Business Type  \\\n",
       "0  GALAXY GENERAL CONTRACTIO         HPD                                        \n",
       "\n",
       "  Non-Profit             Owner's Business Name Owner's First Name  \\\n",
       "0          Y  HOUSING PRESERVATION AND DEVELOP    TIMOTHY           \n",
       "\n",
       "                Owner's Last Name Owner's House #  \\\n",
       "0  JOSEPH                            100            \n",
       "\n",
       "          Owner's House Street Name Owner’s House City Owner’s House State  \\\n",
       "0  GOLD STREET                         NEW YORK                         NY   \n",
       "\n",
       "   Owner’s House Zip Code  Owner's Phone #              DOBRunDate  Year  \\\n",
       "0                 10038.0     2.128637e+09  06/22/2013 12:00:00 AM  2013   \n",
       "\n",
       "  Certificate Date  Build Time Application Date  Application Time  \n",
       "0       2015-11-02       864.0              NaN               NaN  "
      ]
     },
     "execution_count": 7,
     "metadata": {},
     "output_type": "execute_result"
    }
   ],
   "source": [
    "data.head(1)"
   ]
  },
  {
   "cell_type": "markdown",
   "metadata": {},
   "source": [
    "## Clean-up negatives\n",
    "\n",
    "In a handful of cases the Build Time and Application Time parameters come back as negative. We will throw those few cases out."
   ]
  },
  {
   "cell_type": "code",
   "execution_count": 9,
   "metadata": {
    "collapsed": false
   },
   "outputs": [],
   "source": [
    "data = data[((data['Application Time'].isnull()) | (data['Application Time'] > np.timedelta64(0, \"D\"))) &\n",
    "            ((data['Build Time'].isnull()) | (data['Build Time'] > np.timedelta64(0, \"D\")))]"
   ]
  },
  {
   "cell_type": "markdown",
   "metadata": {},
   "source": [
    "## Key Variables  and Opening Thoughts"
   ]
  },
  {
   "cell_type": "markdown",
   "metadata": {},
   "source": [
    "The key variables of interest are:\n",
    "\n",
    "* `Application Date` &mdash; The date that the first document that was not a pre-permit application was filed, based on data going back to April 2013.\n",
    "* `Issuance Date` &mdash; The date that the first construction permit was issued.\n",
    "* `Certificate Date` &mdash; The date that the first certificate of occupancy was issued.\n",
    "* `Application Time` &mdash; The time between the first application and the issuance of the first building permit.\n",
    "* `Build Time` &mdash; The time between the first building permit and the first certificate of occupancy.\n",
    "\n",
    "Because the data in question is time-series data it is important to think about whether we can interpret it in terms of the overall statistics or must do so in terms of the statistics from the frame of reference of the date. We expect buildings started in 2013 to complete more often, in this dataset, than ones started in 2014, and so on down the line. The question is whether or not that effect is significant.\n",
    "\n",
    "We will split the work between build timing and application timing.\n",
    "\n",
    "First, the naive timing histogram."
   ]
  },
  {
   "cell_type": "markdown",
   "metadata": {},
   "source": [
    "## Permit-to-Occupancy Analysis"
   ]
  },
  {
   "cell_type": "markdown",
   "metadata": {},
   "source": [
    "The sample of dates that we took consists of all borough-block-lots which recieved a construction permit in between April 25, 2013, when the open data record officially starts, and January 1, 2015, where our certificate of occupancy accessor algorithm ended its run. This means that every building has had at least 550 days in which to complete construction.\n",
    "\n",
    "Because the open data trail ends at our starting point any further data that we might recover from running the algorithm further forward in time would be of decreasing utility and increasing incompleteness, because those buildings will have less and less time in which to complete before they no longer show up in our dataset.\n",
    "\n",
    "Amongst the negative results we also have no way of distinguishing between cases in which a construction permit was filed for but the idea was eventually dropped, and cases where the construction permit was filed for and there has been progress of one form or another but the building still remains to be completed."
   ]
  },
  {
   "cell_type": "markdown",
   "metadata": {},
   "source": [
    "### Naive Histogram\n",
    "\n",
    "First, the naive timing histogram."
   ]
  },
  {
   "cell_type": "code",
   "execution_count": 11,
   "metadata": {
    "collapsed": false
   },
   "outputs": [
    {
     "data": {
      "image/png": "[encoded data removed]",
      "text/plain": [
       "<matplotlib.figure.Figure at 0x110240310>"
      ]
     },
     "metadata": {},
     "output_type": "display_data"
    }
   ],
   "source": [
    "sns.set_style('white')\n",
    "sns.distplot(data[data['Build Time'].notnull()]['Build Time'].map(lambda x: x.days),\n",
    "             bins=40,\n",
    "             kde=False,\n",
    "             rug=True,\n",
    "             hist_kws={'alpha': 0.5},\n",
    "            )\n",
    "sns.despine()"
   ]
  },
  {
   "cell_type": "markdown",
   "metadata": {},
   "source": [
    "We see that a great part of the completes occur after 550 days, indicating that great care must be taken not interpret naive results.\n",
    "\n",
    "The significant spikes are, on examination, batch job submissions.\n",
    "\n",
    "Per below, about 23 percent of buildings complete before our minimum window time, 22 percent after, and 57 percent do not complete at all. Again this is strong evidence that our data is strongly time-dependent."
   ]
  },
  {
   "cell_type": "code",
   "execution_count": 19,
   "metadata": {
    "collapsed": false
   },
   "outputs": [
    {
     "data": {
      "text/plain": [
       "0.21729559748427674"
      ]
     },
     "execution_count": 19,
     "metadata": {},
     "output_type": "execute_result"
    }
   ],
   "source": [
    "float(len(data[(data['Build Time'] > np.timedelta64(\"550\", \"D\"))])) / float(len(data))"
   ]
  },
  {
   "cell_type": "code",
   "execution_count": 50,
   "metadata": {
    "collapsed": false
   },
   "outputs": [
    {
     "data": {
      "text/plain": [
       "0.5657232704402516"
      ]
     },
     "execution_count": 50,
     "metadata": {},
     "output_type": "execute_result"
    }
   ],
   "source": [
    "float(len(data[(data['Build Time'].isnull())])) / float(len(data))"
   ]
  },
  {
   "cell_type": "markdown",
   "metadata": {},
   "source": [
    "### Time-series model\n",
    "\n",
    "So instead we need to iteratively model a cumulative sum.\n",
    "\n",
    "Ask the following question: given the buildings that per our dataset could still legally finish in time period X, what percentage of those buildings actually did complete? As we get further and further away this value becomes more speculative, but given that the average month contains ~80 new buildings I expect the error to remain relatively low. \n",
    "\n",
    "An explicit error bound will also be calculated.\n",
    "\n",
    "The steps for this algorithm are:\n",
    "\n",
    "1. Create a list of possible monthly timedeltas. Iterate through them.\n",
    "2. Let $B=b$ — Lots built in timedelta $b$\n",
    "\n",
    "   Let $E\\geq b$ — Lots elegible to be built in timedelta $b$ (in our timeframe and not already built)\n",
    "   \n",
    "   For each timedelta $b$, count the number of buildings which were elegible to be built ($E$) and the number of buildings which were actually built ($B|E$).\n",
    "\n",
    "3. We want:\n",
    "\n",
    "$$P(B=b) = P(B \\cap E) = P(B|E) \\cdot P(E)$$"
   ]
  },
  {
   "cell_type": "code",
   "execution_count": 27,
   "metadata": {
    "collapsed": false
   },
   "outputs": [],
   "source": [
    "sample_months = np.arange(np.datetime64('2013-04'), np.datetime64('2016-06'), step=np.timedelta64(1,'M'))\n",
    "sample_timedeltas = sample_months - np.datetime64('2013-04')"
   ]
  },
  {
   "cell_type": "code",
   "execution_count": 28,
   "metadata": {
    "collapsed": false
   },
   "outputs": [
    {
     "data": {
      "text/plain": [
       "Timestamp('2016-02-03 00:00:00')"
      ]
     },
     "execution_count": 28,
     "metadata": {},
     "output_type": "execute_result"
    }
   ],
   "source": [
    "np.max(data['Issuance Date'])"
   ]
  },
  {
   "cell_type": "code",
   "execution_count": 84,
   "metadata": {
    "collapsed": false,
    "scrolled": true
   },
   "outputs": [],
   "source": [
    "# Capture buildings which were completed (for arithmatic purposes, since numpy doesn't like NaN arithmetic).\n",
    "completed_buildings = data[data['Build Time'].notnull()]\n",
    "# Set up the cumsum list.\n",
    "# cumsum = [1]\n",
    "# Set up the CDF holder.\n",
    "cdf = [0]\n",
    "pdf = [0]\n",
    "num_observations = np.array([])\n",
    "\n",
    "# Timedelta is a staggered list of all completion times that we could possibly have data on.\n",
    "# Timedelta starts at 0 months.\n",
    "# Each time we build a \"window\" of timedelta-to-timedelta-plus-one months.\n",
    "# And squeeze what's in between.\n",
    "for timedelta in sample_timedeltas:\n",
    "    # Generate a list of all lots which *could* have been completed in timedelta months.\n",
    "    # Two conditions:\n",
    "    # 1. Given our timeframe, they could have been built in timedelta months.\n",
    "#   # 2. They were not built earlier.\n",
    "    elegible_lots = data[data['Issuance Date'] < np.datetime64('2016-07') - timedelta]\n",
    "#     elegible_lots = elegible_lots[(elegible_lots['Build Time'].isnull()) | (elegible_lots['Build Time'] > timedelta)]\n",
    "    # Capture that number.\n",
    "    elegible_count = len(elegible_lots)\n",
    "    num_observations = np.append(num_observations, [elegible_count])\n",
    "    # Of these lots, capture which ones which *WERE* completed in one more month.\n",
    "    completed_lots = elegible_lots[(elegible_lots['Build Time'].notnull()) &\n",
    "                                   (elegible_lots['Build Time'] < timedelta + np.timedelta64(1, 'M')) &\n",
    "                                   (elegible_lots['Build Time'] > timedelta)]\n",
    "    # Capture that number.\n",
    "    completed_count = len(completed_lots)\n",
    "    # A = completed = # of lots completed in month X.\n",
    "    # B = elegible = # of lots which could be completed in month X.\n",
    "    # A / B = P(A|B) = P(completed|elegible)\n",
    "    completed_given_elegible = completed_count / float(elegible_count)\n",
    "    pdf.append(completed_given_elegible)\n",
    "    # print(completed_count, elegible_count, completed_given_elegible)\n",
    "#     cdf.append(cdf[-1] + (1 - cdf[-1]) * completed_given_elegible)\n",
    "#     # 1 minus the ratio between these two values is the survival function.\n",
    "#     # That is, it is the percent chance that a building which has not recieved a C of O in X months will not\n",
    "#     # recieve a C of O in X+1 months either.\n",
    "#     survival_rate = 1 - completed_count / float(elegible_count)\n",
    "#     # Use that to calculate the effect on the survival CDF and append that to the list.\n",
    "#     cumsum.append(cumsum[-1] * survival_rate)\n",
    "\n",
    "pdf = np.array(pdf)\n",
    "cdf = pdf.cumsum()\n",
    "\n",
    "# Invert the survival cumulative to get the discrete by-month permit-to-occupancy CDF.\n",
    "# cdf = 1 - np.array(cumsum)\n",
    "# Subtract through to get the PDF.\n",
    "# cdf = np.array(cdf)\n",
    "# pdf = cdf[1:] - cdf[:-1]\n",
    "# Include the largely symbolic first value into the PDF\n",
    "# pdf = np.insert(pdf, 0, 0)\n",
    "\n",
    "del completed_buildings"
   ]
  },
  {
   "cell_type": "code",
   "execution_count": 85,
   "metadata": {
    "collapsed": false
   },
   "outputs": [
    {
     "data": {
      "text/plain": [
       "[<matplotlib.lines.Line2D at 0x114934610>]"
      ]
     },
     "execution_count": 85,
     "metadata": {},
     "output_type": "execute_result"
    },
    {
     "data": {
      "image/png": "[encoded data removed]",
      "text/plain": [
       "<matplotlib.figure.Figure at 0x1147c7fd0>"
      ]
     },
     "metadata": {},
     "output_type": "display_data"
    }
   ],
   "source": [
    "plt.plot(cdf)"
   ]
  },
  {
   "cell_type": "code",
   "execution_count": 86,
   "metadata": {
    "collapsed": false
   },
   "outputs": [
    {
     "data": {
      "text/plain": [
       "[<matplotlib.lines.Line2D at 0x114a2a550>]"
      ]
     },
     "execution_count": 86,
     "metadata": {},
     "output_type": "execute_result"
    },
    {
     "data": {
      "image/png": "[encoded data removed]",
      "text/plain": [
       "<matplotlib.figure.Figure at 0x111cb88d0>"
      ]
     },
     "metadata": {},
     "output_type": "display_data"
    }
   ],
   "source": [
    "plt.plot(pdf)"
   ]
  },
  {
   "cell_type": "code",
   "execution_count": 87,
   "metadata": {
    "collapsed": false
   },
   "outputs": [
    {
     "data": {
      "text/plain": [
       "array([ 3180.,  3180.,  3180.,  3180.,  3180.,  3179.,  3178.,  3178.,\n",
       "        3178.,  3178.,  3176.,  3176.,  3175.,  3173.,  3171.,  3166.,\n",
       "        3164.,  3162.,  3151.,  2969.,  2876.,  2722.,  2480.,  2316.,\n",
       "        2179.,  2046.,  1895.,  1729.,  1524.,  1416.,  1290.,  1128.,\n",
       "         978.,   750.,   571.,   451.,   316.,   193.])"
      ]
     },
     "execution_count": 87,
     "metadata": {},
     "output_type": "execute_result"
    }
   ],
   "source": [
    "num_observations"
   ]
  },
  {
   "cell_type": "code",
   "execution_count": 88,
   "metadata": {
    "collapsed": false
   },
   "outputs": [
    {
     "data": {
      "text/plain": [
       "[<matplotlib.lines.Line2D at 0x114b4fc50>]"
      ]
     },
     "execution_count": 88,
     "metadata": {},
     "output_type": "execute_result"
    },
    {
     "data": {
      "image/png": "[encoded data removed]",
      "text/plain": [
       "<matplotlib.figure.Figure at 0x114a43810>"
      ]
     },
     "metadata": {},
     "output_type": "display_data"
    }
   ],
   "source": [
    "plt.plot(num_observations)"
   ]
  },
  {
   "cell_type": "markdown",
   "metadata": {},
   "source": [
    "## Application-to-Occupancy Analysis\n",
    "\n",
    "This data probably needs a longer time window to be significant."
   ]
  },
  {
   "cell_type": "code",
   "execution_count": 22,
   "metadata": {
    "collapsed": false
   },
   "outputs": [
    {
     "data": {
      "image/png": "[encoded data removed]",
      "text/plain": [
       "<matplotlib.figure.Figure at 0x115b983d0>"
      ]
     },
     "metadata": {},
     "output_type": "display_data"
    }
   ],
   "source": [
    "sns.set_style('white')\n",
    "sns.distplot(data[data['Application Time'].notnull()]['Application Time'],\n",
    "             bins=40,\n",
    "             kde=False,\n",
    "             rug=True,\n",
    "             hist_kws={'alpha': 0.5},\n",
    "            )\n",
    "sns.despine()"
   ]
  },
  {
   "cell_type": "code",
   "execution_count": 49,
   "metadata": {
    "collapsed": false
   },
   "outputs": [
    {
     "data": {
      "text/plain": [
       "0.00220125786163522"
      ]
     },
     "execution_count": 49,
     "metadata": {},
     "output_type": "execute_result"
    }
   ],
   "source": [
    "float(len(data[data['Application Time'] > 550])) / float(len(data))"
   ]
  },
  {
   "cell_type": "code",
   "execution_count": null,
   "metadata": {
    "collapsed": true
   },
   "outputs": [],
   "source": []
  },
  {
   "cell_type": "code",
   "execution_count": 27,
   "metadata": {
    "collapsed": false
   },
   "outputs": [
    {
     "data": {
      "text/plain": [
       "(3180, 3180)"
      ]
     },
     "execution_count": 27,
     "metadata": {},
     "output_type": "execute_result"
    }
   ],
   "source": [
    "len(data['Application Time'] > 550), len(data)"
   ]
  },
  {
   "cell_type": "code",
   "execution_count": null,
   "metadata": {
    "collapsed": true
   },
   "outputs": [],
   "source": [
    "days = range(0, 1000)"
   ]
  }
 ],
 "metadata": {
  "kernelspec": {
   "display_name": "Python 2",
   "language": "python",
   "name": "python2"
  },
  "language_info": {
   "codemirror_mode": {
    "name": "ipython",
    "version": 2
   },
   "file_extension": ".py",
   "mimetype": "text/x-python",
   "name": "python",
   "nbconvert_exporter": "python",
   "pygments_lexer": "ipython2",
   "version": "2.7.11"
  }
 },
 "nbformat": 4,
 "nbformat_minor": 0
}
