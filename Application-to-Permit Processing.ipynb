{
 "cells": [
  {
   "cell_type": "markdown",
   "metadata": {},
   "source": [
    "# Application-to-Permit in New York City\n",
    "\n",
    "This notebook (along with files associated with it) examines the timeline of permit application to permit issuance in New York City.\n",
    "\n",
    "## Introduction\n",
    "\n",
    "### Construction Permit Process\n",
    "\n",
    "Before a new building can begin construction it has to go through a long professional vetting process. The Department of Buildings (DOB) is the principal governmental organization responsible for overseeing the inspections and paperwork required for breaking ground.\n",
    "\n",
    "The exact process, for the building manager involved, is summarized by [this handy chart](http://www1.nyc.gov/site/buildings/homeowner/dob-forms-applications.page). Here are the steps:\n",
    "\n",
    "1. The applicant prefiles the application. Prefiling saves time, but not all applicants invoke it.\n",
    "2. The applicant submits a work plan.\n",
    "3. The plan is either professionally certified (a so-called \"pro cert\" or \"self cert\") or reviewed by the DOB.\n",
    "4. The plan is approved or denied by the DOB.\n",
    "5. Once a plan is approved, the applicant requests a work permit.\n",
    "6. DOB issues a work permit.\n",
    "7. Construction begins.\n",
    "\n",
    "### Retrieving Construction Permits\n",
    "\n",
    "Construction permits are retrieved as a part of the work done by the `Permit Issuance` companion notebook, which came first.\n",
    "\n",
    "### Retrieving Application Jobs\n",
    "\n",
    "DOB publishes a list of all [building job applications](https://data.cityofnewyork.us/Housing-Development/DOB-Job-Application-Filings/ic3t-wcy2) as a part of the New York City Open Data Portal. This application is missing new building construction (which is posted to a seperate open dataset), but contains all of the information on the preceding timeline. Retrieving these permits is merely a matter of accessing, extracting, and filtering this dataset."
   ]
  },
  {
   "cell_type": "markdown",
   "metadata": {},
   "source": [
    "## Reading Job Application Data"
   ]
  },
  {
   "cell_type": "code",
   "execution_count": 1,
   "metadata": {
    "collapsed": true
   },
   "outputs": [],
   "source": [
    "import pandas as pd\n",
    "import numpy as np"
   ]
  },
  {
   "cell_type": "code",
   "execution_count": 2,
   "metadata": {
    "collapsed": false,
    "scrolled": false
   },
   "outputs": [
    {
     "name": "stderr",
     "output_type": "stream",
     "text": [
      "/Users/Honors/anaconda/envs/nyc-construction-timelines/lib/python2.7/site-packages/IPython/core/interactiveshell.py:2723: DtypeWarning: Columns (13,14,16,19,38,59,60,78,79) have mixed types. Specify dtype option on import or set low_memory=False.\n",
      "  interactivity=interactivity, compiler=compiler, result=result)\n"
     ]
    }
   ],
   "source": [
    "permits = pd.read_csv(\"DOB_Job_Application_Filings.csv\")"
   ]
  },
  {
   "cell_type": "code",
   "execution_count": 3,
   "metadata": {
    "collapsed": true
   },
   "outputs": [],
   "source": [
    "pd.set_option(\"max_columns\", 500)"
   ]
  },
  {
   "cell_type": "code",
   "execution_count": 4,
   "metadata": {
    "collapsed": false
   },
   "outputs": [
    {
     "data": {
      "text/plain": [
       "APPLICATION PROCESSED - ENTIRE              60217\n",
       "PLAN EXAM - APPROVED                        36135\n",
       "APPLICATION PROCESSED - ENTIRE              26308\n",
       "PLAN EXAM - IN PROCESS                      23352\n",
       "PLAN EXAM - APPROVED                        13840\n",
       "PERMIT ISSUED - ENTIRE JOB/WORK             11975\n",
       "PLAN EXAM - DISAPPROVED                      9453\n",
       "PLAN EXAM - IN PROCESS                       7559\n",
       "PERMIT ISSUED - ENTIRE JOB/WORK              7397\n",
       "PRE-FILING                                   7052\n",
       "PERMIT ISSUED - PARTIAL JOB                  5498\n",
       "APPLICATION ASSIGNED TO PLAN EXAMINER        5216\n",
       "PRE-FILING                                   3864\n",
       "APPLICATION PROCESSED - NO PLAN EXAM         3554\n",
       "PLAN EXAM - DISAPPROVED                      3291\n",
       "PERMIT ISSUED - PARTIAL JOB                  2358\n",
       "APPLICATION ASSIGNED TO PLAN EXAMINER        1411\n",
       "APPLICATION PROCESSED - NO PLAN EXAM         1266\n",
       "APPLICATION PROCESSED-PART-NO PAYMENT         378\n",
       "APPLICATION PROCESSED-PART-NO PAYMENT         175\n",
       "COMPLETED                                     150\n",
       "COMPLETED                                      60\n",
       "APPLICATION PROCESSED - PAYMENT ONLY           32\n",
       "PLAN EXAM - PARTIAL APPROVAL                   27\n",
       "PLAN EXAM - PARTIAL APPROVAL                   14\n",
       "APPLICATION PROCESSED - PAYMENT ONLY           12\n",
       "SUSPENDED                                       3\n",
       "Name: Job Status Descrp, dtype: int64"
      ]
     },
     "execution_count": 4,
     "metadata": {},
     "output_type": "execute_result"
    }
   ],
   "source": [
    "permits['Job Status Descrp'].value_counts()[:-1] # Last one is a parsing error."
   ]
  },
  {
   "cell_type": "markdown",
   "metadata": {},
   "source": [
    "Records begin in time at 04/25/2013."
   ]
  },
  {
   "cell_type": "markdown",
   "metadata": {},
   "source": [
    "### `NB` Job Types"
   ]
  },
  {
   "cell_type": "markdown",
   "metadata": {},
   "source": [
    "This record includes submissions for all job types, however we're only interested in new building construction jobs. This corresponds to records with a `JOB TYPE` of `NB`."
   ]
  },
  {
   "cell_type": "code",
   "execution_count": 5,
   "metadata": {
    "collapsed": false
   },
   "outputs": [
    {
     "name": "stdout",
     "output_type": "stream",
     "text": [
      "There are 12481 new building records, corresponding with 6951 buildings.\n"
     ]
    }
   ],
   "source": [
    "new_buildings = permits[permits['Job Type'] == 'NB']\n",
    "all_bins = np.unique(new_buildings['Bin #'])\n",
    "print(\"There are {0} new building records, corresponding with {1} buildings.\".format(len(new_buildings), len(all_bins)))"
   ]
  },
  {
   "cell_type": "code",
   "execution_count": 6,
   "metadata": {
    "collapsed": false
   },
   "outputs": [
    {
     "data": {
      "text/plain": [
       "APPLICATION PROCESSED - ENTIRE              4850\n",
       "APPLICATION ASSIGNED TO PLAN EXAMINER       1860\n",
       "APPLICATION PROCESSED - ENTIRE              1748\n",
       "PRE-FILING                                  1712\n",
       "PRE-FILING                                   751\n",
       "APPLICATION ASSIGNED TO PLAN EXAMINER        553\n",
       "PLAN EXAM - IN PROCESS                       351\n",
       "PLAN EXAM - DISAPPROVED                      329\n",
       "PLAN EXAM - DISAPPROVED                       96\n",
       "PLAN EXAM - IN PROCESS                        80\n",
       "PLAN EXAM - APPROVED                          76\n",
       "PLAN EXAM - APPROVED                          45\n",
       "APPLICATION PROCESSED-PART-NO PAYMENT         18\n",
       "APPLICATION PROCESSED-PART-NO PAYMENT          6\n",
       "PERMIT ISSUED - ENTIRE JOB/WORK                5\n",
       "PERMIT ISSUED - PARTIAL JOB                    1\n",
       "Name: Job Status Descrp, dtype: int64"
      ]
     },
     "execution_count": 6,
     "metadata": {},
     "output_type": "execute_result"
    }
   ],
   "source": [
    "new_buildings['Job Status Descrp'].value_counts()"
   ]
  },
  {
   "cell_type": "code",
   "execution_count": 7,
   "metadata": {
    "collapsed": false
   },
   "outputs": [
    {
     "data": {
      "text/plain": [
       "A2    150156\n",
       "A3     44696\n",
       "A1     14262\n",
       "NB     12481\n",
       "DM      5151\n",
       "PA      2281\n",
       "SC       877\n",
       "SI       694\n",
       "Name: Job Type, dtype: int64"
      ]
     },
     "execution_count": 7,
     "metadata": {},
     "output_type": "execute_result"
    }
   ],
   "source": [
    "permits['Job Type'].value_counts()"
   ]
  },
  {
   "cell_type": "markdown",
   "metadata": {},
   "source": [
    "Surprisingly there are almost no new building permit issuances!\n",
    "\n",
    "This turned out to be a completely separate dataset."
   ]
  },
  {
   "cell_type": "code",
   "execution_count": 73,
   "metadata": {
    "collapsed": false
   },
   "outputs": [
    {
     "data": {
      "text/plain": [
       "PERMIT ISSUED - ENTIRE JOB/WORK    5\n",
       "PERMIT ISSUED - PARTIAL JOB        1\n",
       "Name: Job Status Descrp, dtype: int64"
      ]
     },
     "execution_count": 73,
     "metadata": {},
     "output_type": "execute_result"
    }
   ],
   "source": [
    "new_buildings['Job Status Descrp'].value_counts()[['PERMIT ISSUED - ENTIRE JOB/WORK', 'PERMIT ISSUED - PARTIAL JOB']]"
   ]
  },
  {
   "cell_type": "markdown",
   "metadata": {},
   "source": [
    "## Application&mdash;Permit&mdash;Occupancy Join\n",
    "\n",
    "The `Permit-to-Occupancy.ipynb` notebook contains all of the processing code for the permit-to-occupancy data. In the following few lines we now join the application data.\n",
    "\n",
    "We will do so by taking the first application document which is not a pre-permit application. The pre-permit application speeds up the process somewhat but far from all choose to exercise that option, so a simpler metric is fine."
   ]
  },
  {
   "cell_type": "code",
   "execution_count": 9,
   "metadata": {
    "collapsed": true
   },
   "outputs": [],
   "source": [
    "permits = pd.read_csv(\"permit_sample.csv\")"
   ]
  },
  {
   "cell_type": "code",
   "execution_count": 10,
   "metadata": {
    "collapsed": false
   },
   "outputs": [],
   "source": [
    "applications = new_buildings"
   ]
  },
  {
   "cell_type": "code",
   "execution_count": 13,
   "metadata": {
    "collapsed": true
   },
   "outputs": [],
   "source": [
    "import arrow"
   ]
  },
  {
   "cell_type": "code",
   "execution_count": 43,
   "metadata": {
    "collapsed": false
   },
   "outputs": [
    {
     "name": "stderr",
     "output_type": "stream",
     "text": [
      "/Users/Honors/anaconda/envs/nyc-construction-timelines/lib/python2.7/site-packages/ipykernel/__main__.py:1: DeprecationWarning: parsing timezone aware datetimes is deprecated; this will raise an error in the future\n",
      "  if __name__ == '__main__':\n"
     ]
    }
   ],
   "source": [
    "applications['Latest Action Date'] = applications['Latest Action Date'].map(lambda x: np.datetime64(arrow.get(x,\"MM/DD/YYYY\").datetime))"
   ]
  },
  {
   "cell_type": "code",
   "execution_count": 44,
   "metadata": {
    "collapsed": false
   },
   "outputs": [],
   "source": [
    "def get_application_doc(srs):\n",
    "    BIN = srs['Bin #']\n",
    "    non_pre_applications_jobs = applications[(applications['Bin #'] == BIN) &\n",
    "                                             (applications['Job Status Descrp'] != 'PRE-FILING') &\n",
    "                                             (applications['Job Status Descrp'] != 'PRE-FILING                              ')\n",
    "                                            ]\n",
    "    return np.min(non_pre_applications_jobs['Latest Action Date'])"
   ]
  },
  {
   "cell_type": "code",
   "execution_count": 45,
   "metadata": {
    "collapsed": false
   },
   "outputs": [],
   "source": [
    "permits_copy = permits.copy()\n",
    "permits_copy['Application Date'] = permits.apply(get_application_doc, axis=1)"
   ]
  },
  {
   "cell_type": "code",
   "execution_count": 47,
   "metadata": {
    "collapsed": false
   },
   "outputs": [],
   "source": [
    "permits_copy = permits_copy.drop([\"Unnamed: 0\", \"Unnamed: 0.1\"], axis=1)"
   ]
  },
  {
   "cell_type": "code",
   "execution_count": 49,
   "metadata": {
    "collapsed": false
   },
   "outputs": [
    {
     "data": {
      "text/html": [
       "<div>\n",
       "<table border=\"1\" class=\"dataframe\">\n",
       "  <thead>\n",
       "    <tr style=\"text-align: right;\">\n",
       "      <th></th>\n",
       "      <th>BOROUGH</th>\n",
       "      <th>Bin #</th>\n",
       "      <th>House #</th>\n",
       "      <th>Street Name</th>\n",
       "      <th>Job #</th>\n",
       "      <th>Job doc. #</th>\n",
       "      <th>Job Type</th>\n",
       "      <th>Self_Cert</th>\n",
       "      <th>Block</th>\n",
       "      <th>Lot</th>\n",
       "      <th>Community Board</th>\n",
       "      <th>Zip Code</th>\n",
       "      <th>Bldg Type</th>\n",
       "      <th>Residential</th>\n",
       "      <th>Special District 1</th>\n",
       "      <th>Special District 2</th>\n",
       "      <th>Work Type</th>\n",
       "      <th>Permit Status</th>\n",
       "      <th>Filing Status</th>\n",
       "      <th>Permit Type</th>\n",
       "      <th>Permit Sequence #</th>\n",
       "      <th>Permit Subtype</th>\n",
       "      <th>Oil Gas</th>\n",
       "      <th>Site Fill</th>\n",
       "      <th>Filing Date</th>\n",
       "      <th>Issuance Date</th>\n",
       "      <th>Expiration Date</th>\n",
       "      <th>Job Start Date</th>\n",
       "      <th>Permittee's First Name</th>\n",
       "      <th>Permittee's Last Name</th>\n",
       "      <th>Permittee's Business Name</th>\n",
       "      <th>Permittee's Phone #</th>\n",
       "      <th>Permittee's License Type</th>\n",
       "      <th>Permittee's License #</th>\n",
       "      <th>Act as Superintendent</th>\n",
       "      <th>Permittee's Other Title</th>\n",
       "      <th>HIC License</th>\n",
       "      <th>Site Safety Mgr's First Name</th>\n",
       "      <th>Site Safety Mgr's Last Name</th>\n",
       "      <th>Site Safety Mgr Business Name</th>\n",
       "      <th>Superintendent First &amp; Last Name</th>\n",
       "      <th>Superintendent Business Name</th>\n",
       "      <th>Owner's Business Type</th>\n",
       "      <th>Non-Profit</th>\n",
       "      <th>Owner's Business Name</th>\n",
       "      <th>Owner's First Name</th>\n",
       "      <th>Owner's Last Name</th>\n",
       "      <th>Owner's House #</th>\n",
       "      <th>Owner's House Street Name</th>\n",
       "      <th>Owner’s House City</th>\n",
       "      <th>Owner’s House State</th>\n",
       "      <th>Owner’s House Zip Code</th>\n",
       "      <th>Owner's Phone #</th>\n",
       "      <th>DOBRunDate</th>\n",
       "      <th>Year</th>\n",
       "      <th>Certificate Date</th>\n",
       "      <th>Build Time</th>\n",
       "      <th>Application Date</th>\n",
       "    </tr>\n",
       "  </thead>\n",
       "  <tbody>\n",
       "    <tr>\n",
       "      <th>0</th>\n",
       "      <td>BRONX</td>\n",
       "      <td>2818049.0</td>\n",
       "      <td>92</td>\n",
       "      <td>WEST TREMONT AVE</td>\n",
       "      <td>220177350.0</td>\n",
       "      <td>1.0</td>\n",
       "      <td>NB</td>\n",
       "      <td>NaN</td>\n",
       "      <td>2867.0</td>\n",
       "      <td>125.0</td>\n",
       "      <td>205</td>\n",
       "      <td>10453</td>\n",
       "      <td>2.0</td>\n",
       "      <td>YES</td>\n",
       "      <td>NaN</td>\n",
       "      <td>NaN</td>\n",
       "      <td></td>\n",
       "      <td>ISSUED</td>\n",
       "      <td>INITIAL</td>\n",
       "      <td>NB</td>\n",
       "      <td>1.0</td>\n",
       "      <td></td>\n",
       "      <td></td>\n",
       "      <td>ON-SITE</td>\n",
       "      <td>2013-06-21</td>\n",
       "      <td>06/21/2013 12:00:00 AM</td>\n",
       "      <td>03/20/2014</td>\n",
       "      <td>06/21/2013</td>\n",
       "      <td>JIMMY</td>\n",
       "      <td>ZERVOUDIS</td>\n",
       "      <td>GALAXY G.C.GROUP LLC</td>\n",
       "      <td>7186017000</td>\n",
       "      <td>GENERAL CONTRACTOR</td>\n",
       "      <td>0610672</td>\n",
       "      <td></td>\n",
       "      <td></td>\n",
       "      <td></td>\n",
       "      <td></td>\n",
       "      <td></td>\n",
       "      <td></td>\n",
       "      <td>PHILIP            ANTONAKOS</td>\n",
       "      <td>GALAXY GENERAL CONTRACTIO</td>\n",
       "      <td>HPD</td>\n",
       "      <td>Y</td>\n",
       "      <td>HOUSING PRESERVATION AND DEVELOP</td>\n",
       "      <td>TIMOTHY</td>\n",
       "      <td>JOSEPH</td>\n",
       "      <td>100</td>\n",
       "      <td>GOLD STREET</td>\n",
       "      <td>NEW YORK</td>\n",
       "      <td>NY</td>\n",
       "      <td>10038.0</td>\n",
       "      <td>2.128637e+09</td>\n",
       "      <td>06/22/2013 12:00:00 AM</td>\n",
       "      <td>2013</td>\n",
       "      <td>2015-11-02</td>\n",
       "      <td>864 days 00:00:00.000000000</td>\n",
       "      <td>NaT</td>\n",
       "    </tr>\n",
       "  </tbody>\n",
       "</table>\n",
       "</div>"
      ],
      "text/plain": [
       "  BOROUGH      Bin #       House #                       Street Name  \\\n",
       "0   BRONX  2818049.0  92            WEST TREMONT AVE                   \n",
       "\n",
       "         Job #  Job doc. # Job Type Self_Cert   Block    Lot Community Board  \\\n",
       "0  220177350.0         1.0       NB       NaN  2867.0  125.0             205   \n",
       "\n",
       "  Zip Code  Bldg Type Residential Special District 1  Special District 2  \\\n",
       "0    10453        2.0         YES                NaN                 NaN   \n",
       "\n",
       "  Work Type Permit Status Filing Status Permit Type  Permit Sequence #  \\\n",
       "0                  ISSUED       INITIAL          NB                1.0   \n",
       "\n",
       "  Permit Subtype Oil Gas                                 Site Fill  \\\n",
       "0                         ON-SITE                                    \n",
       "\n",
       "  Filing Date           Issuance Date Expiration Date Job Start Date  \\\n",
       "0  2013-06-21  06/21/2013 12:00:00 AM      03/20/2014     06/21/2013   \n",
       "\n",
       "  Permittee's First Name Permittee's Last Name  \\\n",
       "0        JIMMY            ZERVOUDIS              \n",
       "\n",
       "          Permittee's Business Name Permittee's Phone #  \\\n",
       "0  GALAXY G.C.GROUP LLC                      7186017000   \n",
       "\n",
       "                   Permittee's License Type Permittee's License #  \\\n",
       "0  GENERAL CONTRACTOR                                     0610672   \n",
       "\n",
       "  Act as Superintendent Permittee's Other Title HIC License  \\\n",
       "0                                                             \n",
       "\n",
       "  Site Safety Mgr's First Name Site Safety Mgr's Last Name  \\\n",
       "0                                                            \n",
       "\n",
       "      Site Safety Mgr Business Name        Superintendent First & Last Name  \\\n",
       "0                                    PHILIP            ANTONAKOS              \n",
       "\n",
       "       Superintendent Business Name                     Owner's Business Type  \\\n",
       "0  GALAXY GENERAL CONTRACTIO         HPD                                        \n",
       "\n",
       "  Non-Profit             Owner's Business Name Owner's First Name  \\\n",
       "0          Y  HOUSING PRESERVATION AND DEVELOP    TIMOTHY           \n",
       "\n",
       "                Owner's Last Name Owner's House #  \\\n",
       "0  JOSEPH                            100            \n",
       "\n",
       "          Owner's House Street Name Owner’s House City Owner’s House State  \\\n",
       "0  GOLD STREET                         NEW YORK                         NY   \n",
       "\n",
       "   Owner’s House Zip Code  Owner's Phone #              DOBRunDate  Year  \\\n",
       "0                 10038.0     2.128637e+09  06/22/2013 12:00:00 AM  2013   \n",
       "\n",
       "  Certificate Date                   Build Time Application Date  \n",
       "0       2015-11-02  864 days 00:00:00.000000000              NaT  "
      ]
     },
     "execution_count": 49,
     "metadata": {},
     "output_type": "execute_result"
    }
   ],
   "source": [
    "permits_copy.head(1)"
   ]
  },
  {
   "cell_type": "code",
   "execution_count": 56,
   "metadata": {
    "collapsed": false
   },
   "outputs": [
    {
     "name": "stderr",
     "output_type": "stream",
     "text": [
      "/Users/Honors/anaconda/envs/nyc-construction-timelines/lib/python2.7/site-packages/ipykernel/__main__.py:1: DeprecationWarning: parsing timezone aware datetimes is deprecated; this will raise an error in the future\n",
      "  if __name__ == '__main__':\n"
     ]
    }
   ],
   "source": [
    "permits_copy['Issuance Date'] = permits_copy['Issuance Date'].map(lambda dstr: np.datetime64(arrow.get(dstr.split(\" \")[0], \"MM/DD/YYYY\").datetime))"
   ]
  },
  {
   "cell_type": "code",
   "execution_count": 57,
   "metadata": {
    "collapsed": false,
    "scrolled": true
   },
   "outputs": [],
   "source": [
    "permits_copy['Application Time'] = permits_copy.apply(lambda srs: srs['Issuance Date'] - srs['Application Date'], axis='columns')"
   ]
  },
  {
   "cell_type": "markdown",
   "metadata": {},
   "source": [
    "Note that because of the difference between the timeline of the permit data and of the application data there is a significant data mismatch. Further thought on that is in the `Analysis` notebook."
   ]
  },
  {
   "cell_type": "code",
   "execution_count": 66,
   "metadata": {
    "collapsed": false
   },
   "outputs": [
    {
     "data": {
      "text/plain": [
       "0.52171196501093409"
      ]
     },
     "execution_count": 66,
     "metadata": {},
     "output_type": "execute_result"
    }
   ],
   "source": [
    "permits_copy['Application Time'].isnull().sum() / float(len(permits_copy))"
   ]
  },
  {
   "cell_type": "code",
   "execution_count": 71,
   "metadata": {
    "collapsed": true
   },
   "outputs": [],
   "source": [
    "permits_copy.to_csv(\"combined_data.csv\", date_format='%Y-%m-%d')"
   ]
  },
  {
   "cell_type": "markdown",
   "metadata": {},
   "source": [
    "## Backtracking on Application Data\n",
    "\n",
    "On further reflection the addition of the application data to the dataset above, though easy to do, has limited utility. This is because the sample of permits that we took was from May 2013 through the end of 2014. The permit is the last step of the application document trail, and our application data goes back the same amount, to May 2013.\n",
    "\n",
    "This is the opposite of the problem that we have in examining permit-to-occupancy data, in which occupancy certificates come afterwards, so every site has at least 550 days of construction on the record.\n",
    "\n",
    "There is no reason to eliminate the variable, but it's not of much use."
   ]
  },
  {
   "cell_type": "markdown",
   "metadata": {},
   "source": [
    "## Application&mdash;Permit Join"
   ]
  }
 ],
 "metadata": {
  "kernelspec": {
   "display_name": "Python 2",
   "language": "python",
   "name": "python2"
  },
  "language_info": {
   "codemirror_mode": {
    "name": "ipython",
    "version": 2
   },
   "file_extension": ".py",
   "mimetype": "text/x-python",
   "name": "python",
   "nbconvert_exporter": "python",
   "pygments_lexer": "ipython2",
   "version": "2.7.11"
  }
 },
 "nbformat": 4,
 "nbformat_minor": 0
}
