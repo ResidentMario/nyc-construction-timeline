{
 "cells": [
  {
   "cell_type": "markdown",
   "metadata": {},
   "source": [
    "# Application-to-Permit in New York City\n",
    "\n",
    "This notebook (along with files associated with it) examines the timeline of permit application to permit issuance in New York City.\n",
    "\n",
    "## Introduction\n",
    "\n",
    "### Construction Permit Process\n",
    "\n",
    "Before a new building can begin construction it has to go through a long professional vetting process. The Department of Buildings (DOB) is the principal governmental organization responsible for overseeing the inspections and paperwork required for breaking ground.\n",
    "\n",
    "The exact process, for the building manager involved, is summarized by [this handy chart](http://www1.nyc.gov/site/buildings/homeowner/dob-forms-applications.page). Here are the steps:\n",
    "\n",
    "1. The applicant prefiles the application. Prefiling saves time, but not all applicants invoke it.\n",
    "2. The applicant submits a work plan.\n",
    "3. The plan is either professionally certified (a so-called \"pro cert\" or \"self cert\") or reviewed by the DOB.\n",
    "4. The plan is approved or denied by the DOB.\n",
    "5. Once a plan is approved, the applicant requests a work permit.\n",
    "6. DOB issues a work permit.\n",
    "7. Construction begins.\n",
    "\n",
    "### Retrieving Construction Permits\n",
    "\n",
    "Construction permits are retrieved as a part of the work done by the `Permit Issuance` companion notebook, which came first.\n",
    "\n",
    "### Retrieving Application Jobs\n",
    "\n",
    "DOB publishes a list of all [building job applications](https://data.cityofnewyork.us/Housing-Development/DOB-Job-Application-Filings/ic3t-wcy2) as a part of the New York City Open Data Portal. This application is missing new building construction (which is posted to a seperate open dataset), but contains all of the information on the preceding timeline. Retrieving these permits is merely a matter of accessing, extracting, and filtering this dataset."
   ]
  },
  {
   "cell_type": "markdown",
   "metadata": {},
   "source": [
    "## Reading Job Application Data"
   ]
  },
  {
   "cell_type": "code",
   "execution_count": 1,
   "metadata": {
    "collapsed": true
   },
   "outputs": [],
   "source": [
    "import pandas as pd\n",
    "import numpy as np"
   ]
  },
  {
   "cell_type": "code",
   "execution_count": 2,
   "metadata": {
    "collapsed": false,
    "scrolled": false
   },
   "outputs": [
    {
     "name": "stderr",
     "output_type": "stream",
     "text": [
      "/Users/Honors/anaconda/envs/nyc-construction-timelines/lib/python2.7/site-packages/IPython/core/interactiveshell.py:2723: DtypeWarning: Columns (13,14,16,19,38,59,60,78,79) have mixed types. Specify dtype option on import or set low_memory=False.\n",
      "  interactivity=interactivity, compiler=compiler, result=result)\n"
     ]
    }
   ],
   "source": [
    "permits = pd.read_csv(\"DOB_Job_Application_Filings.csv\")"
   ]
  },
  {
   "cell_type": "code",
   "execution_count": 3,
   "metadata": {
    "collapsed": true
   },
   "outputs": [],
   "source": [
    "pd.set_option(\"max_columns\", 500)"
   ]
  },
  {
   "cell_type": "code",
   "execution_count": 4,
   "metadata": {
    "collapsed": false,
    "scrolled": false
   },
   "outputs": [
    {
     "data": {
      "text/html": [
       "<div>\n",
       "<table border=\"1\" class=\"dataframe\">\n",
       "  <thead>\n",
       "    <tr style=\"text-align: right;\">\n",
       "      <th></th>\n",
       "      <th>Job #</th>\n",
       "      <th>Doc #</th>\n",
       "      <th>Borough</th>\n",
       "      <th>House #</th>\n",
       "      <th>Street Name</th>\n",
       "      <th>Block</th>\n",
       "      <th>Lot</th>\n",
       "      <th>Bin #</th>\n",
       "      <th>Job Type</th>\n",
       "      <th>Job Status</th>\n",
       "      <th>Job Status Descrp</th>\n",
       "      <th>Latest Action Date</th>\n",
       "      <th>Building Type</th>\n",
       "      <th>Community - Board</th>\n",
       "      <th>Cluster</th>\n",
       "      <th>Landmarked</th>\n",
       "      <th>Adult Estab</th>\n",
       "      <th>Loft Board</th>\n",
       "      <th>City Owned</th>\n",
       "      <th>Little e</th>\n",
       "      <th>PC Filed</th>\n",
       "      <th>eFiling Filed</th>\n",
       "      <th>Plumbing</th>\n",
       "      <th>Mechanical</th>\n",
       "      <th>Boiler</th>\n",
       "      <th>Fuel Burning</th>\n",
       "      <th>Fuel Storage</th>\n",
       "      <th>Standpipe</th>\n",
       "      <th>Sprinkler</th>\n",
       "      <th>Fire Alarm</th>\n",
       "      <th>Equipment</th>\n",
       "      <th>Fire Suppression</th>\n",
       "      <th>Curb Cut</th>\n",
       "      <th>Other</th>\n",
       "      <th>Other Description</th>\n",
       "      <th>Applicant's First Name</th>\n",
       "      <th>Applicant's Last Name</th>\n",
       "      <th>Applicant Professional Title</th>\n",
       "      <th>Applicant License #</th>\n",
       "      <th>Professional Cert</th>\n",
       "      <th>Pre- Filing Date</th>\n",
       "      <th>Paid</th>\n",
       "      <th>Fully Paid</th>\n",
       "      <th>Assigned</th>\n",
       "      <th>Approved</th>\n",
       "      <th>Fully Permitted</th>\n",
       "      <th>Initial Cost</th>\n",
       "      <th>Total Est. Fee</th>\n",
       "      <th>Fee Status</th>\n",
       "      <th>Existing Zoning Sqft</th>\n",
       "      <th>Proposed Zoning Sqft</th>\n",
       "      <th>Horizontal Enlrgmt</th>\n",
       "      <th>Vertical Enlrgmt</th>\n",
       "      <th>Enlargement SQ Footage</th>\n",
       "      <th>Street Frontage</th>\n",
       "      <th>ExistingNo. of Stories</th>\n",
       "      <th>Proposed No. of Stories</th>\n",
       "      <th>Existing Height</th>\n",
       "      <th>Proposed Height</th>\n",
       "      <th>Existing Dwelling Units</th>\n",
       "      <th>Proposed Dwelling Units</th>\n",
       "      <th>Existing Occupancy</th>\n",
       "      <th>Proposed Occupancy</th>\n",
       "      <th>Site Fill</th>\n",
       "      <th>Zoning Dist1</th>\n",
       "      <th>Zoning Dist2</th>\n",
       "      <th>Zoning Dist3</th>\n",
       "      <th>Special District 1</th>\n",
       "      <th>Special District 2</th>\n",
       "      <th>Owner Type</th>\n",
       "      <th>Non-Profit</th>\n",
       "      <th>Owner's First Name</th>\n",
       "      <th>Owner's Last Name</th>\n",
       "      <th>Owner's Business Name</th>\n",
       "      <th>Owner's House Number</th>\n",
       "      <th>Owner'sHouse Street Name</th>\n",
       "      <th>City</th>\n",
       "      <th>State</th>\n",
       "      <th>Zip</th>\n",
       "      <th>Owner'sPhone #</th>\n",
       "      <th>Job Description</th>\n",
       "      <th>DOBRunDate</th>\n",
       "    </tr>\n",
       "  </thead>\n",
       "  <tbody>\n",
       "    <tr>\n",
       "      <th>0</th>\n",
       "      <td>121577873</td>\n",
       "      <td>2</td>\n",
       "      <td>MANHATTAN</td>\n",
       "      <td>386</td>\n",
       "      <td>PARK AVENUE SOUTH</td>\n",
       "      <td>857</td>\n",
       "      <td>38.0</td>\n",
       "      <td>1016890.0</td>\n",
       "      <td>A2</td>\n",
       "      <td>D</td>\n",
       "      <td>APPLICATION PROCESSED - ENTIRE</td>\n",
       "      <td>04/25/2013</td>\n",
       "      <td>OTHER</td>\n",
       "      <td>105</td>\n",
       "      <td>NaN</td>\n",
       "      <td>NaN</td>\n",
       "      <td>NaN</td>\n",
       "      <td>NaN</td>\n",
       "      <td>NaN</td>\n",
       "      <td>NaN</td>\n",
       "      <td>NaN</td>\n",
       "      <td>Y</td>\n",
       "      <td>X</td>\n",
       "      <td>X</td>\n",
       "      <td></td>\n",
       "      <td></td>\n",
       "      <td></td>\n",
       "      <td></td>\n",
       "      <td></td>\n",
       "      <td></td>\n",
       "      <td></td>\n",
       "      <td></td>\n",
       "      <td></td>\n",
       "      <td></td>\n",
       "      <td></td>\n",
       "      <td>DOUGLAS</td>\n",
       "      <td>MASS</td>\n",
       "      <td>PE</td>\n",
       "      <td>0058375</td>\n",
       "      <td>NaN</td>\n",
       "      <td>04/25/2013</td>\n",
       "      <td>04/25/2013</td>\n",
       "      <td>04/25/2013</td>\n",
       "      <td>NaN</td>\n",
       "      <td>NaN</td>\n",
       "      <td>NaN</td>\n",
       "      <td>$75000.00</td>\n",
       "      <td>$986.00</td>\n",
       "      <td>STANDARD</td>\n",
       "      <td>0.0</td>\n",
       "      <td>0.0</td>\n",
       "      <td>NaN</td>\n",
       "      <td>NaN</td>\n",
       "      <td>0.0</td>\n",
       "      <td>0.0</td>\n",
       "      <td>0.0</td>\n",
       "      <td>0.0</td>\n",
       "      <td>0.0</td>\n",
       "      <td>0.0</td>\n",
       "      <td></td>\n",
       "      <td></td>\n",
       "      <td></td>\n",
       "      <td></td>\n",
       "      <td>NaN</td>\n",
       "      <td>NaN</td>\n",
       "      <td>NaN</td>\n",
       "      <td>NaN</td>\n",
       "      <td>NaN</td>\n",
       "      <td>NaN</td>\n",
       "      <td>NaN</td>\n",
       "      <td>NaN</td>\n",
       "      <td>JAMES</td>\n",
       "      <td>MIGLIORE</td>\n",
       "      <td>MACKLOWE MANAGEMENT</td>\n",
       "      <td>126</td>\n",
       "      <td>EAST 56TH STREET</td>\n",
       "      <td>NEW YORK</td>\n",
       "      <td>NY</td>\n",
       "      <td>10222</td>\n",
       "      <td>2125545837</td>\n",
       "      <td>GENERAL MECHANICAL &amp; PLUMBING MODIFICATIONS AS...</td>\n",
       "      <td>04/26/2013 12:00:00 AM</td>\n",
       "    </tr>\n",
       "  </tbody>\n",
       "</table>\n",
       "</div>"
      ],
      "text/plain": [
       "       Job #  Doc #    Borough       House #  \\\n",
       "0  121577873      2  MANHATTAN  386            \n",
       "\n",
       "                        Street Name  Block   Lot      Bin # Job Type  \\\n",
       "0  PARK AVENUE SOUTH                   857  38.0  1016890.0       A2   \n",
       "\n",
       "  Job Status                         Job Status Descrp Latest Action Date  \\\n",
       "0          D  APPLICATION PROCESSED - ENTIRE                   04/25/2013   \n",
       "\n",
       "  Building Type Community - Board Cluster Landmarked Adult Estab Loft Board  \\\n",
       "0         OTHER               105     NaN        NaN         NaN        NaN   \n",
       "\n",
       "  City Owned Little e  PC Filed eFiling Filed Plumbing Mechanical Boiler  \\\n",
       "0        NaN      NaN       NaN             Y        X          X          \n",
       "\n",
       "  Fuel Burning Fuel Storage Standpipe Sprinkler Fire Alarm Equipment  \\\n",
       "0                                                                      \n",
       "\n",
       "  Fire Suppression Curb Cut Other Other Description Applicant's First Name  \\\n",
       "0                                                          DOUGLAS           \n",
       "\n",
       "            Applicant's Last Name Applicant Professional Title  \\\n",
       "0  MASS                                                     PE   \n",
       "\n",
       "  Applicant License # Professional Cert Pre- Filing Date        Paid  \\\n",
       "0             0058375               NaN       04/25/2013  04/25/2013   \n",
       "\n",
       "   Fully Paid Assigned Approved Fully Permitted Initial Cost Total Est. Fee  \\\n",
       "0  04/25/2013      NaN      NaN             NaN    $75000.00        $986.00   \n",
       "\n",
       "  Fee Status  Existing Zoning Sqft  Proposed Zoning Sqft Horizontal Enlrgmt  \\\n",
       "0   STANDARD                   0.0                   0.0                NaN   \n",
       "\n",
       "  Vertical Enlrgmt  Enlargement SQ Footage  Street Frontage  \\\n",
       "0              NaN                     0.0              0.0   \n",
       "\n",
       "   ExistingNo. of Stories  Proposed No. of Stories  Existing Height  \\\n",
       "0                     0.0                      0.0              0.0   \n",
       "\n",
       "   Proposed Height Existing Dwelling Units Proposed Dwelling Units  \\\n",
       "0              0.0                                                   \n",
       "\n",
       "  Existing Occupancy Proposed Occupancy Site Fill Zoning Dist1 Zoning Dist2  \\\n",
       "0                                             NaN          NaN          NaN   \n",
       "\n",
       "  Zoning Dist3 Special District 1 Special District 2  Owner Type Non-Profit  \\\n",
       "0          NaN                NaN                NaN         NaN        NaN   \n",
       "\n",
       "  Owner's First Name               Owner's Last Name  \\\n",
       "0    JAMES            MIGLIORE                         \n",
       "\n",
       "              Owner's Business Name Owner's House Number  \\\n",
       "0  MACKLOWE MANAGEMENT                      126            \n",
       "\n",
       "           Owner'sHouse Street Name            City  State    Zip  \\\n",
       "0  EAST 56TH STREET                  NEW YORK           NY  10222   \n",
       "\n",
       "  Owner'sPhone #                                    Job Description  \\\n",
       "0     2125545837  GENERAL MECHANICAL & PLUMBING MODIFICATIONS AS...   \n",
       "\n",
       "               DOBRunDate  \n",
       "0  04/26/2013 12:00:00 AM  "
      ]
     },
     "execution_count": 4,
     "metadata": {},
     "output_type": "execute_result"
    }
   ],
   "source": [
    "permits.head(1)"
   ]
  },
  {
   "cell_type": "code",
   "execution_count": 5,
   "metadata": {
    "collapsed": false
   },
   "outputs": [
    {
     "data": {
      "text/plain": [
       "APPLICATION PROCESSED - ENTIRE              60217\n",
       "PLAN EXAM - APPROVED                        36135\n",
       "APPLICATION PROCESSED - ENTIRE              26308\n",
       "PLAN EXAM - IN PROCESS                      23352\n",
       "PLAN EXAM - APPROVED                        13840\n",
       "PERMIT ISSUED - ENTIRE JOB/WORK             11975\n",
       "PLAN EXAM - DISAPPROVED                      9453\n",
       "PLAN EXAM - IN PROCESS                       7559\n",
       "PERMIT ISSUED - ENTIRE JOB/WORK              7397\n",
       "PRE-FILING                                   7052\n",
       "PERMIT ISSUED - PARTIAL JOB                  5498\n",
       "APPLICATION ASSIGNED TO PLAN EXAMINER        5216\n",
       "PRE-FILING                                   3864\n",
       "APPLICATION PROCESSED - NO PLAN EXAM         3554\n",
       "PLAN EXAM - DISAPPROVED                      3291\n",
       "PERMIT ISSUED - PARTIAL JOB                  2358\n",
       "APPLICATION ASSIGNED TO PLAN EXAMINER        1411\n",
       "APPLICATION PROCESSED - NO PLAN EXAM         1266\n",
       "APPLICATION PROCESSED-PART-NO PAYMENT         378\n",
       "APPLICATION PROCESSED-PART-NO PAYMENT         175\n",
       "COMPLETED                                     150\n",
       "COMPLETED                                      60\n",
       "APPLICATION PROCESSED - PAYMENT ONLY           32\n",
       "PLAN EXAM - PARTIAL APPROVAL                   27\n",
       "PLAN EXAM - PARTIAL APPROVAL                   14\n",
       "APPLICATION PROCESSED - PAYMENT ONLY           12\n",
       "SUSPENDED                                       3\n",
       "Name: Job Status Descrp, dtype: int64"
      ]
     },
     "execution_count": 5,
     "metadata": {},
     "output_type": "execute_result"
    }
   ],
   "source": [
    "permits['Job Status Descrp'].value_counts()[:-1] # Last one is a parsing error."
   ]
  },
  {
   "cell_type": "markdown",
   "metadata": {},
   "source": [
    "Records begin in time at 04/25/2013."
   ]
  },
  {
   "cell_type": "markdown",
   "metadata": {},
   "source": [
    "This record includes submissions for all job types, however we're only interested in new building construction jobs. This corresponds to records with a `JOB TYPE` of `NB`."
   ]
  },
  {
   "cell_type": "code",
   "execution_count": 25,
   "metadata": {
    "collapsed": true
   },
   "outputs": [],
   "source": [
    "new_buildings = permits[permits['Job Type'] == 'NB']"
   ]
  },
  {
   "cell_type": "code",
   "execution_count": 26,
   "metadata": {
    "collapsed": false
   },
   "outputs": [
    {
     "data": {
      "text/plain": [
       "12481"
      ]
     },
     "execution_count": 26,
     "metadata": {},
     "output_type": "execute_result"
    }
   ],
   "source": [
    "len(new_buildings)"
   ]
  },
  {
   "cell_type": "code",
   "execution_count": 27,
   "metadata": {
    "collapsed": true
   },
   "outputs": [],
   "source": [
    "all_bins = np.unique(new_buildings['Bin #'])"
   ]
  },
  {
   "cell_type": "code",
   "execution_count": 29,
   "metadata": {
    "collapsed": false
   },
   "outputs": [
    {
     "data": {
      "text/plain": [
       "6951"
      ]
     },
     "execution_count": 29,
     "metadata": {},
     "output_type": "execute_result"
    }
   ],
   "source": [
    "len(all_bins)"
   ]
  },
  {
   "cell_type": "code",
   "execution_count": 36,
   "metadata": {
    "collapsed": false
   },
   "outputs": [
    {
     "data": {
      "text/plain": [
       "APPLICATION PROCESSED - ENTIRE              4850\n",
       "APPLICATION ASSIGNED TO PLAN EXAMINER       1860\n",
       "APPLICATION PROCESSED - ENTIRE              1748\n",
       "PRE-FILING                                  1712\n",
       "PRE-FILING                                   751\n",
       "APPLICATION ASSIGNED TO PLAN EXAMINER        553\n",
       "PLAN EXAM - IN PROCESS                       351\n",
       "PLAN EXAM - DISAPPROVED                      329\n",
       "PLAN EXAM - DISAPPROVED                       96\n",
       "PLAN EXAM - IN PROCESS                        80\n",
       "PLAN EXAM - APPROVED                          76\n",
       "PLAN EXAM - APPROVED                          45\n",
       "APPLICATION PROCESSED-PART-NO PAYMENT         18\n",
       "APPLICATION PROCESSED-PART-NO PAYMENT          6\n",
       "PERMIT ISSUED - ENTIRE JOB/WORK                5\n",
       "Name: Job Status Descrp, dtype: int64"
      ]
     },
     "execution_count": 36,
     "metadata": {},
     "output_type": "execute_result"
    }
   ],
   "source": [
    "new_buildings['Job Status Descrp'].value_counts()"
   ]
  },
  {
   "cell_type": "code",
   "execution_count": 37,
   "metadata": {
    "collapsed": false,
    "scrolled": true
   },
   "outputs": [
    {
     "data": {
      "text/plain": [
       "APPLICATION PROCESSED - ENTIRE              0.261133\n",
       "PLAN EXAM - APPROVED                        0.156701\n",
       "APPLICATION PROCESSED - ENTIRE              0.114085\n",
       "PLAN EXAM - IN PROCESS                      0.101267\n",
       "PLAN EXAM - APPROVED                        0.060018\n",
       "PERMIT ISSUED - ENTIRE JOB/WORK             0.051930\n",
       "PLAN EXAM - DISAPPROVED                     0.040993\n",
       "PLAN EXAM - IN PROCESS                      0.032780\n",
       "PERMIT ISSUED - ENTIRE JOB/WORK             0.032077\n",
       "PRE-FILING                                  0.030581\n",
       "PERMIT ISSUED - PARTIAL JOB                 0.023842\n",
       "APPLICATION ASSIGNED TO PLAN EXAMINER       0.022619\n",
       "PRE-FILING                                  0.016756\n",
       "APPLICATION PROCESSED - NO PLAN EXAM        0.015412\n",
       "PLAN EXAM - DISAPPROVED                     0.014272\n",
       "PERMIT ISSUED - PARTIAL JOB                 0.010226\n",
       "APPLICATION ASSIGNED TO PLAN EXAMINER       0.006119\n",
       "APPLICATION PROCESSED - NO PLAN EXAM        0.005490\n",
       "APPLICATION PROCESSED-PART-NO PAYMENT       0.001639\n",
       "APPLICATION PROCESSED-PART-NO PAYMENT       0.000759\n",
       "COMPLETED                                   0.000650\n",
       "COMPLETED                                   0.000260\n",
       "APPLICATION PROCESSED - PAYMENT ONLY        0.000139\n",
       "PLAN EXAM - PARTIAL APPROVAL                0.000117\n",
       "PLAN EXAM - PARTIAL APPROVAL                0.000061\n",
       "APPLICATION PROCESSED - PAYMENT ONLY        0.000052\n",
       "SUSPENDED                                   0.000013\n",
       "Name: Job Status Descrp, dtype: float64"
      ]
     },
     "execution_count": 37,
     "metadata": {},
     "output_type": "execute_result"
    }
   ],
   "source": [
    "permits['Job Status Descrp'].value_counts()[:-1] / len(permits)"
   ]
  },
  {
   "cell_type": "code",
   "execution_count": 38,
   "metadata": {
    "collapsed": false
   },
   "outputs": [
    {
     "data": {
      "text/plain": [
       "APPLICATION PROCESSED - ENTIRE              0.388591\n",
       "APPLICATION ASSIGNED TO PLAN EXAMINER       0.149027\n",
       "APPLICATION PROCESSED - ENTIRE              0.140053\n",
       "PRE-FILING                                  0.137168\n",
       "PRE-FILING                                  0.060171\n",
       "APPLICATION ASSIGNED TO PLAN EXAMINER       0.044307\n",
       "PLAN EXAM - IN PROCESS                      0.028123\n",
       "PLAN EXAM - DISAPPROVED                     0.026360\n",
       "PLAN EXAM - DISAPPROVED                     0.007692\n",
       "PLAN EXAM - IN PROCESS                      0.006410\n",
       "PLAN EXAM - APPROVED                        0.006089\n",
       "PLAN EXAM - APPROVED                        0.003605\n",
       "APPLICATION PROCESSED-PART-NO PAYMENT       0.001442\n",
       "APPLICATION PROCESSED-PART-NO PAYMENT       0.000481\n",
       "PERMIT ISSUED - ENTIRE JOB/WORK             0.000401\n",
       "PERMIT ISSUED - PARTIAL JOB                 0.000080\n",
       "Name: Job Status Descrp, dtype: float64"
      ]
     },
     "execution_count": 38,
     "metadata": {},
     "output_type": "execute_result"
    }
   ],
   "source": [
    "new_buildings['Job Status Descrp'].value_counts() / len(new_buildings)"
   ]
  },
  {
   "cell_type": "code",
   "execution_count": 39,
   "metadata": {
    "collapsed": false
   },
   "outputs": [
    {
     "data": {
      "text/plain": [
       "PERMIT ISSUED - ENTIRE JOB/WORK    5\n",
       "PERMIT ISSUED - PARTIAL JOB        1\n",
       "Name: Job Status Descrp, dtype: int64"
      ]
     },
     "execution_count": 39,
     "metadata": {},
     "output_type": "execute_result"
    }
   ],
   "source": [
    "new_buildings['Job Status Descrp'].value_counts()[['PERMIT ISSUED - ENTIRE JOB/WORK', 'PERMIT ISSUED - PARTIAL JOB']]"
   ]
  },
  {
   "cell_type": "code",
   "execution_count": 34,
   "metadata": {
    "collapsed": false
   },
   "outputs": [
    {
     "data": {
      "text/plain": [
       "NB    12481\n",
       "Name: Job Type, dtype: int64"
      ]
     },
     "execution_count": 34,
     "metadata": {},
     "output_type": "execute_result"
    }
   ],
   "source": [
    "permits['Job Type'].value_counts()"
   ]
  }
 ],
 "metadata": {
  "kernelspec": {
   "display_name": "Python 2",
   "language": "python",
   "name": "python2"
  },
  "language_info": {
   "codemirror_mode": {
    "name": "ipython",
    "version": 2
   },
   "file_extension": ".py",
   "mimetype": "text/x-python",
   "name": "python",
   "nbconvert_exporter": "python",
   "pygments_lexer": "ipython2",
   "version": "2.7.11"
  }
 },
 "nbformat": 4,
 "nbformat_minor": 0
}
