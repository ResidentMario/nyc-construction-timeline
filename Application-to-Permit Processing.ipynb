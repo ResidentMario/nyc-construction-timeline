{
 "cells": [
  {
   "cell_type": "markdown",
   "metadata": {},
   "source": [
    "# Application-to-Permit in New York City\n",
    "\n",
    "This notebook (along with files associated with it) examines the timeline of permit application to permit issuance in New York City.\n",
    "\n",
    "## Introduction\n",
    "\n",
    "### Construction Permit Process\n",
    "\n",
    "Before a new building can begin construction it has to go through a long professional vetting process. The Department of Buildings (DOB) is the principal governmental organization responsible for overseeing the inspections and paperwork required for breaking ground.\n",
    "\n",
    "The exact process, for the building manager involved, is summarized by [this handy chart](http://www1.nyc.gov/site/buildings/homeowner/dob-forms-applications.page). Here are the steps:\n",
    "\n",
    "1. The applicant prefiles the application. Prefiling saves time, but not all applicants invoke it.\n",
    "2. The applicant submits a work plan.\n",
    "3. The plan is either professionally certified (a so-called \"pro cert\" or \"self cert\") or reviewed by the DOB.\n",
    "4. The plan is approved or denied by the DOB.\n",
    "5. Once a plan is approved, the applicant requests a work permit.\n",
    "6. DOB issues a work permit.\n",
    "7. Construction begins.\n",
    "\n",
    "### Retrieving Construction Permits\n",
    "\n",
    "Construction permits are retrieved as a part of the work done by the `Permit Issuance` companion notebook, which came first.\n",
    "\n",
    "### Retrieving Application Jobs\n",
    "\n",
    "DOB publishes a list of all [building job applications](https://data.cityofnewyork.us/Housing-Development/DOB-Job-Application-Filings/ic3t-wcy2) as a part of the New York City Open Data Portal. This application is missing new building construction (which is posted to a seperate open dataset), but contains all of the information on the preceding timeline. Retrieving these permits is merely a matter of accessing, extracting, and filtering this dataset."
   ]
  },
  {
   "cell_type": "markdown",
   "metadata": {},
   "source": [
    "## Reading Job Application Data"
   ]
  },
  {
   "cell_type": "code",
   "execution_count": 1,
   "metadata": {
    "collapsed": true
   },
   "outputs": [],
   "source": [
    "import pandas as pd\n",
    "import numpy as np\n",
    "import arrow"
   ]
  },
  {
   "cell_type": "code",
   "execution_count": 2,
   "metadata": {
    "collapsed": false,
    "scrolled": false
   },
   "outputs": [
    {
     "name": "stderr",
     "output_type": "stream",
     "text": [
      "/Users/Honors/anaconda/envs/nyc-construction-timelines/lib/python2.7/site-packages/IPython/core/interactiveshell.py:2723: DtypeWarning: Columns (13,14,16,19,38,59,60,78,79) have mixed types. Specify dtype option on import or set low_memory=False.\n",
      "  interactivity=interactivity, compiler=compiler, result=result)\n"
     ]
    }
   ],
   "source": [
    "permits = pd.read_csv(\"DOB_Job_Application_Filings.csv\")"
   ]
  },
  {
   "cell_type": "code",
   "execution_count": 3,
   "metadata": {
    "collapsed": true
   },
   "outputs": [],
   "source": [
    "pd.set_option(\"max_columns\", 500)"
   ]
  },
  {
   "cell_type": "code",
   "execution_count": 4,
   "metadata": {
    "collapsed": false
   },
   "outputs": [
    {
     "data": {
      "text/plain": [
       "APPLICATION PROCESSED - ENTIRE              60217\n",
       "PLAN EXAM - APPROVED                        36135\n",
       "APPLICATION PROCESSED - ENTIRE              26308\n",
       "PLAN EXAM - IN PROCESS                      23352\n",
       "PLAN EXAM - APPROVED                        13840\n",
       "PERMIT ISSUED - ENTIRE JOB/WORK             11975\n",
       "PLAN EXAM - DISAPPROVED                      9453\n",
       "PLAN EXAM - IN PROCESS                       7559\n",
       "PERMIT ISSUED - ENTIRE JOB/WORK              7397\n",
       "PRE-FILING                                   7052\n",
       "PERMIT ISSUED - PARTIAL JOB                  5498\n",
       "APPLICATION ASSIGNED TO PLAN EXAMINER        5216\n",
       "PRE-FILING                                   3864\n",
       "APPLICATION PROCESSED - NO PLAN EXAM         3554\n",
       "PLAN EXAM - DISAPPROVED                      3291\n",
       "PERMIT ISSUED - PARTIAL JOB                  2358\n",
       "APPLICATION ASSIGNED TO PLAN EXAMINER        1411\n",
       "APPLICATION PROCESSED - NO PLAN EXAM         1266\n",
       "APPLICATION PROCESSED-PART-NO PAYMENT         378\n",
       "APPLICATION PROCESSED-PART-NO PAYMENT         175\n",
       "COMPLETED                                     150\n",
       "COMPLETED                                      60\n",
       "APPLICATION PROCESSED - PAYMENT ONLY           32\n",
       "PLAN EXAM - PARTIAL APPROVAL                   27\n",
       "PLAN EXAM - PARTIAL APPROVAL                   14\n",
       "APPLICATION PROCESSED - PAYMENT ONLY           12\n",
       "SUSPENDED                                       3\n",
       "Name: Job Status Descrp, dtype: int64"
      ]
     },
     "execution_count": 4,
     "metadata": {},
     "output_type": "execute_result"
    }
   ],
   "source": [
    "permits['Job Status Descrp'].value_counts()[:-1] # Last one is a parsing error."
   ]
  },
  {
   "cell_type": "markdown",
   "metadata": {},
   "source": [
    "### `NB` Job Types\n",
    "\n",
    "This record includes submissions for all job types, however we're only interested in new building construction jobs. This corresponds to records with a `JOB TYPE` of `NB`."
   ]
  },
  {
   "cell_type": "code",
   "execution_count": 5,
   "metadata": {
    "collapsed": false
   },
   "outputs": [
    {
     "name": "stdout",
     "output_type": "stream",
     "text": [
      "There are 12481 new building records, corresponding with 6951 buildings.\n"
     ]
    }
   ],
   "source": [
    "new_buildings = permits[permits['Job Type'] == 'NB']\n",
    "all_bins = np.unique(new_buildings['Bin #'])\n",
    "print(\"There are {0} new building records, corresponding with {1} buildings.\".format(len(new_buildings), len(all_bins)))"
   ]
  },
  {
   "cell_type": "code",
   "execution_count": 6,
   "metadata": {
    "collapsed": false
   },
   "outputs": [
    {
     "data": {
      "text/plain": [
       "APPLICATION PROCESSED - ENTIRE              4850\n",
       "APPLICATION ASSIGNED TO PLAN EXAMINER       1860\n",
       "APPLICATION PROCESSED - ENTIRE              1748\n",
       "PRE-FILING                                  1712\n",
       "PRE-FILING                                   751\n",
       "APPLICATION ASSIGNED TO PLAN EXAMINER        553\n",
       "PLAN EXAM - IN PROCESS                       351\n",
       "PLAN EXAM - DISAPPROVED                      329\n",
       "PLAN EXAM - DISAPPROVED                       96\n",
       "PLAN EXAM - IN PROCESS                        80\n",
       "PLAN EXAM - APPROVED                          76\n",
       "PLAN EXAM - APPROVED                          45\n",
       "APPLICATION PROCESSED-PART-NO PAYMENT         18\n",
       "APPLICATION PROCESSED-PART-NO PAYMENT          6\n",
       "PERMIT ISSUED - ENTIRE JOB/WORK                5\n",
       "PERMIT ISSUED - PARTIAL JOB                    1\n",
       "Name: Job Status Descrp, dtype: int64"
      ]
     },
     "execution_count": 6,
     "metadata": {},
     "output_type": "execute_result"
    }
   ],
   "source": [
    "new_buildings['Job Status Descrp'].value_counts()"
   ]
  },
  {
   "cell_type": "code",
   "execution_count": 7,
   "metadata": {
    "collapsed": false
   },
   "outputs": [
    {
     "data": {
      "text/plain": [
       "A2    150156\n",
       "A3     44696\n",
       "A1     14262\n",
       "NB     12481\n",
       "DM      5151\n",
       "PA      2281\n",
       "SC       877\n",
       "SI       694\n",
       "Name: Job Type, dtype: int64"
      ]
     },
     "execution_count": 7,
     "metadata": {},
     "output_type": "execute_result"
    }
   ],
   "source": [
    "permits['Job Type'].value_counts()"
   ]
  },
  {
   "cell_type": "markdown",
   "metadata": {},
   "source": [
    "Surprisingly there are almost no new building permit issuances!\n",
    "\n",
    "This turned out to be a completely separate dataset (see `Permit to Occupancy Processing.ipynb`); the entries below are apparently included in this dataset in error."
   ]
  },
  {
   "cell_type": "code",
   "execution_count": 8,
   "metadata": {
    "collapsed": false
   },
   "outputs": [
    {
     "data": {
      "text/plain": [
       "PERMIT ISSUED - ENTIRE JOB/WORK    5\n",
       "PERMIT ISSUED - PARTIAL JOB        1\n",
       "Name: Job Status Descrp, dtype: int64"
      ]
     },
     "execution_count": 8,
     "metadata": {},
     "output_type": "execute_result"
    }
   ],
   "source": [
    "new_buildings['Job Status Descrp'].value_counts()[['PERMIT ISSUED - ENTIRE JOB/WORK', 'PERMIT ISSUED - PARTIAL JOB']]"
   ]
  },
  {
   "cell_type": "markdown",
   "metadata": {},
   "source": [
    "## Application Data Join?\n",
    "\n",
    "Initially I joined application data to the permit and occupancy data that comes from the `Permit to Occupancy.ipynb` processing. But on further reflection the addition of the application data has limited utility. This is because the sample of permits that we took was from May 2013 through the end of 2014. The permit is the last step of the application document trail, and our application data goes back the same amount, to May 2013.\n",
    "\n",
    "This is the opposite of the problem that we have in examining permit-to-occupancy data, in which occupancy certificates come afterwards, so every site has at least 550 days of construction on the record.\n",
    "\n",
    "This approach also ignores the fact that for every n permits, there are some n + k unfinished applications that never made it to the permiting stage at all."
   ]
  },
  {
   "cell_type": "markdown",
   "metadata": {},
   "source": [
    "## Application&mdash;Permit Join\n",
    "\n",
    "Instead of doing the above, I will join the raw DOB datasets against one another and use that data to source my analysis.\n",
    "\n",
    "Key variables:\n",
    "\n",
    "* `Application Date` &mdash; The date that the first document that was not a pre-permit application was filed, based on data going back to April 2013.\n",
    "* `Application Time` &mdash; The time between the first application and the issuance of the first building permit.\n",
    "\n",
    "\n",
    "**TODO**"
   ]
  }
 ],
 "metadata": {
  "kernelspec": {
   "display_name": "Python 2",
   "language": "python",
   "name": "python2"
  },
  "language_info": {
   "codemirror_mode": {
    "name": "ipython",
    "version": 2
   },
   "file_extension": ".py",
   "mimetype": "text/x-python",
   "name": "python",
   "nbconvert_exporter": "python",
   "pygments_lexer": "ipython2",
   "version": "2.7.11"
  }
 },
 "nbformat": 4,
 "nbformat_minor": 0
}
